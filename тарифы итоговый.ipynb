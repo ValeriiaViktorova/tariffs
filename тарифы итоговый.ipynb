{
 "cells": [
  {
   "cell_type": "markdown",
   "metadata": {},
   "source": [
    "#### Валерия, привет! \n",
    "\n",
    "Меня зовут Максим Попов, и я буду проверять твой проект. Давай будем общаться на «ты». Но если тебе комфортнее на «вы», обязательно сообщи мне об этом. \n",
    "По ходу тетрадки ты найдешь комментарии к проекту, они будут в отдельных ячейках Markdown с заголовком «Комментарий ревьюера». Постарайся учесть эти комментарии для дальнейших проектов.\n",
    "\n",
    "---\n",
    "\n",
    "Я буду отмечать комментарии цветом и примечанием. В конце заголовка комментария будет указан номер итерации проверки. Пожалуйста, не удаляй и не правь мои комментарии\n",
    "\n",
    "Критично - требует исправления, влияет на удачное выполнение проекта\n",
    "\n",
    "Рекомендация - комментарий является рекомендацией или советом. Mожешь учесть их при выполнении будущих заданий. На твое усмотрение\n",
    "\n",
    "Отлично - Так отмечены удачные решения и подходы, на которые стоит опираться в будущих проектах\n",
    "\n",
    "<div class=\"alert alert-block alert-danger\">\n",
    "    \n",
    "\n",
    "### Комментарий от ревьюера\n",
    "Критично\n",
    "\n",
    "Такой комментарий нужно исправить обязательно, он критически влияет на удачное выполнение проекта.\n",
    "</div>\n",
    "    \n",
    "---\n",
    "\n",
    "<div class=\"alert alert-block alert-warning\">\n",
    "    \n",
    "\n",
    "### Комментарий от ревьюера\n",
    "Рекомендация\n",
    "\n",
    "Такой комментарий является рекомендацией или советом. Mожешь учесть их при выполнении будущих заданий. На твое усмотрение. \n",
    "</div>\n",
    "\n",
    "---\n",
    "\n",
    "<div class=\"alert alert-block alert-success\">\n",
    "    \n",
    "\n",
    "### Комментарий от ревьюера\n",
    "Отлично\n",
    "    \n",
    "Так отмечены удачные решения и подходы, на которые стоит опираться в будущих проектах\n",
    "</div>"
   ]
  },
  {
   "cell_type": "markdown",
   "metadata": {},
   "source": [
    "<div class=\"alert alert-block alert-success\">\n",
    "    \n",
    "    \n",
    "### Комментарий от ревьюера v_1\n",
    "    \n",
    "Валерия, у тебя отличная работа, особо выделю твои функции, но некоторые моменты надо исправить, они отмечены красными комментариями с пометкой критично. \n",
    "    \n",
    "Желтые комментарии-рекомендации на твое усмотрение.\n",
    "    \n",
    "Если есть вопросы ко мне, можешь оставить их в отдельном комментарии\n",
    "</div>"
   ]
  },
  {
   "cell_type": "markdown",
   "metadata": {},
   "source": [
    "<div class=\"alert alert-block alert-success\">\n",
    " \n",
    "    \n",
    "### Комментарий от ревьюера v_2\n",
    "    \n",
    "Валерия,привет!\n",
    "    \n",
    "Отлично, все критичные комментарии отработаны!\n",
    "    \n",
    "Успеха в дальнейшем обучении!\n",
    "</div>"
   ]
  },
  {
   "cell_type": "markdown",
   "metadata": {},
   "source": [
    "# Определение перспективного тарифа для телеком-компании\n"
   ]
  },
  {
   "cell_type": "markdown",
   "metadata": {},
   "source": [
    "Клиентам предлагают два тарифных плана: «Смарт» и «Ультра». Чтобы скорректировать рекламный бюджет, коммерческий департамент хочет понять, какой тариф приносит больше денег.\n",
    "Необходимо сделать предварительный анализ тарифов на небольшой выборке клиентов. В нашем распоряжении данные 500 пользователей «Мегалайна»: кто они, откуда, каким тарифом пользуются, сколько звонков и сообщений каждый отправил за 2018 год. Нужно проанализировать поведение клиентов и сделать вывод — какой тариф лучше.\n"
   ]
  },
  {
   "cell_type": "markdown",
   "metadata": {},
   "source": [
    "**Описание тарифов**\n",
    "\n",
    "Тариф «Смарт»\n",
    "1.\tЕжемесячная плата: 550 рублей\n",
    "2.\tВключено 500 минут разговора, 50 сообщений и 15 Гб интернет-трафика\n",
    "3.\tСтоимость услуг сверх тарифного пакета: 1. минута разговора: 3 рубля («Мегалайн» всегда округляет вверх значения минут и мегабайтов. Если пользователь проговорил всего 1 секунду, в тарифе засчитывается целая минута); 2. сообщение: 3 рубля; 3. 1 Гб интернет-трафика: 200 рублей.\n",
    "\n",
    "Тариф «Ультра»\n",
    "1.\tЕжемесячная плата: 1950 рублей\n",
    "2.\tВключено 3000 минут разговора, 1000 сообщений и 30 Гб интернет-трафика\n",
    "3.\tСтоимость услуг сверх тарифного пакета: 1. минута разговора: 1 рубль; 2. сообщение: 1 рубль; 3. 1 Гб интернет-трафика: 150 рублей.\n",
    "Примечание:\n",
    "«Мегалайн» всегда округляет секунды до минут, а мегабайты — до гигабайт. Каждый звонок округляется отдельно: даже если он длился всего 1 секунду, будет засчитан как 1 минута.\n",
    "Для веб-трафика отдельные сессии не считаются. Вместо этого общая сумма за месяц округляется в бо́льшую сторону. Если абонент использует 1025 мегабайт в этом месяце, с него возьмут плату за 2 гигабайта.\n"
   ]
  },
  {
   "cell_type": "markdown",
   "metadata": {},
   "source": [
    "**Описание данных**"
   ]
  },
  {
   "cell_type": "markdown",
   "metadata": {},
   "source": [
    "\n",
    "\n",
    "Таблица users (информация о пользователях):\n",
    "\n",
    "•\tuser_id — уникальный идентификатор пользователя\n",
    "\n",
    "•\tfirst_name — имя пользователя\n",
    "\n",
    "•\tlast_name — фамилия пользователя\n",
    "\n",
    "\n",
    "•\tage — возраст пользователя (годы)\n",
    "\n",
    "•\treg_date — дата подключения тарифа (день, месяц, год)\n",
    "\n",
    "•\tchurn_date — дата прекращения пользования тарифом (если значение пропущено, то тариф ещё действовал на \n",
    "момент выгрузки данных)\n",
    "\n",
    "•\tcity — город проживания пользователя\n",
    "\n",
    "•\ttarif — название тарифного плана\n",
    "\n",
    "Таблица calls (информация о звонках):\n",
    "\n",
    "•\tid — уникальный номер звонка\n",
    "\n",
    "•\tcall_date — дата звонка\n",
    "\n",
    "•\tduration — длительность звонка в минутах\n",
    "\n",
    "•\tuser_id — идентификатор пользователя, сделавшего звонок\n",
    "\n",
    "Таблица messages (информация о сообщениях):\n",
    "\n",
    "•\tid — уникальный номер сообщения\n",
    "\n",
    "•\tmessage_date — дата сообщения\n",
    "\n",
    "•\tuser_id — идентификатор пользователя, отправившего сообщение\n",
    "\n",
    "Таблица internet (информация об интернет-сессиях):\n",
    "\n",
    "•\tid — уникальный номер сессии\n",
    "\n",
    "•\tmb_used — объём потраченного за сессию интернет-трафика (в мегабайтах)\n",
    "\n",
    "•\tsession_date — дата интернет-сессии\n",
    "\n",
    "•\tuser_id — идентификатор пользователя\n",
    "\n",
    "Таблица tariffs (информация о тарифах):\n",
    "\n",
    "•\ttariff_name — название тарифа\n",
    "\n",
    "•\trub_monthly_fee — ежемесячная абонентская плата в рублях\n",
    "\n",
    "•\tminutes_included — количество минут разговора в месяц, включённых в абонентскую плату\n",
    "\n",
    "•\tmessages_included — количество сообщений в месяц, включённых в абонентскую плату\n",
    "\n",
    "•\tmb_per_month_included — объём интернет-трафика, включённого в абонентскую плату (в мегабайтах)\n",
    "\n",
    "•\trub_per_minute — стоимость минуты разговора сверх тарифного пакета (например, если в тарифе 100 минут \n",
    "разговора в месяц, то со 101 минуты будет взиматься плата)\n",
    "\n",
    "•\trub_per_message — стоимость отправки сообщения сверх тарифного пакета\n",
    "\n",
    "•\trub_per_gb — стоимость дополнительного гигабайта интернет-трафика сверх тарифного пакета (1 гигабайт = \n",
    "1024 мегабайта)\n",
    "\n"
   ]
  },
  {
   "cell_type": "markdown",
   "metadata": {},
   "source": [
    "**Путь к файлам:**\n",
    "\n",
    "/datasets/calls.csv. \n",
    "\n",
    "/datasets/internet.csv.\n",
    "\n",
    "/datasets/messages.csv. \n",
    "\n",
    "/datasets/tariffs.csv.\n",
    "\n",
    "/datasets/users.csv. \n"
   ]
  },
  {
   "cell_type": "markdown",
   "metadata": {},
   "source": [
    "**План работы над проектом**\n",
    "1. Изучение общей информации о данных, предоработка.\n",
    "2. Подсчет для каждого пользователя:\n",
    "\n",
    "•\tколичество сделанных звонков и израсходованных минут разговора по месяцам;\n",
    "\n",
    "•\tколичество отправленных сообщений по месяцам;\n",
    "\n",
    "•\tобъем израсходованного интернет-трафика по месяцам;\n",
    "\n",
    "•\tпомесячную выручку с каждого пользователя (вычтите бесплатный лимит из суммарного количества звонков, сообщений и интернет-трафика; остаток умножьте на значение из тарифного плана; прибавьте абонентскую плату, соответствующую тарифному плану).\n",
    "\n",
    "3. Анализ данных.\n",
    "\n",
    "Опишем клиентов оператора, исходя из выборки. Сколько минут разговора, сколько сообщений и какой объём интернет-трафика требуется пользователям каждого тарифа в месяц? Посчитаем среднее количество, дисперсию и стандартное отклонение. Построим гистограммы. Опишем распределения.\n",
    "\n",
    "4. Проверка гипотез.\n",
    "\n",
    "Cредняя выручка пользователей тарифов «Ультра» и «Смарт» различаются;\n",
    "\n",
    "Cредняя выручка пользователей из Москвы отличается от выручки пользователей из других регионов.\n",
    "\n",
    "5. Общие выводы.\n",
    "\n"
   ]
  },
  {
   "cell_type": "markdown",
   "metadata": {},
   "source": [
    "<div class=\"alert alert-block alert-success\">\n",
    "    \n",
    "\n",
    "### Комментарий от ревьюера v_1\n",
    "Отлично\n",
    "    \n",
    "Молодец, что в начале проекте знакомишь с ним, так работа приобретает структуру и лучше воспринимается.\n",
    "    \n",
    "Но не стоит копировать весь текст задания, лучше выделить основные мысли\n",
    "</div>"
   ]
  },
  {
   "cell_type": "markdown",
   "metadata": {},
   "source": [
    "## Изучение общей информации о данных"
   ]
  },
  {
   "cell_type": "code",
   "execution_count": 1,
   "metadata": {},
   "outputs": [],
   "source": [
    "import pandas as pd\n",
    "import numpy as np\n",
    "import matplotlib.pyplot as plt\n",
    "\n",
    "from datetime import datetime\n",
    "from scipy import stats as st\n"
   ]
  },
  {
   "cell_type": "markdown",
   "metadata": {},
   "source": [
    "<div class=\"alert alert-block alert-success\">\n",
    "    \n",
    "\n",
    "### Комментарий от ревьюера v_1\n",
    "Отлично\n",
    "    \n",
    "Отлично, библиотеки импортированы в начале тетрадки, в отдельной ячейке.\n",
    "</div>"
   ]
  },
  {
   "cell_type": "code",
   "execution_count": 2,
   "metadata": {},
   "outputs": [],
   "source": [
    "pd.set_option('display.max_columns', None)\n",
    "pd.options.display.float_format = '{:,.2f}'.format"
   ]
  },
  {
   "cell_type": "markdown",
   "metadata": {},
   "source": [
    "Cохраним каждую таблицу и посмотрим общую информацию"
   ]
  },
  {
   "cell_type": "code",
   "execution_count": 3,
   "metadata": {},
   "outputs": [],
   "source": [
    "users = pd.read_csv('/datasets/users.csv')\n",
    "calls = pd.read_csv('/datasets/calls.csv')\n",
    "messages = pd.read_csv('/datasets/messages.csv')\n",
    "internet = pd.read_csv('/datasets/internet.csv')\n",
    "tariffs = pd.read_csv('/datasets/tariffs.csv')"
   ]
  },
  {
   "cell_type": "markdown",
   "metadata": {},
   "source": [
    "**Информация о пользователях**"
   ]
  },
  {
   "cell_type": "code",
   "execution_count": 4,
   "metadata": {},
   "outputs": [
    {
     "data": {
      "text/html": [
       "<div>\n",
       "<style scoped>\n",
       "    .dataframe tbody tr th:only-of-type {\n",
       "        vertical-align: middle;\n",
       "    }\n",
       "\n",
       "    .dataframe tbody tr th {\n",
       "        vertical-align: top;\n",
       "    }\n",
       "\n",
       "    .dataframe thead th {\n",
       "        text-align: right;\n",
       "    }\n",
       "</style>\n",
       "<table border=\"1\" class=\"dataframe\">\n",
       "  <thead>\n",
       "    <tr style=\"text-align: right;\">\n",
       "      <th></th>\n",
       "      <th>user_id</th>\n",
       "      <th>age</th>\n",
       "      <th>churn_date</th>\n",
       "      <th>city</th>\n",
       "      <th>first_name</th>\n",
       "      <th>last_name</th>\n",
       "      <th>reg_date</th>\n",
       "      <th>tariff</th>\n",
       "    </tr>\n",
       "  </thead>\n",
       "  <tbody>\n",
       "    <tr>\n",
       "      <td>0</td>\n",
       "      <td>1000</td>\n",
       "      <td>52</td>\n",
       "      <td>NaN</td>\n",
       "      <td>Краснодар</td>\n",
       "      <td>Рафаил</td>\n",
       "      <td>Верещагин</td>\n",
       "      <td>2018-05-25</td>\n",
       "      <td>ultra</td>\n",
       "    </tr>\n",
       "    <tr>\n",
       "      <td>1</td>\n",
       "      <td>1001</td>\n",
       "      <td>41</td>\n",
       "      <td>NaN</td>\n",
       "      <td>Москва</td>\n",
       "      <td>Иван</td>\n",
       "      <td>Ежов</td>\n",
       "      <td>2018-11-01</td>\n",
       "      <td>smart</td>\n",
       "    </tr>\n",
       "    <tr>\n",
       "      <td>2</td>\n",
       "      <td>1002</td>\n",
       "      <td>59</td>\n",
       "      <td>NaN</td>\n",
       "      <td>Стерлитамак</td>\n",
       "      <td>Евгений</td>\n",
       "      <td>Абрамович</td>\n",
       "      <td>2018-06-17</td>\n",
       "      <td>smart</td>\n",
       "    </tr>\n",
       "    <tr>\n",
       "      <td>3</td>\n",
       "      <td>1003</td>\n",
       "      <td>23</td>\n",
       "      <td>NaN</td>\n",
       "      <td>Москва</td>\n",
       "      <td>Белла</td>\n",
       "      <td>Белякова</td>\n",
       "      <td>2018-08-17</td>\n",
       "      <td>ultra</td>\n",
       "    </tr>\n",
       "    <tr>\n",
       "      <td>4</td>\n",
       "      <td>1004</td>\n",
       "      <td>68</td>\n",
       "      <td>NaN</td>\n",
       "      <td>Новокузнецк</td>\n",
       "      <td>Татьяна</td>\n",
       "      <td>Авдеенко</td>\n",
       "      <td>2018-05-14</td>\n",
       "      <td>ultra</td>\n",
       "    </tr>\n",
       "  </tbody>\n",
       "</table>\n",
       "</div>"
      ],
      "text/plain": [
       "   user_id  age churn_date         city first_name  last_name    reg_date  \\\n",
       "0     1000   52        NaN    Краснодар     Рафаил  Верещагин  2018-05-25   \n",
       "1     1001   41        NaN       Москва       Иван       Ежов  2018-11-01   \n",
       "2     1002   59        NaN  Стерлитамак    Евгений  Абрамович  2018-06-17   \n",
       "3     1003   23        NaN       Москва      Белла   Белякова  2018-08-17   \n",
       "4     1004   68        NaN  Новокузнецк    Татьяна   Авдеенко  2018-05-14   \n",
       "\n",
       "  tariff  \n",
       "0  ultra  \n",
       "1  smart  \n",
       "2  smart  \n",
       "3  ultra  \n",
       "4  ultra  "
      ]
     },
     "execution_count": 4,
     "metadata": {},
     "output_type": "execute_result"
    }
   ],
   "source": [
    "users.head()"
   ]
  },
  {
   "cell_type": "code",
   "execution_count": 5,
   "metadata": {},
   "outputs": [
    {
     "data": {
      "text/html": [
       "<div>\n",
       "<style scoped>\n",
       "    .dataframe tbody tr th:only-of-type {\n",
       "        vertical-align: middle;\n",
       "    }\n",
       "\n",
       "    .dataframe tbody tr th {\n",
       "        vertical-align: top;\n",
       "    }\n",
       "\n",
       "    .dataframe thead th {\n",
       "        text-align: right;\n",
       "    }\n",
       "</style>\n",
       "<table border=\"1\" class=\"dataframe\">\n",
       "  <thead>\n",
       "    <tr style=\"text-align: right;\">\n",
       "      <th></th>\n",
       "      <th>user_id</th>\n",
       "      <th>age</th>\n",
       "    </tr>\n",
       "  </thead>\n",
       "  <tbody>\n",
       "    <tr>\n",
       "      <td>count</td>\n",
       "      <td>500.00</td>\n",
       "      <td>500.00</td>\n",
       "    </tr>\n",
       "    <tr>\n",
       "      <td>mean</td>\n",
       "      <td>1,249.50</td>\n",
       "      <td>46.59</td>\n",
       "    </tr>\n",
       "    <tr>\n",
       "      <td>std</td>\n",
       "      <td>144.48</td>\n",
       "      <td>16.67</td>\n",
       "    </tr>\n",
       "    <tr>\n",
       "      <td>min</td>\n",
       "      <td>1,000.00</td>\n",
       "      <td>18.00</td>\n",
       "    </tr>\n",
       "    <tr>\n",
       "      <td>25%</td>\n",
       "      <td>1,124.75</td>\n",
       "      <td>32.00</td>\n",
       "    </tr>\n",
       "    <tr>\n",
       "      <td>50%</td>\n",
       "      <td>1,249.50</td>\n",
       "      <td>46.00</td>\n",
       "    </tr>\n",
       "    <tr>\n",
       "      <td>75%</td>\n",
       "      <td>1,374.25</td>\n",
       "      <td>62.00</td>\n",
       "    </tr>\n",
       "    <tr>\n",
       "      <td>max</td>\n",
       "      <td>1,499.00</td>\n",
       "      <td>75.00</td>\n",
       "    </tr>\n",
       "  </tbody>\n",
       "</table>\n",
       "</div>"
      ],
      "text/plain": [
       "       user_id    age\n",
       "count   500.00 500.00\n",
       "mean  1,249.50  46.59\n",
       "std     144.48  16.67\n",
       "min   1,000.00  18.00\n",
       "25%   1,124.75  32.00\n",
       "50%   1,249.50  46.00\n",
       "75%   1,374.25  62.00\n",
       "max   1,499.00  75.00"
      ]
     },
     "execution_count": 5,
     "metadata": {},
     "output_type": "execute_result"
    }
   ],
   "source": [
    "users.describe()"
   ]
  },
  {
   "cell_type": "code",
   "execution_count": 6,
   "metadata": {},
   "outputs": [
    {
     "name": "stdout",
     "output_type": "stream",
     "text": [
      "<class 'pandas.core.frame.DataFrame'>\n",
      "RangeIndex: 500 entries, 0 to 499\n",
      "Data columns (total 8 columns):\n",
      "user_id       500 non-null int64\n",
      "age           500 non-null int64\n",
      "churn_date    38 non-null object\n",
      "city          500 non-null object\n",
      "first_name    500 non-null object\n",
      "last_name     500 non-null object\n",
      "reg_date      500 non-null object\n",
      "tariff        500 non-null object\n",
      "dtypes: int64(2), object(6)\n",
      "memory usage: 31.4+ KB\n"
     ]
    }
   ],
   "source": [
    "users.info()"
   ]
  },
  {
   "cell_type": "markdown",
   "metadata": {},
   "source": [
    "Приведем даты к нужному типу"
   ]
  },
  {
   "cell_type": "code",
   "execution_count": 7,
   "metadata": {},
   "outputs": [],
   "source": [
    "users['churn_date'] = pd.to_datetime(users['churn_date'], format=\"%Y-%m-%d\")\n",
    "users['reg_date'] = pd.to_datetime(users['reg_date'], format=\"%Y-%m-%d\")"
   ]
  },
  {
   "cell_type": "code",
   "execution_count": 8,
   "metadata": {},
   "outputs": [
    {
     "name": "stdout",
     "output_type": "stream",
     "text": [
      "<class 'pandas.core.frame.DataFrame'>\n",
      "RangeIndex: 500 entries, 0 to 499\n",
      "Data columns (total 8 columns):\n",
      "user_id       500 non-null int64\n",
      "age           500 non-null int64\n",
      "churn_date    38 non-null datetime64[ns]\n",
      "city          500 non-null object\n",
      "first_name    500 non-null object\n",
      "last_name     500 non-null object\n",
      "reg_date      500 non-null datetime64[ns]\n",
      "tariff        500 non-null object\n",
      "dtypes: datetime64[ns](2), int64(2), object(4)\n",
      "memory usage: 31.4+ KB\n"
     ]
    }
   ],
   "source": [
    "users.info()"
   ]
  },
  {
   "cell_type": "markdown",
   "metadata": {},
   "source": [
    "**Информация о пользовании интернетом**"
   ]
  },
  {
   "cell_type": "code",
   "execution_count": 9,
   "metadata": {},
   "outputs": [
    {
     "data": {
      "text/html": [
       "<div>\n",
       "<style scoped>\n",
       "    .dataframe tbody tr th:only-of-type {\n",
       "        vertical-align: middle;\n",
       "    }\n",
       "\n",
       "    .dataframe tbody tr th {\n",
       "        vertical-align: top;\n",
       "    }\n",
       "\n",
       "    .dataframe thead th {\n",
       "        text-align: right;\n",
       "    }\n",
       "</style>\n",
       "<table border=\"1\" class=\"dataframe\">\n",
       "  <thead>\n",
       "    <tr style=\"text-align: right;\">\n",
       "      <th></th>\n",
       "      <th>Unnamed: 0</th>\n",
       "      <th>id</th>\n",
       "      <th>mb_used</th>\n",
       "      <th>session_date</th>\n",
       "      <th>user_id</th>\n",
       "    </tr>\n",
       "  </thead>\n",
       "  <tbody>\n",
       "    <tr>\n",
       "      <td>0</td>\n",
       "      <td>0</td>\n",
       "      <td>1000_0</td>\n",
       "      <td>112.95</td>\n",
       "      <td>2018-11-25</td>\n",
       "      <td>1000</td>\n",
       "    </tr>\n",
       "    <tr>\n",
       "      <td>1</td>\n",
       "      <td>1</td>\n",
       "      <td>1000_1</td>\n",
       "      <td>1,052.81</td>\n",
       "      <td>2018-09-07</td>\n",
       "      <td>1000</td>\n",
       "    </tr>\n",
       "    <tr>\n",
       "      <td>2</td>\n",
       "      <td>2</td>\n",
       "      <td>1000_2</td>\n",
       "      <td>1,197.26</td>\n",
       "      <td>2018-06-25</td>\n",
       "      <td>1000</td>\n",
       "    </tr>\n",
       "    <tr>\n",
       "      <td>3</td>\n",
       "      <td>3</td>\n",
       "      <td>1000_3</td>\n",
       "      <td>550.27</td>\n",
       "      <td>2018-08-22</td>\n",
       "      <td>1000</td>\n",
       "    </tr>\n",
       "    <tr>\n",
       "      <td>4</td>\n",
       "      <td>4</td>\n",
       "      <td>1000_4</td>\n",
       "      <td>302.56</td>\n",
       "      <td>2018-09-24</td>\n",
       "      <td>1000</td>\n",
       "    </tr>\n",
       "  </tbody>\n",
       "</table>\n",
       "</div>"
      ],
      "text/plain": [
       "   Unnamed: 0      id  mb_used session_date  user_id\n",
       "0           0  1000_0   112.95   2018-11-25     1000\n",
       "1           1  1000_1 1,052.81   2018-09-07     1000\n",
       "2           2  1000_2 1,197.26   2018-06-25     1000\n",
       "3           3  1000_3   550.27   2018-08-22     1000\n",
       "4           4  1000_4   302.56   2018-09-24     1000"
      ]
     },
     "execution_count": 9,
     "metadata": {},
     "output_type": "execute_result"
    }
   ],
   "source": [
    "internet.head()"
   ]
  },
  {
   "cell_type": "code",
   "execution_count": 10,
   "metadata": {},
   "outputs": [
    {
     "name": "stdout",
     "output_type": "stream",
     "text": [
      "<class 'pandas.core.frame.DataFrame'>\n",
      "RangeIndex: 149396 entries, 0 to 149395\n",
      "Data columns (total 5 columns):\n",
      "Unnamed: 0      149396 non-null int64\n",
      "id              149396 non-null object\n",
      "mb_used         149396 non-null float64\n",
      "session_date    149396 non-null object\n",
      "user_id         149396 non-null int64\n",
      "dtypes: float64(1), int64(2), object(2)\n",
      "memory usage: 5.7+ MB\n"
     ]
    }
   ],
   "source": [
    "internet.info()"
   ]
  },
  {
   "cell_type": "code",
   "execution_count": 11,
   "metadata": {},
   "outputs": [
    {
     "data": {
      "text/html": [
       "<div>\n",
       "<style scoped>\n",
       "    .dataframe tbody tr th:only-of-type {\n",
       "        vertical-align: middle;\n",
       "    }\n",
       "\n",
       "    .dataframe tbody tr th {\n",
       "        vertical-align: top;\n",
       "    }\n",
       "\n",
       "    .dataframe thead th {\n",
       "        text-align: right;\n",
       "    }\n",
       "</style>\n",
       "<table border=\"1\" class=\"dataframe\">\n",
       "  <thead>\n",
       "    <tr style=\"text-align: right;\">\n",
       "      <th></th>\n",
       "      <th>Unnamed: 0</th>\n",
       "      <th>mb_used</th>\n",
       "      <th>user_id</th>\n",
       "    </tr>\n",
       "  </thead>\n",
       "  <tbody>\n",
       "    <tr>\n",
       "      <td>count</td>\n",
       "      <td>149,396.00</td>\n",
       "      <td>149,396.00</td>\n",
       "      <td>149,396.00</td>\n",
       "    </tr>\n",
       "    <tr>\n",
       "      <td>mean</td>\n",
       "      <td>74,697.50</td>\n",
       "      <td>370.19</td>\n",
       "      <td>1,252.10</td>\n",
       "    </tr>\n",
       "    <tr>\n",
       "      <td>std</td>\n",
       "      <td>43,127.05</td>\n",
       "      <td>278.30</td>\n",
       "      <td>144.05</td>\n",
       "    </tr>\n",
       "    <tr>\n",
       "      <td>min</td>\n",
       "      <td>0.00</td>\n",
       "      <td>0.00</td>\n",
       "      <td>1,000.00</td>\n",
       "    </tr>\n",
       "    <tr>\n",
       "      <td>25%</td>\n",
       "      <td>37,348.75</td>\n",
       "      <td>138.19</td>\n",
       "      <td>1,130.00</td>\n",
       "    </tr>\n",
       "    <tr>\n",
       "      <td>50%</td>\n",
       "      <td>74,697.50</td>\n",
       "      <td>348.01</td>\n",
       "      <td>1,251.00</td>\n",
       "    </tr>\n",
       "    <tr>\n",
       "      <td>75%</td>\n",
       "      <td>112,046.25</td>\n",
       "      <td>559.55</td>\n",
       "      <td>1,380.00</td>\n",
       "    </tr>\n",
       "    <tr>\n",
       "      <td>max</td>\n",
       "      <td>149,395.00</td>\n",
       "      <td>1,724.83</td>\n",
       "      <td>1,499.00</td>\n",
       "    </tr>\n",
       "  </tbody>\n",
       "</table>\n",
       "</div>"
      ],
      "text/plain": [
       "       Unnamed: 0    mb_used    user_id\n",
       "count  149,396.00 149,396.00 149,396.00\n",
       "mean    74,697.50     370.19   1,252.10\n",
       "std     43,127.05     278.30     144.05\n",
       "min          0.00       0.00   1,000.00\n",
       "25%     37,348.75     138.19   1,130.00\n",
       "50%     74,697.50     348.01   1,251.00\n",
       "75%    112,046.25     559.55   1,380.00\n",
       "max    149,395.00   1,724.83   1,499.00"
      ]
     },
     "execution_count": 11,
     "metadata": {},
     "output_type": "execute_result"
    }
   ],
   "source": [
    "internet.describe()"
   ]
  },
  {
   "cell_type": "markdown",
   "metadata": {},
   "source": [
    "Приведем к нужным типам"
   ]
  },
  {
   "cell_type": "code",
   "execution_count": 12,
   "metadata": {},
   "outputs": [],
   "source": [
    "internet['id'] = internet['id'].astype('int')"
   ]
  },
  {
   "cell_type": "code",
   "execution_count": 13,
   "metadata": {},
   "outputs": [],
   "source": [
    "internet['session_date'] = pd.to_datetime(internet['session_date'], format=\"%Y-%m-%d\")"
   ]
  },
  {
   "cell_type": "code",
   "execution_count": 14,
   "metadata": {},
   "outputs": [],
   "source": [
    "internet['mb_used'] = internet['mb_used'].apply(np.ceil)    #округлили"
   ]
  },
  {
   "cell_type": "markdown",
   "metadata": {},
   "source": [
    "<div class=\"alert alert-block alert-warning\">\n",
    "    \n",
    "\n",
    "### Комментарий от ревьюера v_1\n",
    "Рекомендация\n",
    "\n",
    "Это некритично, но все же траффик округляется вверх уже суммарный месячный. В нашем случае такие манипуляции сильно не исказят данные, но в другом случаем могли бы\n",
    "</div>\n"
   ]
  },
  {
   "cell_type": "markdown",
   "metadata": {},
   "source": [
    "<div class=\"alert alert-info\"> <b>Комментарий студента:</b> Учту, спасибо </div>"
   ]
  },
  {
   "cell_type": "code",
   "execution_count": 15,
   "metadata": {},
   "outputs": [
    {
     "name": "stdout",
     "output_type": "stream",
     "text": [
      "<class 'pandas.core.frame.DataFrame'>\n",
      "RangeIndex: 149396 entries, 0 to 149395\n",
      "Data columns (total 5 columns):\n",
      "Unnamed: 0      149396 non-null int64\n",
      "id              149396 non-null int64\n",
      "mb_used         149396 non-null float64\n",
      "session_date    149396 non-null datetime64[ns]\n",
      "user_id         149396 non-null int64\n",
      "dtypes: datetime64[ns](1), float64(1), int64(3)\n",
      "memory usage: 5.7 MB\n"
     ]
    }
   ],
   "source": [
    "internet.info()"
   ]
  },
  {
   "cell_type": "code",
   "execution_count": 16,
   "metadata": {},
   "outputs": [
    {
     "data": {
      "text/html": [
       "<div>\n",
       "<style scoped>\n",
       "    .dataframe tbody tr th:only-of-type {\n",
       "        vertical-align: middle;\n",
       "    }\n",
       "\n",
       "    .dataframe tbody tr th {\n",
       "        vertical-align: top;\n",
       "    }\n",
       "\n",
       "    .dataframe thead th {\n",
       "        text-align: right;\n",
       "    }\n",
       "</style>\n",
       "<table border=\"1\" class=\"dataframe\">\n",
       "  <thead>\n",
       "    <tr style=\"text-align: right;\">\n",
       "      <th></th>\n",
       "      <th>Unnamed: 0</th>\n",
       "      <th>id</th>\n",
       "      <th>mb_used</th>\n",
       "      <th>session_date</th>\n",
       "      <th>user_id</th>\n",
       "    </tr>\n",
       "  </thead>\n",
       "  <tbody>\n",
       "    <tr>\n",
       "      <td>0</td>\n",
       "      <td>0</td>\n",
       "      <td>10000</td>\n",
       "      <td>113.00</td>\n",
       "      <td>2018-11-25</td>\n",
       "      <td>1000</td>\n",
       "    </tr>\n",
       "    <tr>\n",
       "      <td>1</td>\n",
       "      <td>1</td>\n",
       "      <td>10001</td>\n",
       "      <td>1,053.00</td>\n",
       "      <td>2018-09-07</td>\n",
       "      <td>1000</td>\n",
       "    </tr>\n",
       "    <tr>\n",
       "      <td>2</td>\n",
       "      <td>2</td>\n",
       "      <td>10002</td>\n",
       "      <td>1,198.00</td>\n",
       "      <td>2018-06-25</td>\n",
       "      <td>1000</td>\n",
       "    </tr>\n",
       "    <tr>\n",
       "      <td>3</td>\n",
       "      <td>3</td>\n",
       "      <td>10003</td>\n",
       "      <td>551.00</td>\n",
       "      <td>2018-08-22</td>\n",
       "      <td>1000</td>\n",
       "    </tr>\n",
       "    <tr>\n",
       "      <td>4</td>\n",
       "      <td>4</td>\n",
       "      <td>10004</td>\n",
       "      <td>303.00</td>\n",
       "      <td>2018-09-24</td>\n",
       "      <td>1000</td>\n",
       "    </tr>\n",
       "  </tbody>\n",
       "</table>\n",
       "</div>"
      ],
      "text/plain": [
       "   Unnamed: 0     id  mb_used session_date  user_id\n",
       "0           0  10000   113.00   2018-11-25     1000\n",
       "1           1  10001 1,053.00   2018-09-07     1000\n",
       "2           2  10002 1,198.00   2018-06-25     1000\n",
       "3           3  10003   551.00   2018-08-22     1000\n",
       "4           4  10004   303.00   2018-09-24     1000"
      ]
     },
     "execution_count": 16,
     "metadata": {},
     "output_type": "execute_result"
    }
   ],
   "source": [
    "internet.head()"
   ]
  },
  {
   "cell_type": "markdown",
   "metadata": {},
   "source": [
    "**Информация о сообщениях**"
   ]
  },
  {
   "cell_type": "code",
   "execution_count": 17,
   "metadata": {},
   "outputs": [
    {
     "data": {
      "text/html": [
       "<div>\n",
       "<style scoped>\n",
       "    .dataframe tbody tr th:only-of-type {\n",
       "        vertical-align: middle;\n",
       "    }\n",
       "\n",
       "    .dataframe tbody tr th {\n",
       "        vertical-align: top;\n",
       "    }\n",
       "\n",
       "    .dataframe thead th {\n",
       "        text-align: right;\n",
       "    }\n",
       "</style>\n",
       "<table border=\"1\" class=\"dataframe\">\n",
       "  <thead>\n",
       "    <tr style=\"text-align: right;\">\n",
       "      <th></th>\n",
       "      <th>id</th>\n",
       "      <th>message_date</th>\n",
       "      <th>user_id</th>\n",
       "    </tr>\n",
       "  </thead>\n",
       "  <tbody>\n",
       "    <tr>\n",
       "      <td>0</td>\n",
       "      <td>1000_0</td>\n",
       "      <td>2018-06-27</td>\n",
       "      <td>1000</td>\n",
       "    </tr>\n",
       "    <tr>\n",
       "      <td>1</td>\n",
       "      <td>1000_1</td>\n",
       "      <td>2018-10-08</td>\n",
       "      <td>1000</td>\n",
       "    </tr>\n",
       "    <tr>\n",
       "      <td>2</td>\n",
       "      <td>1000_2</td>\n",
       "      <td>2018-08-04</td>\n",
       "      <td>1000</td>\n",
       "    </tr>\n",
       "    <tr>\n",
       "      <td>3</td>\n",
       "      <td>1000_3</td>\n",
       "      <td>2018-06-16</td>\n",
       "      <td>1000</td>\n",
       "    </tr>\n",
       "    <tr>\n",
       "      <td>4</td>\n",
       "      <td>1000_4</td>\n",
       "      <td>2018-12-05</td>\n",
       "      <td>1000</td>\n",
       "    </tr>\n",
       "  </tbody>\n",
       "</table>\n",
       "</div>"
      ],
      "text/plain": [
       "       id message_date  user_id\n",
       "0  1000_0   2018-06-27     1000\n",
       "1  1000_1   2018-10-08     1000\n",
       "2  1000_2   2018-08-04     1000\n",
       "3  1000_3   2018-06-16     1000\n",
       "4  1000_4   2018-12-05     1000"
      ]
     },
     "execution_count": 17,
     "metadata": {},
     "output_type": "execute_result"
    }
   ],
   "source": [
    "messages.head()"
   ]
  },
  {
   "cell_type": "code",
   "execution_count": 18,
   "metadata": {},
   "outputs": [
    {
     "name": "stdout",
     "output_type": "stream",
     "text": [
      "<class 'pandas.core.frame.DataFrame'>\n",
      "RangeIndex: 123036 entries, 0 to 123035\n",
      "Data columns (total 3 columns):\n",
      "id              123036 non-null object\n",
      "message_date    123036 non-null object\n",
      "user_id         123036 non-null int64\n",
      "dtypes: int64(1), object(2)\n",
      "memory usage: 2.8+ MB\n"
     ]
    }
   ],
   "source": [
    "messages.info()"
   ]
  },
  {
   "cell_type": "code",
   "execution_count": 19,
   "metadata": {},
   "outputs": [
    {
     "data": {
      "text/html": [
       "<div>\n",
       "<style scoped>\n",
       "    .dataframe tbody tr th:only-of-type {\n",
       "        vertical-align: middle;\n",
       "    }\n",
       "\n",
       "    .dataframe tbody tr th {\n",
       "        vertical-align: top;\n",
       "    }\n",
       "\n",
       "    .dataframe thead th {\n",
       "        text-align: right;\n",
       "    }\n",
       "</style>\n",
       "<table border=\"1\" class=\"dataframe\">\n",
       "  <thead>\n",
       "    <tr style=\"text-align: right;\">\n",
       "      <th></th>\n",
       "      <th>user_id</th>\n",
       "    </tr>\n",
       "  </thead>\n",
       "  <tbody>\n",
       "    <tr>\n",
       "      <td>count</td>\n",
       "      <td>123,036.00</td>\n",
       "    </tr>\n",
       "    <tr>\n",
       "      <td>mean</td>\n",
       "      <td>1,256.99</td>\n",
       "    </tr>\n",
       "    <tr>\n",
       "      <td>std</td>\n",
       "      <td>143.52</td>\n",
       "    </tr>\n",
       "    <tr>\n",
       "      <td>min</td>\n",
       "      <td>1,000.00</td>\n",
       "    </tr>\n",
       "    <tr>\n",
       "      <td>25%</td>\n",
       "      <td>1,134.00</td>\n",
       "    </tr>\n",
       "    <tr>\n",
       "      <td>50%</td>\n",
       "      <td>1,271.00</td>\n",
       "    </tr>\n",
       "    <tr>\n",
       "      <td>75%</td>\n",
       "      <td>1,381.00</td>\n",
       "    </tr>\n",
       "    <tr>\n",
       "      <td>max</td>\n",
       "      <td>1,499.00</td>\n",
       "    </tr>\n",
       "  </tbody>\n",
       "</table>\n",
       "</div>"
      ],
      "text/plain": [
       "         user_id\n",
       "count 123,036.00\n",
       "mean    1,256.99\n",
       "std       143.52\n",
       "min     1,000.00\n",
       "25%     1,134.00\n",
       "50%     1,271.00\n",
       "75%     1,381.00\n",
       "max     1,499.00"
      ]
     },
     "execution_count": 19,
     "metadata": {},
     "output_type": "execute_result"
    }
   ],
   "source": [
    "messages.describe()"
   ]
  },
  {
   "cell_type": "markdown",
   "metadata": {},
   "source": [
    "Приведем к нужжным типам"
   ]
  },
  {
   "cell_type": "code",
   "execution_count": 20,
   "metadata": {},
   "outputs": [],
   "source": [
    "messages['id'] = messages['id'].astype('int')"
   ]
  },
  {
   "cell_type": "code",
   "execution_count": 21,
   "metadata": {},
   "outputs": [],
   "source": [
    "messages['message_date'] = pd.to_datetime(messages['message_date'], format=\"%Y-%m-%d\")"
   ]
  },
  {
   "cell_type": "code",
   "execution_count": 22,
   "metadata": {},
   "outputs": [
    {
     "name": "stdout",
     "output_type": "stream",
     "text": [
      "<class 'pandas.core.frame.DataFrame'>\n",
      "RangeIndex: 123036 entries, 0 to 123035\n",
      "Data columns (total 3 columns):\n",
      "id              123036 non-null int64\n",
      "message_date    123036 non-null datetime64[ns]\n",
      "user_id         123036 non-null int64\n",
      "dtypes: datetime64[ns](1), int64(2)\n",
      "memory usage: 2.8 MB\n"
     ]
    }
   ],
   "source": [
    "messages.info()"
   ]
  },
  {
   "cell_type": "markdown",
   "metadata": {},
   "source": [
    "**Звонки**"
   ]
  },
  {
   "cell_type": "code",
   "execution_count": 23,
   "metadata": {},
   "outputs": [
    {
     "data": {
      "text/html": [
       "<div>\n",
       "<style scoped>\n",
       "    .dataframe tbody tr th:only-of-type {\n",
       "        vertical-align: middle;\n",
       "    }\n",
       "\n",
       "    .dataframe tbody tr th {\n",
       "        vertical-align: top;\n",
       "    }\n",
       "\n",
       "    .dataframe thead th {\n",
       "        text-align: right;\n",
       "    }\n",
       "</style>\n",
       "<table border=\"1\" class=\"dataframe\">\n",
       "  <thead>\n",
       "    <tr style=\"text-align: right;\">\n",
       "      <th></th>\n",
       "      <th>id</th>\n",
       "      <th>call_date</th>\n",
       "      <th>duration</th>\n",
       "      <th>user_id</th>\n",
       "    </tr>\n",
       "  </thead>\n",
       "  <tbody>\n",
       "    <tr>\n",
       "      <td>0</td>\n",
       "      <td>1000_0</td>\n",
       "      <td>2018-07-25</td>\n",
       "      <td>0.00</td>\n",
       "      <td>1000</td>\n",
       "    </tr>\n",
       "    <tr>\n",
       "      <td>1</td>\n",
       "      <td>1000_1</td>\n",
       "      <td>2018-08-17</td>\n",
       "      <td>0.00</td>\n",
       "      <td>1000</td>\n",
       "    </tr>\n",
       "    <tr>\n",
       "      <td>2</td>\n",
       "      <td>1000_2</td>\n",
       "      <td>2018-06-11</td>\n",
       "      <td>2.85</td>\n",
       "      <td>1000</td>\n",
       "    </tr>\n",
       "    <tr>\n",
       "      <td>3</td>\n",
       "      <td>1000_3</td>\n",
       "      <td>2018-09-21</td>\n",
       "      <td>13.80</td>\n",
       "      <td>1000</td>\n",
       "    </tr>\n",
       "    <tr>\n",
       "      <td>4</td>\n",
       "      <td>1000_4</td>\n",
       "      <td>2018-12-15</td>\n",
       "      <td>5.18</td>\n",
       "      <td>1000</td>\n",
       "    </tr>\n",
       "  </tbody>\n",
       "</table>\n",
       "</div>"
      ],
      "text/plain": [
       "       id   call_date  duration  user_id\n",
       "0  1000_0  2018-07-25      0.00     1000\n",
       "1  1000_1  2018-08-17      0.00     1000\n",
       "2  1000_2  2018-06-11      2.85     1000\n",
       "3  1000_3  2018-09-21     13.80     1000\n",
       "4  1000_4  2018-12-15      5.18     1000"
      ]
     },
     "execution_count": 23,
     "metadata": {},
     "output_type": "execute_result"
    }
   ],
   "source": [
    "calls.head()"
   ]
  },
  {
   "cell_type": "code",
   "execution_count": 24,
   "metadata": {},
   "outputs": [
    {
     "data": {
      "text/html": [
       "<div>\n",
       "<style scoped>\n",
       "    .dataframe tbody tr th:only-of-type {\n",
       "        vertical-align: middle;\n",
       "    }\n",
       "\n",
       "    .dataframe tbody tr th {\n",
       "        vertical-align: top;\n",
       "    }\n",
       "\n",
       "    .dataframe thead th {\n",
       "        text-align: right;\n",
       "    }\n",
       "</style>\n",
       "<table border=\"1\" class=\"dataframe\">\n",
       "  <thead>\n",
       "    <tr style=\"text-align: right;\">\n",
       "      <th></th>\n",
       "      <th>duration</th>\n",
       "      <th>user_id</th>\n",
       "    </tr>\n",
       "  </thead>\n",
       "  <tbody>\n",
       "    <tr>\n",
       "      <td>count</td>\n",
       "      <td>202,607.00</td>\n",
       "      <td>202,607.00</td>\n",
       "    </tr>\n",
       "    <tr>\n",
       "      <td>mean</td>\n",
       "      <td>6.76</td>\n",
       "      <td>1,253.94</td>\n",
       "    </tr>\n",
       "    <tr>\n",
       "      <td>std</td>\n",
       "      <td>5.84</td>\n",
       "      <td>144.72</td>\n",
       "    </tr>\n",
       "    <tr>\n",
       "      <td>min</td>\n",
       "      <td>0.00</td>\n",
       "      <td>1,000.00</td>\n",
       "    </tr>\n",
       "    <tr>\n",
       "      <td>25%</td>\n",
       "      <td>1.30</td>\n",
       "      <td>1,126.00</td>\n",
       "    </tr>\n",
       "    <tr>\n",
       "      <td>50%</td>\n",
       "      <td>6.00</td>\n",
       "      <td>1,260.00</td>\n",
       "    </tr>\n",
       "    <tr>\n",
       "      <td>75%</td>\n",
       "      <td>10.70</td>\n",
       "      <td>1,379.00</td>\n",
       "    </tr>\n",
       "    <tr>\n",
       "      <td>max</td>\n",
       "      <td>38.00</td>\n",
       "      <td>1,499.00</td>\n",
       "    </tr>\n",
       "  </tbody>\n",
       "</table>\n",
       "</div>"
      ],
      "text/plain": [
       "        duration    user_id\n",
       "count 202,607.00 202,607.00\n",
       "mean        6.76   1,253.94\n",
       "std         5.84     144.72\n",
       "min         0.00   1,000.00\n",
       "25%         1.30   1,126.00\n",
       "50%         6.00   1,260.00\n",
       "75%        10.70   1,379.00\n",
       "max        38.00   1,499.00"
      ]
     },
     "execution_count": 24,
     "metadata": {},
     "output_type": "execute_result"
    }
   ],
   "source": [
    "calls.describe()"
   ]
  },
  {
   "cell_type": "code",
   "execution_count": 25,
   "metadata": {},
   "outputs": [
    {
     "name": "stdout",
     "output_type": "stream",
     "text": [
      "<class 'pandas.core.frame.DataFrame'>\n",
      "RangeIndex: 202607 entries, 0 to 202606\n",
      "Data columns (total 4 columns):\n",
      "id           202607 non-null object\n",
      "call_date    202607 non-null object\n",
      "duration     202607 non-null float64\n",
      "user_id      202607 non-null int64\n",
      "dtypes: float64(1), int64(1), object(2)\n",
      "memory usage: 6.2+ MB\n"
     ]
    }
   ],
   "source": [
    "calls.info()"
   ]
  },
  {
   "cell_type": "markdown",
   "metadata": {},
   "source": [
    "Приведем к нужному типу"
   ]
  },
  {
   "cell_type": "code",
   "execution_count": 26,
   "metadata": {},
   "outputs": [],
   "source": [
    "calls['call_date'] = pd.to_datetime(calls['call_date'], format=\"%Y-%m-%d\")"
   ]
  },
  {
   "cell_type": "code",
   "execution_count": 27,
   "metadata": {},
   "outputs": [],
   "source": [
    "calls['id'] = calls['id'].astype('int')"
   ]
  },
  {
   "cell_type": "markdown",
   "metadata": {},
   "source": [
    "Округлим значения"
   ]
  },
  {
   "cell_type": "code",
   "execution_count": 28,
   "metadata": {},
   "outputs": [],
   "source": [
    "calls['duration'] = calls['duration'].apply(np.ceil).astype('int')"
   ]
  },
  {
   "cell_type": "markdown",
   "metadata": {},
   "source": [
    "<div class=\"alert alert-block alert-success\">\n",
    "    \n",
    "\n",
    "### Комментарий от ревьюера v_1\n",
    "Отлично\n",
    "    \n",
    "Молодец, что не упустила этого, но np.ceil не нуждается в apply, т.к. может работать сразу со всем столбцом.\n",
    "</div>"
   ]
  },
  {
   "cell_type": "code",
   "execution_count": 29,
   "metadata": {},
   "outputs": [
    {
     "data": {
      "text/html": [
       "<div>\n",
       "<style scoped>\n",
       "    .dataframe tbody tr th:only-of-type {\n",
       "        vertical-align: middle;\n",
       "    }\n",
       "\n",
       "    .dataframe tbody tr th {\n",
       "        vertical-align: top;\n",
       "    }\n",
       "\n",
       "    .dataframe thead th {\n",
       "        text-align: right;\n",
       "    }\n",
       "</style>\n",
       "<table border=\"1\" class=\"dataframe\">\n",
       "  <thead>\n",
       "    <tr style=\"text-align: right;\">\n",
       "      <th></th>\n",
       "      <th>id</th>\n",
       "      <th>call_date</th>\n",
       "      <th>duration</th>\n",
       "      <th>user_id</th>\n",
       "    </tr>\n",
       "  </thead>\n",
       "  <tbody>\n",
       "    <tr>\n",
       "      <td>0</td>\n",
       "      <td>10000</td>\n",
       "      <td>2018-07-25</td>\n",
       "      <td>0</td>\n",
       "      <td>1000</td>\n",
       "    </tr>\n",
       "    <tr>\n",
       "      <td>1</td>\n",
       "      <td>10001</td>\n",
       "      <td>2018-08-17</td>\n",
       "      <td>0</td>\n",
       "      <td>1000</td>\n",
       "    </tr>\n",
       "    <tr>\n",
       "      <td>2</td>\n",
       "      <td>10002</td>\n",
       "      <td>2018-06-11</td>\n",
       "      <td>3</td>\n",
       "      <td>1000</td>\n",
       "    </tr>\n",
       "    <tr>\n",
       "      <td>3</td>\n",
       "      <td>10003</td>\n",
       "      <td>2018-09-21</td>\n",
       "      <td>14</td>\n",
       "      <td>1000</td>\n",
       "    </tr>\n",
       "    <tr>\n",
       "      <td>4</td>\n",
       "      <td>10004</td>\n",
       "      <td>2018-12-15</td>\n",
       "      <td>6</td>\n",
       "      <td>1000</td>\n",
       "    </tr>\n",
       "  </tbody>\n",
       "</table>\n",
       "</div>"
      ],
      "text/plain": [
       "      id  call_date  duration  user_id\n",
       "0  10000 2018-07-25         0     1000\n",
       "1  10001 2018-08-17         0     1000\n",
       "2  10002 2018-06-11         3     1000\n",
       "3  10003 2018-09-21        14     1000\n",
       "4  10004 2018-12-15         6     1000"
      ]
     },
     "execution_count": 29,
     "metadata": {},
     "output_type": "execute_result"
    }
   ],
   "source": [
    "calls.head()"
   ]
  },
  {
   "cell_type": "markdown",
   "metadata": {},
   "source": [
    "<div class=\"alert alert-block alert-danger\">\n",
    "    \n",
    "\n",
    "### Комментарий от ревьюера v_1\n",
    "Критично\n",
    "\n",
    "А здесь ошибка, такая замена некорректна, в условии говорится, что это пропущенные звонки\n",
    "</div>\n",
    "    "
   ]
  },
  {
   "cell_type": "markdown",
   "metadata": {},
   "source": [
    "<div class=\"alert alert-info\"> <b>Комментарий студента:</b> Удалила замену пропущенных звонков, просмотрела этот момент в описании, спасибо </div>\n"
   ]
  },
  {
   "cell_type": "code",
   "execution_count": 30,
   "metadata": {},
   "outputs": [
    {
     "data": {
      "text/html": [
       "<div>\n",
       "<style scoped>\n",
       "    .dataframe tbody tr th:only-of-type {\n",
       "        vertical-align: middle;\n",
       "    }\n",
       "\n",
       "    .dataframe tbody tr th {\n",
       "        vertical-align: top;\n",
       "    }\n",
       "\n",
       "    .dataframe thead th {\n",
       "        text-align: right;\n",
       "    }\n",
       "</style>\n",
       "<table border=\"1\" class=\"dataframe\">\n",
       "  <thead>\n",
       "    <tr style=\"text-align: right;\">\n",
       "      <th></th>\n",
       "      <th>id</th>\n",
       "      <th>call_date</th>\n",
       "      <th>duration</th>\n",
       "      <th>user_id</th>\n",
       "    </tr>\n",
       "  </thead>\n",
       "  <tbody>\n",
       "    <tr>\n",
       "      <td>0</td>\n",
       "      <td>10000</td>\n",
       "      <td>2018-07-25</td>\n",
       "      <td>0</td>\n",
       "      <td>1000</td>\n",
       "    </tr>\n",
       "    <tr>\n",
       "      <td>1</td>\n",
       "      <td>10001</td>\n",
       "      <td>2018-08-17</td>\n",
       "      <td>0</td>\n",
       "      <td>1000</td>\n",
       "    </tr>\n",
       "    <tr>\n",
       "      <td>2</td>\n",
       "      <td>10002</td>\n",
       "      <td>2018-06-11</td>\n",
       "      <td>3</td>\n",
       "      <td>1000</td>\n",
       "    </tr>\n",
       "    <tr>\n",
       "      <td>3</td>\n",
       "      <td>10003</td>\n",
       "      <td>2018-09-21</td>\n",
       "      <td>14</td>\n",
       "      <td>1000</td>\n",
       "    </tr>\n",
       "    <tr>\n",
       "      <td>4</td>\n",
       "      <td>10004</td>\n",
       "      <td>2018-12-15</td>\n",
       "      <td>6</td>\n",
       "      <td>1000</td>\n",
       "    </tr>\n",
       "  </tbody>\n",
       "</table>\n",
       "</div>"
      ],
      "text/plain": [
       "      id  call_date  duration  user_id\n",
       "0  10000 2018-07-25         0     1000\n",
       "1  10001 2018-08-17         0     1000\n",
       "2  10002 2018-06-11         3     1000\n",
       "3  10003 2018-09-21        14     1000\n",
       "4  10004 2018-12-15         6     1000"
      ]
     },
     "execution_count": 30,
     "metadata": {},
     "output_type": "execute_result"
    }
   ],
   "source": [
    "calls.head()"
   ]
  },
  {
   "cell_type": "markdown",
   "metadata": {},
   "source": [
    "**Тарифы**"
   ]
  },
  {
   "cell_type": "code",
   "execution_count": 31,
   "metadata": {},
   "outputs": [
    {
     "data": {
      "text/html": [
       "<div>\n",
       "<style scoped>\n",
       "    .dataframe tbody tr th:only-of-type {\n",
       "        vertical-align: middle;\n",
       "    }\n",
       "\n",
       "    .dataframe tbody tr th {\n",
       "        vertical-align: top;\n",
       "    }\n",
       "\n",
       "    .dataframe thead th {\n",
       "        text-align: right;\n",
       "    }\n",
       "</style>\n",
       "<table border=\"1\" class=\"dataframe\">\n",
       "  <thead>\n",
       "    <tr style=\"text-align: right;\">\n",
       "      <th></th>\n",
       "      <th>messages_included</th>\n",
       "      <th>mb_per_month_included</th>\n",
       "      <th>minutes_included</th>\n",
       "      <th>rub_monthly_fee</th>\n",
       "      <th>rub_per_gb</th>\n",
       "      <th>rub_per_message</th>\n",
       "      <th>rub_per_minute</th>\n",
       "      <th>tariff_name</th>\n",
       "    </tr>\n",
       "  </thead>\n",
       "  <tbody>\n",
       "    <tr>\n",
       "      <td>0</td>\n",
       "      <td>50</td>\n",
       "      <td>15360</td>\n",
       "      <td>500</td>\n",
       "      <td>550</td>\n",
       "      <td>200</td>\n",
       "      <td>3</td>\n",
       "      <td>3</td>\n",
       "      <td>smart</td>\n",
       "    </tr>\n",
       "    <tr>\n",
       "      <td>1</td>\n",
       "      <td>1000</td>\n",
       "      <td>30720</td>\n",
       "      <td>3000</td>\n",
       "      <td>1950</td>\n",
       "      <td>150</td>\n",
       "      <td>1</td>\n",
       "      <td>1</td>\n",
       "      <td>ultra</td>\n",
       "    </tr>\n",
       "  </tbody>\n",
       "</table>\n",
       "</div>"
      ],
      "text/plain": [
       "   messages_included  mb_per_month_included  minutes_included  \\\n",
       "0                 50                  15360               500   \n",
       "1               1000                  30720              3000   \n",
       "\n",
       "   rub_monthly_fee  rub_per_gb  rub_per_message  rub_per_minute tariff_name  \n",
       "0              550         200                3               3       smart  \n",
       "1             1950         150                1               1       ultra  "
      ]
     },
     "execution_count": 31,
     "metadata": {},
     "output_type": "execute_result"
    }
   ],
   "source": [
    "tariffs.head()"
   ]
  },
  {
   "cell_type": "code",
   "execution_count": 32,
   "metadata": {},
   "outputs": [
    {
     "name": "stdout",
     "output_type": "stream",
     "text": [
      "<class 'pandas.core.frame.DataFrame'>\n",
      "RangeIndex: 2 entries, 0 to 1\n",
      "Data columns (total 8 columns):\n",
      "messages_included        2 non-null int64\n",
      "mb_per_month_included    2 non-null int64\n",
      "minutes_included         2 non-null int64\n",
      "rub_monthly_fee          2 non-null int64\n",
      "rub_per_gb               2 non-null int64\n",
      "rub_per_message          2 non-null int64\n",
      "rub_per_minute           2 non-null int64\n",
      "tariff_name              2 non-null object\n",
      "dtypes: int64(7), object(1)\n",
      "memory usage: 256.0+ bytes\n"
     ]
    }
   ],
   "source": [
    "tariffs.info()"
   ]
  },
  {
   "cell_type": "code",
   "execution_count": 33,
   "metadata": {},
   "outputs": [
    {
     "data": {
      "text/html": [
       "<div>\n",
       "<style scoped>\n",
       "    .dataframe tbody tr th:only-of-type {\n",
       "        vertical-align: middle;\n",
       "    }\n",
       "\n",
       "    .dataframe tbody tr th {\n",
       "        vertical-align: top;\n",
       "    }\n",
       "\n",
       "    .dataframe thead th {\n",
       "        text-align: right;\n",
       "    }\n",
       "</style>\n",
       "<table border=\"1\" class=\"dataframe\">\n",
       "  <thead>\n",
       "    <tr style=\"text-align: right;\">\n",
       "      <th></th>\n",
       "      <th>messages_included</th>\n",
       "      <th>mb_per_month_included</th>\n",
       "      <th>minutes_included</th>\n",
       "      <th>rub_monthly_fee</th>\n",
       "      <th>rub_per_gb</th>\n",
       "      <th>rub_per_message</th>\n",
       "      <th>rub_per_minute</th>\n",
       "    </tr>\n",
       "  </thead>\n",
       "  <tbody>\n",
       "    <tr>\n",
       "      <td>count</td>\n",
       "      <td>2.00</td>\n",
       "      <td>2.00</td>\n",
       "      <td>2.00</td>\n",
       "      <td>2.00</td>\n",
       "      <td>2.00</td>\n",
       "      <td>2.00</td>\n",
       "      <td>2.00</td>\n",
       "    </tr>\n",
       "    <tr>\n",
       "      <td>mean</td>\n",
       "      <td>525.00</td>\n",
       "      <td>23,040.00</td>\n",
       "      <td>1,750.00</td>\n",
       "      <td>1,250.00</td>\n",
       "      <td>175.00</td>\n",
       "      <td>2.00</td>\n",
       "      <td>2.00</td>\n",
       "    </tr>\n",
       "    <tr>\n",
       "      <td>std</td>\n",
       "      <td>671.75</td>\n",
       "      <td>10,861.16</td>\n",
       "      <td>1,767.77</td>\n",
       "      <td>989.95</td>\n",
       "      <td>35.36</td>\n",
       "      <td>1.41</td>\n",
       "      <td>1.41</td>\n",
       "    </tr>\n",
       "    <tr>\n",
       "      <td>min</td>\n",
       "      <td>50.00</td>\n",
       "      <td>15,360.00</td>\n",
       "      <td>500.00</td>\n",
       "      <td>550.00</td>\n",
       "      <td>150.00</td>\n",
       "      <td>1.00</td>\n",
       "      <td>1.00</td>\n",
       "    </tr>\n",
       "    <tr>\n",
       "      <td>25%</td>\n",
       "      <td>287.50</td>\n",
       "      <td>19,200.00</td>\n",
       "      <td>1,125.00</td>\n",
       "      <td>900.00</td>\n",
       "      <td>162.50</td>\n",
       "      <td>1.50</td>\n",
       "      <td>1.50</td>\n",
       "    </tr>\n",
       "    <tr>\n",
       "      <td>50%</td>\n",
       "      <td>525.00</td>\n",
       "      <td>23,040.00</td>\n",
       "      <td>1,750.00</td>\n",
       "      <td>1,250.00</td>\n",
       "      <td>175.00</td>\n",
       "      <td>2.00</td>\n",
       "      <td>2.00</td>\n",
       "    </tr>\n",
       "    <tr>\n",
       "      <td>75%</td>\n",
       "      <td>762.50</td>\n",
       "      <td>26,880.00</td>\n",
       "      <td>2,375.00</td>\n",
       "      <td>1,600.00</td>\n",
       "      <td>187.50</td>\n",
       "      <td>2.50</td>\n",
       "      <td>2.50</td>\n",
       "    </tr>\n",
       "    <tr>\n",
       "      <td>max</td>\n",
       "      <td>1,000.00</td>\n",
       "      <td>30,720.00</td>\n",
       "      <td>3,000.00</td>\n",
       "      <td>1,950.00</td>\n",
       "      <td>200.00</td>\n",
       "      <td>3.00</td>\n",
       "      <td>3.00</td>\n",
       "    </tr>\n",
       "  </tbody>\n",
       "</table>\n",
       "</div>"
      ],
      "text/plain": [
       "       messages_included  mb_per_month_included  minutes_included  \\\n",
       "count               2.00                   2.00              2.00   \n",
       "mean              525.00              23,040.00          1,750.00   \n",
       "std               671.75              10,861.16          1,767.77   \n",
       "min                50.00              15,360.00            500.00   \n",
       "25%               287.50              19,200.00          1,125.00   \n",
       "50%               525.00              23,040.00          1,750.00   \n",
       "75%               762.50              26,880.00          2,375.00   \n",
       "max             1,000.00              30,720.00          3,000.00   \n",
       "\n",
       "       rub_monthly_fee  rub_per_gb  rub_per_message  rub_per_minute  \n",
       "count             2.00        2.00             2.00            2.00  \n",
       "mean          1,250.00      175.00             2.00            2.00  \n",
       "std             989.95       35.36             1.41            1.41  \n",
       "min             550.00      150.00             1.00            1.00  \n",
       "25%             900.00      162.50             1.50            1.50  \n",
       "50%           1,250.00      175.00             2.00            2.00  \n",
       "75%           1,600.00      187.50             2.50            2.50  \n",
       "max           1,950.00      200.00             3.00            3.00  "
      ]
     },
     "execution_count": 33,
     "metadata": {},
     "output_type": "execute_result"
    }
   ],
   "source": [
    "tariffs.describe()"
   ]
  },
  {
   "cell_type": "code",
   "execution_count": 34,
   "metadata": {},
   "outputs": [],
   "source": [
    "#для удобства соединения таблиц в будущем, переименуем столбец с тарифом\n",
    "tariffs = tariffs.rename(columns={'tariff_name':'tariff'})\n"
   ]
  },
  {
   "cell_type": "code",
   "execution_count": 35,
   "metadata": {},
   "outputs": [
    {
     "data": {
      "text/html": [
       "<div>\n",
       "<style scoped>\n",
       "    .dataframe tbody tr th:only-of-type {\n",
       "        vertical-align: middle;\n",
       "    }\n",
       "\n",
       "    .dataframe tbody tr th {\n",
       "        vertical-align: top;\n",
       "    }\n",
       "\n",
       "    .dataframe thead th {\n",
       "        text-align: right;\n",
       "    }\n",
       "</style>\n",
       "<table border=\"1\" class=\"dataframe\">\n",
       "  <thead>\n",
       "    <tr style=\"text-align: right;\">\n",
       "      <th></th>\n",
       "      <th>messages_included</th>\n",
       "      <th>mb_per_month_included</th>\n",
       "      <th>minutes_included</th>\n",
       "      <th>rub_monthly_fee</th>\n",
       "      <th>rub_per_gb</th>\n",
       "      <th>rub_per_message</th>\n",
       "      <th>rub_per_minute</th>\n",
       "      <th>tariff</th>\n",
       "    </tr>\n",
       "  </thead>\n",
       "  <tbody>\n",
       "    <tr>\n",
       "      <td>0</td>\n",
       "      <td>50</td>\n",
       "      <td>15360</td>\n",
       "      <td>500</td>\n",
       "      <td>550</td>\n",
       "      <td>200</td>\n",
       "      <td>3</td>\n",
       "      <td>3</td>\n",
       "      <td>smart</td>\n",
       "    </tr>\n",
       "    <tr>\n",
       "      <td>1</td>\n",
       "      <td>1000</td>\n",
       "      <td>30720</td>\n",
       "      <td>3000</td>\n",
       "      <td>1950</td>\n",
       "      <td>150</td>\n",
       "      <td>1</td>\n",
       "      <td>1</td>\n",
       "      <td>ultra</td>\n",
       "    </tr>\n",
       "  </tbody>\n",
       "</table>\n",
       "</div>"
      ],
      "text/plain": [
       "   messages_included  mb_per_month_included  minutes_included  \\\n",
       "0                 50                  15360               500   \n",
       "1               1000                  30720              3000   \n",
       "\n",
       "   rub_monthly_fee  rub_per_gb  rub_per_message  rub_per_minute tariff  \n",
       "0              550         200                3               3  smart  \n",
       "1             1950         150                1               1  ultra  "
      ]
     },
     "execution_count": 35,
     "metadata": {},
     "output_type": "execute_result"
    }
   ],
   "source": [
    "tariffs.head()"
   ]
  },
  {
   "cell_type": "markdown",
   "metadata": {},
   "source": [
    "**Вывод:**\n",
    "Данные приведены к нужным типам и готовы для дальнейшей работы над проектом\n",
    "\n"
   ]
  },
  {
   "cell_type": "markdown",
   "metadata": {},
   "source": [
    "## Подсчет значений"
   ]
  },
  {
   "cell_type": "markdown",
   "metadata": {},
   "source": [
    "Посчитаем для каждого пользователя: \n",
    "\n",
    "•\tколичество сделанных звонков и израсходованных минут разговора по месяцам;\n",
    "\n",
    "•\tколичество отправленных сообщений по месяцам;\n",
    "\n",
    "•\tобъем израсходованного интернет-трафика по месяцам;\n",
    "\n",
    "•\tпомесячную выручку с каждого пользователя (вычтем бесплатный лимит из суммарного количества звонков, сообщений и интернет-трафика; остаток умножим на значение из тарифного плана; прибавим абонентскую плату, соответствующую тарифному плану).\n",
    "\n"
   ]
  },
  {
   "cell_type": "code",
   "execution_count": 36,
   "metadata": {},
   "outputs": [],
   "source": [
    "# добавим в таблицу столбец со значением месяца\n",
    "calls['month'] = calls['call_date'].dt.month"
   ]
  },
  {
   "cell_type": "code",
   "execution_count": 37,
   "metadata": {},
   "outputs": [
    {
     "data": {
      "text/html": [
       "<div>\n",
       "<style scoped>\n",
       "    .dataframe tbody tr th:only-of-type {\n",
       "        vertical-align: middle;\n",
       "    }\n",
       "\n",
       "    .dataframe tbody tr th {\n",
       "        vertical-align: top;\n",
       "    }\n",
       "\n",
       "    .dataframe thead th {\n",
       "        text-align: right;\n",
       "    }\n",
       "</style>\n",
       "<table border=\"1\" class=\"dataframe\">\n",
       "  <thead>\n",
       "    <tr style=\"text-align: right;\">\n",
       "      <th></th>\n",
       "      <th>id</th>\n",
       "      <th>call_date</th>\n",
       "      <th>duration</th>\n",
       "      <th>user_id</th>\n",
       "      <th>month</th>\n",
       "    </tr>\n",
       "  </thead>\n",
       "  <tbody>\n",
       "    <tr>\n",
       "      <td>0</td>\n",
       "      <td>10000</td>\n",
       "      <td>2018-07-25</td>\n",
       "      <td>0</td>\n",
       "      <td>1000</td>\n",
       "      <td>7</td>\n",
       "    </tr>\n",
       "    <tr>\n",
       "      <td>1</td>\n",
       "      <td>10001</td>\n",
       "      <td>2018-08-17</td>\n",
       "      <td>0</td>\n",
       "      <td>1000</td>\n",
       "      <td>8</td>\n",
       "    </tr>\n",
       "    <tr>\n",
       "      <td>2</td>\n",
       "      <td>10002</td>\n",
       "      <td>2018-06-11</td>\n",
       "      <td>3</td>\n",
       "      <td>1000</td>\n",
       "      <td>6</td>\n",
       "    </tr>\n",
       "    <tr>\n",
       "      <td>3</td>\n",
       "      <td>10003</td>\n",
       "      <td>2018-09-21</td>\n",
       "      <td>14</td>\n",
       "      <td>1000</td>\n",
       "      <td>9</td>\n",
       "    </tr>\n",
       "    <tr>\n",
       "      <td>4</td>\n",
       "      <td>10004</td>\n",
       "      <td>2018-12-15</td>\n",
       "      <td>6</td>\n",
       "      <td>1000</td>\n",
       "      <td>12</td>\n",
       "    </tr>\n",
       "  </tbody>\n",
       "</table>\n",
       "</div>"
      ],
      "text/plain": [
       "      id  call_date  duration  user_id  month\n",
       "0  10000 2018-07-25         0     1000      7\n",
       "1  10001 2018-08-17         0     1000      8\n",
       "2  10002 2018-06-11         3     1000      6\n",
       "3  10003 2018-09-21        14     1000      9\n",
       "4  10004 2018-12-15         6     1000     12"
      ]
     },
     "execution_count": 37,
     "metadata": {},
     "output_type": "execute_result"
    }
   ],
   "source": [
    "calls.head()"
   ]
  },
  {
   "cell_type": "code",
   "execution_count": 38,
   "metadata": {},
   "outputs": [],
   "source": [
    "#группируем звонки\n",
    "user_calls = calls.groupby(['user_id', 'month'])\\\n",
    "                  .agg({'duration':'sum', 'id':'count'})\\\n",
    "                  .reset_index()\\\n",
    "                  .rename(columns={'duration':'month_calls_duration','id':'calls_total_in_month'})\\\n"
   ]
  },
  {
   "cell_type": "markdown",
   "metadata": {},
   "source": [
    "<div class=\"alert alert-block alert-success\">\n",
    "    \n",
    "\n",
    "### Комментарий от ревьюера v_1\n",
    "Отлично\n",
    "    \n",
    "Расчеты верны, но можно использовать именованные агрегаты в groupby, чтобы потом не переименовывать колонки\n",
    "</div>"
   ]
  },
  {
   "cell_type": "code",
   "execution_count": 39,
   "metadata": {},
   "outputs": [
    {
     "data": {
      "text/html": [
       "<div>\n",
       "<style scoped>\n",
       "    .dataframe tbody tr th:only-of-type {\n",
       "        vertical-align: middle;\n",
       "    }\n",
       "\n",
       "    .dataframe tbody tr th {\n",
       "        vertical-align: top;\n",
       "    }\n",
       "\n",
       "    .dataframe thead th {\n",
       "        text-align: right;\n",
       "    }\n",
       "</style>\n",
       "<table border=\"1\" class=\"dataframe\">\n",
       "  <thead>\n",
       "    <tr style=\"text-align: right;\">\n",
       "      <th></th>\n",
       "      <th>user_id</th>\n",
       "      <th>month</th>\n",
       "      <th>month_calls_duration</th>\n",
       "      <th>calls_total_in_month</th>\n",
       "    </tr>\n",
       "  </thead>\n",
       "  <tbody>\n",
       "    <tr>\n",
       "      <td>0</td>\n",
       "      <td>1000</td>\n",
       "      <td>5</td>\n",
       "      <td>159</td>\n",
       "      <td>22</td>\n",
       "    </tr>\n",
       "    <tr>\n",
       "      <td>1</td>\n",
       "      <td>1000</td>\n",
       "      <td>6</td>\n",
       "      <td>172</td>\n",
       "      <td>43</td>\n",
       "    </tr>\n",
       "    <tr>\n",
       "      <td>2</td>\n",
       "      <td>1000</td>\n",
       "      <td>7</td>\n",
       "      <td>340</td>\n",
       "      <td>47</td>\n",
       "    </tr>\n",
       "    <tr>\n",
       "      <td>3</td>\n",
       "      <td>1000</td>\n",
       "      <td>8</td>\n",
       "      <td>408</td>\n",
       "      <td>52</td>\n",
       "    </tr>\n",
       "    <tr>\n",
       "      <td>4</td>\n",
       "      <td>1000</td>\n",
       "      <td>9</td>\n",
       "      <td>466</td>\n",
       "      <td>58</td>\n",
       "    </tr>\n",
       "  </tbody>\n",
       "</table>\n",
       "</div>"
      ],
      "text/plain": [
       "   user_id  month  month_calls_duration  calls_total_in_month\n",
       "0     1000      5                   159                    22\n",
       "1     1000      6                   172                    43\n",
       "2     1000      7                   340                    47\n",
       "3     1000      8                   408                    52\n",
       "4     1000      9                   466                    58"
      ]
     },
     "execution_count": 39,
     "metadata": {},
     "output_type": "execute_result"
    }
   ],
   "source": [
    "user_calls.head()"
   ]
  },
  {
   "cell_type": "markdown",
   "metadata": {},
   "source": [
    "Посчитали количество сделанных звонков и израсходованных минут разговора по месяцам."
   ]
  },
  {
   "cell_type": "code",
   "execution_count": 40,
   "metadata": {},
   "outputs": [],
   "source": [
    "messages['month'] = messages['message_date'].dt.month"
   ]
  },
  {
   "cell_type": "code",
   "execution_count": 41,
   "metadata": {},
   "outputs": [
    {
     "data": {
      "text/html": [
       "<div>\n",
       "<style scoped>\n",
       "    .dataframe tbody tr th:only-of-type {\n",
       "        vertical-align: middle;\n",
       "    }\n",
       "\n",
       "    .dataframe tbody tr th {\n",
       "        vertical-align: top;\n",
       "    }\n",
       "\n",
       "    .dataframe thead th {\n",
       "        text-align: right;\n",
       "    }\n",
       "</style>\n",
       "<table border=\"1\" class=\"dataframe\">\n",
       "  <thead>\n",
       "    <tr style=\"text-align: right;\">\n",
       "      <th></th>\n",
       "      <th>id</th>\n",
       "      <th>message_date</th>\n",
       "      <th>user_id</th>\n",
       "      <th>month</th>\n",
       "    </tr>\n",
       "  </thead>\n",
       "  <tbody>\n",
       "    <tr>\n",
       "      <td>0</td>\n",
       "      <td>10000</td>\n",
       "      <td>2018-06-27</td>\n",
       "      <td>1000</td>\n",
       "      <td>6</td>\n",
       "    </tr>\n",
       "    <tr>\n",
       "      <td>1</td>\n",
       "      <td>10001</td>\n",
       "      <td>2018-10-08</td>\n",
       "      <td>1000</td>\n",
       "      <td>10</td>\n",
       "    </tr>\n",
       "    <tr>\n",
       "      <td>2</td>\n",
       "      <td>10002</td>\n",
       "      <td>2018-08-04</td>\n",
       "      <td>1000</td>\n",
       "      <td>8</td>\n",
       "    </tr>\n",
       "    <tr>\n",
       "      <td>3</td>\n",
       "      <td>10003</td>\n",
       "      <td>2018-06-16</td>\n",
       "      <td>1000</td>\n",
       "      <td>6</td>\n",
       "    </tr>\n",
       "    <tr>\n",
       "      <td>4</td>\n",
       "      <td>10004</td>\n",
       "      <td>2018-12-05</td>\n",
       "      <td>1000</td>\n",
       "      <td>12</td>\n",
       "    </tr>\n",
       "  </tbody>\n",
       "</table>\n",
       "</div>"
      ],
      "text/plain": [
       "      id message_date  user_id  month\n",
       "0  10000   2018-06-27     1000      6\n",
       "1  10001   2018-10-08     1000     10\n",
       "2  10002   2018-08-04     1000      8\n",
       "3  10003   2018-06-16     1000      6\n",
       "4  10004   2018-12-05     1000     12"
      ]
     },
     "execution_count": 41,
     "metadata": {},
     "output_type": "execute_result"
    }
   ],
   "source": [
    "messages.head()"
   ]
  },
  {
   "cell_type": "code",
   "execution_count": 42,
   "metadata": {},
   "outputs": [],
   "source": [
    "user_messages = messages.groupby(['user_id', 'month'])\\\n",
    "                        .agg({'id':'count'})\\\n",
    "                        .reset_index()\\\n",
    "                        .rename(columns={'id':'sms_total_in_month'})"
   ]
  },
  {
   "cell_type": "code",
   "execution_count": 43,
   "metadata": {},
   "outputs": [
    {
     "data": {
      "text/html": [
       "<div>\n",
       "<style scoped>\n",
       "    .dataframe tbody tr th:only-of-type {\n",
       "        vertical-align: middle;\n",
       "    }\n",
       "\n",
       "    .dataframe tbody tr th {\n",
       "        vertical-align: top;\n",
       "    }\n",
       "\n",
       "    .dataframe thead th {\n",
       "        text-align: right;\n",
       "    }\n",
       "</style>\n",
       "<table border=\"1\" class=\"dataframe\">\n",
       "  <thead>\n",
       "    <tr style=\"text-align: right;\">\n",
       "      <th></th>\n",
       "      <th>user_id</th>\n",
       "      <th>month</th>\n",
       "      <th>sms_total_in_month</th>\n",
       "    </tr>\n",
       "  </thead>\n",
       "  <tbody>\n",
       "    <tr>\n",
       "      <td>0</td>\n",
       "      <td>1000</td>\n",
       "      <td>5</td>\n",
       "      <td>22</td>\n",
       "    </tr>\n",
       "    <tr>\n",
       "      <td>1</td>\n",
       "      <td>1000</td>\n",
       "      <td>6</td>\n",
       "      <td>60</td>\n",
       "    </tr>\n",
       "    <tr>\n",
       "      <td>2</td>\n",
       "      <td>1000</td>\n",
       "      <td>7</td>\n",
       "      <td>75</td>\n",
       "    </tr>\n",
       "    <tr>\n",
       "      <td>3</td>\n",
       "      <td>1000</td>\n",
       "      <td>8</td>\n",
       "      <td>81</td>\n",
       "    </tr>\n",
       "    <tr>\n",
       "      <td>4</td>\n",
       "      <td>1000</td>\n",
       "      <td>9</td>\n",
       "      <td>57</td>\n",
       "    </tr>\n",
       "  </tbody>\n",
       "</table>\n",
       "</div>"
      ],
      "text/plain": [
       "   user_id  month  sms_total_in_month\n",
       "0     1000      5                  22\n",
       "1     1000      6                  60\n",
       "2     1000      7                  75\n",
       "3     1000      8                  81\n",
       "4     1000      9                  57"
      ]
     },
     "execution_count": 43,
     "metadata": {},
     "output_type": "execute_result"
    }
   ],
   "source": [
    "user_messages.head()"
   ]
  },
  {
   "cell_type": "markdown",
   "metadata": {},
   "source": [
    "Посчитали количество отправленных сообщений по месяцам"
   ]
  },
  {
   "cell_type": "code",
   "execution_count": 44,
   "metadata": {},
   "outputs": [],
   "source": [
    "internet['month'] = internet['session_date'].dt.month"
   ]
  },
  {
   "cell_type": "code",
   "execution_count": 45,
   "metadata": {},
   "outputs": [
    {
     "data": {
      "text/html": [
       "<div>\n",
       "<style scoped>\n",
       "    .dataframe tbody tr th:only-of-type {\n",
       "        vertical-align: middle;\n",
       "    }\n",
       "\n",
       "    .dataframe tbody tr th {\n",
       "        vertical-align: top;\n",
       "    }\n",
       "\n",
       "    .dataframe thead th {\n",
       "        text-align: right;\n",
       "    }\n",
       "</style>\n",
       "<table border=\"1\" class=\"dataframe\">\n",
       "  <thead>\n",
       "    <tr style=\"text-align: right;\">\n",
       "      <th></th>\n",
       "      <th>Unnamed: 0</th>\n",
       "      <th>id</th>\n",
       "      <th>mb_used</th>\n",
       "      <th>session_date</th>\n",
       "      <th>user_id</th>\n",
       "      <th>month</th>\n",
       "    </tr>\n",
       "  </thead>\n",
       "  <tbody>\n",
       "    <tr>\n",
       "      <td>0</td>\n",
       "      <td>0</td>\n",
       "      <td>10000</td>\n",
       "      <td>113.00</td>\n",
       "      <td>2018-11-25</td>\n",
       "      <td>1000</td>\n",
       "      <td>11</td>\n",
       "    </tr>\n",
       "    <tr>\n",
       "      <td>1</td>\n",
       "      <td>1</td>\n",
       "      <td>10001</td>\n",
       "      <td>1,053.00</td>\n",
       "      <td>2018-09-07</td>\n",
       "      <td>1000</td>\n",
       "      <td>9</td>\n",
       "    </tr>\n",
       "    <tr>\n",
       "      <td>2</td>\n",
       "      <td>2</td>\n",
       "      <td>10002</td>\n",
       "      <td>1,198.00</td>\n",
       "      <td>2018-06-25</td>\n",
       "      <td>1000</td>\n",
       "      <td>6</td>\n",
       "    </tr>\n",
       "    <tr>\n",
       "      <td>3</td>\n",
       "      <td>3</td>\n",
       "      <td>10003</td>\n",
       "      <td>551.00</td>\n",
       "      <td>2018-08-22</td>\n",
       "      <td>1000</td>\n",
       "      <td>8</td>\n",
       "    </tr>\n",
       "    <tr>\n",
       "      <td>4</td>\n",
       "      <td>4</td>\n",
       "      <td>10004</td>\n",
       "      <td>303.00</td>\n",
       "      <td>2018-09-24</td>\n",
       "      <td>1000</td>\n",
       "      <td>9</td>\n",
       "    </tr>\n",
       "  </tbody>\n",
       "</table>\n",
       "</div>"
      ],
      "text/plain": [
       "   Unnamed: 0     id  mb_used session_date  user_id  month\n",
       "0           0  10000   113.00   2018-11-25     1000     11\n",
       "1           1  10001 1,053.00   2018-09-07     1000      9\n",
       "2           2  10002 1,198.00   2018-06-25     1000      6\n",
       "3           3  10003   551.00   2018-08-22     1000      8\n",
       "4           4  10004   303.00   2018-09-24     1000      9"
      ]
     },
     "execution_count": 45,
     "metadata": {},
     "output_type": "execute_result"
    }
   ],
   "source": [
    "internet.head()"
   ]
  },
  {
   "cell_type": "code",
   "execution_count": 46,
   "metadata": {},
   "outputs": [],
   "source": [
    "user_internet = internet.groupby(['user_id', 'month'])\\\n",
    "                        .agg({'mb_used':'sum'})\\\n",
    "                        .reset_index()\\\n",
    "                        .rename(columns={'mb_used':'mb_total_in_month'})"
   ]
  },
  {
   "cell_type": "code",
   "execution_count": 47,
   "metadata": {},
   "outputs": [
    {
     "data": {
      "text/html": [
       "<div>\n",
       "<style scoped>\n",
       "    .dataframe tbody tr th:only-of-type {\n",
       "        vertical-align: middle;\n",
       "    }\n",
       "\n",
       "    .dataframe tbody tr th {\n",
       "        vertical-align: top;\n",
       "    }\n",
       "\n",
       "    .dataframe thead th {\n",
       "        text-align: right;\n",
       "    }\n",
       "</style>\n",
       "<table border=\"1\" class=\"dataframe\">\n",
       "  <thead>\n",
       "    <tr style=\"text-align: right;\">\n",
       "      <th></th>\n",
       "      <th>user_id</th>\n",
       "      <th>month</th>\n",
       "      <th>mb_total_in_month</th>\n",
       "    </tr>\n",
       "  </thead>\n",
       "  <tbody>\n",
       "    <tr>\n",
       "      <td>0</td>\n",
       "      <td>1000</td>\n",
       "      <td>5</td>\n",
       "      <td>2,256.00</td>\n",
       "    </tr>\n",
       "    <tr>\n",
       "      <td>1</td>\n",
       "      <td>1000</td>\n",
       "      <td>6</td>\n",
       "      <td>23,257.00</td>\n",
       "    </tr>\n",
       "    <tr>\n",
       "      <td>2</td>\n",
       "      <td>1000</td>\n",
       "      <td>7</td>\n",
       "      <td>14,016.00</td>\n",
       "    </tr>\n",
       "    <tr>\n",
       "      <td>3</td>\n",
       "      <td>1000</td>\n",
       "      <td>8</td>\n",
       "      <td>14,070.00</td>\n",
       "    </tr>\n",
       "    <tr>\n",
       "      <td>4</td>\n",
       "      <td>1000</td>\n",
       "      <td>9</td>\n",
       "      <td>14,581.00</td>\n",
       "    </tr>\n",
       "    <tr>\n",
       "      <td>5</td>\n",
       "      <td>1000</td>\n",
       "      <td>10</td>\n",
       "      <td>14,717.00</td>\n",
       "    </tr>\n",
       "    <tr>\n",
       "      <td>6</td>\n",
       "      <td>1000</td>\n",
       "      <td>11</td>\n",
       "      <td>14,768.00</td>\n",
       "    </tr>\n",
       "    <tr>\n",
       "      <td>7</td>\n",
       "      <td>1000</td>\n",
       "      <td>12</td>\n",
       "      <td>9,827.00</td>\n",
       "    </tr>\n",
       "    <tr>\n",
       "      <td>8</td>\n",
       "      <td>1001</td>\n",
       "      <td>11</td>\n",
       "      <td>18,452.00</td>\n",
       "    </tr>\n",
       "    <tr>\n",
       "      <td>9</td>\n",
       "      <td>1001</td>\n",
       "      <td>12</td>\n",
       "      <td>14,053.00</td>\n",
       "    </tr>\n",
       "    <tr>\n",
       "      <td>10</td>\n",
       "      <td>1002</td>\n",
       "      <td>6</td>\n",
       "      <td>10,871.00</td>\n",
       "    </tr>\n",
       "    <tr>\n",
       "      <td>11</td>\n",
       "      <td>1002</td>\n",
       "      <td>7</td>\n",
       "      <td>17,601.00</td>\n",
       "    </tr>\n",
       "    <tr>\n",
       "      <td>12</td>\n",
       "      <td>1002</td>\n",
       "      <td>8</td>\n",
       "      <td>20,347.00</td>\n",
       "    </tr>\n",
       "    <tr>\n",
       "      <td>13</td>\n",
       "      <td>1002</td>\n",
       "      <td>9</td>\n",
       "      <td>16,712.00</td>\n",
       "    </tr>\n",
       "    <tr>\n",
       "      <td>14</td>\n",
       "      <td>1002</td>\n",
       "      <td>10</td>\n",
       "      <td>13,905.00</td>\n",
       "    </tr>\n",
       "  </tbody>\n",
       "</table>\n",
       "</div>"
      ],
      "text/plain": [
       "    user_id  month  mb_total_in_month\n",
       "0      1000      5           2,256.00\n",
       "1      1000      6          23,257.00\n",
       "2      1000      7          14,016.00\n",
       "3      1000      8          14,070.00\n",
       "4      1000      9          14,581.00\n",
       "5      1000     10          14,717.00\n",
       "6      1000     11          14,768.00\n",
       "7      1000     12           9,827.00\n",
       "8      1001     11          18,452.00\n",
       "9      1001     12          14,053.00\n",
       "10     1002      6          10,871.00\n",
       "11     1002      7          17,601.00\n",
       "12     1002      8          20,347.00\n",
       "13     1002      9          16,712.00\n",
       "14     1002     10          13,905.00"
      ]
     },
     "execution_count": 47,
     "metadata": {},
     "output_type": "execute_result"
    }
   ],
   "source": [
    "user_internet.head(15)"
   ]
  },
  {
   "cell_type": "markdown",
   "metadata": {},
   "source": [
    "Посчитали бъем израсходованного интернет-трафика по месяцам"
   ]
  },
  {
   "cell_type": "markdown",
   "metadata": {},
   "source": [
    "Посчитаем месячную выручку каждого пользователя"
   ]
  },
  {
   "cell_type": "code",
   "execution_count": 48,
   "metadata": {},
   "outputs": [],
   "source": [
    "income = user_calls.merge(user_messages, on=['user_id','month'], how='outer')"
   ]
  },
  {
   "cell_type": "code",
   "execution_count": 49,
   "metadata": {},
   "outputs": [
    {
     "data": {
      "text/html": [
       "<div>\n",
       "<style scoped>\n",
       "    .dataframe tbody tr th:only-of-type {\n",
       "        vertical-align: middle;\n",
       "    }\n",
       "\n",
       "    .dataframe tbody tr th {\n",
       "        vertical-align: top;\n",
       "    }\n",
       "\n",
       "    .dataframe thead th {\n",
       "        text-align: right;\n",
       "    }\n",
       "</style>\n",
       "<table border=\"1\" class=\"dataframe\">\n",
       "  <thead>\n",
       "    <tr style=\"text-align: right;\">\n",
       "      <th></th>\n",
       "      <th>user_id</th>\n",
       "      <th>month</th>\n",
       "      <th>month_calls_duration</th>\n",
       "      <th>calls_total_in_month</th>\n",
       "      <th>sms_total_in_month</th>\n",
       "    </tr>\n",
       "  </thead>\n",
       "  <tbody>\n",
       "    <tr>\n",
       "      <td>0</td>\n",
       "      <td>1000</td>\n",
       "      <td>5</td>\n",
       "      <td>159.00</td>\n",
       "      <td>22.00</td>\n",
       "      <td>22.00</td>\n",
       "    </tr>\n",
       "    <tr>\n",
       "      <td>1</td>\n",
       "      <td>1000</td>\n",
       "      <td>6</td>\n",
       "      <td>172.00</td>\n",
       "      <td>43.00</td>\n",
       "      <td>60.00</td>\n",
       "    </tr>\n",
       "    <tr>\n",
       "      <td>2</td>\n",
       "      <td>1000</td>\n",
       "      <td>7</td>\n",
       "      <td>340.00</td>\n",
       "      <td>47.00</td>\n",
       "      <td>75.00</td>\n",
       "    </tr>\n",
       "    <tr>\n",
       "      <td>3</td>\n",
       "      <td>1000</td>\n",
       "      <td>8</td>\n",
       "      <td>408.00</td>\n",
       "      <td>52.00</td>\n",
       "      <td>81.00</td>\n",
       "    </tr>\n",
       "    <tr>\n",
       "      <td>4</td>\n",
       "      <td>1000</td>\n",
       "      <td>9</td>\n",
       "      <td>466.00</td>\n",
       "      <td>58.00</td>\n",
       "      <td>57.00</td>\n",
       "    </tr>\n",
       "  </tbody>\n",
       "</table>\n",
       "</div>"
      ],
      "text/plain": [
       "   user_id  month  month_calls_duration  calls_total_in_month  \\\n",
       "0     1000      5                159.00                 22.00   \n",
       "1     1000      6                172.00                 43.00   \n",
       "2     1000      7                340.00                 47.00   \n",
       "3     1000      8                408.00                 52.00   \n",
       "4     1000      9                466.00                 58.00   \n",
       "\n",
       "   sms_total_in_month  \n",
       "0               22.00  \n",
       "1               60.00  \n",
       "2               75.00  \n",
       "3               81.00  \n",
       "4               57.00  "
      ]
     },
     "execution_count": 49,
     "metadata": {},
     "output_type": "execute_result"
    }
   ],
   "source": [
    "income.head()"
   ]
  },
  {
   "cell_type": "code",
   "execution_count": 50,
   "metadata": {},
   "outputs": [],
   "source": [
    "income = income.merge(user_internet, on=['user_id','month'], how = 'outer')"
   ]
  },
  {
   "cell_type": "code",
   "execution_count": 51,
   "metadata": {},
   "outputs": [
    {
     "data": {
      "text/html": [
       "<div>\n",
       "<style scoped>\n",
       "    .dataframe tbody tr th:only-of-type {\n",
       "        vertical-align: middle;\n",
       "    }\n",
       "\n",
       "    .dataframe tbody tr th {\n",
       "        vertical-align: top;\n",
       "    }\n",
       "\n",
       "    .dataframe thead th {\n",
       "        text-align: right;\n",
       "    }\n",
       "</style>\n",
       "<table border=\"1\" class=\"dataframe\">\n",
       "  <thead>\n",
       "    <tr style=\"text-align: right;\">\n",
       "      <th></th>\n",
       "      <th>user_id</th>\n",
       "      <th>month</th>\n",
       "      <th>month_calls_duration</th>\n",
       "      <th>calls_total_in_month</th>\n",
       "      <th>sms_total_in_month</th>\n",
       "      <th>mb_total_in_month</th>\n",
       "    </tr>\n",
       "  </thead>\n",
       "  <tbody>\n",
       "    <tr>\n",
       "      <td>0</td>\n",
       "      <td>1000</td>\n",
       "      <td>5</td>\n",
       "      <td>159.00</td>\n",
       "      <td>22.00</td>\n",
       "      <td>22.00</td>\n",
       "      <td>2,256.00</td>\n",
       "    </tr>\n",
       "    <tr>\n",
       "      <td>1</td>\n",
       "      <td>1000</td>\n",
       "      <td>6</td>\n",
       "      <td>172.00</td>\n",
       "      <td>43.00</td>\n",
       "      <td>60.00</td>\n",
       "      <td>23,257.00</td>\n",
       "    </tr>\n",
       "    <tr>\n",
       "      <td>2</td>\n",
       "      <td>1000</td>\n",
       "      <td>7</td>\n",
       "      <td>340.00</td>\n",
       "      <td>47.00</td>\n",
       "      <td>75.00</td>\n",
       "      <td>14,016.00</td>\n",
       "    </tr>\n",
       "    <tr>\n",
       "      <td>3</td>\n",
       "      <td>1000</td>\n",
       "      <td>8</td>\n",
       "      <td>408.00</td>\n",
       "      <td>52.00</td>\n",
       "      <td>81.00</td>\n",
       "      <td>14,070.00</td>\n",
       "    </tr>\n",
       "    <tr>\n",
       "      <td>4</td>\n",
       "      <td>1000</td>\n",
       "      <td>9</td>\n",
       "      <td>466.00</td>\n",
       "      <td>58.00</td>\n",
       "      <td>57.00</td>\n",
       "      <td>14,581.00</td>\n",
       "    </tr>\n",
       "  </tbody>\n",
       "</table>\n",
       "</div>"
      ],
      "text/plain": [
       "   user_id  month  month_calls_duration  calls_total_in_month  \\\n",
       "0     1000      5                159.00                 22.00   \n",
       "1     1000      6                172.00                 43.00   \n",
       "2     1000      7                340.00                 47.00   \n",
       "3     1000      8                408.00                 52.00   \n",
       "4     1000      9                466.00                 58.00   \n",
       "\n",
       "   sms_total_in_month  mb_total_in_month  \n",
       "0               22.00           2,256.00  \n",
       "1               60.00          23,257.00  \n",
       "2               75.00          14,016.00  \n",
       "3               81.00          14,070.00  \n",
       "4               57.00          14,581.00  "
      ]
     },
     "execution_count": 51,
     "metadata": {},
     "output_type": "execute_result"
    }
   ],
   "source": [
    "income.head()"
   ]
  },
  {
   "cell_type": "code",
   "execution_count": 52,
   "metadata": {},
   "outputs": [
    {
     "data": {
      "text/html": [
       "<div>\n",
       "<style scoped>\n",
       "    .dataframe tbody tr th:only-of-type {\n",
       "        vertical-align: middle;\n",
       "    }\n",
       "\n",
       "    .dataframe tbody tr th {\n",
       "        vertical-align: top;\n",
       "    }\n",
       "\n",
       "    .dataframe thead th {\n",
       "        text-align: right;\n",
       "    }\n",
       "</style>\n",
       "<table border=\"1\" class=\"dataframe\">\n",
       "  <thead>\n",
       "    <tr style=\"text-align: right;\">\n",
       "      <th></th>\n",
       "      <th>user_id</th>\n",
       "      <th>month</th>\n",
       "      <th>month_calls_duration</th>\n",
       "      <th>calls_total_in_month</th>\n",
       "      <th>sms_total_in_month</th>\n",
       "      <th>mb_total_in_month</th>\n",
       "      <th>age</th>\n",
       "      <th>churn_date</th>\n",
       "      <th>city</th>\n",
       "      <th>first_name</th>\n",
       "      <th>last_name</th>\n",
       "      <th>reg_date</th>\n",
       "      <th>tariff</th>\n",
       "    </tr>\n",
       "  </thead>\n",
       "  <tbody>\n",
       "    <tr>\n",
       "      <td>0</td>\n",
       "      <td>1000</td>\n",
       "      <td>5</td>\n",
       "      <td>159.00</td>\n",
       "      <td>22.00</td>\n",
       "      <td>22.00</td>\n",
       "      <td>2,256.00</td>\n",
       "      <td>52</td>\n",
       "      <td>NaT</td>\n",
       "      <td>Краснодар</td>\n",
       "      <td>Рафаил</td>\n",
       "      <td>Верещагин</td>\n",
       "      <td>2018-05-25</td>\n",
       "      <td>ultra</td>\n",
       "    </tr>\n",
       "    <tr>\n",
       "      <td>1</td>\n",
       "      <td>1000</td>\n",
       "      <td>6</td>\n",
       "      <td>172.00</td>\n",
       "      <td>43.00</td>\n",
       "      <td>60.00</td>\n",
       "      <td>23,257.00</td>\n",
       "      <td>52</td>\n",
       "      <td>NaT</td>\n",
       "      <td>Краснодар</td>\n",
       "      <td>Рафаил</td>\n",
       "      <td>Верещагин</td>\n",
       "      <td>2018-05-25</td>\n",
       "      <td>ultra</td>\n",
       "    </tr>\n",
       "    <tr>\n",
       "      <td>2</td>\n",
       "      <td>1000</td>\n",
       "      <td>7</td>\n",
       "      <td>340.00</td>\n",
       "      <td>47.00</td>\n",
       "      <td>75.00</td>\n",
       "      <td>14,016.00</td>\n",
       "      <td>52</td>\n",
       "      <td>NaT</td>\n",
       "      <td>Краснодар</td>\n",
       "      <td>Рафаил</td>\n",
       "      <td>Верещагин</td>\n",
       "      <td>2018-05-25</td>\n",
       "      <td>ultra</td>\n",
       "    </tr>\n",
       "    <tr>\n",
       "      <td>3</td>\n",
       "      <td>1000</td>\n",
       "      <td>8</td>\n",
       "      <td>408.00</td>\n",
       "      <td>52.00</td>\n",
       "      <td>81.00</td>\n",
       "      <td>14,070.00</td>\n",
       "      <td>52</td>\n",
       "      <td>NaT</td>\n",
       "      <td>Краснодар</td>\n",
       "      <td>Рафаил</td>\n",
       "      <td>Верещагин</td>\n",
       "      <td>2018-05-25</td>\n",
       "      <td>ultra</td>\n",
       "    </tr>\n",
       "    <tr>\n",
       "      <td>4</td>\n",
       "      <td>1000</td>\n",
       "      <td>9</td>\n",
       "      <td>466.00</td>\n",
       "      <td>58.00</td>\n",
       "      <td>57.00</td>\n",
       "      <td>14,581.00</td>\n",
       "      <td>52</td>\n",
       "      <td>NaT</td>\n",
       "      <td>Краснодар</td>\n",
       "      <td>Рафаил</td>\n",
       "      <td>Верещагин</td>\n",
       "      <td>2018-05-25</td>\n",
       "      <td>ultra</td>\n",
       "    </tr>\n",
       "  </tbody>\n",
       "</table>\n",
       "</div>"
      ],
      "text/plain": [
       "   user_id  month  month_calls_duration  calls_total_in_month  \\\n",
       "0     1000      5                159.00                 22.00   \n",
       "1     1000      6                172.00                 43.00   \n",
       "2     1000      7                340.00                 47.00   \n",
       "3     1000      8                408.00                 52.00   \n",
       "4     1000      9                466.00                 58.00   \n",
       "\n",
       "   sms_total_in_month  mb_total_in_month  age churn_date       city  \\\n",
       "0               22.00           2,256.00   52        NaT  Краснодар   \n",
       "1               60.00          23,257.00   52        NaT  Краснодар   \n",
       "2               75.00          14,016.00   52        NaT  Краснодар   \n",
       "3               81.00          14,070.00   52        NaT  Краснодар   \n",
       "4               57.00          14,581.00   52        NaT  Краснодар   \n",
       "\n",
       "  first_name  last_name   reg_date tariff  \n",
       "0     Рафаил  Верещагин 2018-05-25  ultra  \n",
       "1     Рафаил  Верещагин 2018-05-25  ultra  \n",
       "2     Рафаил  Верещагин 2018-05-25  ultra  \n",
       "3     Рафаил  Верещагин 2018-05-25  ultra  \n",
       "4     Рафаил  Верещагин 2018-05-25  ultra  "
      ]
     },
     "execution_count": 52,
     "metadata": {},
     "output_type": "execute_result"
    }
   ],
   "source": [
    "income = income.merge(users, on='user_id', how='left')\n",
    "income.head()"
   ]
  },
  {
   "cell_type": "code",
   "execution_count": 53,
   "metadata": {},
   "outputs": [
    {
     "data": {
      "text/html": [
       "<div>\n",
       "<style scoped>\n",
       "    .dataframe tbody tr th:only-of-type {\n",
       "        vertical-align: middle;\n",
       "    }\n",
       "\n",
       "    .dataframe tbody tr th {\n",
       "        vertical-align: top;\n",
       "    }\n",
       "\n",
       "    .dataframe thead th {\n",
       "        text-align: right;\n",
       "    }\n",
       "</style>\n",
       "<table border=\"1\" class=\"dataframe\">\n",
       "  <thead>\n",
       "    <tr style=\"text-align: right;\">\n",
       "      <th></th>\n",
       "      <th>user_id</th>\n",
       "      <th>month</th>\n",
       "      <th>month_calls_duration</th>\n",
       "      <th>calls_total_in_month</th>\n",
       "      <th>sms_total_in_month</th>\n",
       "      <th>mb_total_in_month</th>\n",
       "      <th>age</th>\n",
       "      <th>churn_date</th>\n",
       "      <th>city</th>\n",
       "      <th>first_name</th>\n",
       "      <th>last_name</th>\n",
       "      <th>reg_date</th>\n",
       "      <th>tariff</th>\n",
       "      <th>messages_included</th>\n",
       "      <th>mb_per_month_included</th>\n",
       "      <th>minutes_included</th>\n",
       "      <th>rub_monthly_fee</th>\n",
       "      <th>rub_per_gb</th>\n",
       "      <th>rub_per_message</th>\n",
       "      <th>rub_per_minute</th>\n",
       "    </tr>\n",
       "  </thead>\n",
       "  <tbody>\n",
       "    <tr>\n",
       "      <td>0</td>\n",
       "      <td>1000</td>\n",
       "      <td>5</td>\n",
       "      <td>159.00</td>\n",
       "      <td>22.00</td>\n",
       "      <td>22.00</td>\n",
       "      <td>2,256.00</td>\n",
       "      <td>52</td>\n",
       "      <td>NaT</td>\n",
       "      <td>Краснодар</td>\n",
       "      <td>Рафаил</td>\n",
       "      <td>Верещагин</td>\n",
       "      <td>2018-05-25</td>\n",
       "      <td>ultra</td>\n",
       "      <td>1000</td>\n",
       "      <td>30720</td>\n",
       "      <td>3000</td>\n",
       "      <td>1950</td>\n",
       "      <td>150</td>\n",
       "      <td>1</td>\n",
       "      <td>1</td>\n",
       "    </tr>\n",
       "    <tr>\n",
       "      <td>1</td>\n",
       "      <td>1000</td>\n",
       "      <td>6</td>\n",
       "      <td>172.00</td>\n",
       "      <td>43.00</td>\n",
       "      <td>60.00</td>\n",
       "      <td>23,257.00</td>\n",
       "      <td>52</td>\n",
       "      <td>NaT</td>\n",
       "      <td>Краснодар</td>\n",
       "      <td>Рафаил</td>\n",
       "      <td>Верещагин</td>\n",
       "      <td>2018-05-25</td>\n",
       "      <td>ultra</td>\n",
       "      <td>1000</td>\n",
       "      <td>30720</td>\n",
       "      <td>3000</td>\n",
       "      <td>1950</td>\n",
       "      <td>150</td>\n",
       "      <td>1</td>\n",
       "      <td>1</td>\n",
       "    </tr>\n",
       "    <tr>\n",
       "      <td>2</td>\n",
       "      <td>1000</td>\n",
       "      <td>7</td>\n",
       "      <td>340.00</td>\n",
       "      <td>47.00</td>\n",
       "      <td>75.00</td>\n",
       "      <td>14,016.00</td>\n",
       "      <td>52</td>\n",
       "      <td>NaT</td>\n",
       "      <td>Краснодар</td>\n",
       "      <td>Рафаил</td>\n",
       "      <td>Верещагин</td>\n",
       "      <td>2018-05-25</td>\n",
       "      <td>ultra</td>\n",
       "      <td>1000</td>\n",
       "      <td>30720</td>\n",
       "      <td>3000</td>\n",
       "      <td>1950</td>\n",
       "      <td>150</td>\n",
       "      <td>1</td>\n",
       "      <td>1</td>\n",
       "    </tr>\n",
       "    <tr>\n",
       "      <td>3</td>\n",
       "      <td>1000</td>\n",
       "      <td>8</td>\n",
       "      <td>408.00</td>\n",
       "      <td>52.00</td>\n",
       "      <td>81.00</td>\n",
       "      <td>14,070.00</td>\n",
       "      <td>52</td>\n",
       "      <td>NaT</td>\n",
       "      <td>Краснодар</td>\n",
       "      <td>Рафаил</td>\n",
       "      <td>Верещагин</td>\n",
       "      <td>2018-05-25</td>\n",
       "      <td>ultra</td>\n",
       "      <td>1000</td>\n",
       "      <td>30720</td>\n",
       "      <td>3000</td>\n",
       "      <td>1950</td>\n",
       "      <td>150</td>\n",
       "      <td>1</td>\n",
       "      <td>1</td>\n",
       "    </tr>\n",
       "    <tr>\n",
       "      <td>4</td>\n",
       "      <td>1000</td>\n",
       "      <td>9</td>\n",
       "      <td>466.00</td>\n",
       "      <td>58.00</td>\n",
       "      <td>57.00</td>\n",
       "      <td>14,581.00</td>\n",
       "      <td>52</td>\n",
       "      <td>NaT</td>\n",
       "      <td>Краснодар</td>\n",
       "      <td>Рафаил</td>\n",
       "      <td>Верещагин</td>\n",
       "      <td>2018-05-25</td>\n",
       "      <td>ultra</td>\n",
       "      <td>1000</td>\n",
       "      <td>30720</td>\n",
       "      <td>3000</td>\n",
       "      <td>1950</td>\n",
       "      <td>150</td>\n",
       "      <td>1</td>\n",
       "      <td>1</td>\n",
       "    </tr>\n",
       "  </tbody>\n",
       "</table>\n",
       "</div>"
      ],
      "text/plain": [
       "   user_id  month  month_calls_duration  calls_total_in_month  \\\n",
       "0     1000      5                159.00                 22.00   \n",
       "1     1000      6                172.00                 43.00   \n",
       "2     1000      7                340.00                 47.00   \n",
       "3     1000      8                408.00                 52.00   \n",
       "4     1000      9                466.00                 58.00   \n",
       "\n",
       "   sms_total_in_month  mb_total_in_month  age churn_date       city  \\\n",
       "0               22.00           2,256.00   52        NaT  Краснодар   \n",
       "1               60.00          23,257.00   52        NaT  Краснодар   \n",
       "2               75.00          14,016.00   52        NaT  Краснодар   \n",
       "3               81.00          14,070.00   52        NaT  Краснодар   \n",
       "4               57.00          14,581.00   52        NaT  Краснодар   \n",
       "\n",
       "  first_name  last_name   reg_date tariff  messages_included  \\\n",
       "0     Рафаил  Верещагин 2018-05-25  ultra               1000   \n",
       "1     Рафаил  Верещагин 2018-05-25  ultra               1000   \n",
       "2     Рафаил  Верещагин 2018-05-25  ultra               1000   \n",
       "3     Рафаил  Верещагин 2018-05-25  ultra               1000   \n",
       "4     Рафаил  Верещагин 2018-05-25  ultra               1000   \n",
       "\n",
       "   mb_per_month_included  minutes_included  rub_monthly_fee  rub_per_gb  \\\n",
       "0                  30720              3000             1950         150   \n",
       "1                  30720              3000             1950         150   \n",
       "2                  30720              3000             1950         150   \n",
       "3                  30720              3000             1950         150   \n",
       "4                  30720              3000             1950         150   \n",
       "\n",
       "   rub_per_message  rub_per_minute  \n",
       "0                1               1  \n",
       "1                1               1  \n",
       "2                1               1  \n",
       "3                1               1  \n",
       "4                1               1  "
      ]
     },
     "execution_count": 53,
     "metadata": {},
     "output_type": "execute_result"
    }
   ],
   "source": [
    "income = income.merge(tariffs, on='tariff', how='left')\n",
    "income.head()"
   ]
  },
  {
   "cell_type": "markdown",
   "metadata": {},
   "source": [
    "<div class=\"alert alert-block alert-success\">\n",
    "    \n",
    "\n",
    "### Комментарий от ревьюера v_1\n",
    "Отлично\n",
    "    \n",
    "Все отлично, данные объединены. Но лучше не заносить все в одну таблицу, данные о тарифных планах лучше хранить отдельно.\n",
    "    \n",
    "Также можно проверить результаты джойнов. Например, посчитать метрики в исходных таблицах и конечной\n",
    "</div>"
   ]
  },
  {
   "cell_type": "code",
   "execution_count": 54,
   "metadata": {},
   "outputs": [
    {
     "data": {
      "text/plain": [
       "user_id                     0\n",
       "month                       0\n",
       "month_calls_duration       40\n",
       "calls_total_in_month       40\n",
       "sms_total_in_month        497\n",
       "mb_total_in_month          11\n",
       "age                         0\n",
       "churn_date               3027\n",
       "city                        0\n",
       "first_name                  0\n",
       "last_name                   0\n",
       "reg_date                    0\n",
       "tariff                      0\n",
       "messages_included           0\n",
       "mb_per_month_included       0\n",
       "minutes_included            0\n",
       "rub_monthly_fee             0\n",
       "rub_per_gb                  0\n",
       "rub_per_message             0\n",
       "rub_per_minute              0\n",
       "dtype: int64"
      ]
     },
     "execution_count": 54,
     "metadata": {},
     "output_type": "execute_result"
    }
   ],
   "source": [
    "income.isna().sum()"
   ]
  },
  {
   "cell_type": "code",
   "execution_count": 55,
   "metadata": {},
   "outputs": [],
   "source": [
    "# Заменим Nan на нули \n",
    "income['sms_total_in_month'] = income['sms_total_in_month'].fillna(0)\n",
    "income['mb_total_in_month'] = income['mb_total_in_month'].fillna(0)\n",
    "income['month_calls_duration'] = income['month_calls_duration'].fillna(0)\n",
    "income['calls_total_in_month'] = income['calls_total_in_month'].fillna(0)"
   ]
  },
  {
   "cell_type": "markdown",
   "metadata": {},
   "source": [
    "<div class=\"alert alert-block alert-warning\">\n",
    "    \n",
    "\n",
    "### Комментарий от ревьюера v_1\n",
    "Рекомендация\n",
    "\n",
    "Не лишнее пояснить откуда взялись нули\n",
    "</div>"
   ]
  },
  {
   "cell_type": "markdown",
   "metadata": {},
   "source": [
    "<div class=\"alert alert-info\"> <b>Комментарий студента:</b> Написала </div>"
   ]
  },
  {
   "cell_type": "markdown",
   "metadata": {},
   "source": [
    "Есть люди, которые, возможно не пользуются своими сим картами, или какими-либо функциями, в силу того, что уехали и нет связи, можно заменить на нули."
   ]
  },
  {
   "cell_type": "code",
   "execution_count": 56,
   "metadata": {},
   "outputs": [
    {
     "data": {
      "text/plain": [
       "user_id                     0\n",
       "month                       0\n",
       "month_calls_duration        0\n",
       "calls_total_in_month        0\n",
       "sms_total_in_month          0\n",
       "mb_total_in_month           0\n",
       "age                         0\n",
       "churn_date               3027\n",
       "city                        0\n",
       "first_name                  0\n",
       "last_name                   0\n",
       "reg_date                    0\n",
       "tariff                      0\n",
       "messages_included           0\n",
       "mb_per_month_included       0\n",
       "minutes_included            0\n",
       "rub_monthly_fee             0\n",
       "rub_per_gb                  0\n",
       "rub_per_message             0\n",
       "rub_per_minute              0\n",
       "dtype: int64"
      ]
     },
     "execution_count": 56,
     "metadata": {},
     "output_type": "execute_result"
    }
   ],
   "source": [
    "income.isna().sum()"
   ]
  },
  {
   "cell_type": "markdown",
   "metadata": {},
   "source": [
    "Всё получилось, можно перейти к созданию функции"
   ]
  },
  {
   "cell_type": "code",
   "execution_count": 57,
   "metadata": {},
   "outputs": [],
   "source": [
    "def above_the_tariff(row):\n",
    "    sms = (row['sms_total_in_month'] - row['messages_included']) * row['rub_per_message']\n",
    "    mins = (row['month_calls_duration'] - row['minutes_included']) * row['rub_per_minute']\n",
    "    mbs = np.floor((row['mb_total_in_month'] - row['mb_per_month_included']) * row['rub_per_gb'] / 1024)\n",
    "    total = 0\n",
    "    for i in [sms, mins, mbs]:\n",
    "        if i > 0:\n",
    "            total += i\n",
    "    return total\n",
    "\n",
    "income['above_the_tariff'] = income.apply(lambda x: above_the_tariff(x), axis=1)"
   ]
  },
  {
   "cell_type": "markdown",
   "metadata": {},
   "source": [
    "<div class=\"alert alert-block alert-success\">\n",
    "    \n",
    "\n",
    "### Комментарий от ревьюера v_1\n",
    "Отлично\n",
    "    \n",
    "Отличная функция, элегантное решение обработать отрицательные значения 👍🏻\n",
    "</div>"
   ]
  },
  {
   "cell_type": "code",
   "execution_count": 58,
   "metadata": {},
   "outputs": [],
   "source": [
    "income['total_income'] = income['rub_monthly_fee'] + income['above_the_tariff']"
   ]
  },
  {
   "cell_type": "code",
   "execution_count": 59,
   "metadata": {},
   "outputs": [
    {
     "data": {
      "text/html": [
       "<div>\n",
       "<style scoped>\n",
       "    .dataframe tbody tr th:only-of-type {\n",
       "        vertical-align: middle;\n",
       "    }\n",
       "\n",
       "    .dataframe tbody tr th {\n",
       "        vertical-align: top;\n",
       "    }\n",
       "\n",
       "    .dataframe thead th {\n",
       "        text-align: right;\n",
       "    }\n",
       "</style>\n",
       "<table border=\"1\" class=\"dataframe\">\n",
       "  <thead>\n",
       "    <tr style=\"text-align: right;\">\n",
       "      <th></th>\n",
       "      <th>user_id</th>\n",
       "      <th>month</th>\n",
       "      <th>month_calls_duration</th>\n",
       "      <th>calls_total_in_month</th>\n",
       "      <th>sms_total_in_month</th>\n",
       "      <th>mb_total_in_month</th>\n",
       "      <th>age</th>\n",
       "      <th>churn_date</th>\n",
       "      <th>city</th>\n",
       "      <th>first_name</th>\n",
       "      <th>last_name</th>\n",
       "      <th>reg_date</th>\n",
       "      <th>tariff</th>\n",
       "      <th>messages_included</th>\n",
       "      <th>mb_per_month_included</th>\n",
       "      <th>minutes_included</th>\n",
       "      <th>rub_monthly_fee</th>\n",
       "      <th>rub_per_gb</th>\n",
       "      <th>rub_per_message</th>\n",
       "      <th>rub_per_minute</th>\n",
       "      <th>above_the_tariff</th>\n",
       "      <th>total_income</th>\n",
       "    </tr>\n",
       "  </thead>\n",
       "  <tbody>\n",
       "    <tr>\n",
       "      <td>2312</td>\n",
       "      <td>1372</td>\n",
       "      <td>7</td>\n",
       "      <td>380.00</td>\n",
       "      <td>58.00</td>\n",
       "      <td>41.00</td>\n",
       "      <td>13,674.00</td>\n",
       "      <td>71</td>\n",
       "      <td>NaT</td>\n",
       "      <td>Магнитогорск</td>\n",
       "      <td>Лидия</td>\n",
       "      <td>Авраамова</td>\n",
       "      <td>2018-01-23</td>\n",
       "      <td>smart</td>\n",
       "      <td>50</td>\n",
       "      <td>15360</td>\n",
       "      <td>500</td>\n",
       "      <td>550</td>\n",
       "      <td>200</td>\n",
       "      <td>3</td>\n",
       "      <td>3</td>\n",
       "      <td>0.00</td>\n",
       "      <td>550.00</td>\n",
       "    </tr>\n",
       "    <tr>\n",
       "      <td>420</td>\n",
       "      <td>1065</td>\n",
       "      <td>12</td>\n",
       "      <td>134.00</td>\n",
       "      <td>22.00</td>\n",
       "      <td>18.00</td>\n",
       "      <td>6,048.00</td>\n",
       "      <td>53</td>\n",
       "      <td>2018-12-09</td>\n",
       "      <td>Москва</td>\n",
       "      <td>Роза</td>\n",
       "      <td>Игнатова</td>\n",
       "      <td>2018-03-08</td>\n",
       "      <td>smart</td>\n",
       "      <td>50</td>\n",
       "      <td>15360</td>\n",
       "      <td>500</td>\n",
       "      <td>550</td>\n",
       "      <td>200</td>\n",
       "      <td>3</td>\n",
       "      <td>3</td>\n",
       "      <td>0.00</td>\n",
       "      <td>550.00</td>\n",
       "    </tr>\n",
       "    <tr>\n",
       "      <td>421</td>\n",
       "      <td>1066</td>\n",
       "      <td>6</td>\n",
       "      <td>184.00</td>\n",
       "      <td>24.00</td>\n",
       "      <td>14.00</td>\n",
       "      <td>4,681.00</td>\n",
       "      <td>47</td>\n",
       "      <td>NaT</td>\n",
       "      <td>Астрахань</td>\n",
       "      <td>Исак</td>\n",
       "      <td>Малахов</td>\n",
       "      <td>2018-06-24</td>\n",
       "      <td>smart</td>\n",
       "      <td>50</td>\n",
       "      <td>15360</td>\n",
       "      <td>500</td>\n",
       "      <td>550</td>\n",
       "      <td>200</td>\n",
       "      <td>3</td>\n",
       "      <td>3</td>\n",
       "      <td>0.00</td>\n",
       "      <td>550.00</td>\n",
       "    </tr>\n",
       "    <tr>\n",
       "      <td>1192</td>\n",
       "      <td>1188</td>\n",
       "      <td>4</td>\n",
       "      <td>35.00</td>\n",
       "      <td>3.00</td>\n",
       "      <td>5.00</td>\n",
       "      <td>8,933.00</td>\n",
       "      <td>41</td>\n",
       "      <td>NaT</td>\n",
       "      <td>Санкт-Петербург</td>\n",
       "      <td>Габриэль</td>\n",
       "      <td>Соколов</td>\n",
       "      <td>2018-02-04</td>\n",
       "      <td>smart</td>\n",
       "      <td>50</td>\n",
       "      <td>15360</td>\n",
       "      <td>500</td>\n",
       "      <td>550</td>\n",
       "      <td>200</td>\n",
       "      <td>3</td>\n",
       "      <td>3</td>\n",
       "      <td>0.00</td>\n",
       "      <td>550.00</td>\n",
       "    </tr>\n",
       "    <tr>\n",
       "      <td>1191</td>\n",
       "      <td>1188</td>\n",
       "      <td>3</td>\n",
       "      <td>46.00</td>\n",
       "      <td>6.00</td>\n",
       "      <td>9.00</td>\n",
       "      <td>12,796.00</td>\n",
       "      <td>41</td>\n",
       "      <td>NaT</td>\n",
       "      <td>Санкт-Петербург</td>\n",
       "      <td>Габриэль</td>\n",
       "      <td>Соколов</td>\n",
       "      <td>2018-02-04</td>\n",
       "      <td>smart</td>\n",
       "      <td>50</td>\n",
       "      <td>15360</td>\n",
       "      <td>500</td>\n",
       "      <td>550</td>\n",
       "      <td>200</td>\n",
       "      <td>3</td>\n",
       "      <td>3</td>\n",
       "      <td>0.00</td>\n",
       "      <td>550.00</td>\n",
       "    </tr>\n",
       "    <tr>\n",
       "      <td>...</td>\n",
       "      <td>...</td>\n",
       "      <td>...</td>\n",
       "      <td>...</td>\n",
       "      <td>...</td>\n",
       "      <td>...</td>\n",
       "      <td>...</td>\n",
       "      <td>...</td>\n",
       "      <td>...</td>\n",
       "      <td>...</td>\n",
       "      <td>...</td>\n",
       "      <td>...</td>\n",
       "      <td>...</td>\n",
       "      <td>...</td>\n",
       "      <td>...</td>\n",
       "      <td>...</td>\n",
       "      <td>...</td>\n",
       "      <td>...</td>\n",
       "      <td>...</td>\n",
       "      <td>...</td>\n",
       "      <td>...</td>\n",
       "      <td>...</td>\n",
       "      <td>...</td>\n",
       "    </tr>\n",
       "    <tr>\n",
       "      <td>1793</td>\n",
       "      <td>1286</td>\n",
       "      <td>12</td>\n",
       "      <td>739.00</td>\n",
       "      <td>95.00</td>\n",
       "      <td>68.00</td>\n",
       "      <td>35,151.00</td>\n",
       "      <td>19</td>\n",
       "      <td>NaT</td>\n",
       "      <td>Москва</td>\n",
       "      <td>Рашид</td>\n",
       "      <td>Троицкий</td>\n",
       "      <td>2018-11-27</td>\n",
       "      <td>smart</td>\n",
       "      <td>50</td>\n",
       "      <td>15360</td>\n",
       "      <td>500</td>\n",
       "      <td>550</td>\n",
       "      <td>200</td>\n",
       "      <td>3</td>\n",
       "      <td>3</td>\n",
       "      <td>4,636.00</td>\n",
       "      <td>5,186.00</td>\n",
       "    </tr>\n",
       "    <tr>\n",
       "      <td>3105</td>\n",
       "      <td>1486</td>\n",
       "      <td>11</td>\n",
       "      <td>764.00</td>\n",
       "      <td>108.00</td>\n",
       "      <td>96.00</td>\n",
       "      <td>36,319.00</td>\n",
       "      <td>35</td>\n",
       "      <td>NaT</td>\n",
       "      <td>Нижний Новгород</td>\n",
       "      <td>Матвей</td>\n",
       "      <td>Моргунов</td>\n",
       "      <td>2018-10-31</td>\n",
       "      <td>smart</td>\n",
       "      <td>50</td>\n",
       "      <td>15360</td>\n",
       "      <td>500</td>\n",
       "      <td>550</td>\n",
       "      <td>200</td>\n",
       "      <td>3</td>\n",
       "      <td>3</td>\n",
       "      <td>5,023.00</td>\n",
       "      <td>5,573.00</td>\n",
       "    </tr>\n",
       "    <tr>\n",
       "      <td>260</td>\n",
       "      <td>1042</td>\n",
       "      <td>12</td>\n",
       "      <td>728.00</td>\n",
       "      <td>121.00</td>\n",
       "      <td>75.00</td>\n",
       "      <td>37,219.00</td>\n",
       "      <td>42</td>\n",
       "      <td>NaT</td>\n",
       "      <td>Хабаровск</td>\n",
       "      <td>Константин</td>\n",
       "      <td>Добрынин</td>\n",
       "      <td>2018-11-25</td>\n",
       "      <td>smart</td>\n",
       "      <td>50</td>\n",
       "      <td>15360</td>\n",
       "      <td>500</td>\n",
       "      <td>550</td>\n",
       "      <td>200</td>\n",
       "      <td>3</td>\n",
       "      <td>3</td>\n",
       "      <td>5,028.00</td>\n",
       "      <td>5,578.00</td>\n",
       "    </tr>\n",
       "    <tr>\n",
       "      <td>1622</td>\n",
       "      <td>1261</td>\n",
       "      <td>12</td>\n",
       "      <td>1,074.00</td>\n",
       "      <td>141.00</td>\n",
       "      <td>22.00</td>\n",
       "      <td>32,697.00</td>\n",
       "      <td>46</td>\n",
       "      <td>NaT</td>\n",
       "      <td>Казань</td>\n",
       "      <td>Мадина</td>\n",
       "      <td>Пантелеева</td>\n",
       "      <td>2018-10-30</td>\n",
       "      <td>smart</td>\n",
       "      <td>50</td>\n",
       "      <td>15360</td>\n",
       "      <td>500</td>\n",
       "      <td>550</td>\n",
       "      <td>200</td>\n",
       "      <td>3</td>\n",
       "      <td>3</td>\n",
       "      <td>5,108.00</td>\n",
       "      <td>5,658.00</td>\n",
       "    </tr>\n",
       "    <tr>\n",
       "      <td>3106</td>\n",
       "      <td>1486</td>\n",
       "      <td>12</td>\n",
       "      <td>1,007.00</td>\n",
       "      <td>133.00</td>\n",
       "      <td>83.00</td>\n",
       "      <td>38,610.00</td>\n",
       "      <td>35</td>\n",
       "      <td>NaT</td>\n",
       "      <td>Нижний Новгород</td>\n",
       "      <td>Матвей</td>\n",
       "      <td>Моргунов</td>\n",
       "      <td>2018-10-31</td>\n",
       "      <td>smart</td>\n",
       "      <td>50</td>\n",
       "      <td>15360</td>\n",
       "      <td>500</td>\n",
       "      <td>550</td>\n",
       "      <td>200</td>\n",
       "      <td>3</td>\n",
       "      <td>3</td>\n",
       "      <td>6,161.00</td>\n",
       "      <td>6,711.00</td>\n",
       "    </tr>\n",
       "  </tbody>\n",
       "</table>\n",
       "<p>3214 rows × 22 columns</p>\n",
       "</div>"
      ],
      "text/plain": [
       "      user_id  month  month_calls_duration  calls_total_in_month  \\\n",
       "2312     1372      7                380.00                 58.00   \n",
       "420      1065     12                134.00                 22.00   \n",
       "421      1066      6                184.00                 24.00   \n",
       "1192     1188      4                 35.00                  3.00   \n",
       "1191     1188      3                 46.00                  6.00   \n",
       "...       ...    ...                   ...                   ...   \n",
       "1793     1286     12                739.00                 95.00   \n",
       "3105     1486     11                764.00                108.00   \n",
       "260      1042     12                728.00                121.00   \n",
       "1622     1261     12              1,074.00                141.00   \n",
       "3106     1486     12              1,007.00                133.00   \n",
       "\n",
       "      sms_total_in_month  mb_total_in_month  age churn_date             city  \\\n",
       "2312               41.00          13,674.00   71        NaT     Магнитогорск   \n",
       "420                18.00           6,048.00   53 2018-12-09           Москва   \n",
       "421                14.00           4,681.00   47        NaT        Астрахань   \n",
       "1192                5.00           8,933.00   41        NaT  Санкт-Петербург   \n",
       "1191                9.00          12,796.00   41        NaT  Санкт-Петербург   \n",
       "...                  ...                ...  ...        ...              ...   \n",
       "1793               68.00          35,151.00   19        NaT           Москва   \n",
       "3105               96.00          36,319.00   35        NaT  Нижний Новгород   \n",
       "260                75.00          37,219.00   42        NaT        Хабаровск   \n",
       "1622               22.00          32,697.00   46        NaT           Казань   \n",
       "3106               83.00          38,610.00   35        NaT  Нижний Новгород   \n",
       "\n",
       "      first_name   last_name   reg_date tariff  messages_included  \\\n",
       "2312       Лидия   Авраамова 2018-01-23  smart                 50   \n",
       "420         Роза    Игнатова 2018-03-08  smart                 50   \n",
       "421         Исак     Малахов 2018-06-24  smart                 50   \n",
       "1192    Габриэль     Соколов 2018-02-04  smart                 50   \n",
       "1191    Габриэль     Соколов 2018-02-04  smart                 50   \n",
       "...          ...         ...        ...    ...                ...   \n",
       "1793       Рашид    Троицкий 2018-11-27  smart                 50   \n",
       "3105      Матвей    Моргунов 2018-10-31  smart                 50   \n",
       "260   Константин    Добрынин 2018-11-25  smart                 50   \n",
       "1622      Мадина  Пантелеева 2018-10-30  smart                 50   \n",
       "3106      Матвей    Моргунов 2018-10-31  smart                 50   \n",
       "\n",
       "      mb_per_month_included  minutes_included  rub_monthly_fee  rub_per_gb  \\\n",
       "2312                  15360               500              550         200   \n",
       "420                   15360               500              550         200   \n",
       "421                   15360               500              550         200   \n",
       "1192                  15360               500              550         200   \n",
       "1191                  15360               500              550         200   \n",
       "...                     ...               ...              ...         ...   \n",
       "1793                  15360               500              550         200   \n",
       "3105                  15360               500              550         200   \n",
       "260                   15360               500              550         200   \n",
       "1622                  15360               500              550         200   \n",
       "3106                  15360               500              550         200   \n",
       "\n",
       "      rub_per_message  rub_per_minute  above_the_tariff  total_income  \n",
       "2312                3               3              0.00        550.00  \n",
       "420                 3               3              0.00        550.00  \n",
       "421                 3               3              0.00        550.00  \n",
       "1192                3               3              0.00        550.00  \n",
       "1191                3               3              0.00        550.00  \n",
       "...               ...             ...               ...           ...  \n",
       "1793                3               3          4,636.00      5,186.00  \n",
       "3105                3               3          5,023.00      5,573.00  \n",
       "260                 3               3          5,028.00      5,578.00  \n",
       "1622                3               3          5,108.00      5,658.00  \n",
       "3106                3               3          6,161.00      6,711.00  \n",
       "\n",
       "[3214 rows x 22 columns]"
      ]
     },
     "execution_count": 59,
     "metadata": {},
     "output_type": "execute_result"
    }
   ],
   "source": [
    "income.sort_values(by='total_income')"
   ]
  },
  {
   "cell_type": "markdown",
   "metadata": {},
   "source": [
    "В столбце total_income получили выручку по каждому клиенту"
   ]
  },
  {
   "cell_type": "markdown",
   "metadata": {},
   "source": [
    "<div class=\"alert alert-block alert-danger\">\n",
    "    \n",
    "\n",
    "### Комментарий от ревьюера v_1\n",
    "Критично\n",
    "\n",
    "Не хватает вывода по шагу подготовки данных\n",
    "</div>"
   ]
  },
  {
   "cell_type": "markdown",
   "metadata": {},
   "source": [
    "<div class=\"alert alert-info\"> <b>Комментарий студента:</b> Написала вывод </div>"
   ]
  },
  {
   "cell_type": "markdown",
   "metadata": {},
   "source": [
    "**Вывод**\n",
    "\n",
    "Все ошибки по значениям исправлены. Данные приведены к нужным типам.\n",
    "В целом c данными можно работать и строить гипотезы.\n",
    "\n"
   ]
  },
  {
   "cell_type": "markdown",
   "metadata": {},
   "source": [
    "##  Анализ данных"
   ]
  },
  {
   "cell_type": "markdown",
   "metadata": {},
   "source": [
    "Опишем клиентов оператора, исходя из выборки. Сколько минут разговора, сколько сообщений и какой объём интернет-трафика требуется пользователям каждого тарифа в месяц? Посчитаем среднее количество, дисперсию и стандартное отклонение. Построим гистограммы. Опишем распределения."
   ]
  },
  {
   "cell_type": "code",
   "execution_count": 60,
   "metadata": {},
   "outputs": [
    {
     "data": {
      "text/plain": [
       "smart    2229\n",
       "ultra     985\n",
       "Name: tariff, dtype: int64"
      ]
     },
     "execution_count": 60,
     "metadata": {},
     "output_type": "execute_result"
    }
   ],
   "source": [
    "income['tariff'].value_counts()"
   ]
  },
  {
   "cell_type": "code",
   "execution_count": 61,
   "metadata": {},
   "outputs": [
    {
     "data": {
      "text/plain": [
       "<matplotlib.axes._subplots.AxesSubplot at 0x7f5646a4b510>"
      ]
     },
     "execution_count": 61,
     "metadata": {},
     "output_type": "execute_result"
    },
    {
     "data": {
      "image/png": "[encoded data removed]",
      "text/plain": [
       "<Figure size 432x288 with 1 Axes>"
      ]
     },
     "metadata": {
      "needs_background": "light"
     },
     "output_type": "display_data"
    }
   ],
   "source": [
    "income[income['tariff'] == 'ultra']['total_income'].plot(kind='hist', bins=11)"
   ]
  },
  {
   "cell_type": "code",
   "execution_count": 62,
   "metadata": {},
   "outputs": [
    {
     "data": {
      "text/plain": [
       "<matplotlib.axes._subplots.AxesSubplot at 0x7f5645f6af10>"
      ]
     },
     "execution_count": 62,
     "metadata": {},
     "output_type": "execute_result"
    },
    {
     "data": {
      "image/png": "[encoded data removed]",
      "text/plain": [
       "<Figure size 432x288 with 1 Axes>"
      ]
     },
     "metadata": {
      "needs_background": "light"
     },
     "output_type": "display_data"
    }
   ],
   "source": [
    "income[income['tariff'] == 'smart']['total_income'].plot(kind='hist', bins=11)"
   ]
  },
  {
   "cell_type": "code",
   "execution_count": 63,
   "metadata": {},
   "outputs": [
    {
     "data": {
      "text/html": [
       "<div>\n",
       "<style scoped>\n",
       "    .dataframe tbody tr th:only-of-type {\n",
       "        vertical-align: middle;\n",
       "    }\n",
       "\n",
       "    .dataframe tbody tr th {\n",
       "        vertical-align: top;\n",
       "    }\n",
       "\n",
       "    .dataframe thead tr th {\n",
       "        text-align: left;\n",
       "    }\n",
       "\n",
       "    .dataframe thead tr:last-of-type th {\n",
       "        text-align: right;\n",
       "    }\n",
       "</style>\n",
       "<table border=\"1\" class=\"dataframe\">\n",
       "  <thead>\n",
       "    <tr>\n",
       "      <th></th>\n",
       "      <th colspan=\"4\" halign=\"left\">total_income</th>\n",
       "    </tr>\n",
       "    <tr>\n",
       "      <th></th>\n",
       "      <th>median</th>\n",
       "      <th>mean</th>\n",
       "      <th>var</th>\n",
       "      <th>std</th>\n",
       "    </tr>\n",
       "    <tr>\n",
       "      <th>tariff</th>\n",
       "      <th></th>\n",
       "      <th></th>\n",
       "      <th></th>\n",
       "      <th></th>\n",
       "    </tr>\n",
       "  </thead>\n",
       "  <tbody>\n",
       "    <tr>\n",
       "      <td>smart</td>\n",
       "      <td>959.00</td>\n",
       "      <td>1,233.06</td>\n",
       "      <td>620,225.60</td>\n",
       "      <td>787.54</td>\n",
       "    </tr>\n",
       "    <tr>\n",
       "      <td>ultra</td>\n",
       "      <td>1,950.00</td>\n",
       "      <td>2,060.46</td>\n",
       "      <td>126,869.45</td>\n",
       "      <td>356.19</td>\n",
       "    </tr>\n",
       "  </tbody>\n",
       "</table>\n",
       "</div>"
      ],
      "text/plain": [
       "       total_income                           \n",
       "             median     mean        var    std\n",
       "tariff                                        \n",
       "smart        959.00 1,233.06 620,225.60 787.54\n",
       "ultra      1,950.00 2,060.46 126,869.45 356.19"
      ]
     },
     "execution_count": 63,
     "metadata": {},
     "output_type": "execute_result"
    }
   ],
   "source": [
    "income.groupby('tariff')\\\n",
    "  .agg({'total_income':['median','mean','var','std']})\n",
    " "
   ]
  },
  {
   "cell_type": "markdown",
   "metadata": {},
   "source": [
    "Те, кто пользуются тарифом \"Ultra\", в основном укладываются в абонентскую плату. Вместе с тем, у пользователей \"Smart\" чаще платят выше абоненской платы."
   ]
  },
  {
   "cell_type": "code",
   "execution_count": 64,
   "metadata": {},
   "outputs": [
    {
     "data": {
      "text/html": [
       "<div>\n",
       "<style scoped>\n",
       "    .dataframe tbody tr th:only-of-type {\n",
       "        vertical-align: middle;\n",
       "    }\n",
       "\n",
       "    .dataframe tbody tr th {\n",
       "        vertical-align: top;\n",
       "    }\n",
       "\n",
       "    .dataframe thead tr th {\n",
       "        text-align: left;\n",
       "    }\n",
       "\n",
       "    .dataframe thead tr:last-of-type th {\n",
       "        text-align: right;\n",
       "    }\n",
       "</style>\n",
       "<table border=\"1\" class=\"dataframe\">\n",
       "  <thead>\n",
       "    <tr>\n",
       "      <th></th>\n",
       "      <th colspan=\"4\" halign=\"left\">month_calls_duration</th>\n",
       "    </tr>\n",
       "    <tr>\n",
       "      <th></th>\n",
       "      <th>median</th>\n",
       "      <th>mean</th>\n",
       "      <th>var</th>\n",
       "      <th>std</th>\n",
       "    </tr>\n",
       "    <tr>\n",
       "      <th>tariff</th>\n",
       "      <th></th>\n",
       "      <th></th>\n",
       "      <th></th>\n",
       "      <th></th>\n",
       "    </tr>\n",
       "  </thead>\n",
       "  <tbody>\n",
       "    <tr>\n",
       "      <td>smart</td>\n",
       "      <td>422.00</td>\n",
       "      <td>417.93</td>\n",
       "      <td>36,219.32</td>\n",
       "      <td>190.31</td>\n",
       "    </tr>\n",
       "    <tr>\n",
       "      <td>ultra</td>\n",
       "      <td>518.00</td>\n",
       "      <td>526.62</td>\n",
       "      <td>100,873.63</td>\n",
       "      <td>317.61</td>\n",
       "    </tr>\n",
       "  </tbody>\n",
       "</table>\n",
       "</div>"
      ],
      "text/plain": [
       "       month_calls_duration                         \n",
       "                     median   mean        var    std\n",
       "tariff                                              \n",
       "smart                422.00 417.93  36,219.32 190.31\n",
       "ultra                518.00 526.62 100,873.63 317.61"
      ]
     },
     "execution_count": 64,
     "metadata": {},
     "output_type": "execute_result"
    }
   ],
   "source": [
    "income.groupby('tariff')\\\n",
    "  .agg({'month_calls_duration':['median','mean','var','std']})"
   ]
  },
  {
   "cell_type": "code",
   "execution_count": 65,
   "metadata": {},
   "outputs": [
    {
     "data": {
      "text/plain": [
       "Text(0.5, 1.0, 'Smart — минуты разговора')"
      ]
     },
     "execution_count": 65,
     "metadata": {},
     "output_type": "execute_result"
    },
    {
     "data": {
      "image/png": "[encoded data removed]",
      "text/plain": [
       "<Figure size 432x288 with 1 Axes>"
      ]
     },
     "metadata": {
      "needs_background": "light"
     },
     "output_type": "display_data"
    }
   ],
   "source": [
    "income[income['tariff'] == 'smart']['month_calls_duration'].plot(kind='hist', bins=15)\n",
    "plt.title('Smart — минуты разговора')"
   ]
  },
  {
   "cell_type": "code",
   "execution_count": 66,
   "metadata": {},
   "outputs": [
    {
     "data": {
      "text/plain": [
       "Text(0.5, 1.0, 'Ultra — минуты разговора')"
      ]
     },
     "execution_count": 66,
     "metadata": {},
     "output_type": "execute_result"
    },
    {
     "data": {
      "image/png": "[encoded data removed]",
      "text/plain": [
       "<Figure size 432x288 with 1 Axes>"
      ]
     },
     "metadata": {
      "needs_background": "light"
     },
     "output_type": "display_data"
    }
   ],
   "source": [
    "income[income['tariff'] == 'ultra']['month_calls_duration'].plot(kind='hist', bins=11)\n",
    "plt.title('Ultra — минуты разговора')"
   ]
  },
  {
   "cell_type": "markdown",
   "metadata": {},
   "source": [
    "На тарифе Smart  в месяц в основном говорят около 450 минут, на тарифе Ultra примерно 550 минут в месяц. \n",
    "То есть на тарифе Smart укладываются в тариф, а на Ultra  остается запас. \n",
    "Среднее и медиана в целом сильно не различаются"
   ]
  },
  {
   "cell_type": "code",
   "execution_count": 67,
   "metadata": {},
   "outputs": [
    {
     "data": {
      "text/html": [
       "<div>\n",
       "<style scoped>\n",
       "    .dataframe tbody tr th:only-of-type {\n",
       "        vertical-align: middle;\n",
       "    }\n",
       "\n",
       "    .dataframe tbody tr th {\n",
       "        vertical-align: top;\n",
       "    }\n",
       "\n",
       "    .dataframe thead tr th {\n",
       "        text-align: left;\n",
       "    }\n",
       "\n",
       "    .dataframe thead tr:last-of-type th {\n",
       "        text-align: right;\n",
       "    }\n",
       "</style>\n",
       "<table border=\"1\" class=\"dataframe\">\n",
       "  <thead>\n",
       "    <tr>\n",
       "      <th></th>\n",
       "      <th colspan=\"4\" halign=\"left\">mb_total_in_month</th>\n",
       "    </tr>\n",
       "    <tr>\n",
       "      <th></th>\n",
       "      <th>median</th>\n",
       "      <th>mean</th>\n",
       "      <th>var</th>\n",
       "      <th>std</th>\n",
       "    </tr>\n",
       "    <tr>\n",
       "      <th>tariff</th>\n",
       "      <th></th>\n",
       "      <th></th>\n",
       "      <th></th>\n",
       "      <th></th>\n",
       "    </tr>\n",
       "  </thead>\n",
       "  <tbody>\n",
       "    <tr>\n",
       "      <td>smart</td>\n",
       "      <td>16,531.00</td>\n",
       "      <td>16,229.19</td>\n",
       "      <td>34,545,911.13</td>\n",
       "      <td>5,877.58</td>\n",
       "    </tr>\n",
       "    <tr>\n",
       "      <td>ultra</td>\n",
       "      <td>19,324.00</td>\n",
       "      <td>19,486.90</td>\n",
       "      <td>101,935,621.05</td>\n",
       "      <td>10,096.32</td>\n",
       "    </tr>\n",
       "  </tbody>\n",
       "</table>\n",
       "</div>"
      ],
      "text/plain": [
       "       mb_total_in_month                                   \n",
       "                  median      mean            var       std\n",
       "tariff                                                     \n",
       "smart          16,531.00 16,229.19  34,545,911.13  5,877.58\n",
       "ultra          19,324.00 19,486.90 101,935,621.05 10,096.32"
      ]
     },
     "execution_count": 67,
     "metadata": {},
     "output_type": "execute_result"
    }
   ],
   "source": [
    "income.groupby('tariff')\\\n",
    "  .agg({'mb_total_in_month':['median','mean','var','std']})\n",
    "  "
   ]
  },
  {
   "cell_type": "code",
   "execution_count": 68,
   "metadata": {},
   "outputs": [
    {
     "data": {
      "text/plain": [
       "Text(0.5, 1.0, 'Smart - объём интернет-трафика')"
      ]
     },
     "execution_count": 68,
     "metadata": {},
     "output_type": "execute_result"
    },
    {
     "data": {
      "image/png": "[encoded data removed]",
      "text/plain": [
       "<Figure size 432x288 with 1 Axes>"
      ]
     },
     "metadata": {
      "needs_background": "light"
     },
     "output_type": "display_data"
    }
   ],
   "source": [
    "income[income['tariff'] == 'smart']['mb_total_in_month'].plot(kind='hist', bins=12)\n",
    "plt.title('Smart - объём интернет-трафика')"
   ]
  },
  {
   "cell_type": "code",
   "execution_count": 69,
   "metadata": {},
   "outputs": [
    {
     "data": {
      "text/plain": [
       "Text(0.5, 1.0, 'Ultra - объём интернет-трафика')"
      ]
     },
     "execution_count": 69,
     "metadata": {},
     "output_type": "execute_result"
    },
    {
     "data": {
      "image/png": "[encoded data removed]",
      "text/plain": [
       "<Figure size 432x288 with 1 Axes>"
      ]
     },
     "metadata": {
      "needs_background": "light"
     },
     "output_type": "display_data"
    }
   ],
   "source": [
    "income[income['tariff'] == 'ultra']['mb_total_in_month'].plot(kind='hist', bins=12)\n",
    "plt.title('Ultra - объём интернет-трафика')"
   ]
  },
  {
   "cell_type": "markdown",
   "metadata": {},
   "source": [
    "Среднее и медиана приближены. На тарифе Smart  выходят за пределы тарифа в большей части, на тарифе Ultra имеется запас и сам разброс значений больше."
   ]
  },
  {
   "cell_type": "code",
   "execution_count": 70,
   "metadata": {},
   "outputs": [
    {
     "data": {
      "text/html": [
       "<div>\n",
       "<style scoped>\n",
       "    .dataframe tbody tr th:only-of-type {\n",
       "        vertical-align: middle;\n",
       "    }\n",
       "\n",
       "    .dataframe tbody tr th {\n",
       "        vertical-align: top;\n",
       "    }\n",
       "\n",
       "    .dataframe thead tr th {\n",
       "        text-align: left;\n",
       "    }\n",
       "\n",
       "    .dataframe thead tr:last-of-type th {\n",
       "        text-align: right;\n",
       "    }\n",
       "</style>\n",
       "<table border=\"1\" class=\"dataframe\">\n",
       "  <thead>\n",
       "    <tr>\n",
       "      <th></th>\n",
       "      <th colspan=\"4\" halign=\"left\">sms_total_in_month</th>\n",
       "    </tr>\n",
       "    <tr>\n",
       "      <th></th>\n",
       "      <th>median</th>\n",
       "      <th>mean</th>\n",
       "      <th>var</th>\n",
       "      <th>std</th>\n",
       "    </tr>\n",
       "    <tr>\n",
       "      <th>tariff</th>\n",
       "      <th></th>\n",
       "      <th></th>\n",
       "      <th></th>\n",
       "      <th></th>\n",
       "    </tr>\n",
       "  </thead>\n",
       "  <tbody>\n",
       "    <tr>\n",
       "      <td>smart</td>\n",
       "      <td>28.00</td>\n",
       "      <td>33.38</td>\n",
       "      <td>796.81</td>\n",
       "      <td>28.23</td>\n",
       "    </tr>\n",
       "    <tr>\n",
       "      <td>ultra</td>\n",
       "      <td>38.00</td>\n",
       "      <td>49.36</td>\n",
       "      <td>2,285.27</td>\n",
       "      <td>47.80</td>\n",
       "    </tr>\n",
       "  </tbody>\n",
       "</table>\n",
       "</div>"
      ],
      "text/plain": [
       "       sms_total_in_month                     \n",
       "                   median  mean      var   std\n",
       "tariff                                        \n",
       "smart               28.00 33.38   796.81 28.23\n",
       "ultra               38.00 49.36 2,285.27 47.80"
      ]
     },
     "execution_count": 70,
     "metadata": {},
     "output_type": "execute_result"
    }
   ],
   "source": [
    "income.groupby('tariff')\\\n",
    "  .agg({'sms_total_in_month':['median','mean','var','std']})\n",
    "  "
   ]
  },
  {
   "cell_type": "code",
   "execution_count": 71,
   "metadata": {},
   "outputs": [
    {
     "data": {
      "text/plain": [
       "Text(0.5, 1.0, 'Smart — sms в месяц')"
      ]
     },
     "execution_count": 71,
     "metadata": {},
     "output_type": "execute_result"
    },
    {
     "data": {
      "image/png": "[encoded data removed]",
      "text/plain": [
       "<Figure size 432x288 with 1 Axes>"
      ]
     },
     "metadata": {
      "needs_background": "light"
     },
     "output_type": "display_data"
    }
   ],
   "source": [
    "income[income['tariff'] == 'smart']['sms_total_in_month'].plot(kind='hist', bins=12)\n",
    "plt.title('Smart — sms в месяц')"
   ]
  },
  {
   "cell_type": "code",
   "execution_count": 72,
   "metadata": {},
   "outputs": [
    {
     "data": {
      "text/plain": [
       "Text(0.5, 1.0, 'Ultra — sms в месяц')"
      ]
     },
     "execution_count": 72,
     "metadata": {},
     "output_type": "execute_result"
    },
    {
     "data": {
      "image/png": "[encoded data removed]",
      "text/plain": [
       "<Figure size 432x288 with 1 Axes>"
      ]
     },
     "metadata": {
      "needs_background": "light"
     },
     "output_type": "display_data"
    }
   ],
   "source": [
    "income[income['tariff'] == 'ultra']['sms_total_in_month'].plot(kind='hist', bins=10)\n",
    "plt.title('Ultra — sms в месяц')"
   ]
  },
  {
   "cell_type": "markdown",
   "metadata": {},
   "source": [
    "Наблюдаем практически одинаковое поведение пользователей, закономерный тренд, сообщения перестают быть актуальными. Мессенджеры заменяют смс."
   ]
  },
  {
   "cell_type": "markdown",
   "metadata": {},
   "source": [
    "<div class=\"alert alert-block alert-success\">\n",
    "    \n",
    "\n",
    "### Комментарий от ревьюера v_1\n",
    "Отлично\n",
    "    \n",
    "Шаг выполнен отлично, можешь попробовать для наглядности размещать две гистограммы на одном графике. Если есть желание и время, можешь попробовать сделать данный пункт элегантнее и лаконичнее. Для этого выведи три гистограммы рядом друг с другом, на каждой гистограмме будут данные по звонкам, интернету и смскам для двух тарифов. \n",
    "    \n",
    "Чтобы вывести графики рядом друг с другом используются сабплоты. \n",
    "    \n",
    "Если хочешь научиться так делать, рекомендую ознакомиться со статьей, там отлично написано как ведет себя matplotlib\n",
    "    \n",
    "https://pyprog.pro/mpl/mpl_main_components.html\n",
    "</div>"
   ]
  },
  {
   "cell_type": "markdown",
   "metadata": {},
   "source": [
    "<div class=\"alert alert-info\"> <b>Комментарий студента:</b> Мне как совсем новичку пока так удобнее изучать гистограммы, но очень интересный метод, я его изучу на каникулах и буду использовать в новых проектах,  спасибо за информацию  </div>"
   ]
  },
  {
   "cell_type": "markdown",
   "metadata": {},
   "source": [
    "<div class=\"alert alert-block alert-danger\">\n",
    "    \n",
    "\n",
    "### Комментарий от ревьюера v_1\n",
    "Критично\n",
    "\n",
    "Не хватает вывода по шагу исследовательского анализа\n",
    "</div>"
   ]
  },
  {
   "cell_type": "markdown",
   "metadata": {},
   "source": [
    "**Вывод**\n",
    "\n",
    "В среднем пользователи тарифа ultra тратят 526 минут разговора в месяц из 3000 доступных, получается, что пользователи неохотно пользуются звонками и не тратят все доступные минуты.\n",
    "Пользователи отправляют очень мало сообщений в месяц и не тратят весь лимит сообщений.\n",
    "Что касается интернет трафика, - на тарифе Smart выходят за пределы тарифа в чаще, на тарифе Ultra имеется запас и сам разброс значений больше."
   ]
  },
  {
   "cell_type": "markdown",
   "metadata": {},
   "source": [
    "## Проверка гипотез"
   ]
  },
  {
   "cell_type": "markdown",
   "metadata": {},
   "source": [
    "* Cредняя выручка пользователей тарифов «Ультра» и «Смарт» различаются.\n",
    "\n",
    "* Cредняя выручка пользователей из Москвы отличается от выручки пользователей из других регионов."
   ]
  },
  {
   "cell_type": "markdown",
   "metadata": {},
   "source": [
    "Предлагаю использовать t-критерий Стьюдента, потому что  выборки независимы между собой.\n",
    "\n",
    "Гипотеза о равенстве средних двух генеральных совокупностей \n",
    "\n",
    "**Сформулируем гипотезы:**\n",
    "\n",
    "H0: выручка пользователей тарифов «Ultra» и «Smart» не различается\n",
    "\n",
    "H1: выручка пользователей тарифов «Ultra» и «Smart»» различается"
   ]
  },
  {
   "cell_type": "markdown",
   "metadata": {},
   "source": [
    "<div class=\"alert alert-block alert-success\">\n",
    "    \n",
    "\n",
    "### Комментарий от ревьюера v_1\n",
    "Отлично\n",
    "    \n",
    "Гипотезы сформулированы верно 👍🏻\n",
    "</div>"
   ]
  },
  {
   "cell_type": "code",
   "execution_count": 73,
   "metadata": {},
   "outputs": [
    {
     "data": {
      "text/html": [
       "<div>\n",
       "<style scoped>\n",
       "    .dataframe tbody tr th:only-of-type {\n",
       "        vertical-align: middle;\n",
       "    }\n",
       "\n",
       "    .dataframe tbody tr th {\n",
       "        vertical-align: top;\n",
       "    }\n",
       "\n",
       "    .dataframe thead th {\n",
       "        text-align: right;\n",
       "    }\n",
       "</style>\n",
       "<table border=\"1\" class=\"dataframe\">\n",
       "  <thead>\n",
       "    <tr style=\"text-align: right;\">\n",
       "      <th></th>\n",
       "      <th>user_id</th>\n",
       "      <th>month</th>\n",
       "      <th>month_calls_duration</th>\n",
       "      <th>calls_total_in_month</th>\n",
       "      <th>sms_total_in_month</th>\n",
       "      <th>mb_total_in_month</th>\n",
       "      <th>age</th>\n",
       "      <th>churn_date</th>\n",
       "      <th>city</th>\n",
       "      <th>first_name</th>\n",
       "      <th>last_name</th>\n",
       "      <th>reg_date</th>\n",
       "      <th>tariff</th>\n",
       "      <th>messages_included</th>\n",
       "      <th>mb_per_month_included</th>\n",
       "      <th>minutes_included</th>\n",
       "      <th>rub_monthly_fee</th>\n",
       "      <th>rub_per_gb</th>\n",
       "      <th>rub_per_message</th>\n",
       "      <th>rub_per_minute</th>\n",
       "      <th>above_the_tariff</th>\n",
       "      <th>total_income</th>\n",
       "    </tr>\n",
       "  </thead>\n",
       "  <tbody>\n",
       "    <tr>\n",
       "      <td>0</td>\n",
       "      <td>1000</td>\n",
       "      <td>5</td>\n",
       "      <td>159.00</td>\n",
       "      <td>22.00</td>\n",
       "      <td>22.00</td>\n",
       "      <td>2,256.00</td>\n",
       "      <td>52</td>\n",
       "      <td>NaT</td>\n",
       "      <td>Краснодар</td>\n",
       "      <td>Рафаил</td>\n",
       "      <td>Верещагин</td>\n",
       "      <td>2018-05-25</td>\n",
       "      <td>ultra</td>\n",
       "      <td>1000</td>\n",
       "      <td>30720</td>\n",
       "      <td>3000</td>\n",
       "      <td>1950</td>\n",
       "      <td>150</td>\n",
       "      <td>1</td>\n",
       "      <td>1</td>\n",
       "      <td>0.00</td>\n",
       "      <td>1,950.00</td>\n",
       "    </tr>\n",
       "    <tr>\n",
       "      <td>1</td>\n",
       "      <td>1000</td>\n",
       "      <td>6</td>\n",
       "      <td>172.00</td>\n",
       "      <td>43.00</td>\n",
       "      <td>60.00</td>\n",
       "      <td>23,257.00</td>\n",
       "      <td>52</td>\n",
       "      <td>NaT</td>\n",
       "      <td>Краснодар</td>\n",
       "      <td>Рафаил</td>\n",
       "      <td>Верещагин</td>\n",
       "      <td>2018-05-25</td>\n",
       "      <td>ultra</td>\n",
       "      <td>1000</td>\n",
       "      <td>30720</td>\n",
       "      <td>3000</td>\n",
       "      <td>1950</td>\n",
       "      <td>150</td>\n",
       "      <td>1</td>\n",
       "      <td>1</td>\n",
       "      <td>0.00</td>\n",
       "      <td>1,950.00</td>\n",
       "    </tr>\n",
       "    <tr>\n",
       "      <td>2</td>\n",
       "      <td>1000</td>\n",
       "      <td>7</td>\n",
       "      <td>340.00</td>\n",
       "      <td>47.00</td>\n",
       "      <td>75.00</td>\n",
       "      <td>14,016.00</td>\n",
       "      <td>52</td>\n",
       "      <td>NaT</td>\n",
       "      <td>Краснодар</td>\n",
       "      <td>Рафаил</td>\n",
       "      <td>Верещагин</td>\n",
       "      <td>2018-05-25</td>\n",
       "      <td>ultra</td>\n",
       "      <td>1000</td>\n",
       "      <td>30720</td>\n",
       "      <td>3000</td>\n",
       "      <td>1950</td>\n",
       "      <td>150</td>\n",
       "      <td>1</td>\n",
       "      <td>1</td>\n",
       "      <td>0.00</td>\n",
       "      <td>1,950.00</td>\n",
       "    </tr>\n",
       "    <tr>\n",
       "      <td>3</td>\n",
       "      <td>1000</td>\n",
       "      <td>8</td>\n",
       "      <td>408.00</td>\n",
       "      <td>52.00</td>\n",
       "      <td>81.00</td>\n",
       "      <td>14,070.00</td>\n",
       "      <td>52</td>\n",
       "      <td>NaT</td>\n",
       "      <td>Краснодар</td>\n",
       "      <td>Рафаил</td>\n",
       "      <td>Верещагин</td>\n",
       "      <td>2018-05-25</td>\n",
       "      <td>ultra</td>\n",
       "      <td>1000</td>\n",
       "      <td>30720</td>\n",
       "      <td>3000</td>\n",
       "      <td>1950</td>\n",
       "      <td>150</td>\n",
       "      <td>1</td>\n",
       "      <td>1</td>\n",
       "      <td>0.00</td>\n",
       "      <td>1,950.00</td>\n",
       "    </tr>\n",
       "    <tr>\n",
       "      <td>4</td>\n",
       "      <td>1000</td>\n",
       "      <td>9</td>\n",
       "      <td>466.00</td>\n",
       "      <td>58.00</td>\n",
       "      <td>57.00</td>\n",
       "      <td>14,581.00</td>\n",
       "      <td>52</td>\n",
       "      <td>NaT</td>\n",
       "      <td>Краснодар</td>\n",
       "      <td>Рафаил</td>\n",
       "      <td>Верещагин</td>\n",
       "      <td>2018-05-25</td>\n",
       "      <td>ultra</td>\n",
       "      <td>1000</td>\n",
       "      <td>30720</td>\n",
       "      <td>3000</td>\n",
       "      <td>1950</td>\n",
       "      <td>150</td>\n",
       "      <td>1</td>\n",
       "      <td>1</td>\n",
       "      <td>0.00</td>\n",
       "      <td>1,950.00</td>\n",
       "    </tr>\n",
       "  </tbody>\n",
       "</table>\n",
       "</div>"
      ],
      "text/plain": [
       "   user_id  month  month_calls_duration  calls_total_in_month  \\\n",
       "0     1000      5                159.00                 22.00   \n",
       "1     1000      6                172.00                 43.00   \n",
       "2     1000      7                340.00                 47.00   \n",
       "3     1000      8                408.00                 52.00   \n",
       "4     1000      9                466.00                 58.00   \n",
       "\n",
       "   sms_total_in_month  mb_total_in_month  age churn_date       city  \\\n",
       "0               22.00           2,256.00   52        NaT  Краснодар   \n",
       "1               60.00          23,257.00   52        NaT  Краснодар   \n",
       "2               75.00          14,016.00   52        NaT  Краснодар   \n",
       "3               81.00          14,070.00   52        NaT  Краснодар   \n",
       "4               57.00          14,581.00   52        NaT  Краснодар   \n",
       "\n",
       "  first_name  last_name   reg_date tariff  messages_included  \\\n",
       "0     Рафаил  Верещагин 2018-05-25  ultra               1000   \n",
       "1     Рафаил  Верещагин 2018-05-25  ultra               1000   \n",
       "2     Рафаил  Верещагин 2018-05-25  ultra               1000   \n",
       "3     Рафаил  Верещагин 2018-05-25  ultra               1000   \n",
       "4     Рафаил  Верещагин 2018-05-25  ultra               1000   \n",
       "\n",
       "   mb_per_month_included  minutes_included  rub_monthly_fee  rub_per_gb  \\\n",
       "0                  30720              3000             1950         150   \n",
       "1                  30720              3000             1950         150   \n",
       "2                  30720              3000             1950         150   \n",
       "3                  30720              3000             1950         150   \n",
       "4                  30720              3000             1950         150   \n",
       "\n",
       "   rub_per_message  rub_per_minute  above_the_tariff  total_income  \n",
       "0                1               1              0.00      1,950.00  \n",
       "1                1               1              0.00      1,950.00  \n",
       "2                1               1              0.00      1,950.00  \n",
       "3                1               1              0.00      1,950.00  \n",
       "4                1               1              0.00      1,950.00  "
      ]
     },
     "execution_count": 73,
     "metadata": {},
     "output_type": "execute_result"
    }
   ],
   "source": [
    "income.head()"
   ]
  },
  {
   "cell_type": "code",
   "execution_count": 74,
   "metadata": {},
   "outputs": [],
   "source": [
    "\n",
    "# Напишем функцию для удаления выбросов\n",
    "\n",
    "def outlier_removal(income, column, graphic=0, x = 10, y = 10):\n",
    "    q1 = income[column].quantile(0.25)                 \n",
    "    q3 = income[column].quantile(0.75)\n",
    "    iqr = q3 - q1\n",
    "    iqr_test = (income[column] >= (q1 - 1.5 * iqr)) & (income[column] <= (q3 + 1.5 * iqr))\n",
    "    if graphic == 1:\n",
    "        return income.loc[iqr_test].boxplot([column], figsize=(x,y))\n",
    "    else:\n",
    "        return income.loc[iqr_test]"
   ]
  },
  {
   "cell_type": "markdown",
   "metadata": {},
   "source": [
    "<div class=\"alert alert-block alert-warning\">\n",
    "    \n",
    "\n",
    "### Комментарий от ревьюера v_1\n",
    "Рекомендация\n",
    "\n",
    "Это не ошибка, но такие действия нужно аргументировать \n",
    "</div>"
   ]
  },
  {
   "cell_type": "code",
   "execution_count": 75,
   "metadata": {},
   "outputs": [],
   "source": [
    "ultra = income[income['tariff'] == 'ultra']\n",
    "smart = income[income['tariff'] == 'smart']"
   ]
  },
  {
   "cell_type": "code",
   "execution_count": 76,
   "metadata": {},
   "outputs": [],
   "source": [
    "ultra = outlier_removal(ultra, 'total_income', 0)\n",
    "ultra = ultra['total_income']"
   ]
  },
  {
   "cell_type": "code",
   "execution_count": 77,
   "metadata": {},
   "outputs": [],
   "source": [
    "smart = outlier_removal(smart, 'total_income', 0)\n",
    "smart = smart['total_income']"
   ]
  },
  {
   "cell_type": "code",
   "execution_count": 78,
   "metadata": {},
   "outputs": [],
   "source": [
    "alpha = 0.05"
   ]
  },
  {
   "cell_type": "code",
   "execution_count": 79,
   "metadata": {},
   "outputs": [],
   "source": [
    "results = st.ttest_ind(ultra, smart)"
   ]
  },
  {
   "cell_type": "code",
   "execution_count": 80,
   "metadata": {},
   "outputs": [
    {
     "name": "stdout",
     "output_type": "stream",
     "text": [
      "p-значение: 5.185572555361147e-201\n",
      "Отвергаем нулевую гипотезу\n"
     ]
    }
   ],
   "source": [
    "print('p-значение:', results.pvalue)\n",
    "\n",
    "if (results.pvalue < alpha):\n",
    "    print(\"Отвергаем нулевую гипотезу\")\n",
    "else:\n",
    "    print(\"Не получилось отвергнуть нулевую гипотезу\")"
   ]
  },
  {
   "cell_type": "markdown",
   "metadata": {},
   "source": [
    "Следовательно, наша гипотеза о том, что выручка различается - верна\n",
    "\n"
   ]
  },
  {
   "cell_type": "markdown",
   "metadata": {},
   "source": [
    "<div class=\"alert alert-block alert-warning\"> \n",
    "    \n",
    "\n",
    "### Комментарий от ревьюера v_1\n",
    "Рекомендация\n",
    "\n",
    "Я понимаю, что это может звучать немного занудно, но это действительно очень важно.Статистика не подтверждает гипотезу, а дает основание предполагать, что гипотеза верна или не верна\n",
    "    \n",
    "\n",
    "</div>"
   ]
  },
  {
   "cell_type": "markdown",
   "metadata": {},
   "source": [
    "Гипотеза о равенстве средних двух генеральных совокупностей №2\n",
    "\n",
    "**Сформулируем гипотезы:**\n",
    "\n",
    "H0: средняя выручка пользователей из Москвы не отличается от выручки пользователей из других регионов\n",
    "\n",
    "H1: средняя выручка пользователей из Москвы отличается от выручки пользователей из других регионов"
   ]
  },
  {
   "cell_type": "code",
   "execution_count": 81,
   "metadata": {},
   "outputs": [
    {
     "data": {
      "text/plain": [
       "array(['Краснодар', 'Москва', 'Стерлитамак', 'Новокузнецк',\n",
       "       'Набережные Челны', 'Ульяновск', 'Челябинск', 'Пермь', 'Тюмень',\n",
       "       'Самара', 'Санкт-Петербург', 'Иваново', 'Чебоксары', 'Омск', 'Уфа',\n",
       "       'Томск', 'Чита', 'Мурманск', 'Петрозаводск', 'Тверь',\n",
       "       'Екатеринбург', 'Махачкала', 'Вологда', 'Череповец', 'Ярославль',\n",
       "       'Сочи', 'Хабаровск', 'Ставрополь', 'Рязань', 'Улан-Удэ', 'Тула',\n",
       "       'Саратов', 'Ростов-на-Дону', 'Казань', 'Иркутск', 'Курск',\n",
       "       'Калуга', 'Якутск', 'Астрахань', 'Химки', 'Владикавказ',\n",
       "       'Волгоград', 'Саранск', 'Ижевск', 'Новосибирск', 'Брянск',\n",
       "       'Тольятти', 'Нижний Тагил', 'Орёл', 'Белгород', 'Воронеж',\n",
       "       'Курган', 'Барнаул', 'Красноярск', 'Архангельск', 'Липецк',\n",
       "       'Кемерово', 'Киров', 'Сургут', 'Пенза', 'Волжский', 'Магнитогорск',\n",
       "       'Нижний Новгород', 'Кострома', 'Владивосток', 'Тамбов', 'Балашиха',\n",
       "       'Севастополь', 'Калининград', 'Оренбург', 'Смоленск',\n",
       "       'Нижневартовск', 'Владимир', 'Новороссийск', 'Грозный', 'Подольск'],\n",
       "      dtype=object)"
      ]
     },
     "execution_count": 81,
     "metadata": {},
     "output_type": "execute_result"
    }
   ],
   "source": [
    "income['city'].unique()"
   ]
  },
  {
   "cell_type": "code",
   "execution_count": 82,
   "metadata": {},
   "outputs": [],
   "source": [
    "income['region'] = np.where(income['city'] == 'Москва', 'Москва', 'Провинция')"
   ]
  },
  {
   "cell_type": "code",
   "execution_count": 83,
   "metadata": {},
   "outputs": [],
   "source": [
    "moscow = income[income['region'] == 'Москва']\n",
    "province = income[income['region'] == 'Провинция']"
   ]
  },
  {
   "cell_type": "code",
   "execution_count": 84,
   "metadata": {},
   "outputs": [],
   "source": [
    "moscow = outlier_removal(moscow, 'total_income', 0)\n",
    "moscow = moscow['total_income']"
   ]
  },
  {
   "cell_type": "code",
   "execution_count": 85,
   "metadata": {},
   "outputs": [],
   "source": [
    "province = outlier_removal(province, 'total_income', 0)\n",
    "province = province['total_income']"
   ]
  },
  {
   "cell_type": "code",
   "execution_count": 86,
   "metadata": {},
   "outputs": [],
   "source": [
    "results = st.ttest_ind(moscow, province)"
   ]
  },
  {
   "cell_type": "code",
   "execution_count": 87,
   "metadata": {},
   "outputs": [
    {
     "name": "stdout",
     "output_type": "stream",
     "text": [
      "p-значение: 0.28033833372001987\n",
      "Не получилось отвергнуть нулевую гипотезу\n"
     ]
    }
   ],
   "source": [
    "print('p-значение:', results.pvalue)\n",
    "\n",
    "if (results.pvalue < alpha):\n",
    "    print(\"Отвергаем нулевую гипотезу\")\n",
    "else:\n",
    "    print(\"Не получилось отвергнуть нулевую гипотезу\")"
   ]
  },
  {
   "cell_type": "markdown",
   "metadata": {},
   "source": [
    "С вероятностью в 30%  результат может быть получен случайно. \n",
    "Значимых различий нет."
   ]
  },
  {
   "cell_type": "markdown",
   "metadata": {},
   "source": [
    "<div class=\"alert alert-block alert-success\">\n",
    "    \n",
    "\n",
    "### Комментарий от ревьюера v_1\n",
    "Отлично\n",
    "    \n",
    "Все расчеты верны\n",
    "</div>"
   ]
  },
  {
   "cell_type": "markdown",
   "metadata": {},
   "source": [
    "<div class=\"alert alert-block alert-danger\">\n",
    "    \n",
    "\n",
    "### Комментарий от ревьюера v_1\n",
    "Критично\n",
    "\n",
    "Не хватает вывода по шагу проверки гипотез\n",
    "</div>"
   ]
  },
  {
   "cell_type": "markdown",
   "metadata": {},
   "source": [
    "**Вывод**\n",
    "\n",
    "Проверены две гипотезы:\n",
    "\n",
    "Средняя выручка пользователей тарифов «Ultra» и «Smart» различается - подтвердилась.\n",
    "Средняя выручка пользователей из Москвы отличается от выручки пользователей из других регионов - не подтвердилась"
   ]
  },
  {
   "cell_type": "markdown",
   "metadata": {},
   "source": [
    "## Общие выводы"
   ]
  },
  {
   "cell_type": "markdown",
   "metadata": {},
   "source": [
    "В ходе проделанной работы было выполнено:\n",
    "\n",
    "1. Изучены данные и выявлены связи между таблицами.\n",
    "2. Заполнены пропуски и заменены типы данных для столцов.\n",
    "3. Проведен сравнительный анализ пользователей тарифов.\n",
    "4. Проверены гипотезы.\n",
    "5. Cделаны следующие выводы:\n",
    "\n",
    "* Предложенные тарифы сильно отличаются друг от друга и их выручка разнится.  Закономерно, что на разных тарифах поведение пользователей различается. На тарифе Smart в большей части люди переплачивают, это в последствии может привести к оттоку пользователей к другим операторам.\n",
    "\n",
    "* Smart не соответвует большинству пользователей практически по всем пунктам, на Ultra слишком много лимита по минутам и смс и перерасход может быть только по интернету . \n",
    "\n",
    "* Смс не актуальны на обоих тарифах. На тарифе Ultra остаются практически неизрасходованные лимиты, было бы приятно, если бы их можно было обменять,  например, на интернет. Выручка примерно одинакова как в Москве, так и в регионах. Связь востребована везде одинаково.\n",
    "Я бы посоветовала оператору подумать над тем, чтобы люди могли укладываться в границы абонентской платы.\n"
   ]
  },
  {
   "cell_type": "markdown",
   "metadata": {},
   "source": [
    "<div class=\"alert alert-block alert-warning\">\n",
    "    \n",
    "\n",
    "### Комментарий от ревьюера v_1\n",
    "Рекомендация\n",
    "\n",
    "Общий вывод хорош, но в него следует добавить наиболее важные промежуточные выводы и написать структурировано:\n",
    "    \n",
    "1.\n",
    "    \n",
    "2.\n",
    "    \n",
    "3.\n",
    "</div>"
   ]
  },
  {
   "cell_type": "markdown",
   "metadata": {},
   "source": [
    "<div class=\"alert alert-info\"> <b>Комментарий студента:</b> Вывод переделала </div>"
   ]
  },
  {
   "cell_type": "code",
   "execution_count": null,
   "metadata": {},
   "outputs": [],
   "source": []
  }
 ],
 "metadata": {
  "ExecuteTimeLog": [
   {
    "duration": 5,
    "start_time": "2021-12-26T16:12:59.828Z"
   },
   {
    "duration": 1552,
    "start_time": "2021-12-26T16:27:56.902Z"
   },
   {
    "duration": 8,
    "start_time": "2021-12-26T16:28:06.314Z"
   },
   {
    "duration": 4,
    "start_time": "2021-12-26T16:35:13.257Z"
   },
   {
    "duration": 5,
    "start_time": "2021-12-26T16:39:16.717Z"
   },
   {
    "duration": 735,
    "start_time": "2021-12-26T16:40:12.688Z"
   },
   {
    "duration": 4,
    "start_time": "2021-12-26T16:40:19.656Z"
   },
   {
    "duration": 715,
    "start_time": "2021-12-26T16:40:21.425Z"
   },
   {
    "duration": 5,
    "start_time": "2021-12-26T16:41:20.428Z"
   },
   {
    "duration": 26,
    "start_time": "2021-12-26T16:43:19.769Z"
   },
   {
    "duration": 33,
    "start_time": "2021-12-26T16:43:50.408Z"
   },
   {
    "duration": 62,
    "start_time": "2021-12-26T16:44:03.564Z"
   },
   {
    "duration": 23,
    "start_time": "2021-12-26T16:45:02.235Z"
   },
   {
    "duration": 24,
    "start_time": "2021-12-26T16:45:10.553Z"
   },
   {
    "duration": 52,
    "start_time": "2021-12-26T16:45:19.986Z"
   },
   {
    "duration": 13,
    "start_time": "2021-12-26T16:45:53.681Z"
   },
   {
    "duration": 11,
    "start_time": "2021-12-26T16:45:58.959Z"
   },
   {
    "duration": 25,
    "start_time": "2021-12-26T16:46:12.879Z"
   },
   {
    "duration": 20,
    "start_time": "2021-12-26T16:46:21.642Z"
   },
   {
    "duration": 17,
    "start_time": "2021-12-26T16:47:47.382Z"
   },
   {
    "duration": 9,
    "start_time": "2021-12-26T16:48:08.771Z"
   },
   {
    "duration": 42,
    "start_time": "2021-12-26T16:48:15.574Z"
   },
   {
    "duration": 20,
    "start_time": "2021-12-26T16:48:47.707Z"
   },
   {
    "duration": 13,
    "start_time": "2021-12-26T16:48:54.162Z"
   },
   {
    "duration": 35,
    "start_time": "2021-12-26T16:49:03.911Z"
   },
   {
    "duration": 92,
    "start_time": "2021-12-26T17:01:49.442Z"
   },
   {
    "duration": 111,
    "start_time": "2021-12-26T17:05:42.901Z"
   },
   {
    "duration": 14,
    "start_time": "2021-12-26T17:05:54.472Z"
   },
   {
    "duration": 12,
    "start_time": "2021-12-26T17:06:06.891Z"
   },
   {
    "duration": 11,
    "start_time": "2021-12-26T17:08:31.513Z"
   },
   {
    "duration": 31,
    "start_time": "2021-12-26T17:08:46.936Z"
   },
   {
    "duration": 17,
    "start_time": "2021-12-26T17:10:02.832Z"
   },
   {
    "duration": 25,
    "start_time": "2021-12-26T17:10:34.749Z"
   },
   {
    "duration": 15,
    "start_time": "2021-12-26T17:11:03.901Z"
   },
   {
    "duration": 193,
    "start_time": "2021-12-26T17:20:52.139Z"
   },
   {
    "duration": 214,
    "start_time": "2021-12-26T17:22:32.409Z"
   },
   {
    "duration": 137,
    "start_time": "2021-12-26T17:22:33.173Z"
   },
   {
    "duration": 183,
    "start_time": "2021-12-26T17:22:33.647Z"
   },
   {
    "duration": 521,
    "start_time": "2021-12-26T17:22:34.539Z"
   },
   {
    "duration": 1500,
    "start_time": "2021-12-26T17:22:42.750Z"
   },
   {
    "duration": 531,
    "start_time": "2021-12-26T17:22:44.253Z"
   },
   {
    "duration": 18,
    "start_time": "2021-12-26T17:22:44.788Z"
   },
   {
    "duration": 31,
    "start_time": "2021-12-26T17:22:44.810Z"
   },
   {
    "duration": 48,
    "start_time": "2021-12-26T17:22:44.845Z"
   },
   {
    "duration": 19,
    "start_time": "2021-12-26T17:22:44.896Z"
   },
   {
    "duration": 53,
    "start_time": "2021-12-26T17:22:44.917Z"
   },
   {
    "duration": 47,
    "start_time": "2021-12-26T17:22:44.973Z"
   },
   {
    "duration": 40,
    "start_time": "2021-12-26T17:22:45.024Z"
   },
   {
    "duration": 21,
    "start_time": "2021-12-26T17:22:45.069Z"
   },
   {
    "duration": 22,
    "start_time": "2021-12-26T17:22:45.093Z"
   },
   {
    "duration": 55,
    "start_time": "2021-12-26T17:22:45.117Z"
   },
   {
    "duration": 12,
    "start_time": "2021-12-26T17:22:45.176Z"
   },
   {
    "duration": 78,
    "start_time": "2021-12-26T17:22:45.191Z"
   },
   {
    "duration": 21,
    "start_time": "2021-12-26T17:22:45.272Z"
   },
   {
    "duration": 13,
    "start_time": "2021-12-26T17:22:45.296Z"
   },
   {
    "duration": 56,
    "start_time": "2021-12-26T17:22:45.312Z"
   },
   {
    "duration": 116,
    "start_time": "2021-12-26T17:22:45.371Z"
   },
   {
    "duration": 13,
    "start_time": "2021-12-26T17:22:45.490Z"
   },
   {
    "duration": 64,
    "start_time": "2021-12-26T17:22:45.505Z"
   },
   {
    "duration": 20,
    "start_time": "2021-12-26T17:22:45.572Z"
   },
   {
    "duration": 29,
    "start_time": "2021-12-26T17:22:45.595Z"
   },
   {
    "duration": 44,
    "start_time": "2021-12-26T17:22:45.627Z"
   },
   {
    "duration": 209,
    "start_time": "2021-12-26T17:22:45.674Z"
   },
   {
    "duration": 133,
    "start_time": "2021-12-26T17:22:45.885Z"
   },
   {
    "duration": 153,
    "start_time": "2021-12-26T17:22:46.021Z"
   },
   {
    "duration": 522,
    "start_time": "2021-12-26T17:22:46.179Z"
   },
   {
    "duration": 5,
    "start_time": "2021-12-26T17:27:28.878Z"
   },
   {
    "duration": 2215,
    "start_time": "2021-12-26T17:27:39.667Z"
   },
   {
    "duration": 629,
    "start_time": "2021-12-26T17:27:41.885Z"
   },
   {
    "duration": 23,
    "start_time": "2021-12-26T17:27:42.518Z"
   },
   {
    "duration": 44,
    "start_time": "2021-12-26T17:27:42.545Z"
   },
   {
    "duration": 49,
    "start_time": "2021-12-26T17:27:42.596Z"
   },
   {
    "duration": 30,
    "start_time": "2021-12-26T17:27:42.650Z"
   },
   {
    "duration": 44,
    "start_time": "2021-12-26T17:27:42.682Z"
   },
   {
    "duration": 78,
    "start_time": "2021-12-26T17:27:42.730Z"
   },
   {
    "duration": 14,
    "start_time": "2021-12-26T17:27:42.815Z"
   },
   {
    "duration": 53,
    "start_time": "2021-12-26T17:27:42.834Z"
   },
   {
    "duration": 25,
    "start_time": "2021-12-26T17:27:42.891Z"
   },
   {
    "duration": 17,
    "start_time": "2021-12-26T17:27:42.920Z"
   },
   {
    "duration": 27,
    "start_time": "2021-12-26T17:27:42.942Z"
   },
   {
    "duration": 73,
    "start_time": "2021-12-26T17:27:42.973Z"
   },
   {
    "duration": 18,
    "start_time": "2021-12-26T17:27:43.049Z"
   },
   {
    "duration": 35,
    "start_time": "2021-12-26T17:27:43.082Z"
   },
   {
    "duration": 40,
    "start_time": "2021-12-26T17:27:43.120Z"
   },
   {
    "duration": 132,
    "start_time": "2021-12-26T17:27:43.163Z"
   },
   {
    "duration": 14,
    "start_time": "2021-12-26T17:27:43.304Z"
   },
   {
    "duration": 51,
    "start_time": "2021-12-26T17:27:43.321Z"
   },
   {
    "duration": 26,
    "start_time": "2021-12-26T17:27:43.375Z"
   },
   {
    "duration": 35,
    "start_time": "2021-12-26T17:27:43.410Z"
   },
   {
    "duration": 39,
    "start_time": "2021-12-26T17:27:43.451Z"
   },
   {
    "duration": 223,
    "start_time": "2021-12-26T17:27:43.493Z"
   },
   {
    "duration": 156,
    "start_time": "2021-12-26T17:27:43.721Z"
   },
   {
    "duration": 172,
    "start_time": "2021-12-26T17:27:43.881Z"
   },
   {
    "duration": 55,
    "start_time": "2021-12-26T17:27:44.056Z"
   },
   {
    "duration": 1592,
    "start_time": "2021-12-26T17:38:18.479Z"
   },
   {
    "duration": 746,
    "start_time": "2021-12-26T17:38:20.075Z"
   },
   {
    "duration": 52,
    "start_time": "2021-12-26T17:38:20.826Z"
   },
   {
    "duration": 47,
    "start_time": "2021-12-26T17:38:20.883Z"
   },
   {
    "duration": 73,
    "start_time": "2021-12-26T17:38:20.932Z"
   },
   {
    "duration": 16,
    "start_time": "2021-12-26T17:38:21.008Z"
   },
   {
    "duration": 67,
    "start_time": "2021-12-26T17:38:21.028Z"
   },
   {
    "duration": 41,
    "start_time": "2021-12-26T17:38:21.098Z"
   },
   {
    "duration": 16,
    "start_time": "2021-12-26T17:38:21.164Z"
   },
   {
    "duration": 26,
    "start_time": "2021-12-26T17:38:21.184Z"
   },
   {
    "duration": 73,
    "start_time": "2021-12-26T17:38:21.214Z"
   },
   {
    "duration": 22,
    "start_time": "2021-12-26T17:38:21.290Z"
   },
   {
    "duration": 13,
    "start_time": "2021-12-26T17:38:21.316Z"
   },
   {
    "duration": 92,
    "start_time": "2021-12-26T17:38:21.332Z"
   },
   {
    "duration": 21,
    "start_time": "2021-12-26T17:38:21.427Z"
   },
   {
    "duration": 29,
    "start_time": "2021-12-26T17:38:21.451Z"
   },
   {
    "duration": 29,
    "start_time": "2021-12-26T17:38:21.483Z"
   },
   {
    "duration": 186,
    "start_time": "2021-12-26T17:38:21.515Z"
   },
   {
    "duration": 13,
    "start_time": "2021-12-26T17:38:21.704Z"
   },
   {
    "duration": 66,
    "start_time": "2021-12-26T17:38:21.721Z"
   },
   {
    "duration": 22,
    "start_time": "2021-12-26T17:38:21.790Z"
   },
   {
    "duration": 25,
    "start_time": "2021-12-26T17:38:21.818Z"
   },
   {
    "duration": 42,
    "start_time": "2021-12-26T17:38:21.845Z"
   },
   {
    "duration": 274,
    "start_time": "2021-12-26T17:38:21.889Z"
   },
   {
    "duration": 137,
    "start_time": "2021-12-26T17:38:22.169Z"
   },
   {
    "duration": 157,
    "start_time": "2021-12-26T17:38:22.309Z"
   },
   {
    "duration": 42,
    "start_time": "2021-12-26T17:38:22.472Z"
   },
   {
    "duration": 50,
    "start_time": "2021-12-26T17:38:35.859Z"
   },
   {
    "duration": 61,
    "start_time": "2021-12-26T17:38:52.420Z"
   },
   {
    "duration": 40,
    "start_time": "2021-12-26T17:46:38.408Z"
   },
   {
    "duration": 42,
    "start_time": "2021-12-26T17:48:16.816Z"
   },
   {
    "duration": 39,
    "start_time": "2021-12-26T17:51:33.406Z"
   },
   {
    "duration": 4145,
    "start_time": "2021-12-26T17:54:17.686Z"
   },
   {
    "duration": 274,
    "start_time": "2021-12-26T18:03:25.570Z"
   },
   {
    "duration": 112,
    "start_time": "2021-12-26T18:03:42.684Z"
   },
   {
    "duration": 118,
    "start_time": "2021-12-26T18:03:54.757Z"
   },
   {
    "duration": 181,
    "start_time": "2021-12-26T18:04:18.382Z"
   },
   {
    "duration": 1808,
    "start_time": "2021-12-26T18:04:30.917Z"
   },
   {
    "duration": 789,
    "start_time": "2021-12-26T18:04:32.728Z"
   },
   {
    "duration": 18,
    "start_time": "2021-12-26T18:04:33.520Z"
   },
   {
    "duration": 31,
    "start_time": "2021-12-26T18:04:33.541Z"
   },
   {
    "duration": 63,
    "start_time": "2021-12-26T18:04:33.575Z"
   },
   {
    "duration": 27,
    "start_time": "2021-12-26T18:04:33.640Z"
   },
   {
    "duration": 38,
    "start_time": "2021-12-26T18:04:33.672Z"
   },
   {
    "duration": 63,
    "start_time": "2021-12-26T18:04:33.714Z"
   },
   {
    "duration": 22,
    "start_time": "2021-12-26T18:04:33.782Z"
   },
   {
    "duration": 23,
    "start_time": "2021-12-26T18:04:33.807Z"
   },
   {
    "duration": 46,
    "start_time": "2021-12-26T18:04:33.832Z"
   },
   {
    "duration": 24,
    "start_time": "2021-12-26T18:04:33.880Z"
   },
   {
    "duration": 9,
    "start_time": "2021-12-26T18:04:33.907Z"
   },
   {
    "duration": 84,
    "start_time": "2021-12-26T18:04:33.918Z"
   },
   {
    "duration": 16,
    "start_time": "2021-12-26T18:04:34.005Z"
   },
   {
    "duration": 10,
    "start_time": "2021-12-26T18:04:34.023Z"
   },
   {
    "duration": 55,
    "start_time": "2021-12-26T18:04:34.035Z"
   },
   {
    "duration": 139,
    "start_time": "2021-12-26T18:04:34.093Z"
   },
   {
    "duration": 10,
    "start_time": "2021-12-26T18:04:34.235Z"
   },
   {
    "duration": 40,
    "start_time": "2021-12-26T18:04:34.248Z"
   },
   {
    "duration": 22,
    "start_time": "2021-12-26T18:04:34.293Z"
   },
   {
    "duration": 48,
    "start_time": "2021-12-26T18:04:34.318Z"
   },
   {
    "duration": 23,
    "start_time": "2021-12-26T18:04:34.378Z"
   },
   {
    "duration": 234,
    "start_time": "2021-12-26T18:04:34.404Z"
   },
   {
    "duration": 148,
    "start_time": "2021-12-26T18:04:34.640Z"
   },
   {
    "duration": 159,
    "start_time": "2021-12-26T18:04:34.792Z"
   },
   {
    "duration": 53,
    "start_time": "2021-12-26T18:04:34.953Z"
   },
   {
    "duration": 74,
    "start_time": "2021-12-26T18:04:35.009Z"
   },
   {
    "duration": 4496,
    "start_time": "2021-12-26T18:04:35.086Z"
   },
   {
    "duration": 109,
    "start_time": "2021-12-26T18:04:39.585Z"
   },
   {
    "duration": 110,
    "start_time": "2021-12-26T18:05:07.568Z"
   },
   {
    "duration": 113,
    "start_time": "2021-12-26T18:05:42.083Z"
   },
   {
    "duration": 8518,
    "start_time": "2021-12-26T18:06:25.093Z"
   },
   {
    "duration": 9512,
    "start_time": "2021-12-26T18:06:37.410Z"
   },
   {
    "duration": 8259,
    "start_time": "2021-12-26T18:07:38.609Z"
   },
   {
    "duration": 12914,
    "start_time": "2021-12-26T18:09:22.410Z"
   },
   {
    "duration": 12306,
    "start_time": "2021-12-26T18:10:09.214Z"
   },
   {
    "duration": 1720,
    "start_time": "2021-12-26T18:16:01.835Z"
   },
   {
    "duration": 645,
    "start_time": "2021-12-26T18:16:03.558Z"
   },
   {
    "duration": 27,
    "start_time": "2021-12-26T18:16:04.208Z"
   },
   {
    "duration": 30,
    "start_time": "2021-12-26T18:16:04.238Z"
   },
   {
    "duration": 46,
    "start_time": "2021-12-26T18:16:04.272Z"
   },
   {
    "duration": 42,
    "start_time": "2021-12-26T18:16:04.321Z"
   },
   {
    "duration": 38,
    "start_time": "2021-12-26T18:16:04.367Z"
   },
   {
    "duration": 79,
    "start_time": "2021-12-26T18:16:04.409Z"
   },
   {
    "duration": 12,
    "start_time": "2021-12-26T18:16:04.492Z"
   },
   {
    "duration": 27,
    "start_time": "2021-12-26T18:16:04.507Z"
   },
   {
    "duration": 32,
    "start_time": "2021-12-26T18:16:04.564Z"
   },
   {
    "duration": 12,
    "start_time": "2021-12-26T18:16:04.598Z"
   },
   {
    "duration": 11,
    "start_time": "2021-12-26T18:16:04.614Z"
   },
   {
    "duration": 88,
    "start_time": "2021-12-26T18:16:04.628Z"
   },
   {
    "duration": 20,
    "start_time": "2021-12-26T18:16:04.719Z"
   },
   {
    "duration": 14,
    "start_time": "2021-12-26T18:16:04.764Z"
   },
   {
    "duration": 36,
    "start_time": "2021-12-26T18:16:04.782Z"
   },
   {
    "duration": 158,
    "start_time": "2021-12-26T18:16:04.821Z"
   },
   {
    "duration": 14,
    "start_time": "2021-12-26T18:16:04.985Z"
   },
   {
    "duration": 41,
    "start_time": "2021-12-26T18:16:05.002Z"
   },
   {
    "duration": 24,
    "start_time": "2021-12-26T18:16:05.064Z"
   },
   {
    "duration": 28,
    "start_time": "2021-12-26T18:16:05.091Z"
   },
   {
    "duration": 56,
    "start_time": "2021-12-26T18:16:05.122Z"
   },
   {
    "duration": 253,
    "start_time": "2021-12-26T18:16:05.182Z"
   },
   {
    "duration": 159,
    "start_time": "2021-12-26T18:16:05.437Z"
   },
   {
    "duration": 174,
    "start_time": "2021-12-26T18:16:05.599Z"
   },
   {
    "duration": 41,
    "start_time": "2021-12-26T18:16:05.780Z"
   },
   {
    "duration": 68,
    "start_time": "2021-12-26T18:16:05.824Z"
   },
   {
    "duration": 3679,
    "start_time": "2021-12-26T18:16:05.894Z"
   },
   {
    "duration": 74307,
    "start_time": "2021-12-26T18:16:09.577Z"
   },
   {
    "duration": 8333,
    "start_time": "2021-12-26T18:20:58.071Z"
   },
   {
    "duration": 8708,
    "start_time": "2021-12-26T18:21:25.843Z"
   },
   {
    "duration": 8876,
    "start_time": "2021-12-26T18:25:58.997Z"
   },
   {
    "duration": 11753,
    "start_time": "2021-12-26T18:27:13.330Z"
   },
   {
    "duration": 12531,
    "start_time": "2021-12-26T18:27:30.419Z"
   },
   {
    "duration": 4263,
    "start_time": "2021-12-26T18:55:45.249Z"
   },
   {
    "duration": 7945,
    "start_time": "2021-12-26T19:08:29.986Z"
   },
   {
    "duration": 3303,
    "start_time": "2021-12-26T19:12:22.250Z"
   },
   {
    "duration": 7826,
    "start_time": "2021-12-26T19:14:26.607Z"
   },
   {
    "duration": 8527,
    "start_time": "2021-12-26T19:17:51.409Z"
   },
   {
    "duration": 8798,
    "start_time": "2021-12-26T19:19:02.712Z"
   },
   {
    "duration": 11,
    "start_time": "2021-12-26T19:20:20.735Z"
   },
   {
    "duration": 11,
    "start_time": "2021-12-26T19:21:06.000Z"
   },
   {
    "duration": 11,
    "start_time": "2021-12-26T19:22:56.265Z"
   },
   {
    "duration": 112,
    "start_time": "2021-12-26T19:23:33.927Z"
   },
   {
    "duration": 105,
    "start_time": "2021-12-26T19:23:48.277Z"
   },
   {
    "duration": 143,
    "start_time": "2021-12-26T19:23:50.636Z"
   },
   {
    "duration": 109,
    "start_time": "2021-12-26T19:24:04.981Z"
   },
   {
    "duration": 1695,
    "start_time": "2021-12-26T20:01:58.258Z"
   },
   {
    "duration": 843,
    "start_time": "2021-12-26T20:01:59.956Z"
   },
   {
    "duration": 28,
    "start_time": "2021-12-26T20:02:00.804Z"
   },
   {
    "duration": 47,
    "start_time": "2021-12-26T20:02:00.837Z"
   },
   {
    "duration": 62,
    "start_time": "2021-12-26T20:02:00.887Z"
   },
   {
    "duration": 22,
    "start_time": "2021-12-26T20:02:00.964Z"
   },
   {
    "duration": 24,
    "start_time": "2021-12-26T20:02:00.989Z"
   },
   {
    "duration": 76,
    "start_time": "2021-12-26T20:02:01.016Z"
   },
   {
    "duration": 11,
    "start_time": "2021-12-26T20:02:01.096Z"
   },
   {
    "duration": 27,
    "start_time": "2021-12-26T20:02:01.110Z"
   },
   {
    "duration": 21,
    "start_time": "2021-12-26T20:02:01.164Z"
   },
   {
    "duration": 19,
    "start_time": "2021-12-26T20:02:01.189Z"
   },
   {
    "duration": 20,
    "start_time": "2021-12-26T20:02:01.211Z"
   },
   {
    "duration": 70,
    "start_time": "2021-12-26T20:02:01.263Z"
   },
   {
    "duration": 45,
    "start_time": "2021-12-26T20:02:01.337Z"
   },
   {
    "duration": 10,
    "start_time": "2021-12-26T20:02:01.385Z"
   },
   {
    "duration": 27,
    "start_time": "2021-12-26T20:02:01.397Z"
   },
   {
    "duration": 136,
    "start_time": "2021-12-26T20:02:01.427Z"
   },
   {
    "duration": 11,
    "start_time": "2021-12-26T20:02:01.565Z"
   },
   {
    "duration": 42,
    "start_time": "2021-12-26T20:02:01.580Z"
   },
   {
    "duration": 41,
    "start_time": "2021-12-26T20:02:01.624Z"
   },
   {
    "duration": 27,
    "start_time": "2021-12-26T20:02:01.668Z"
   },
   {
    "duration": 20,
    "start_time": "2021-12-26T20:02:01.697Z"
   },
   {
    "duration": 312,
    "start_time": "2021-12-26T20:02:01.720Z"
   },
   {
    "duration": 187,
    "start_time": "2021-12-26T20:02:02.036Z"
   },
   {
    "duration": 209,
    "start_time": "2021-12-26T20:02:02.226Z"
   },
   {
    "duration": 73,
    "start_time": "2021-12-26T20:02:02.443Z"
   },
   {
    "duration": 5429,
    "start_time": "2021-12-26T20:02:02.519Z"
   },
   {
    "duration": 9009,
    "start_time": "2021-12-26T20:02:07.952Z"
   },
   {
    "duration": 1233,
    "start_time": "2021-12-26T20:16:07.277Z"
   },
   {
    "duration": 989,
    "start_time": "2021-12-26T20:16:09.492Z"
   },
   {
    "duration": 1471,
    "start_time": "2021-12-26T20:27:41.384Z"
   },
   {
    "duration": 634,
    "start_time": "2021-12-26T20:27:42.858Z"
   },
   {
    "duration": 17,
    "start_time": "2021-12-26T20:27:43.495Z"
   },
   {
    "duration": 18,
    "start_time": "2021-12-26T20:27:43.515Z"
   },
   {
    "duration": 45,
    "start_time": "2021-12-26T20:27:43.536Z"
   },
   {
    "duration": 14,
    "start_time": "2021-12-26T20:27:43.583Z"
   },
   {
    "duration": 24,
    "start_time": "2021-12-26T20:27:43.600Z"
   },
   {
    "duration": 64,
    "start_time": "2021-12-26T20:27:43.628Z"
   },
   {
    "duration": 10,
    "start_time": "2021-12-26T20:27:43.695Z"
   },
   {
    "duration": 15,
    "start_time": "2021-12-26T20:27:43.707Z"
   },
   {
    "duration": 53,
    "start_time": "2021-12-26T20:27:43.724Z"
   },
   {
    "duration": 13,
    "start_time": "2021-12-26T20:27:43.780Z"
   },
   {
    "duration": 9,
    "start_time": "2021-12-26T20:27:43.795Z"
   },
   {
    "duration": 73,
    "start_time": "2021-12-26T20:27:43.806Z"
   },
   {
    "duration": 15,
    "start_time": "2021-12-26T20:27:43.882Z"
   },
   {
    "duration": 10,
    "start_time": "2021-12-26T20:27:43.899Z"
   },
   {
    "duration": 18,
    "start_time": "2021-12-26T20:27:43.912Z"
   },
   {
    "duration": 106,
    "start_time": "2021-12-26T20:27:43.962Z"
   },
   {
    "duration": 103,
    "start_time": "2021-12-26T20:27:44.070Z"
   },
   {
    "duration": 32,
    "start_time": "2021-12-26T20:27:44.175Z"
   },
   {
    "duration": 15,
    "start_time": "2021-12-26T20:27:44.209Z"
   },
   {
    "duration": 56,
    "start_time": "2021-12-26T20:27:44.227Z"
   },
   {
    "duration": 13,
    "start_time": "2021-12-26T20:27:44.288Z"
   },
   {
    "duration": 263,
    "start_time": "2021-12-26T20:27:44.304Z"
   },
   {
    "duration": 153,
    "start_time": "2021-12-26T20:27:44.570Z"
   },
   {
    "duration": 205,
    "start_time": "2021-12-26T20:27:44.726Z"
   },
   {
    "duration": 63,
    "start_time": "2021-12-26T20:27:44.934Z"
   },
   {
    "duration": 7757,
    "start_time": "2021-12-26T20:27:44.999Z"
   },
   {
    "duration": -255,
    "start_time": "2021-12-26T20:27:53.013Z"
   },
   {
    "duration": 1720,
    "start_time": "2021-12-26T20:28:57.030Z"
   },
   {
    "duration": 568,
    "start_time": "2021-12-26T20:28:58.753Z"
   },
   {
    "duration": 19,
    "start_time": "2021-12-26T20:28:59.325Z"
   },
   {
    "duration": 35,
    "start_time": "2021-12-26T20:28:59.349Z"
   },
   {
    "duration": 44,
    "start_time": "2021-12-26T20:28:59.387Z"
   },
   {
    "duration": 35,
    "start_time": "2021-12-26T20:28:59.434Z"
   },
   {
    "duration": 34,
    "start_time": "2021-12-26T20:28:59.473Z"
   },
   {
    "duration": 92,
    "start_time": "2021-12-26T20:28:59.511Z"
   },
   {
    "duration": 15,
    "start_time": "2021-12-26T20:28:59.609Z"
   },
   {
    "duration": 43,
    "start_time": "2021-12-26T20:28:59.627Z"
   },
   {
    "duration": 21,
    "start_time": "2021-12-26T20:28:59.672Z"
   },
   {
    "duration": 13,
    "start_time": "2021-12-26T20:28:59.696Z"
   },
   {
    "duration": 10,
    "start_time": "2021-12-26T20:28:59.711Z"
   },
   {
    "duration": 45,
    "start_time": "2021-12-26T20:28:59.764Z"
   },
   {
    "duration": 16,
    "start_time": "2021-12-26T20:28:59.812Z"
   },
   {
    "duration": 9,
    "start_time": "2021-12-26T20:28:59.863Z"
   },
   {
    "duration": 27,
    "start_time": "2021-12-26T20:28:59.874Z"
   },
   {
    "duration": 131,
    "start_time": "2021-12-26T20:28:59.904Z"
   },
   {
    "duration": 11,
    "start_time": "2021-12-26T20:29:00.037Z"
   },
   {
    "duration": 33,
    "start_time": "2021-12-26T20:29:00.063Z"
   },
   {
    "duration": 18,
    "start_time": "2021-12-26T20:29:00.099Z"
   },
   {
    "duration": 49,
    "start_time": "2021-12-26T20:29:00.120Z"
   },
   {
    "duration": 18,
    "start_time": "2021-12-26T20:29:00.171Z"
   },
   {
    "duration": 221,
    "start_time": "2021-12-26T20:29:00.191Z"
   },
   {
    "duration": 144,
    "start_time": "2021-12-26T20:29:00.415Z"
   },
   {
    "duration": 161,
    "start_time": "2021-12-26T20:29:00.563Z"
   },
   {
    "duration": 48,
    "start_time": "2021-12-26T20:29:00.729Z"
   },
   {
    "duration": 3433,
    "start_time": "2021-12-26T20:29:00.780Z"
   },
   {
    "duration": 1034,
    "start_time": "2021-12-26T20:29:04.216Z"
   },
   {
    "duration": 13459,
    "start_time": "2021-12-26T20:30:25.506Z"
   },
   {
    "duration": 5145,
    "start_time": "2021-12-26T20:31:09.772Z"
   },
   {
    "duration": 17221,
    "start_time": "2021-12-26T20:31:30.584Z"
   },
   {
    "duration": 3602,
    "start_time": "2021-12-26T20:32:20.282Z"
   },
   {
    "duration": 12205,
    "start_time": "2021-12-26T20:32:30.733Z"
   },
   {
    "duration": 3239,
    "start_time": "2021-12-26T20:41:05.046Z"
   },
   {
    "duration": 9313,
    "start_time": "2021-12-26T20:42:04.517Z"
   },
   {
    "duration": 8728,
    "start_time": "2021-12-26T20:42:50.277Z"
   },
   {
    "duration": 17,
    "start_time": "2021-12-26T20:44:39.232Z"
   },
   {
    "duration": 22,
    "start_time": "2021-12-26T20:44:45.651Z"
   },
   {
    "duration": 1614,
    "start_time": "2021-12-26T20:46:38.084Z"
   },
   {
    "duration": 606,
    "start_time": "2021-12-26T20:46:39.707Z"
   },
   {
    "duration": 19,
    "start_time": "2021-12-26T20:46:40.316Z"
   },
   {
    "duration": 29,
    "start_time": "2021-12-26T20:46:40.339Z"
   },
   {
    "duration": 45,
    "start_time": "2021-12-26T20:46:40.371Z"
   },
   {
    "duration": 14,
    "start_time": "2021-12-26T20:46:40.419Z"
   },
   {
    "duration": 65,
    "start_time": "2021-12-26T20:46:40.435Z"
   },
   {
    "duration": 67,
    "start_time": "2021-12-26T20:46:40.506Z"
   },
   {
    "duration": 14,
    "start_time": "2021-12-26T20:46:40.577Z"
   },
   {
    "duration": 31,
    "start_time": "2021-12-26T20:46:40.595Z"
   },
   {
    "duration": 54,
    "start_time": "2021-12-26T20:46:40.629Z"
   },
   {
    "duration": 13,
    "start_time": "2021-12-26T20:46:40.686Z"
   },
   {
    "duration": 10,
    "start_time": "2021-12-26T20:46:40.701Z"
   },
   {
    "duration": 89,
    "start_time": "2021-12-26T20:46:40.713Z"
   },
   {
    "duration": 14,
    "start_time": "2021-12-26T20:46:40.804Z"
   },
   {
    "duration": 14,
    "start_time": "2021-12-26T20:46:40.820Z"
   },
   {
    "duration": 27,
    "start_time": "2021-12-26T20:46:40.865Z"
   },
   {
    "duration": 136,
    "start_time": "2021-12-26T20:46:40.895Z"
   },
   {
    "duration": 13,
    "start_time": "2021-12-26T20:46:41.034Z"
   },
   {
    "duration": 41,
    "start_time": "2021-12-26T20:46:41.062Z"
   },
   {
    "duration": 17,
    "start_time": "2021-12-26T20:46:41.105Z"
   },
   {
    "duration": 53,
    "start_time": "2021-12-26T20:46:41.124Z"
   },
   {
    "duration": 15,
    "start_time": "2021-12-26T20:46:41.182Z"
   },
   {
    "duration": 219,
    "start_time": "2021-12-26T20:46:41.200Z"
   },
   {
    "duration": 142,
    "start_time": "2021-12-26T20:46:41.421Z"
   },
   {
    "duration": 160,
    "start_time": "2021-12-26T20:46:41.566Z"
   },
   {
    "duration": 52,
    "start_time": "2021-12-26T20:46:41.728Z"
   },
   {
    "duration": 4106,
    "start_time": "2021-12-26T20:46:41.784Z"
   },
   {
    "duration": 18,
    "start_time": "2021-12-26T20:46:45.893Z"
   },
   {
    "duration": 9947,
    "start_time": "2021-12-26T20:47:39.824Z"
   },
   {
    "duration": -115,
    "start_time": "2021-12-26T20:50:39.667Z"
   },
   {
    "duration": -243,
    "start_time": "2021-12-26T20:54:11.207Z"
   },
   {
    "duration": 15597,
    "start_time": "2021-12-26T20:54:27.686Z"
   },
   {
    "duration": 1600,
    "start_time": "2021-12-26T20:57:47.436Z"
   },
   {
    "duration": 693,
    "start_time": "2021-12-26T20:57:49.038Z"
   },
   {
    "duration": 18,
    "start_time": "2021-12-26T20:57:49.734Z"
   },
   {
    "duration": 36,
    "start_time": "2021-12-26T20:57:49.755Z"
   },
   {
    "duration": 42,
    "start_time": "2021-12-26T20:57:49.793Z"
   },
   {
    "duration": 40,
    "start_time": "2021-12-26T20:57:49.838Z"
   },
   {
    "duration": 22,
    "start_time": "2021-12-26T20:57:49.881Z"
   },
   {
    "duration": 71,
    "start_time": "2021-12-26T20:57:49.908Z"
   },
   {
    "duration": 16,
    "start_time": "2021-12-26T20:57:49.984Z"
   },
   {
    "duration": 21,
    "start_time": "2021-12-26T20:57:50.003Z"
   },
   {
    "duration": 44,
    "start_time": "2021-12-26T20:57:50.027Z"
   },
   {
    "duration": 13,
    "start_time": "2021-12-26T20:57:50.074Z"
   },
   {
    "duration": 10,
    "start_time": "2021-12-26T20:57:50.090Z"
   },
   {
    "duration": 82,
    "start_time": "2021-12-26T20:57:50.103Z"
   },
   {
    "duration": 17,
    "start_time": "2021-12-26T20:57:50.188Z"
   },
   {
    "duration": 9,
    "start_time": "2021-12-26T20:57:50.208Z"
   },
   {
    "duration": 66,
    "start_time": "2021-12-26T20:57:50.219Z"
   },
   {
    "duration": 112,
    "start_time": "2021-12-26T20:57:50.288Z"
   },
   {
    "duration": 13,
    "start_time": "2021-12-26T20:57:50.403Z"
   },
   {
    "duration": 61,
    "start_time": "2021-12-26T20:57:50.419Z"
   },
   {
    "duration": 7,
    "start_time": "2021-12-26T20:57:50.482Z"
   },
   {
    "duration": 32,
    "start_time": "2021-12-26T20:57:50.492Z"
   },
   {
    "duration": 7,
    "start_time": "2021-12-26T20:57:50.530Z"
   },
   {
    "duration": 223,
    "start_time": "2021-12-26T20:57:50.563Z"
   },
   {
    "duration": 135,
    "start_time": "2021-12-26T20:57:50.788Z"
   },
   {
    "duration": 167,
    "start_time": "2021-12-26T20:57:50.926Z"
   },
   {
    "duration": 38,
    "start_time": "2021-12-26T20:57:51.095Z"
   },
   {
    "duration": 14293,
    "start_time": "2021-12-26T20:57:51.136Z"
   },
   {
    "duration": 14,
    "start_time": "2021-12-26T21:05:07.694Z"
   },
   {
    "duration": 3150,
    "start_time": "2021-12-26T21:22:47.978Z"
   },
   {
    "duration": 12484,
    "start_time": "2021-12-26T21:23:28.020Z"
   },
   {
    "duration": -200,
    "start_time": "2021-12-26T21:23:40.707Z"
   },
   {
    "duration": 37,
    "start_time": "2021-12-26T21:24:33.688Z"
   },
   {
    "duration": 309,
    "start_time": "2021-12-26T21:25:16.317Z"
   },
   {
    "duration": 417,
    "start_time": "2021-12-26T21:25:47.608Z"
   },
   {
    "duration": 11,
    "start_time": "2021-12-26T21:35:11.877Z"
   },
   {
    "duration": 361,
    "start_time": "2021-12-27T07:58:00.560Z"
   },
   {
    "duration": 296,
    "start_time": "2021-12-27T07:59:29.069Z"
   },
   {
    "duration": 1381,
    "start_time": "2021-12-27T07:59:36.286Z"
   },
   {
    "duration": 504,
    "start_time": "2021-12-27T07:59:37.670Z"
   },
   {
    "duration": 19,
    "start_time": "2021-12-27T07:59:38.177Z"
   },
   {
    "duration": 4,
    "start_time": "2021-12-27T07:59:52.297Z"
   },
   {
    "duration": 4,
    "start_time": "2021-12-27T07:59:52.635Z"
   },
   {
    "duration": 515,
    "start_time": "2021-12-27T07:59:53.483Z"
   },
   {
    "duration": 15,
    "start_time": "2021-12-27T07:59:55.049Z"
   },
   {
    "duration": 15,
    "start_time": "2021-12-27T08:00:10.332Z"
   },
   {
    "duration": 22,
    "start_time": "2021-12-27T08:00:22.433Z"
   },
   {
    "duration": 10,
    "start_time": "2021-12-27T08:00:32.216Z"
   },
   {
    "duration": 12,
    "start_time": "2021-12-27T08:02:59.199Z"
   },
   {
    "duration": 13,
    "start_time": "2021-12-27T08:03:13.225Z"
   },
   {
    "duration": 11,
    "start_time": "2021-12-27T08:03:53.137Z"
   },
   {
    "duration": 23,
    "start_time": "2021-12-27T08:04:44.739Z"
   },
   {
    "duration": 36,
    "start_time": "2021-12-27T08:04:47.177Z"
   },
   {
    "duration": 23,
    "start_time": "2021-12-27T08:05:25.188Z"
   },
   {
    "duration": 26,
    "start_time": "2021-12-27T08:05:44.641Z"
   },
   {
    "duration": 5,
    "start_time": "2021-12-27T08:05:47.402Z"
   },
   {
    "duration": 9,
    "start_time": "2021-12-27T08:05:47.787Z"
   },
   {
    "duration": 14,
    "start_time": "2021-12-27T08:06:23.351Z"
   },
   {
    "duration": 10,
    "start_time": "2021-12-27T08:07:16.912Z"
   },
   {
    "duration": 18,
    "start_time": "2021-12-27T08:07:19.267Z"
   },
   {
    "duration": 17,
    "start_time": "2021-12-27T08:07:20.264Z"
   },
   {
    "duration": 19,
    "start_time": "2021-12-27T08:07:23.669Z"
   },
   {
    "duration": 21,
    "start_time": "2021-12-27T08:07:33.552Z"
   },
   {
    "duration": 23,
    "start_time": "2021-12-27T08:07:47.987Z"
   },
   {
    "duration": 11,
    "start_time": "2021-12-27T08:07:58.126Z"
   },
   {
    "duration": 5,
    "start_time": "2021-12-27T08:08:19.443Z"
   },
   {
    "duration": 10,
    "start_time": "2021-12-27T08:08:19.767Z"
   },
   {
    "duration": 10,
    "start_time": "2021-12-27T08:08:20.640Z"
   },
   {
    "duration": 4,
    "start_time": "2021-12-27T08:08:39.902Z"
   },
   {
    "duration": 9,
    "start_time": "2021-12-27T08:08:40.195Z"
   },
   {
    "duration": 9,
    "start_time": "2021-12-27T08:08:40.640Z"
   },
   {
    "duration": 10,
    "start_time": "2021-12-27T08:09:48.864Z"
   },
   {
    "duration": 34,
    "start_time": "2021-12-27T08:09:56.115Z"
   },
   {
    "duration": 25,
    "start_time": "2021-12-27T08:10:05.697Z"
   },
   {
    "duration": 40,
    "start_time": "2021-12-27T08:10:17.156Z"
   },
   {
    "duration": 32,
    "start_time": "2021-12-27T08:10:28.459Z"
   },
   {
    "duration": 10,
    "start_time": "2021-12-27T08:10:59.905Z"
   },
   {
    "duration": 4,
    "start_time": "2021-12-27T08:11:00.401Z"
   },
   {
    "duration": 6,
    "start_time": "2021-12-27T08:11:45.722Z"
   },
   {
    "duration": 15,
    "start_time": "2021-12-27T08:11:57.205Z"
   },
   {
    "duration": 12,
    "start_time": "2021-12-27T08:13:15.413Z"
   },
   {
    "duration": 8,
    "start_time": "2021-12-27T08:14:09.688Z"
   },
   {
    "duration": 11,
    "start_time": "2021-12-27T08:14:15.727Z"
   },
   {
    "duration": 12,
    "start_time": "2021-12-27T08:15:03.425Z"
   },
   {
    "duration": 9,
    "start_time": "2021-12-27T08:15:06.913Z"
   },
   {
    "duration": 48,
    "start_time": "2021-12-27T08:15:09.994Z"
   },
   {
    "duration": 5,
    "start_time": "2021-12-27T08:17:48.684Z"
   },
   {
    "duration": 13,
    "start_time": "2021-12-27T08:17:49.662Z"
   },
   {
    "duration": 12,
    "start_time": "2021-12-27T08:18:10.750Z"
   },
   {
    "duration": 4,
    "start_time": "2021-12-27T08:18:36.663Z"
   },
   {
    "duration": 10,
    "start_time": "2021-12-27T08:18:37.869Z"
   },
   {
    "duration": 12,
    "start_time": "2021-12-27T08:18:38.233Z"
   },
   {
    "duration": 13,
    "start_time": "2021-12-27T08:18:39.220Z"
   },
   {
    "duration": 1349,
    "start_time": "2021-12-27T08:18:47.099Z"
   },
   {
    "duration": 3,
    "start_time": "2021-12-27T08:18:48.451Z"
   },
   {
    "duration": 507,
    "start_time": "2021-12-27T08:18:48.461Z"
   },
   {
    "duration": 19,
    "start_time": "2021-12-27T08:18:48.971Z"
   },
   {
    "duration": 33,
    "start_time": "2021-12-27T08:18:48.993Z"
   },
   {
    "duration": 10,
    "start_time": "2021-12-27T08:18:49.028Z"
   },
   {
    "duration": 8,
    "start_time": "2021-12-27T08:18:49.043Z"
   },
   {
    "duration": 11,
    "start_time": "2021-12-27T08:18:49.055Z"
   },
   {
    "duration": 58,
    "start_time": "2021-12-27T08:18:49.069Z"
   },
   {
    "duration": 27,
    "start_time": "2021-12-27T08:18:49.130Z"
   },
   {
    "duration": 65,
    "start_time": "2021-12-27T08:18:49.160Z"
   },
   {
    "duration": 26,
    "start_time": "2021-12-27T08:18:49.227Z"
   },
   {
    "duration": 42,
    "start_time": "2021-12-27T08:18:49.256Z"
   },
   {
    "duration": 25,
    "start_time": "2021-12-27T08:18:49.301Z"
   },
   {
    "duration": 24,
    "start_time": "2021-12-27T08:18:49.329Z"
   },
   {
    "duration": 14,
    "start_time": "2021-12-27T08:18:49.356Z"
   },
   {
    "duration": 14,
    "start_time": "2021-12-27T08:18:49.372Z"
   },
   {
    "duration": 61,
    "start_time": "2021-12-27T08:18:49.388Z"
   },
   {
    "duration": 24,
    "start_time": "2021-12-27T08:18:49.452Z"
   },
   {
    "duration": 60,
    "start_time": "2021-12-27T08:18:49.478Z"
   },
   {
    "duration": 26,
    "start_time": "2021-12-27T08:18:49.540Z"
   },
   {
    "duration": 10,
    "start_time": "2021-12-27T08:18:49.570Z"
   },
   {
    "duration": 41,
    "start_time": "2021-12-27T08:18:49.584Z"
   },
   {
    "duration": 40,
    "start_time": "2021-12-27T08:18:49.628Z"
   },
   {
    "duration": 28,
    "start_time": "2021-12-27T08:18:49.670Z"
   },
   {
    "duration": 38,
    "start_time": "2021-12-27T08:18:49.724Z"
   },
   {
    "duration": 32,
    "start_time": "2021-12-27T08:18:49.764Z"
   },
   {
    "duration": 26,
    "start_time": "2021-12-27T08:18:49.798Z"
   },
   {
    "duration": 11,
    "start_time": "2021-12-27T08:18:49.826Z"
   },
   {
    "duration": 8,
    "start_time": "2021-12-27T08:18:49.839Z"
   },
   {
    "duration": 11,
    "start_time": "2021-12-27T08:18:49.849Z"
   },
   {
    "duration": 12,
    "start_time": "2021-12-27T08:18:49.862Z"
   },
   {
    "duration": 10,
    "start_time": "2021-12-27T08:18:49.924Z"
   },
   {
    "duration": 42,
    "start_time": "2021-12-27T08:18:49.937Z"
   },
   {
    "duration": 59,
    "start_time": "2021-12-27T08:18:49.981Z"
   },
   {
    "duration": 6,
    "start_time": "2021-12-27T08:18:50.043Z"
   },
   {
    "duration": 26,
    "start_time": "2021-12-27T08:18:50.051Z"
   },
   {
    "duration": 4,
    "start_time": "2021-12-27T08:18:50.080Z"
   },
   {
    "duration": 202,
    "start_time": "2021-12-27T08:18:50.086Z"
   },
   {
    "duration": 108,
    "start_time": "2021-12-27T08:18:50.290Z"
   },
   {
    "duration": 124,
    "start_time": "2021-12-27T08:18:50.401Z"
   },
   {
    "duration": 489,
    "start_time": "2021-12-27T08:18:50.528Z"
   },
   {
    "duration": -67492,
    "start_time": "2021-12-27T08:19:58.512Z"
   },
   {
    "duration": 25,
    "start_time": "2021-12-27T08:21:11.193Z"
   },
   {
    "duration": 22,
    "start_time": "2021-12-27T08:21:16.300Z"
   },
   {
    "duration": 31,
    "start_time": "2021-12-27T08:21:56.832Z"
   },
   {
    "duration": 23,
    "start_time": "2021-12-27T08:21:57.253Z"
   },
   {
    "duration": 10,
    "start_time": "2021-12-27T08:22:13.461Z"
   },
   {
    "duration": 11,
    "start_time": "2021-12-27T08:22:36.036Z"
   },
   {
    "duration": 12,
    "start_time": "2021-12-27T08:22:53.176Z"
   },
   {
    "duration": 15,
    "start_time": "2021-12-27T08:23:03.195Z"
   },
   {
    "duration": 13,
    "start_time": "2021-12-27T08:25:37.316Z"
   },
   {
    "duration": 20,
    "start_time": "2021-12-27T08:31:30.292Z"
   },
   {
    "duration": 11,
    "start_time": "2021-12-27T08:31:36.065Z"
   },
   {
    "duration": 18,
    "start_time": "2021-12-27T08:31:48.106Z"
   },
   {
    "duration": 16,
    "start_time": "2021-12-27T08:32:05.545Z"
   },
   {
    "duration": 9,
    "start_time": "2021-12-27T08:32:25.412Z"
   },
   {
    "duration": 26,
    "start_time": "2021-12-27T08:34:35.492Z"
   },
   {
    "duration": 12,
    "start_time": "2021-12-27T08:34:42.023Z"
   },
   {
    "duration": 21,
    "start_time": "2021-12-27T08:43:21.892Z"
   },
   {
    "duration": 19,
    "start_time": "2021-12-27T08:43:27.490Z"
   },
   {
    "duration": 18,
    "start_time": "2021-12-27T08:43:32.879Z"
   },
   {
    "duration": 12,
    "start_time": "2021-12-27T08:43:52.585Z"
   },
   {
    "duration": 17,
    "start_time": "2021-12-27T08:43:52.600Z"
   },
   {
    "duration": 490,
    "start_time": "2021-12-27T08:43:52.620Z"
   },
   {
    "duration": 14,
    "start_time": "2021-12-27T08:43:53.113Z"
   },
   {
    "duration": 37,
    "start_time": "2021-12-27T08:43:53.129Z"
   },
   {
    "duration": 28,
    "start_time": "2021-12-27T08:43:53.169Z"
   },
   {
    "duration": 44,
    "start_time": "2021-12-27T08:43:53.199Z"
   },
   {
    "duration": 36,
    "start_time": "2021-12-27T08:43:53.246Z"
   },
   {
    "duration": 40,
    "start_time": "2021-12-27T08:43:53.285Z"
   },
   {
    "duration": 42,
    "start_time": "2021-12-27T08:43:53.328Z"
   },
   {
    "duration": 36,
    "start_time": "2021-12-27T08:43:53.373Z"
   },
   {
    "duration": 28,
    "start_time": "2021-12-27T08:43:53.411Z"
   },
   {
    "duration": 40,
    "start_time": "2021-12-27T08:43:53.441Z"
   },
   {
    "duration": 18,
    "start_time": "2021-12-27T08:43:53.484Z"
   },
   {
    "duration": 38,
    "start_time": "2021-12-27T08:43:53.504Z"
   },
   {
    "duration": 23,
    "start_time": "2021-12-27T08:43:53.544Z"
   },
   {
    "duration": 34,
    "start_time": "2021-12-27T08:43:53.569Z"
   },
   {
    "duration": 42,
    "start_time": "2021-12-27T08:43:53.605Z"
   },
   {
    "duration": 58,
    "start_time": "2021-12-27T08:43:53.651Z"
   },
   {
    "duration": 133,
    "start_time": "2021-12-27T08:43:53.713Z"
   },
   {
    "duration": 49,
    "start_time": "2021-12-27T08:43:53.849Z"
   },
   {
    "duration": 24,
    "start_time": "2021-12-27T08:43:53.901Z"
   },
   {
    "duration": 11,
    "start_time": "2021-12-27T08:43:53.933Z"
   },
   {
    "duration": 48,
    "start_time": "2021-12-27T08:43:53.947Z"
   },
   {
    "duration": 42,
    "start_time": "2021-12-27T08:43:53.997Z"
   },
   {
    "duration": 44,
    "start_time": "2021-12-27T08:43:54.042Z"
   },
   {
    "duration": 34,
    "start_time": "2021-12-27T08:43:54.089Z"
   },
   {
    "duration": 11,
    "start_time": "2021-12-27T08:43:54.126Z"
   },
   {
    "duration": 25,
    "start_time": "2021-12-27T08:43:54.139Z"
   },
   {
    "duration": 45,
    "start_time": "2021-12-27T08:43:54.166Z"
   },
   {
    "duration": 21,
    "start_time": "2021-12-27T08:43:54.214Z"
   },
   {
    "duration": 35,
    "start_time": "2021-12-27T08:43:54.238Z"
   },
   {
    "duration": 21,
    "start_time": "2021-12-27T08:43:54.276Z"
   },
   {
    "duration": 51,
    "start_time": "2021-12-27T08:43:54.300Z"
   },
   {
    "duration": 35,
    "start_time": "2021-12-27T08:43:54.354Z"
   },
   {
    "duration": 12,
    "start_time": "2021-12-27T08:43:54.392Z"
   },
   {
    "duration": 47,
    "start_time": "2021-12-27T08:43:54.406Z"
   },
   {
    "duration": 18,
    "start_time": "2021-12-27T08:43:54.455Z"
   },
   {
    "duration": 37,
    "start_time": "2021-12-27T08:43:54.475Z"
   },
   {
    "duration": 18,
    "start_time": "2021-12-27T08:43:54.514Z"
   },
   {
    "duration": 18,
    "start_time": "2021-12-27T08:43:54.534Z"
   },
   {
    "duration": 33,
    "start_time": "2021-12-27T08:43:54.555Z"
   },
   {
    "duration": 49,
    "start_time": "2021-12-27T08:43:54.590Z"
   },
   {
    "duration": 12,
    "start_time": "2021-12-27T08:43:54.641Z"
   },
   {
    "duration": 45,
    "start_time": "2021-12-27T08:43:54.655Z"
   },
   {
    "duration": 9,
    "start_time": "2021-12-27T08:44:06.271Z"
   },
   {
    "duration": 9,
    "start_time": "2021-12-27T08:45:23.667Z"
   },
   {
    "duration": 17,
    "start_time": "2021-12-27T08:46:40.617Z"
   },
   {
    "duration": 105,
    "start_time": "2021-12-27T08:50:02.622Z"
   },
   {
    "duration": 12,
    "start_time": "2021-12-27T08:50:31.647Z"
   },
   {
    "duration": 12,
    "start_time": "2021-12-27T08:50:44.475Z"
   },
   {
    "duration": 13,
    "start_time": "2021-12-27T08:51:53.037Z"
   },
   {
    "duration": 12,
    "start_time": "2021-12-27T08:52:00.381Z"
   },
   {
    "duration": 451,
    "start_time": "2021-12-27T08:56:24.357Z"
   },
   {
    "duration": 330,
    "start_time": "2021-12-27T08:57:09.009Z"
   },
   {
    "duration": 1459,
    "start_time": "2021-12-27T08:57:26.427Z"
   },
   {
    "duration": 4,
    "start_time": "2021-12-27T08:57:27.889Z"
   },
   {
    "duration": 660,
    "start_time": "2021-12-27T08:57:27.896Z"
   },
   {
    "duration": 21,
    "start_time": "2021-12-27T08:57:28.559Z"
   },
   {
    "duration": 58,
    "start_time": "2021-12-27T08:57:28.583Z"
   },
   {
    "duration": 41,
    "start_time": "2021-12-27T08:57:28.644Z"
   },
   {
    "duration": 62,
    "start_time": "2021-12-27T08:57:28.687Z"
   },
   {
    "duration": 66,
    "start_time": "2021-12-27T08:57:28.753Z"
   },
   {
    "duration": 74,
    "start_time": "2021-12-27T08:57:28.822Z"
   },
   {
    "duration": 79,
    "start_time": "2021-12-27T08:57:28.899Z"
   },
   {
    "duration": 56,
    "start_time": "2021-12-27T08:57:28.981Z"
   },
   {
    "duration": 50,
    "start_time": "2021-12-27T08:57:29.043Z"
   },
   {
    "duration": 78,
    "start_time": "2021-12-27T08:57:29.096Z"
   },
   {
    "duration": 15,
    "start_time": "2021-12-27T08:57:29.178Z"
   },
   {
    "duration": 84,
    "start_time": "2021-12-27T08:57:29.196Z"
   },
   {
    "duration": 30,
    "start_time": "2021-12-27T08:57:29.283Z"
   },
   {
    "duration": 54,
    "start_time": "2021-12-27T08:57:29.316Z"
   },
   {
    "duration": 56,
    "start_time": "2021-12-27T08:57:29.372Z"
   },
   {
    "duration": 67,
    "start_time": "2021-12-27T08:57:29.430Z"
   },
   {
    "duration": 58,
    "start_time": "2021-12-27T08:57:29.499Z"
   },
   {
    "duration": 87,
    "start_time": "2021-12-27T08:57:29.560Z"
   },
   {
    "duration": 29,
    "start_time": "2021-12-27T08:57:29.650Z"
   },
   {
    "duration": 27,
    "start_time": "2021-12-27T08:57:29.685Z"
   },
   {
    "duration": 90,
    "start_time": "2021-12-27T08:57:29.716Z"
   },
   {
    "duration": 42,
    "start_time": "2021-12-27T08:57:29.809Z"
   },
   {
    "duration": 81,
    "start_time": "2021-12-27T08:57:29.854Z"
   },
   {
    "duration": 67,
    "start_time": "2021-12-27T08:57:29.938Z"
   },
   {
    "duration": 72,
    "start_time": "2021-12-27T08:57:30.008Z"
   },
   {
    "duration": 46,
    "start_time": "2021-12-27T08:57:30.084Z"
   },
   {
    "duration": 28,
    "start_time": "2021-12-27T08:57:30.133Z"
   },
   {
    "duration": 51,
    "start_time": "2021-12-27T08:57:30.164Z"
   },
   {
    "duration": 32,
    "start_time": "2021-12-27T08:57:30.217Z"
   },
   {
    "duration": 57,
    "start_time": "2021-12-27T08:57:30.251Z"
   },
   {
    "duration": 79,
    "start_time": "2021-12-27T08:57:30.310Z"
   },
   {
    "duration": 53,
    "start_time": "2021-12-27T08:57:30.391Z"
   },
   {
    "duration": 15,
    "start_time": "2021-12-27T08:57:30.446Z"
   },
   {
    "duration": 63,
    "start_time": "2021-12-27T08:57:30.464Z"
   },
   {
    "duration": 20,
    "start_time": "2021-12-27T08:57:30.529Z"
   },
   {
    "duration": 42,
    "start_time": "2021-12-27T08:57:30.551Z"
   },
   {
    "duration": 35,
    "start_time": "2021-12-27T08:57:30.595Z"
   },
   {
    "duration": 102,
    "start_time": "2021-12-27T08:57:30.632Z"
   },
   {
    "duration": 29,
    "start_time": "2021-12-27T08:57:30.739Z"
   },
   {
    "duration": 64,
    "start_time": "2021-12-27T08:57:30.771Z"
   },
   {
    "duration": 15,
    "start_time": "2021-12-27T08:57:30.838Z"
   },
   {
    "duration": 77,
    "start_time": "2021-12-27T08:57:30.855Z"
   },
   {
    "duration": 26,
    "start_time": "2021-12-27T08:57:30.934Z"
   },
   {
    "duration": 55,
    "start_time": "2021-12-27T08:57:30.962Z"
   },
   {
    "duration": 57,
    "start_time": "2021-12-27T08:57:31.020Z"
   },
   {
    "duration": 66,
    "start_time": "2021-12-27T08:57:31.079Z"
   },
   {
    "duration": 60,
    "start_time": "2021-12-27T08:57:31.147Z"
   },
   {
    "duration": 500,
    "start_time": "2021-12-27T08:57:31.210Z"
   },
   {
    "duration": 14,
    "start_time": "2021-12-27T08:58:53.310Z"
   },
   {
    "duration": 1317,
    "start_time": "2021-12-27T09:04:29.950Z"
   },
   {
    "duration": 4,
    "start_time": "2021-12-27T09:04:31.271Z"
   },
   {
    "duration": 504,
    "start_time": "2021-12-27T09:04:31.279Z"
   },
   {
    "duration": 20,
    "start_time": "2021-12-27T09:04:31.786Z"
   },
   {
    "duration": 33,
    "start_time": "2021-12-27T09:04:31.809Z"
   },
   {
    "duration": 9,
    "start_time": "2021-12-27T09:04:31.845Z"
   },
   {
    "duration": 12,
    "start_time": "2021-12-27T09:04:31.857Z"
   },
   {
    "duration": 11,
    "start_time": "2021-12-27T09:04:31.873Z"
   },
   {
    "duration": 13,
    "start_time": "2021-12-27T09:04:31.924Z"
   },
   {
    "duration": 23,
    "start_time": "2021-12-27T09:04:31.939Z"
   },
   {
    "duration": 70,
    "start_time": "2021-12-27T09:04:31.964Z"
   },
   {
    "duration": 25,
    "start_time": "2021-12-27T09:04:32.037Z"
   },
   {
    "duration": 28,
    "start_time": "2021-12-27T09:04:32.064Z"
   },
   {
    "duration": 4,
    "start_time": "2021-12-27T09:04:32.094Z"
   },
   {
    "duration": 16,
    "start_time": "2021-12-27T09:04:32.123Z"
   },
   {
    "duration": 11,
    "start_time": "2021-12-27T09:04:32.141Z"
   },
   {
    "duration": 14,
    "start_time": "2021-12-27T09:04:32.155Z"
   },
   {
    "duration": 62,
    "start_time": "2021-12-27T09:04:32.172Z"
   },
   {
    "duration": 20,
    "start_time": "2021-12-27T09:04:32.237Z"
   },
   {
    "duration": 19,
    "start_time": "2021-12-27T09:04:32.260Z"
   },
   {
    "duration": 53,
    "start_time": "2021-12-27T09:04:32.282Z"
   },
   {
    "duration": 13,
    "start_time": "2021-12-27T09:04:32.337Z"
   },
   {
    "duration": 10,
    "start_time": "2021-12-27T09:04:32.357Z"
   },
   {
    "duration": 79,
    "start_time": "2021-12-27T09:04:32.372Z"
   },
   {
    "duration": 26,
    "start_time": "2021-12-27T09:04:32.454Z"
   },
   {
    "duration": 70,
    "start_time": "2021-12-27T09:04:32.483Z"
   },
   {
    "duration": 33,
    "start_time": "2021-12-27T09:04:32.555Z"
   },
   {
    "duration": 6,
    "start_time": "2021-12-27T09:04:32.591Z"
   },
   {
    "duration": 32,
    "start_time": "2021-12-27T09:04:32.599Z"
   },
   {
    "duration": 7,
    "start_time": "2021-12-27T09:04:32.634Z"
   },
   {
    "duration": 11,
    "start_time": "2021-12-27T09:04:32.644Z"
   },
   {
    "duration": 12,
    "start_time": "2021-12-27T09:04:32.658Z"
   },
   {
    "duration": 51,
    "start_time": "2021-12-27T09:04:32.673Z"
   },
   {
    "duration": 40,
    "start_time": "2021-12-27T09:04:32.727Z"
   },
   {
    "duration": 5,
    "start_time": "2021-12-27T09:04:32.770Z"
   },
   {
    "duration": 64,
    "start_time": "2021-12-27T09:04:32.778Z"
   },
   {
    "duration": 13,
    "start_time": "2021-12-27T09:04:32.845Z"
   },
   {
    "duration": 62,
    "start_time": "2021-12-27T09:04:32.861Z"
   },
   {
    "duration": 10,
    "start_time": "2021-12-27T09:04:32.925Z"
   },
   {
    "duration": 34,
    "start_time": "2021-12-27T09:04:32.937Z"
   },
   {
    "duration": 13,
    "start_time": "2021-12-27T09:04:32.974Z"
   },
   {
    "duration": 44,
    "start_time": "2021-12-27T09:04:32.991Z"
   },
   {
    "duration": 11,
    "start_time": "2021-12-27T09:04:33.038Z"
   },
   {
    "duration": 26,
    "start_time": "2021-12-27T09:04:33.052Z"
   },
   {
    "duration": 42,
    "start_time": "2021-12-27T09:04:33.081Z"
   },
   {
    "duration": 25,
    "start_time": "2021-12-27T09:04:33.126Z"
   },
   {
    "duration": 13,
    "start_time": "2021-12-27T09:04:33.154Z"
   },
   {
    "duration": 14,
    "start_time": "2021-12-27T09:04:33.171Z"
   },
   {
    "duration": 16,
    "start_time": "2021-12-27T09:04:33.223Z"
   },
   {
    "duration": 13,
    "start_time": "2021-12-27T09:04:33.242Z"
   },
   {
    "duration": 13,
    "start_time": "2021-12-27T09:04:33.257Z"
   },
   {
    "duration": 53,
    "start_time": "2021-12-27T09:04:33.272Z"
   },
   {
    "duration": 438,
    "start_time": "2021-12-27T09:04:33.328Z"
   },
   {
    "duration": 397,
    "start_time": "2021-12-27T09:04:40.814Z"
   },
   {
    "duration": 1616,
    "start_time": "2021-12-27T09:04:53.510Z"
   },
   {
    "duration": 5,
    "start_time": "2021-12-27T09:04:55.129Z"
   },
   {
    "duration": 544,
    "start_time": "2021-12-27T09:04:55.138Z"
   },
   {
    "duration": 21,
    "start_time": "2021-12-27T09:04:55.685Z"
   },
   {
    "duration": 28,
    "start_time": "2021-12-27T09:04:55.709Z"
   },
   {
    "duration": 10,
    "start_time": "2021-12-27T09:04:55.739Z"
   },
   {
    "duration": 11,
    "start_time": "2021-12-27T09:04:55.752Z"
   },
   {
    "duration": 11,
    "start_time": "2021-12-27T09:04:55.768Z"
   },
   {
    "duration": 13,
    "start_time": "2021-12-27T09:04:55.824Z"
   },
   {
    "duration": 26,
    "start_time": "2021-12-27T09:04:55.840Z"
   },
   {
    "duration": 78,
    "start_time": "2021-12-27T09:04:55.869Z"
   },
   {
    "duration": 25,
    "start_time": "2021-12-27T09:04:55.951Z"
   },
   {
    "duration": 54,
    "start_time": "2021-12-27T09:04:55.979Z"
   },
   {
    "duration": 6,
    "start_time": "2021-12-27T09:04:56.036Z"
   },
   {
    "duration": 19,
    "start_time": "2021-12-27T09:04:56.045Z"
   },
   {
    "duration": 12,
    "start_time": "2021-12-27T09:04:56.067Z"
   },
   {
    "duration": 45,
    "start_time": "2021-12-27T09:04:56.082Z"
   },
   {
    "duration": 22,
    "start_time": "2021-12-27T09:04:56.129Z"
   },
   {
    "duration": 19,
    "start_time": "2021-12-27T09:04:56.154Z"
   },
   {
    "duration": 61,
    "start_time": "2021-12-27T09:04:56.176Z"
   },
   {
    "duration": 25,
    "start_time": "2021-12-27T09:04:56.240Z"
   },
   {
    "duration": 12,
    "start_time": "2021-12-27T09:04:56.268Z"
   },
   {
    "duration": 43,
    "start_time": "2021-12-27T09:04:56.287Z"
   },
   {
    "duration": 40,
    "start_time": "2021-12-27T09:04:56.335Z"
   },
   {
    "duration": 60,
    "start_time": "2021-12-27T09:04:56.378Z"
   },
   {
    "duration": 41,
    "start_time": "2021-12-27T09:04:56.441Z"
   },
   {
    "duration": 48,
    "start_time": "2021-12-27T09:04:56.485Z"
   },
   {
    "duration": 8,
    "start_time": "2021-12-27T09:04:56.535Z"
   },
   {
    "duration": 16,
    "start_time": "2021-12-27T09:04:56.545Z"
   },
   {
    "duration": 13,
    "start_time": "2021-12-27T09:04:56.563Z"
   },
   {
    "duration": 10,
    "start_time": "2021-12-27T09:04:56.579Z"
   },
   {
    "duration": 39,
    "start_time": "2021-12-27T09:04:56.592Z"
   },
   {
    "duration": 8,
    "start_time": "2021-12-27T09:04:56.633Z"
   },
   {
    "duration": 39,
    "start_time": "2021-12-27T09:04:56.643Z"
   },
   {
    "duration": 5,
    "start_time": "2021-12-27T09:04:56.684Z"
   },
   {
    "duration": 30,
    "start_time": "2021-12-27T09:04:56.723Z"
   },
   {
    "duration": 12,
    "start_time": "2021-12-27T09:04:56.755Z"
   },
   {
    "duration": 63,
    "start_time": "2021-12-27T09:04:56.771Z"
   },
   {
    "duration": 9,
    "start_time": "2021-12-27T09:04:56.837Z"
   },
   {
    "duration": 21,
    "start_time": "2021-12-27T09:04:56.849Z"
   },
   {
    "duration": 11,
    "start_time": "2021-12-27T09:04:56.872Z"
   },
   {
    "duration": 48,
    "start_time": "2021-12-27T09:04:56.886Z"
   },
   {
    "duration": 12,
    "start_time": "2021-12-27T09:04:56.936Z"
   },
   {
    "duration": 24,
    "start_time": "2021-12-27T09:04:56.950Z"
   },
   {
    "duration": 49,
    "start_time": "2021-12-27T09:04:56.976Z"
   },
   {
    "duration": 25,
    "start_time": "2021-12-27T09:04:57.028Z"
   },
   {
    "duration": 12,
    "start_time": "2021-12-27T09:04:57.056Z"
   },
   {
    "duration": 12,
    "start_time": "2021-12-27T09:04:57.071Z"
   },
   {
    "duration": 46,
    "start_time": "2021-12-27T09:04:57.086Z"
   },
   {
    "duration": 12,
    "start_time": "2021-12-27T09:04:57.135Z"
   },
   {
    "duration": 11,
    "start_time": "2021-12-27T09:04:57.149Z"
   },
   {
    "duration": 12,
    "start_time": "2021-12-27T09:04:57.162Z"
   },
   {
    "duration": 12,
    "start_time": "2021-12-27T09:05:34.773Z"
   },
   {
    "duration": 417,
    "start_time": "2021-12-27T09:06:27.217Z"
   },
   {
    "duration": 26,
    "start_time": "2021-12-27T09:06:39.950Z"
   },
   {
    "duration": 48,
    "start_time": "2021-12-27T09:07:28.310Z"
   },
   {
    "duration": 36,
    "start_time": "2021-12-27T09:08:06.720Z"
   },
   {
    "duration": 1390,
    "start_time": "2021-12-27T09:10:46.134Z"
   },
   {
    "duration": 4,
    "start_time": "2021-12-27T09:10:47.526Z"
   },
   {
    "duration": 526,
    "start_time": "2021-12-27T09:10:47.533Z"
   },
   {
    "duration": 19,
    "start_time": "2021-12-27T09:10:48.061Z"
   },
   {
    "duration": 21,
    "start_time": "2021-12-27T09:10:48.082Z"
   },
   {
    "duration": 23,
    "start_time": "2021-12-27T09:10:48.106Z"
   },
   {
    "duration": 13,
    "start_time": "2021-12-27T09:10:48.132Z"
   },
   {
    "duration": 16,
    "start_time": "2021-12-27T09:10:48.149Z"
   },
   {
    "duration": 10,
    "start_time": "2021-12-27T09:10:48.168Z"
   },
   {
    "duration": 59,
    "start_time": "2021-12-27T09:10:48.181Z"
   },
   {
    "duration": 38,
    "start_time": "2021-12-27T09:10:48.243Z"
   },
   {
    "duration": 40,
    "start_time": "2021-12-27T09:10:48.283Z"
   },
   {
    "duration": 29,
    "start_time": "2021-12-27T09:10:48.325Z"
   },
   {
    "duration": 5,
    "start_time": "2021-12-27T09:10:48.356Z"
   },
   {
    "duration": 27,
    "start_time": "2021-12-27T09:10:48.363Z"
   },
   {
    "duration": 35,
    "start_time": "2021-12-27T09:10:48.392Z"
   },
   {
    "duration": 11,
    "start_time": "2021-12-27T09:10:48.430Z"
   },
   {
    "duration": 21,
    "start_time": "2021-12-27T09:10:48.444Z"
   },
   {
    "duration": 57,
    "start_time": "2021-12-27T09:10:48.468Z"
   },
   {
    "duration": 20,
    "start_time": "2021-12-27T09:10:48.529Z"
   },
   {
    "duration": 28,
    "start_time": "2021-12-27T09:10:48.552Z"
   },
   {
    "duration": 10,
    "start_time": "2021-12-27T09:10:48.582Z"
   },
   {
    "duration": 34,
    "start_time": "2021-12-27T09:10:48.598Z"
   },
   {
    "duration": 36,
    "start_time": "2021-12-27T09:10:48.635Z"
   },
   {
    "duration": 54,
    "start_time": "2021-12-27T09:10:48.673Z"
   },
   {
    "duration": 37,
    "start_time": "2021-12-27T09:10:48.730Z"
   },
   {
    "duration": 29,
    "start_time": "2021-12-27T09:10:48.770Z"
   },
   {
    "duration": 7,
    "start_time": "2021-12-27T09:10:48.822Z"
   },
   {
    "duration": 13,
    "start_time": "2021-12-27T09:10:48.831Z"
   },
   {
    "duration": 10,
    "start_time": "2021-12-27T09:10:48.847Z"
   },
   {
    "duration": 15,
    "start_time": "2021-12-27T09:10:48.860Z"
   },
   {
    "duration": 14,
    "start_time": "2021-12-27T09:10:48.877Z"
   },
   {
    "duration": 9,
    "start_time": "2021-12-27T09:10:48.924Z"
   },
   {
    "duration": 58,
    "start_time": "2021-12-27T09:10:48.936Z"
   },
   {
    "duration": 28,
    "start_time": "2021-12-27T09:10:48.997Z"
   },
   {
    "duration": 18,
    "start_time": "2021-12-27T09:10:49.028Z"
   },
   {
    "duration": 36,
    "start_time": "2021-12-27T09:10:49.049Z"
   },
   {
    "duration": 36,
    "start_time": "2021-12-27T09:10:49.088Z"
   },
   {
    "duration": 33,
    "start_time": "2021-12-27T09:10:49.127Z"
   },
   {
    "duration": 10,
    "start_time": "2021-12-27T09:10:49.163Z"
   },
   {
    "duration": 50,
    "start_time": "2021-12-27T09:10:49.175Z"
   },
   {
    "duration": 10,
    "start_time": "2021-12-27T09:10:49.227Z"
   },
   {
    "duration": 18,
    "start_time": "2021-12-27T09:10:49.240Z"
   },
   {
    "duration": 9,
    "start_time": "2021-12-27T09:10:49.260Z"
   },
   {
    "duration": 57,
    "start_time": "2021-12-27T09:10:49.272Z"
   },
   {
    "duration": 12,
    "start_time": "2021-12-27T09:10:49.332Z"
   },
   {
    "duration": 25,
    "start_time": "2021-12-27T09:10:49.346Z"
   },
   {
    "duration": 12,
    "start_time": "2021-12-27T09:10:49.374Z"
   },
   {
    "duration": 41,
    "start_time": "2021-12-27T09:10:49.389Z"
   },
   {
    "duration": 17,
    "start_time": "2021-12-27T09:10:49.433Z"
   },
   {
    "duration": 18,
    "start_time": "2021-12-27T09:10:49.452Z"
   },
   {
    "duration": 17,
    "start_time": "2021-12-27T09:10:49.473Z"
   },
   {
    "duration": 15,
    "start_time": "2021-12-27T09:10:49.524Z"
   },
   {
    "duration": 36,
    "start_time": "2021-12-27T09:10:49.542Z"
   },
   {
    "duration": 70,
    "start_time": "2021-12-27T09:10:49.581Z"
   },
   {
    "duration": 1340,
    "start_time": "2021-12-27T09:11:21.476Z"
   },
   {
    "duration": 7,
    "start_time": "2021-12-27T09:11:22.818Z"
   },
   {
    "duration": 527,
    "start_time": "2021-12-27T09:11:22.828Z"
   },
   {
    "duration": 21,
    "start_time": "2021-12-27T09:11:23.357Z"
   },
   {
    "duration": 23,
    "start_time": "2021-12-27T09:11:23.381Z"
   },
   {
    "duration": 11,
    "start_time": "2021-12-27T09:11:23.423Z"
   },
   {
    "duration": 11,
    "start_time": "2021-12-27T09:11:23.436Z"
   },
   {
    "duration": 12,
    "start_time": "2021-12-27T09:11:23.451Z"
   },
   {
    "duration": 13,
    "start_time": "2021-12-27T09:11:23.466Z"
   },
   {
    "duration": 62,
    "start_time": "2021-12-27T09:11:23.481Z"
   },
   {
    "duration": 36,
    "start_time": "2021-12-27T09:11:23.545Z"
   },
   {
    "duration": 45,
    "start_time": "2021-12-27T09:11:23.584Z"
   },
   {
    "duration": 53,
    "start_time": "2021-12-27T09:11:23.631Z"
   },
   {
    "duration": 7,
    "start_time": "2021-12-27T09:11:23.687Z"
   },
   {
    "duration": 49,
    "start_time": "2021-12-27T09:11:23.696Z"
   },
   {
    "duration": 31,
    "start_time": "2021-12-27T09:11:23.748Z"
   },
   {
    "duration": 37,
    "start_time": "2021-12-27T09:11:23.782Z"
   },
   {
    "duration": 76,
    "start_time": "2021-12-27T09:11:23.821Z"
   },
   {
    "duration": 60,
    "start_time": "2021-12-27T09:11:23.900Z"
   },
   {
    "duration": 38,
    "start_time": "2021-12-27T09:11:23.963Z"
   },
   {
    "duration": 68,
    "start_time": "2021-12-27T09:11:24.003Z"
   },
   {
    "duration": 19,
    "start_time": "2021-12-27T09:11:24.074Z"
   },
   {
    "duration": 19,
    "start_time": "2021-12-27T09:11:24.098Z"
   },
   {
    "duration": 58,
    "start_time": "2021-12-27T09:11:24.120Z"
   },
   {
    "duration": 26,
    "start_time": "2021-12-27T09:11:24.181Z"
   },
   {
    "duration": 42,
    "start_time": "2021-12-27T09:11:24.209Z"
   },
   {
    "duration": 32,
    "start_time": "2021-12-27T09:11:24.253Z"
   },
   {
    "duration": 29,
    "start_time": "2021-12-27T09:11:24.288Z"
   },
   {
    "duration": 21,
    "start_time": "2021-12-27T09:11:24.320Z"
   },
   {
    "duration": 13,
    "start_time": "2021-12-27T09:11:24.343Z"
   },
   {
    "duration": 33,
    "start_time": "2021-12-27T09:11:24.359Z"
   },
   {
    "duration": 16,
    "start_time": "2021-12-27T09:11:24.395Z"
   },
   {
    "duration": 36,
    "start_time": "2021-12-27T09:11:24.413Z"
   },
   {
    "duration": 59,
    "start_time": "2021-12-27T09:11:24.451Z"
   },
   {
    "duration": 4,
    "start_time": "2021-12-27T09:11:24.512Z"
   },
   {
    "duration": 36,
    "start_time": "2021-12-27T09:11:24.519Z"
   },
   {
    "duration": 50,
    "start_time": "2021-12-27T09:11:24.557Z"
   },
   {
    "duration": 12,
    "start_time": "2021-12-27T09:11:24.610Z"
   },
   {
    "duration": 56,
    "start_time": "2021-12-27T09:11:24.625Z"
   },
   {
    "duration": 11,
    "start_time": "2021-12-27T09:11:24.683Z"
   },
   {
    "duration": 28,
    "start_time": "2021-12-27T09:11:24.697Z"
   },
   {
    "duration": 28,
    "start_time": "2021-12-27T09:11:24.727Z"
   },
   {
    "duration": 36,
    "start_time": "2021-12-27T09:11:24.757Z"
   },
   {
    "duration": 10,
    "start_time": "2021-12-27T09:11:24.795Z"
   },
   {
    "duration": 46,
    "start_time": "2021-12-27T09:11:24.809Z"
   },
   {
    "duration": 14,
    "start_time": "2021-12-27T09:11:24.857Z"
   },
   {
    "duration": 41,
    "start_time": "2021-12-27T09:11:24.874Z"
   },
   {
    "duration": 13,
    "start_time": "2021-12-27T09:11:24.917Z"
   },
   {
    "duration": 33,
    "start_time": "2021-12-27T09:11:24.932Z"
   },
   {
    "duration": 37,
    "start_time": "2021-12-27T09:11:24.967Z"
   },
   {
    "duration": 37,
    "start_time": "2021-12-27T09:11:25.007Z"
   },
   {
    "duration": 20,
    "start_time": "2021-12-27T09:11:25.047Z"
   },
   {
    "duration": 43,
    "start_time": "2021-12-27T09:11:25.070Z"
   },
   {
    "duration": 46,
    "start_time": "2021-12-27T09:11:25.115Z"
   },
   {
    "duration": 30,
    "start_time": "2021-12-27T09:11:25.163Z"
   },
   {
    "duration": 8,
    "start_time": "2021-12-27T09:14:03.828Z"
   },
   {
    "duration": 21,
    "start_time": "2021-12-27T09:14:19.968Z"
   },
   {
    "duration": 36,
    "start_time": "2021-12-27T09:15:49.104Z"
   },
   {
    "duration": 38,
    "start_time": "2021-12-27T09:16:32.125Z"
   },
   {
    "duration": 45,
    "start_time": "2021-12-27T09:16:34.627Z"
   },
   {
    "duration": 55,
    "start_time": "2021-12-27T09:18:21.586Z"
   },
   {
    "duration": 62,
    "start_time": "2021-12-27T09:19:56.951Z"
   },
   {
    "duration": 15,
    "start_time": "2021-12-27T09:20:15.405Z"
   },
   {
    "duration": 72,
    "start_time": "2021-12-27T09:20:34.020Z"
   },
   {
    "duration": 1373,
    "start_time": "2021-12-27T09:21:10.245Z"
   },
   {
    "duration": 3,
    "start_time": "2021-12-27T09:21:11.623Z"
   },
   {
    "duration": 574,
    "start_time": "2021-12-27T09:21:11.630Z"
   },
   {
    "duration": 19,
    "start_time": "2021-12-27T09:21:12.207Z"
   },
   {
    "duration": 22,
    "start_time": "2021-12-27T09:21:12.228Z"
   },
   {
    "duration": 9,
    "start_time": "2021-12-27T09:21:12.252Z"
   },
   {
    "duration": 9,
    "start_time": "2021-12-27T09:21:12.263Z"
   },
   {
    "duration": 52,
    "start_time": "2021-12-27T09:21:12.276Z"
   },
   {
    "duration": 11,
    "start_time": "2021-12-27T09:21:12.331Z"
   },
   {
    "duration": 22,
    "start_time": "2021-12-27T09:21:12.344Z"
   },
   {
    "duration": 67,
    "start_time": "2021-12-27T09:21:12.369Z"
   },
   {
    "duration": 24,
    "start_time": "2021-12-27T09:21:12.438Z"
   },
   {
    "duration": 32,
    "start_time": "2021-12-27T09:21:12.464Z"
   },
   {
    "duration": 26,
    "start_time": "2021-12-27T09:21:12.498Z"
   },
   {
    "duration": 38,
    "start_time": "2021-12-27T09:21:12.526Z"
   },
   {
    "duration": 12,
    "start_time": "2021-12-27T09:21:12.566Z"
   },
   {
    "duration": 9,
    "start_time": "2021-12-27T09:21:12.581Z"
   },
   {
    "duration": 41,
    "start_time": "2021-12-27T09:21:12.593Z"
   },
   {
    "duration": 18,
    "start_time": "2021-12-27T09:21:12.637Z"
   },
   {
    "duration": 19,
    "start_time": "2021-12-27T09:21:12.657Z"
   },
   {
    "duration": 61,
    "start_time": "2021-12-27T09:21:12.680Z"
   },
   {
    "duration": 14,
    "start_time": "2021-12-27T09:21:12.743Z"
   },
   {
    "duration": 11,
    "start_time": "2021-12-27T09:21:12.763Z"
   },
   {
    "duration": 69,
    "start_time": "2021-12-27T09:21:12.777Z"
   },
   {
    "duration": 30,
    "start_time": "2021-12-27T09:21:12.849Z"
   },
   {
    "duration": 67,
    "start_time": "2021-12-27T09:21:12.881Z"
   },
   {
    "duration": 30,
    "start_time": "2021-12-27T09:21:12.951Z"
   },
   {
    "duration": 8,
    "start_time": "2021-12-27T09:21:12.984Z"
   },
   {
    "duration": 37,
    "start_time": "2021-12-27T09:21:12.994Z"
   },
   {
    "duration": 6,
    "start_time": "2021-12-27T09:21:13.033Z"
   },
   {
    "duration": 15,
    "start_time": "2021-12-27T09:21:13.041Z"
   },
   {
    "duration": 14,
    "start_time": "2021-12-27T09:21:13.058Z"
   },
   {
    "duration": 9,
    "start_time": "2021-12-27T09:21:13.074Z"
   },
   {
    "duration": 47,
    "start_time": "2021-12-27T09:21:13.125Z"
   },
   {
    "duration": 5,
    "start_time": "2021-12-27T09:21:13.175Z"
   },
   {
    "duration": 49,
    "start_time": "2021-12-27T09:21:13.184Z"
   },
   {
    "duration": 61,
    "start_time": "2021-12-27T09:21:13.237Z"
   },
   {
    "duration": 16,
    "start_time": "2021-12-27T09:21:13.301Z"
   },
   {
    "duration": 49,
    "start_time": "2021-12-27T09:21:13.320Z"
   },
   {
    "duration": 9,
    "start_time": "2021-12-27T09:21:13.372Z"
   },
   {
    "duration": 54,
    "start_time": "2021-12-27T09:21:13.384Z"
   },
   {
    "duration": 11,
    "start_time": "2021-12-27T09:21:13.441Z"
   },
   {
    "duration": 22,
    "start_time": "2021-12-27T09:21:13.455Z"
   },
   {
    "duration": 9,
    "start_time": "2021-12-27T09:21:13.480Z"
   },
   {
    "duration": 55,
    "start_time": "2021-12-27T09:21:13.491Z"
   },
   {
    "duration": 13,
    "start_time": "2021-12-27T09:21:13.548Z"
   },
   {
    "duration": 32,
    "start_time": "2021-12-27T09:21:13.563Z"
   },
   {
    "duration": 33,
    "start_time": "2021-12-27T09:21:13.598Z"
   },
   {
    "duration": 11,
    "start_time": "2021-12-27T09:21:13.634Z"
   },
   {
    "duration": 11,
    "start_time": "2021-12-27T09:21:13.648Z"
   },
   {
    "duration": 12,
    "start_time": "2021-12-27T09:21:13.662Z"
   },
   {
    "duration": 53,
    "start_time": "2021-12-27T09:21:13.677Z"
   },
   {
    "duration": 28,
    "start_time": "2021-12-27T09:22:16.156Z"
   },
   {
    "duration": 419,
    "start_time": "2021-12-27T09:23:36.002Z"
   },
   {
    "duration": 298,
    "start_time": "2021-12-27T09:23:51.558Z"
   },
   {
    "duration": 7,
    "start_time": "2021-12-27T09:27:00.273Z"
   },
   {
    "duration": 21,
    "start_time": "2021-12-27T09:27:14.283Z"
   },
   {
    "duration": 304,
    "start_time": "2021-12-27T09:28:06.994Z"
   },
   {
    "duration": 330,
    "start_time": "2021-12-27T09:28:32.526Z"
   },
   {
    "duration": 317,
    "start_time": "2021-12-27T09:28:42.477Z"
   },
   {
    "duration": 361,
    "start_time": "2021-12-27T09:29:38.775Z"
   },
   {
    "duration": 1693,
    "start_time": "2021-12-27T09:29:56.490Z"
   },
   {
    "duration": 5,
    "start_time": "2021-12-27T09:29:58.186Z"
   },
   {
    "duration": 565,
    "start_time": "2021-12-27T09:29:58.196Z"
   },
   {
    "duration": 19,
    "start_time": "2021-12-27T09:29:58.764Z"
   },
   {
    "duration": 24,
    "start_time": "2021-12-27T09:29:58.786Z"
   },
   {
    "duration": 8,
    "start_time": "2021-12-27T09:29:58.824Z"
   },
   {
    "duration": 10,
    "start_time": "2021-12-27T09:29:58.834Z"
   },
   {
    "duration": 10,
    "start_time": "2021-12-27T09:29:58.846Z"
   },
   {
    "duration": 11,
    "start_time": "2021-12-27T09:29:58.860Z"
   },
   {
    "duration": 66,
    "start_time": "2021-12-27T09:29:58.874Z"
   },
   {
    "duration": 38,
    "start_time": "2021-12-27T09:29:58.942Z"
   },
   {
    "duration": 43,
    "start_time": "2021-12-27T09:29:58.982Z"
   },
   {
    "duration": 29,
    "start_time": "2021-12-27T09:29:59.028Z"
   },
   {
    "duration": 4,
    "start_time": "2021-12-27T09:29:59.059Z"
   },
   {
    "duration": 21,
    "start_time": "2021-12-27T09:29:59.065Z"
   },
   {
    "duration": 41,
    "start_time": "2021-12-27T09:29:59.088Z"
   },
   {
    "duration": 14,
    "start_time": "2021-12-27T09:29:59.132Z"
   },
   {
    "duration": 28,
    "start_time": "2021-12-27T09:29:59.149Z"
   },
   {
    "duration": 50,
    "start_time": "2021-12-27T09:29:59.180Z"
   },
   {
    "duration": 21,
    "start_time": "2021-12-27T09:29:59.233Z"
   },
   {
    "duration": 28,
    "start_time": "2021-12-27T09:29:59.256Z"
   },
   {
    "duration": 36,
    "start_time": "2021-12-27T09:29:59.287Z"
   },
   {
    "duration": 11,
    "start_time": "2021-12-27T09:29:59.326Z"
   },
   {
    "duration": 66,
    "start_time": "2021-12-27T09:29:59.340Z"
   },
   {
    "duration": 61,
    "start_time": "2021-12-27T09:29:59.417Z"
   },
   {
    "duration": 122,
    "start_time": "2021-12-27T09:29:59.489Z"
   },
   {
    "duration": 31,
    "start_time": "2021-12-27T09:29:59.617Z"
   },
   {
    "duration": 7,
    "start_time": "2021-12-27T09:29:59.652Z"
   },
   {
    "duration": 23,
    "start_time": "2021-12-27T09:29:59.661Z"
   },
   {
    "duration": 8,
    "start_time": "2021-12-27T09:29:59.687Z"
   },
   {
    "duration": 11,
    "start_time": "2021-12-27T09:29:59.723Z"
   },
   {
    "duration": 13,
    "start_time": "2021-12-27T09:29:59.736Z"
   },
   {
    "duration": 12,
    "start_time": "2021-12-27T09:29:59.751Z"
   },
   {
    "duration": 80,
    "start_time": "2021-12-27T09:29:59.766Z"
   },
   {
    "duration": 5,
    "start_time": "2021-12-27T09:29:59.849Z"
   },
   {
    "duration": 17,
    "start_time": "2021-12-27T09:29:59.857Z"
   },
   {
    "duration": 65,
    "start_time": "2021-12-27T09:29:59.877Z"
   },
   {
    "duration": 13,
    "start_time": "2021-12-27T09:29:59.945Z"
   },
   {
    "duration": 40,
    "start_time": "2021-12-27T09:29:59.961Z"
   },
   {
    "duration": 27,
    "start_time": "2021-12-27T09:30:00.004Z"
   },
   {
    "duration": 26,
    "start_time": "2021-12-27T09:30:00.033Z"
   },
   {
    "duration": 11,
    "start_time": "2021-12-27T09:30:00.061Z"
   },
   {
    "duration": 49,
    "start_time": "2021-12-27T09:30:00.075Z"
   },
   {
    "duration": 9,
    "start_time": "2021-12-27T09:30:00.127Z"
   },
   {
    "duration": 28,
    "start_time": "2021-12-27T09:30:00.139Z"
   },
   {
    "duration": 12,
    "start_time": "2021-12-27T09:30:00.170Z"
   },
   {
    "duration": 57,
    "start_time": "2021-12-27T09:30:00.185Z"
   },
   {
    "duration": 12,
    "start_time": "2021-12-27T09:30:00.245Z"
   },
   {
    "duration": 20,
    "start_time": "2021-12-27T09:30:00.260Z"
   },
   {
    "duration": 15,
    "start_time": "2021-12-27T09:30:00.282Z"
   },
   {
    "duration": 32,
    "start_time": "2021-12-27T09:30:00.300Z"
   },
   {
    "duration": 14,
    "start_time": "2021-12-27T09:30:00.334Z"
   },
   {
    "duration": 43,
    "start_time": "2021-12-27T09:30:00.350Z"
   },
   {
    "duration": 30,
    "start_time": "2021-12-27T09:30:00.396Z"
   },
   {
    "duration": 438,
    "start_time": "2021-12-27T09:30:00.429Z"
   },
   {
    "duration": 4,
    "start_time": "2021-12-27T09:30:17.404Z"
   },
   {
    "duration": 365,
    "start_time": "2021-12-27T09:30:33.873Z"
   },
   {
    "duration": 460,
    "start_time": "2021-12-27T09:30:56.342Z"
   },
   {
    "duration": 1380,
    "start_time": "2021-12-27T09:31:08.313Z"
   },
   {
    "duration": 3,
    "start_time": "2021-12-27T09:31:09.696Z"
   },
   {
    "duration": 564,
    "start_time": "2021-12-27T09:31:09.702Z"
   },
   {
    "duration": 24,
    "start_time": "2021-12-27T09:31:10.269Z"
   },
   {
    "duration": 54,
    "start_time": "2021-12-27T09:31:10.295Z"
   },
   {
    "duration": 10,
    "start_time": "2021-12-27T09:31:10.352Z"
   },
   {
    "duration": 34,
    "start_time": "2021-12-27T09:31:10.365Z"
   },
   {
    "duration": 63,
    "start_time": "2021-12-27T09:31:10.402Z"
   },
   {
    "duration": 52,
    "start_time": "2021-12-27T09:31:10.468Z"
   },
   {
    "duration": 39,
    "start_time": "2021-12-27T09:31:10.522Z"
   },
   {
    "duration": 37,
    "start_time": "2021-12-27T09:31:10.563Z"
   },
   {
    "duration": 26,
    "start_time": "2021-12-27T09:31:10.603Z"
   },
   {
    "duration": 49,
    "start_time": "2021-12-27T09:31:10.631Z"
   },
   {
    "duration": 5,
    "start_time": "2021-12-27T09:31:10.683Z"
   },
   {
    "duration": 35,
    "start_time": "2021-12-27T09:31:10.691Z"
   },
   {
    "duration": 11,
    "start_time": "2021-12-27T09:31:10.729Z"
   },
   {
    "duration": 22,
    "start_time": "2021-12-27T09:31:10.743Z"
   },
   {
    "duration": 37,
    "start_time": "2021-12-27T09:31:10.771Z"
   },
   {
    "duration": 45,
    "start_time": "2021-12-27T09:31:10.811Z"
   },
   {
    "duration": 38,
    "start_time": "2021-12-27T09:31:10.858Z"
   },
   {
    "duration": 61,
    "start_time": "2021-12-27T09:31:10.899Z"
   },
   {
    "duration": 17,
    "start_time": "2021-12-27T09:31:10.963Z"
   },
   {
    "duration": 29,
    "start_time": "2021-12-27T09:31:10.983Z"
   },
   {
    "duration": 62,
    "start_time": "2021-12-27T09:31:11.015Z"
   },
   {
    "duration": 31,
    "start_time": "2021-12-27T09:31:11.080Z"
   },
   {
    "duration": 64,
    "start_time": "2021-12-27T09:31:11.113Z"
   },
   {
    "duration": 31,
    "start_time": "2021-12-27T09:31:11.180Z"
   },
   {
    "duration": 48,
    "start_time": "2021-12-27T09:31:11.213Z"
   },
   {
    "duration": 42,
    "start_time": "2021-12-27T09:31:11.263Z"
   },
   {
    "duration": 26,
    "start_time": "2021-12-27T09:31:11.307Z"
   },
   {
    "duration": 29,
    "start_time": "2021-12-27T09:31:11.335Z"
   },
   {
    "duration": 41,
    "start_time": "2021-12-27T09:31:11.367Z"
   },
   {
    "duration": 31,
    "start_time": "2021-12-27T09:31:11.411Z"
   },
   {
    "duration": 79,
    "start_time": "2021-12-27T09:31:11.444Z"
   },
   {
    "duration": 15,
    "start_time": "2021-12-27T09:31:11.525Z"
   },
   {
    "duration": 50,
    "start_time": "2021-12-27T09:31:11.542Z"
   },
   {
    "duration": 68,
    "start_time": "2021-12-27T09:31:11.594Z"
   },
   {
    "duration": 11,
    "start_time": "2021-12-27T09:31:11.665Z"
   },
   {
    "duration": 78,
    "start_time": "2021-12-27T09:31:11.679Z"
   },
   {
    "duration": 12,
    "start_time": "2021-12-27T09:31:11.760Z"
   },
   {
    "duration": 54,
    "start_time": "2021-12-27T09:31:11.775Z"
   },
   {
    "duration": 22,
    "start_time": "2021-12-27T09:31:11.831Z"
   },
   {
    "duration": 57,
    "start_time": "2021-12-27T09:31:11.856Z"
   },
   {
    "duration": 25,
    "start_time": "2021-12-27T09:31:11.915Z"
   },
   {
    "duration": 50,
    "start_time": "2021-12-27T09:31:11.943Z"
   },
   {
    "duration": 22,
    "start_time": "2021-12-27T09:31:11.996Z"
   },
   {
    "duration": 56,
    "start_time": "2021-12-27T09:31:12.020Z"
   },
   {
    "duration": 17,
    "start_time": "2021-12-27T09:31:12.078Z"
   },
   {
    "duration": 73,
    "start_time": "2021-12-27T09:31:12.097Z"
   },
   {
    "duration": 33,
    "start_time": "2021-12-27T09:31:12.173Z"
   },
   {
    "duration": 42,
    "start_time": "2021-12-27T09:31:12.209Z"
   },
   {
    "duration": 24,
    "start_time": "2021-12-27T09:31:12.254Z"
   },
   {
    "duration": 59,
    "start_time": "2021-12-27T09:31:12.281Z"
   },
   {
    "duration": 32,
    "start_time": "2021-12-27T09:32:51.884Z"
   },
   {
    "duration": 22,
    "start_time": "2021-12-27T09:35:31.146Z"
   },
   {
    "duration": 1661,
    "start_time": "2021-12-27T09:36:42.214Z"
   },
   {
    "duration": 4,
    "start_time": "2021-12-27T09:36:43.878Z"
   },
   {
    "duration": 548,
    "start_time": "2021-12-27T09:36:43.890Z"
   },
   {
    "duration": 27,
    "start_time": "2021-12-27T09:36:44.441Z"
   },
   {
    "duration": 22,
    "start_time": "2021-12-27T09:36:44.470Z"
   },
   {
    "duration": 32,
    "start_time": "2021-12-27T09:36:44.495Z"
   },
   {
    "duration": 9,
    "start_time": "2021-12-27T09:36:44.533Z"
   },
   {
    "duration": 11,
    "start_time": "2021-12-27T09:36:44.546Z"
   },
   {
    "duration": 13,
    "start_time": "2021-12-27T09:36:44.560Z"
   },
   {
    "duration": 64,
    "start_time": "2021-12-27T09:36:44.576Z"
   },
   {
    "duration": 40,
    "start_time": "2021-12-27T09:36:44.643Z"
   },
   {
    "duration": 47,
    "start_time": "2021-12-27T09:36:44.685Z"
   },
   {
    "duration": 30,
    "start_time": "2021-12-27T09:36:44.735Z"
   },
   {
    "duration": 4,
    "start_time": "2021-12-27T09:36:44.768Z"
   },
   {
    "duration": 52,
    "start_time": "2021-12-27T09:36:44.774Z"
   },
   {
    "duration": 11,
    "start_time": "2021-12-27T09:36:44.828Z"
   },
   {
    "duration": 11,
    "start_time": "2021-12-27T09:36:44.842Z"
   },
   {
    "duration": 20,
    "start_time": "2021-12-27T09:36:44.856Z"
   },
   {
    "duration": 54,
    "start_time": "2021-12-27T09:36:44.879Z"
   },
   {
    "duration": 27,
    "start_time": "2021-12-27T09:36:44.936Z"
   },
   {
    "duration": 30,
    "start_time": "2021-12-27T09:36:44.966Z"
   },
   {
    "duration": 33,
    "start_time": "2021-12-27T09:36:45.001Z"
   },
   {
    "duration": 20,
    "start_time": "2021-12-27T09:36:45.037Z"
   },
   {
    "duration": 48,
    "start_time": "2021-12-27T09:36:45.060Z"
   },
   {
    "duration": 26,
    "start_time": "2021-12-27T09:36:45.123Z"
   },
   {
    "duration": 38,
    "start_time": "2021-12-27T09:36:45.152Z"
   },
   {
    "duration": 52,
    "start_time": "2021-12-27T09:36:45.192Z"
   },
   {
    "duration": 22,
    "start_time": "2021-12-27T09:36:45.246Z"
   },
   {
    "duration": 25,
    "start_time": "2021-12-27T09:36:45.271Z"
   },
   {
    "duration": 9,
    "start_time": "2021-12-27T09:36:45.298Z"
   },
   {
    "duration": 16,
    "start_time": "2021-12-27T09:36:45.310Z"
   },
   {
    "duration": 22,
    "start_time": "2021-12-27T09:36:45.329Z"
   },
   {
    "duration": 25,
    "start_time": "2021-12-27T09:36:45.354Z"
   },
   {
    "duration": 47,
    "start_time": "2021-12-27T09:36:45.382Z"
   },
   {
    "duration": 4,
    "start_time": "2021-12-27T09:36:45.432Z"
   },
   {
    "duration": 13,
    "start_time": "2021-12-27T09:36:45.438Z"
   },
   {
    "duration": 31,
    "start_time": "2021-12-27T09:36:45.453Z"
   },
   {
    "duration": 39,
    "start_time": "2021-12-27T09:36:45.487Z"
   },
   {
    "duration": 37,
    "start_time": "2021-12-27T09:36:45.529Z"
   },
   {
    "duration": 9,
    "start_time": "2021-12-27T09:36:45.568Z"
   },
   {
    "duration": 50,
    "start_time": "2021-12-27T09:36:45.579Z"
   },
   {
    "duration": 11,
    "start_time": "2021-12-27T09:36:45.632Z"
   },
   {
    "duration": 20,
    "start_time": "2021-12-27T09:36:45.646Z"
   },
   {
    "duration": 9,
    "start_time": "2021-12-27T09:36:45.669Z"
   },
   {
    "duration": 56,
    "start_time": "2021-12-27T09:36:45.680Z"
   },
   {
    "duration": 12,
    "start_time": "2021-12-27T09:36:45.739Z"
   },
   {
    "duration": 41,
    "start_time": "2021-12-27T09:36:45.754Z"
   },
   {
    "duration": 10,
    "start_time": "2021-12-27T09:36:45.798Z"
   },
   {
    "duration": 22,
    "start_time": "2021-12-27T09:36:45.811Z"
   },
   {
    "duration": 18,
    "start_time": "2021-12-27T09:36:45.835Z"
   },
   {
    "duration": 32,
    "start_time": "2021-12-27T09:36:45.855Z"
   },
   {
    "duration": 12,
    "start_time": "2021-12-27T09:36:45.890Z"
   },
   {
    "duration": 28,
    "start_time": "2021-12-27T09:36:45.924Z"
   },
   {
    "duration": 15,
    "start_time": "2021-12-27T09:36:45.954Z"
   },
   {
    "duration": 8,
    "start_time": "2021-12-27T09:38:28.311Z"
   },
   {
    "duration": 419,
    "start_time": "2021-12-27T09:40:38.552Z"
   },
   {
    "duration": 8,
    "start_time": "2021-12-27T09:41:02.155Z"
   },
   {
    "duration": 9,
    "start_time": "2021-12-27T09:41:08.636Z"
   },
   {
    "duration": 23,
    "start_time": "2021-12-27T09:44:19.604Z"
   },
   {
    "duration": 34,
    "start_time": "2021-12-27T09:45:19.004Z"
   },
   {
    "duration": 866,
    "start_time": "2021-12-27T09:46:36.765Z"
   },
   {
    "duration": 592,
    "start_time": "2021-12-27T09:47:52.134Z"
   },
   {
    "duration": 1570,
    "start_time": "2021-12-27T09:48:47.033Z"
   },
   {
    "duration": 5,
    "start_time": "2021-12-27T09:48:48.606Z"
   },
   {
    "duration": 757,
    "start_time": "2021-12-27T09:48:48.624Z"
   },
   {
    "duration": 24,
    "start_time": "2021-12-27T09:48:49.386Z"
   },
   {
    "duration": 26,
    "start_time": "2021-12-27T09:48:49.412Z"
   },
   {
    "duration": 9,
    "start_time": "2021-12-27T09:48:49.440Z"
   },
   {
    "duration": 19,
    "start_time": "2021-12-27T09:48:49.452Z"
   },
   {
    "duration": 10,
    "start_time": "2021-12-27T09:48:49.475Z"
   },
   {
    "duration": 13,
    "start_time": "2021-12-27T09:48:49.525Z"
   },
   {
    "duration": 28,
    "start_time": "2021-12-27T09:48:49.541Z"
   },
   {
    "duration": 68,
    "start_time": "2021-12-27T09:48:49.571Z"
   },
   {
    "duration": 23,
    "start_time": "2021-12-27T09:48:49.642Z"
   },
   {
    "duration": 30,
    "start_time": "2021-12-27T09:48:49.668Z"
   },
   {
    "duration": 23,
    "start_time": "2021-12-27T09:48:49.701Z"
   },
   {
    "duration": 18,
    "start_time": "2021-12-27T09:48:49.727Z"
   },
   {
    "duration": 11,
    "start_time": "2021-12-27T09:48:49.749Z"
   },
   {
    "duration": 24,
    "start_time": "2021-12-27T09:48:49.762Z"
   },
   {
    "duration": 48,
    "start_time": "2021-12-27T09:48:49.788Z"
   },
   {
    "duration": 19,
    "start_time": "2021-12-27T09:48:49.839Z"
   },
   {
    "duration": 34,
    "start_time": "2021-12-27T09:48:49.861Z"
   },
   {
    "duration": 36,
    "start_time": "2021-12-27T09:48:49.897Z"
   },
   {
    "duration": 11,
    "start_time": "2021-12-27T09:48:49.935Z"
   },
   {
    "duration": 13,
    "start_time": "2021-12-27T09:48:49.954Z"
   },
   {
    "duration": 67,
    "start_time": "2021-12-27T09:48:49.971Z"
   },
   {
    "duration": 26,
    "start_time": "2021-12-27T09:48:50.041Z"
   },
   {
    "duration": 59,
    "start_time": "2021-12-27T09:48:50.071Z"
   },
   {
    "duration": 33,
    "start_time": "2021-12-27T09:48:50.133Z"
   },
   {
    "duration": 7,
    "start_time": "2021-12-27T09:48:50.169Z"
   },
   {
    "duration": 15,
    "start_time": "2021-12-27T09:48:50.179Z"
   },
   {
    "duration": 6,
    "start_time": "2021-12-27T09:48:50.223Z"
   },
   {
    "duration": 11,
    "start_time": "2021-12-27T09:48:50.232Z"
   },
   {
    "duration": 13,
    "start_time": "2021-12-27T09:48:50.246Z"
   },
   {
    "duration": 10,
    "start_time": "2021-12-27T09:48:50.262Z"
   },
   {
    "duration": 81,
    "start_time": "2021-12-27T09:48:50.275Z"
   },
   {
    "duration": 5,
    "start_time": "2021-12-27T09:48:50.358Z"
   },
   {
    "duration": 13,
    "start_time": "2021-12-27T09:48:50.365Z"
   },
   {
    "duration": 57,
    "start_time": "2021-12-27T09:48:50.380Z"
   },
   {
    "duration": 12,
    "start_time": "2021-12-27T09:48:50.439Z"
   },
   {
    "duration": 37,
    "start_time": "2021-12-27T09:48:50.455Z"
   },
   {
    "duration": 37,
    "start_time": "2021-12-27T09:48:50.494Z"
   },
   {
    "duration": 22,
    "start_time": "2021-12-27T09:48:50.534Z"
   },
   {
    "duration": 12,
    "start_time": "2021-12-27T09:48:50.558Z"
   },
   {
    "duration": 61,
    "start_time": "2021-12-27T09:48:50.573Z"
   },
   {
    "duration": 12,
    "start_time": "2021-12-27T09:48:50.636Z"
   },
   {
    "duration": 26,
    "start_time": "2021-12-27T09:48:50.650Z"
   },
   {
    "duration": 47,
    "start_time": "2021-12-27T09:48:50.679Z"
   },
   {
    "duration": 24,
    "start_time": "2021-12-27T09:48:50.729Z"
   },
   {
    "duration": 12,
    "start_time": "2021-12-27T09:48:50.756Z"
   },
   {
    "duration": 58,
    "start_time": "2021-12-27T09:48:50.771Z"
   },
   {
    "duration": 13,
    "start_time": "2021-12-27T09:48:50.832Z"
   },
   {
    "duration": 14,
    "start_time": "2021-12-27T09:48:50.848Z"
   },
   {
    "duration": 14,
    "start_time": "2021-12-27T09:48:50.864Z"
   },
   {
    "duration": 66,
    "start_time": "2021-12-27T09:48:50.882Z"
   },
   {
    "duration": 14,
    "start_time": "2021-12-27T09:48:50.951Z"
   },
   {
    "duration": 7,
    "start_time": "2021-12-27T09:48:50.968Z"
   },
   {
    "duration": 46,
    "start_time": "2021-12-27T09:48:50.977Z"
   },
   {
    "duration": 10,
    "start_time": "2021-12-27T09:48:51.026Z"
   },
   {
    "duration": 23,
    "start_time": "2021-12-27T09:48:51.038Z"
   },
   {
    "duration": 5,
    "start_time": "2021-12-27T09:48:51.063Z"
   },
   {
    "duration": 8791,
    "start_time": "2021-12-27T09:48:51.070Z"
   },
   {
    "duration": 9328,
    "start_time": "2021-12-27T09:49:42.644Z"
   },
   {
    "duration": 9,
    "start_time": "2021-12-27T10:07:43.763Z"
   },
   {
    "duration": 12,
    "start_time": "2021-12-27T10:07:54.616Z"
   },
   {
    "duration": 41,
    "start_time": "2021-12-27T10:08:41.232Z"
   },
   {
    "duration": 30,
    "start_time": "2021-12-27T10:08:57.923Z"
   },
   {
    "duration": 7,
    "start_time": "2021-12-27T10:09:01.874Z"
   },
   {
    "duration": 1362,
    "start_time": "2021-12-27T10:09:09.387Z"
   },
   {
    "duration": 3,
    "start_time": "2021-12-27T10:09:10.752Z"
   },
   {
    "duration": 523,
    "start_time": "2021-12-27T10:09:10.758Z"
   },
   {
    "duration": 19,
    "start_time": "2021-12-27T10:09:11.284Z"
   },
   {
    "duration": 26,
    "start_time": "2021-12-27T10:09:11.306Z"
   },
   {
    "duration": 8,
    "start_time": "2021-12-27T10:09:11.335Z"
   },
   {
    "duration": 9,
    "start_time": "2021-12-27T10:09:11.345Z"
   },
   {
    "duration": 8,
    "start_time": "2021-12-27T10:09:11.358Z"
   },
   {
    "duration": 10,
    "start_time": "2021-12-27T10:09:11.369Z"
   },
   {
    "duration": 22,
    "start_time": "2021-12-27T10:09:11.424Z"
   },
   {
    "duration": 36,
    "start_time": "2021-12-27T10:09:11.449Z"
   },
   {
    "duration": 54,
    "start_time": "2021-12-27T10:09:11.487Z"
   },
   {
    "duration": 29,
    "start_time": "2021-12-27T10:09:11.544Z"
   },
   {
    "duration": 5,
    "start_time": "2021-12-27T10:09:11.575Z"
   },
   {
    "duration": 42,
    "start_time": "2021-12-27T10:09:11.582Z"
   },
   {
    "duration": 11,
    "start_time": "2021-12-27T10:09:11.626Z"
   },
   {
    "duration": 12,
    "start_time": "2021-12-27T10:09:11.639Z"
   },
   {
    "duration": 20,
    "start_time": "2021-12-27T10:09:11.653Z"
   },
   {
    "duration": 50,
    "start_time": "2021-12-27T10:09:11.675Z"
   },
   {
    "duration": 18,
    "start_time": "2021-12-27T10:09:11.728Z"
   },
   {
    "duration": 41,
    "start_time": "2021-12-27T10:09:11.749Z"
   },
   {
    "duration": 11,
    "start_time": "2021-12-27T10:09:11.792Z"
   },
   {
    "duration": 11,
    "start_time": "2021-12-27T10:09:11.824Z"
   },
   {
    "duration": 37,
    "start_time": "2021-12-27T10:09:11.838Z"
   },
   {
    "duration": 51,
    "start_time": "2021-12-27T10:09:11.878Z"
   },
   {
    "duration": 42,
    "start_time": "2021-12-27T10:09:11.931Z"
   },
   {
    "duration": 48,
    "start_time": "2021-12-27T10:09:11.975Z"
   },
   {
    "duration": 6,
    "start_time": "2021-12-27T10:09:12.026Z"
   },
   {
    "duration": 13,
    "start_time": "2021-12-27T10:09:12.034Z"
   },
   {
    "duration": 9,
    "start_time": "2021-12-27T10:09:12.049Z"
   },
   {
    "duration": 16,
    "start_time": "2021-12-27T10:09:12.060Z"
   },
   {
    "duration": 49,
    "start_time": "2021-12-27T10:09:12.079Z"
   },
   {
    "duration": 10,
    "start_time": "2021-12-27T10:09:12.130Z"
   },
   {
    "duration": 38,
    "start_time": "2021-12-27T10:09:12.142Z"
   },
   {
    "duration": 5,
    "start_time": "2021-12-27T10:09:12.182Z"
   },
   {
    "duration": 37,
    "start_time": "2021-12-27T10:09:12.189Z"
   },
   {
    "duration": 33,
    "start_time": "2021-12-27T10:09:12.228Z"
   },
   {
    "duration": 11,
    "start_time": "2021-12-27T10:09:12.263Z"
   },
   {
    "duration": 69,
    "start_time": "2021-12-27T10:09:12.276Z"
   },
   {
    "duration": 10,
    "start_time": "2021-12-27T10:09:12.347Z"
   },
   {
    "duration": 22,
    "start_time": "2021-12-27T10:09:12.359Z"
   },
   {
    "duration": 11,
    "start_time": "2021-12-27T10:09:12.384Z"
   },
   {
    "duration": 19,
    "start_time": "2021-12-27T10:09:12.424Z"
   },
   {
    "duration": 10,
    "start_time": "2021-12-27T10:09:12.445Z"
   },
   {
    "duration": 26,
    "start_time": "2021-12-27T10:09:12.457Z"
   },
   {
    "duration": 39,
    "start_time": "2021-12-27T10:09:12.485Z"
   },
   {
    "duration": 23,
    "start_time": "2021-12-27T10:09:12.526Z"
   },
   {
    "duration": 10,
    "start_time": "2021-12-27T10:09:12.551Z"
   },
   {
    "duration": 12,
    "start_time": "2021-12-27T10:09:12.563Z"
   },
   {
    "duration": 47,
    "start_time": "2021-12-27T10:09:12.577Z"
   },
   {
    "duration": 13,
    "start_time": "2021-12-27T10:09:12.626Z"
   },
   {
    "duration": 11,
    "start_time": "2021-12-27T10:09:12.641Z"
   },
   {
    "duration": 26,
    "start_time": "2021-12-27T10:09:12.654Z"
   },
   {
    "duration": 55,
    "start_time": "2021-12-27T10:09:12.682Z"
   },
   {
    "duration": 8,
    "start_time": "2021-12-27T10:09:12.739Z"
   },
   {
    "duration": 7,
    "start_time": "2021-12-27T10:09:12.750Z"
   },
   {
    "duration": 7,
    "start_time": "2021-12-27T10:09:12.760Z"
   },
   {
    "duration": 62,
    "start_time": "2021-12-27T10:09:12.770Z"
   },
   {
    "duration": 12,
    "start_time": "2021-12-27T10:09:12.835Z"
   },
   {
    "duration": 6,
    "start_time": "2021-12-27T10:09:12.849Z"
   },
   {
    "duration": 9355,
    "start_time": "2021-12-27T10:09:12.857Z"
   },
   {
    "duration": 8915,
    "start_time": "2021-12-27T10:12:21.530Z"
   },
   {
    "duration": 10,
    "start_time": "2021-12-27T10:13:39.468Z"
   },
   {
    "duration": 6,
    "start_time": "2021-12-27T10:14:38.027Z"
   },
   {
    "duration": 5,
    "start_time": "2021-12-27T10:15:46.303Z"
   },
   {
    "duration": 1307,
    "start_time": "2021-12-27T10:15:52.263Z"
   },
   {
    "duration": 5,
    "start_time": "2021-12-27T10:15:53.573Z"
   },
   {
    "duration": 552,
    "start_time": "2021-12-27T10:15:53.582Z"
   },
   {
    "duration": 25,
    "start_time": "2021-12-27T10:15:54.138Z"
   },
   {
    "duration": 56,
    "start_time": "2021-12-27T10:15:54.166Z"
   },
   {
    "duration": 30,
    "start_time": "2021-12-27T10:15:54.225Z"
   },
   {
    "duration": 36,
    "start_time": "2021-12-27T10:15:54.258Z"
   },
   {
    "duration": 50,
    "start_time": "2021-12-27T10:15:54.300Z"
   },
   {
    "duration": 13,
    "start_time": "2021-12-27T10:15:54.355Z"
   },
   {
    "duration": 44,
    "start_time": "2021-12-27T10:15:54.370Z"
   },
   {
    "duration": 39,
    "start_time": "2021-12-27T10:15:54.416Z"
   },
   {
    "duration": 23,
    "start_time": "2021-12-27T10:15:54.458Z"
   },
   {
    "duration": 53,
    "start_time": "2021-12-27T10:15:54.483Z"
   },
   {
    "duration": 5,
    "start_time": "2021-12-27T10:15:54.538Z"
   },
   {
    "duration": 28,
    "start_time": "2021-12-27T10:15:54.546Z"
   },
   {
    "duration": 19,
    "start_time": "2021-12-27T10:15:54.577Z"
   },
   {
    "duration": 25,
    "start_time": "2021-12-27T10:15:54.599Z"
   },
   {
    "duration": 31,
    "start_time": "2021-12-27T10:15:54.627Z"
   },
   {
    "duration": 20,
    "start_time": "2021-12-27T10:15:54.661Z"
   },
   {
    "duration": 40,
    "start_time": "2021-12-27T10:15:54.683Z"
   },
   {
    "duration": 30,
    "start_time": "2021-12-27T10:15:54.725Z"
   },
   {
    "duration": 11,
    "start_time": "2021-12-27T10:15:54.758Z"
   },
   {
    "duration": 21,
    "start_time": "2021-12-27T10:15:54.775Z"
   },
   {
    "duration": 54,
    "start_time": "2021-12-27T10:15:54.800Z"
   },
   {
    "duration": 26,
    "start_time": "2021-12-27T10:15:54.857Z"
   },
   {
    "duration": 59,
    "start_time": "2021-12-27T10:15:54.886Z"
   },
   {
    "duration": 30,
    "start_time": "2021-12-27T10:15:54.951Z"
   },
   {
    "duration": 23,
    "start_time": "2021-12-27T10:15:54.983Z"
   },
   {
    "duration": 30,
    "start_time": "2021-12-27T10:15:55.009Z"
   },
   {
    "duration": 14,
    "start_time": "2021-12-27T10:15:55.042Z"
   },
   {
    "duration": 26,
    "start_time": "2021-12-27T10:15:55.058Z"
   },
   {
    "duration": 19,
    "start_time": "2021-12-27T10:15:55.087Z"
   },
   {
    "duration": 29,
    "start_time": "2021-12-27T10:15:55.108Z"
   },
   {
    "duration": 70,
    "start_time": "2021-12-27T10:15:55.139Z"
   },
   {
    "duration": 5,
    "start_time": "2021-12-27T10:15:55.211Z"
   },
   {
    "duration": 41,
    "start_time": "2021-12-27T10:15:55.219Z"
   },
   {
    "duration": 40,
    "start_time": "2021-12-27T10:15:55.263Z"
   },
   {
    "duration": 13,
    "start_time": "2021-12-27T10:15:55.307Z"
   },
   {
    "duration": 56,
    "start_time": "2021-12-27T10:15:55.322Z"
   },
   {
    "duration": 10,
    "start_time": "2021-12-27T10:15:55.380Z"
   },
   {
    "duration": 47,
    "start_time": "2021-12-27T10:15:55.392Z"
   },
   {
    "duration": 26,
    "start_time": "2021-12-27T10:15:55.442Z"
   },
   {
    "duration": 41,
    "start_time": "2021-12-27T10:15:55.470Z"
   },
   {
    "duration": 23,
    "start_time": "2021-12-27T10:15:55.513Z"
   },
   {
    "duration": 39,
    "start_time": "2021-12-27T10:15:55.538Z"
   },
   {
    "duration": 12,
    "start_time": "2021-12-27T10:15:55.579Z"
   },
   {
    "duration": 29,
    "start_time": "2021-12-27T10:15:55.593Z"
   },
   {
    "duration": 13,
    "start_time": "2021-12-27T10:15:55.625Z"
   },
   {
    "duration": 28,
    "start_time": "2021-12-27T10:15:55.641Z"
   },
   {
    "duration": 23,
    "start_time": "2021-12-27T10:15:55.672Z"
   },
   {
    "duration": 38,
    "start_time": "2021-12-27T10:15:55.698Z"
   },
   {
    "duration": 30,
    "start_time": "2021-12-27T10:15:55.739Z"
   },
   {
    "duration": 33,
    "start_time": "2021-12-27T10:15:55.772Z"
   },
   {
    "duration": 21,
    "start_time": "2021-12-27T10:15:55.808Z"
   },
   {
    "duration": 7,
    "start_time": "2021-12-27T10:15:55.831Z"
   },
   {
    "duration": 24,
    "start_time": "2021-12-27T10:15:55.840Z"
   },
   {
    "duration": 29,
    "start_time": "2021-12-27T10:15:55.867Z"
   },
   {
    "duration": 56,
    "start_time": "2021-12-27T10:15:55.898Z"
   },
   {
    "duration": 9,
    "start_time": "2021-12-27T10:15:55.957Z"
   },
   {
    "duration": 13,
    "start_time": "2021-12-27T10:15:55.968Z"
   },
   {
    "duration": 18,
    "start_time": "2021-12-27T10:17:04.202Z"
   },
   {
    "duration": 461,
    "start_time": "2021-12-27T10:19:11.337Z"
   },
   {
    "duration": 8976,
    "start_time": "2021-12-27T10:19:33.867Z"
   },
   {
    "duration": 6,
    "start_time": "2021-12-27T10:23:09.393Z"
   },
   {
    "duration": 16,
    "start_time": "2021-12-27T10:23:10.589Z"
   },
   {
    "duration": 349,
    "start_time": "2021-12-27T10:23:13.239Z"
   },
   {
    "duration": 334,
    "start_time": "2021-12-27T10:23:49.120Z"
   },
   {
    "duration": 1397,
    "start_time": "2021-12-27T10:24:23.184Z"
   },
   {
    "duration": 4,
    "start_time": "2021-12-27T10:24:24.584Z"
   },
   {
    "duration": 547,
    "start_time": "2021-12-27T10:24:24.591Z"
   },
   {
    "duration": 18,
    "start_time": "2021-12-27T10:24:25.141Z"
   },
   {
    "duration": 33,
    "start_time": "2021-12-27T10:24:25.162Z"
   },
   {
    "duration": 23,
    "start_time": "2021-12-27T10:24:25.197Z"
   },
   {
    "duration": 34,
    "start_time": "2021-12-27T10:24:25.222Z"
   },
   {
    "duration": 16,
    "start_time": "2021-12-27T10:24:25.260Z"
   },
   {
    "duration": 23,
    "start_time": "2021-12-27T10:24:25.279Z"
   },
   {
    "duration": 38,
    "start_time": "2021-12-27T10:24:25.304Z"
   },
   {
    "duration": 37,
    "start_time": "2021-12-27T10:24:25.344Z"
   },
   {
    "duration": 40,
    "start_time": "2021-12-27T10:24:25.383Z"
   },
   {
    "duration": 56,
    "start_time": "2021-12-27T10:24:25.425Z"
   },
   {
    "duration": 5,
    "start_time": "2021-12-27T10:24:25.484Z"
   },
   {
    "duration": 39,
    "start_time": "2021-12-27T10:24:25.492Z"
   },
   {
    "duration": 16,
    "start_time": "2021-12-27T10:24:25.534Z"
   },
   {
    "duration": 32,
    "start_time": "2021-12-27T10:24:25.553Z"
   },
   {
    "duration": 50,
    "start_time": "2021-12-27T10:24:25.588Z"
   },
   {
    "duration": 29,
    "start_time": "2021-12-27T10:24:25.640Z"
   },
   {
    "duration": 20,
    "start_time": "2021-12-27T10:24:25.672Z"
   },
   {
    "duration": 54,
    "start_time": "2021-12-27T10:24:25.694Z"
   },
   {
    "duration": 10,
    "start_time": "2021-12-27T10:24:25.751Z"
   },
   {
    "duration": 19,
    "start_time": "2021-12-27T10:24:25.767Z"
   },
   {
    "duration": 55,
    "start_time": "2021-12-27T10:24:25.789Z"
   },
   {
    "duration": 28,
    "start_time": "2021-12-27T10:24:25.846Z"
   },
   {
    "duration": 57,
    "start_time": "2021-12-27T10:24:25.876Z"
   },
   {
    "duration": 33,
    "start_time": "2021-12-27T10:24:25.935Z"
   },
   {
    "duration": 26,
    "start_time": "2021-12-27T10:24:25.971Z"
   },
   {
    "duration": 39,
    "start_time": "2021-12-27T10:24:25.999Z"
   },
   {
    "duration": 23,
    "start_time": "2021-12-27T10:24:26.041Z"
   },
   {
    "duration": 33,
    "start_time": "2021-12-27T10:24:26.066Z"
   },
   {
    "duration": 23,
    "start_time": "2021-12-27T10:24:26.101Z"
   },
   {
    "duration": 21,
    "start_time": "2021-12-27T10:24:26.126Z"
   },
   {
    "duration": 53,
    "start_time": "2021-12-27T10:24:26.150Z"
   },
   {
    "duration": 6,
    "start_time": "2021-12-27T10:24:26.205Z"
   },
   {
    "duration": 42,
    "start_time": "2021-12-27T10:24:26.214Z"
   },
   {
    "duration": 38,
    "start_time": "2021-12-27T10:24:26.259Z"
   },
   {
    "duration": 15,
    "start_time": "2021-12-27T10:24:26.300Z"
   },
   {
    "duration": 35,
    "start_time": "2021-12-27T10:24:26.325Z"
   },
   {
    "duration": 10,
    "start_time": "2021-12-27T10:24:26.362Z"
   },
   {
    "duration": 52,
    "start_time": "2021-12-27T10:24:26.375Z"
   },
   {
    "duration": 12,
    "start_time": "2021-12-27T10:24:26.429Z"
   },
   {
    "duration": 19,
    "start_time": "2021-12-27T10:24:26.443Z"
   },
   {
    "duration": 9,
    "start_time": "2021-12-27T10:24:26.465Z"
   },
   {
    "duration": 65,
    "start_time": "2021-12-27T10:24:26.477Z"
   },
   {
    "duration": 13,
    "start_time": "2021-12-27T10:24:26.544Z"
   },
   {
    "duration": 25,
    "start_time": "2021-12-27T10:24:26.559Z"
   },
   {
    "duration": 41,
    "start_time": "2021-12-27T10:24:26.587Z"
   },
   {
    "duration": 13,
    "start_time": "2021-12-27T10:24:26.631Z"
   },
   {
    "duration": 11,
    "start_time": "2021-12-27T10:24:26.647Z"
   },
   {
    "duration": 18,
    "start_time": "2021-12-27T10:24:26.661Z"
   },
   {
    "duration": 44,
    "start_time": "2021-12-27T10:24:26.681Z"
   },
   {
    "duration": 26,
    "start_time": "2021-12-27T10:24:26.728Z"
   },
   {
    "duration": 14,
    "start_time": "2021-12-27T10:24:26.757Z"
   },
   {
    "duration": 9,
    "start_time": "2021-12-27T10:24:26.773Z"
   },
   {
    "duration": 9,
    "start_time": "2021-12-27T10:24:26.824Z"
   },
   {
    "duration": 12,
    "start_time": "2021-12-27T10:24:26.835Z"
   },
   {
    "duration": 22,
    "start_time": "2021-12-27T10:24:26.850Z"
   },
   {
    "duration": 10,
    "start_time": "2021-12-27T10:24:26.875Z"
   },
   {
    "duration": 5,
    "start_time": "2021-12-27T10:24:26.923Z"
   },
   {
    "duration": 20,
    "start_time": "2021-12-27T10:24:26.931Z"
   },
   {
    "duration": 347,
    "start_time": "2021-12-27T10:24:26.953Z"
   },
   {
    "duration": 25,
    "start_time": "2021-12-27T10:24:43.267Z"
   },
   {
    "duration": 322,
    "start_time": "2021-12-27T10:25:07.646Z"
   },
   {
    "duration": 17,
    "start_time": "2021-12-27T10:25:09.436Z"
   },
   {
    "duration": 6,
    "start_time": "2021-12-27T10:25:33.082Z"
   },
   {
    "duration": 322,
    "start_time": "2021-12-27T10:25:33.669Z"
   },
   {
    "duration": 17,
    "start_time": "2021-12-27T10:25:34.153Z"
   },
   {
    "duration": 5,
    "start_time": "2021-12-27T10:25:45.038Z"
   },
   {
    "duration": 336,
    "start_time": "2021-12-27T10:25:45.724Z"
   },
   {
    "duration": 1364,
    "start_time": "2021-12-27T10:25:52.716Z"
   },
   {
    "duration": 3,
    "start_time": "2021-12-27T10:25:54.083Z"
   },
   {
    "duration": 532,
    "start_time": "2021-12-27T10:25:54.089Z"
   },
   {
    "duration": 19,
    "start_time": "2021-12-27T10:25:54.624Z"
   },
   {
    "duration": 23,
    "start_time": "2021-12-27T10:25:54.645Z"
   },
   {
    "duration": 10,
    "start_time": "2021-12-27T10:25:54.670Z"
   },
   {
    "duration": 47,
    "start_time": "2021-12-27T10:25:54.682Z"
   },
   {
    "duration": 11,
    "start_time": "2021-12-27T10:25:54.732Z"
   },
   {
    "duration": 11,
    "start_time": "2021-12-27T10:25:54.748Z"
   },
   {
    "duration": 24,
    "start_time": "2021-12-27T10:25:54.762Z"
   },
   {
    "duration": 69,
    "start_time": "2021-12-27T10:25:54.788Z"
   },
   {
    "duration": 27,
    "start_time": "2021-12-27T10:25:54.860Z"
   },
   {
    "duration": 55,
    "start_time": "2021-12-27T10:25:54.889Z"
   },
   {
    "duration": 5,
    "start_time": "2021-12-27T10:25:54.946Z"
   },
   {
    "duration": 21,
    "start_time": "2021-12-27T10:25:54.953Z"
   },
   {
    "duration": 11,
    "start_time": "2021-12-27T10:25:54.976Z"
   },
   {
    "duration": 43,
    "start_time": "2021-12-27T10:25:54.989Z"
   },
   {
    "duration": 23,
    "start_time": "2021-12-27T10:25:55.034Z"
   },
   {
    "duration": 18,
    "start_time": "2021-12-27T10:25:55.060Z"
   },
   {
    "duration": 52,
    "start_time": "2021-12-27T10:25:55.080Z"
   },
   {
    "duration": 29,
    "start_time": "2021-12-27T10:25:55.134Z"
   },
   {
    "duration": 12,
    "start_time": "2021-12-27T10:25:55.166Z"
   },
   {
    "duration": 11,
    "start_time": "2021-12-27T10:25:55.181Z"
   },
   {
    "duration": 37,
    "start_time": "2021-12-27T10:25:55.223Z"
   },
   {
    "duration": 61,
    "start_time": "2021-12-27T10:25:55.263Z"
   },
   {
    "duration": 39,
    "start_time": "2021-12-27T10:25:55.327Z"
   },
   {
    "duration": 50,
    "start_time": "2021-12-27T10:25:55.374Z"
   },
   {
    "duration": 5,
    "start_time": "2021-12-27T10:25:55.428Z"
   },
   {
    "duration": 12,
    "start_time": "2021-12-27T10:25:55.435Z"
   },
   {
    "duration": 7,
    "start_time": "2021-12-27T10:25:55.449Z"
   },
   {
    "duration": 10,
    "start_time": "2021-12-27T10:25:55.459Z"
   },
   {
    "duration": 53,
    "start_time": "2021-12-27T10:25:55.471Z"
   },
   {
    "duration": 10,
    "start_time": "2021-12-27T10:25:55.527Z"
   },
   {
    "duration": 38,
    "start_time": "2021-12-27T10:25:55.539Z"
   },
   {
    "duration": 5,
    "start_time": "2021-12-27T10:25:55.579Z"
   },
   {
    "duration": 44,
    "start_time": "2021-12-27T10:25:55.586Z"
   },
   {
    "duration": 32,
    "start_time": "2021-12-27T10:25:55.633Z"
   },
   {
    "duration": 12,
    "start_time": "2021-12-27T10:25:55.668Z"
   },
   {
    "duration": 64,
    "start_time": "2021-12-27T10:25:55.682Z"
   },
   {
    "duration": 10,
    "start_time": "2021-12-27T10:25:55.749Z"
   },
   {
    "duration": 26,
    "start_time": "2021-12-27T10:25:55.762Z"
   },
   {
    "duration": 39,
    "start_time": "2021-12-27T10:25:55.791Z"
   },
   {
    "duration": 26,
    "start_time": "2021-12-27T10:25:55.833Z"
   },
   {
    "duration": 11,
    "start_time": "2021-12-27T10:25:55.862Z"
   },
   {
    "duration": 57,
    "start_time": "2021-12-27T10:25:55.876Z"
   },
   {
    "duration": 13,
    "start_time": "2021-12-27T10:25:55.936Z"
   },
   {
    "duration": 27,
    "start_time": "2021-12-27T10:25:55.951Z"
   },
   {
    "duration": 13,
    "start_time": "2021-12-27T10:25:55.981Z"
   },
   {
    "duration": 11,
    "start_time": "2021-12-27T10:25:56.023Z"
   },
   {
    "duration": 12,
    "start_time": "2021-12-27T10:25:56.036Z"
   },
   {
    "duration": 16,
    "start_time": "2021-12-27T10:25:56.050Z"
   },
   {
    "duration": 14,
    "start_time": "2021-12-27T10:25:56.069Z"
   },
   {
    "duration": 27,
    "start_time": "2021-12-27T10:25:56.124Z"
   },
   {
    "duration": 15,
    "start_time": "2021-12-27T10:25:56.154Z"
   },
   {
    "duration": 7,
    "start_time": "2021-12-27T10:25:56.171Z"
   },
   {
    "duration": 44,
    "start_time": "2021-12-27T10:25:56.181Z"
   },
   {
    "duration": 7,
    "start_time": "2021-12-27T10:25:56.228Z"
   },
   {
    "duration": 22,
    "start_time": "2021-12-27T10:25:56.237Z"
   },
   {
    "duration": 10,
    "start_time": "2021-12-27T10:25:56.261Z"
   },
   {
    "duration": 50,
    "start_time": "2021-12-27T10:25:56.273Z"
   },
   {
    "duration": 341,
    "start_time": "2021-12-27T10:25:56.326Z"
   },
   {
    "duration": 6,
    "start_time": "2021-12-27T10:26:48.342Z"
   },
   {
    "duration": 327,
    "start_time": "2021-12-27T10:26:48.793Z"
   },
   {
    "duration": 17,
    "start_time": "2021-12-27T10:26:58.800Z"
   },
   {
    "duration": 17,
    "start_time": "2021-12-27T10:28:41.380Z"
   },
   {
    "duration": 7,
    "start_time": "2021-12-27T10:30:31.340Z"
   },
   {
    "duration": 1450,
    "start_time": "2021-12-27T10:30:45.482Z"
   },
   {
    "duration": 4,
    "start_time": "2021-12-27T10:30:46.936Z"
   },
   {
    "duration": 565,
    "start_time": "2021-12-27T10:30:46.943Z"
   },
   {
    "duration": 21,
    "start_time": "2021-12-27T10:30:47.511Z"
   },
   {
    "duration": 26,
    "start_time": "2021-12-27T10:30:47.535Z"
   },
   {
    "duration": 9,
    "start_time": "2021-12-27T10:30:47.563Z"
   },
   {
    "duration": 11,
    "start_time": "2021-12-27T10:30:47.575Z"
   },
   {
    "duration": 23,
    "start_time": "2021-12-27T10:30:47.623Z"
   },
   {
    "duration": 25,
    "start_time": "2021-12-27T10:30:47.653Z"
   },
   {
    "duration": 26,
    "start_time": "2021-12-27T10:30:47.680Z"
   },
   {
    "duration": 54,
    "start_time": "2021-12-27T10:30:47.709Z"
   },
   {
    "duration": 26,
    "start_time": "2021-12-27T10:30:47.766Z"
   },
   {
    "duration": 53,
    "start_time": "2021-12-27T10:30:47.795Z"
   },
   {
    "duration": 5,
    "start_time": "2021-12-27T10:30:47.851Z"
   },
   {
    "duration": 24,
    "start_time": "2021-12-27T10:30:47.858Z"
   },
   {
    "duration": 11,
    "start_time": "2021-12-27T10:30:47.885Z"
   },
   {
    "duration": 37,
    "start_time": "2021-12-27T10:30:47.898Z"
   },
   {
    "duration": 20,
    "start_time": "2021-12-27T10:30:47.940Z"
   },
   {
    "duration": 18,
    "start_time": "2021-12-27T10:30:47.962Z"
   },
   {
    "duration": 56,
    "start_time": "2021-12-27T10:30:47.982Z"
   },
   {
    "duration": 32,
    "start_time": "2021-12-27T10:30:48.043Z"
   },
   {
    "duration": 11,
    "start_time": "2021-12-27T10:30:48.078Z"
   },
   {
    "duration": 36,
    "start_time": "2021-12-27T10:30:48.095Z"
   },
   {
    "duration": 44,
    "start_time": "2021-12-27T10:30:48.134Z"
   },
   {
    "duration": 53,
    "start_time": "2021-12-27T10:30:48.181Z"
   },
   {
    "duration": 48,
    "start_time": "2021-12-27T10:30:48.236Z"
   },
   {
    "duration": 50,
    "start_time": "2021-12-27T10:30:48.286Z"
   },
   {
    "duration": 7,
    "start_time": "2021-12-27T10:30:48.339Z"
   },
   {
    "duration": 12,
    "start_time": "2021-12-27T10:30:48.348Z"
   },
   {
    "duration": 12,
    "start_time": "2021-12-27T10:30:48.362Z"
   },
   {
    "duration": 11,
    "start_time": "2021-12-27T10:30:48.377Z"
   },
   {
    "duration": 45,
    "start_time": "2021-12-27T10:30:48.390Z"
   },
   {
    "duration": 11,
    "start_time": "2021-12-27T10:30:48.441Z"
   },
   {
    "duration": 42,
    "start_time": "2021-12-27T10:30:48.455Z"
   },
   {
    "duration": 26,
    "start_time": "2021-12-27T10:30:48.499Z"
   },
   {
    "duration": 16,
    "start_time": "2021-12-27T10:30:48.528Z"
   },
   {
    "duration": 36,
    "start_time": "2021-12-27T10:30:48.547Z"
   },
   {
    "duration": 41,
    "start_time": "2021-12-27T10:30:48.586Z"
   },
   {
    "duration": 37,
    "start_time": "2021-12-27T10:30:48.631Z"
   },
   {
    "duration": 11,
    "start_time": "2021-12-27T10:30:48.670Z"
   },
   {
    "duration": 69,
    "start_time": "2021-12-27T10:30:48.684Z"
   },
   {
    "duration": 11,
    "start_time": "2021-12-27T10:30:48.756Z"
   },
   {
    "duration": 19,
    "start_time": "2021-12-27T10:30:48.769Z"
   },
   {
    "duration": 8,
    "start_time": "2021-12-27T10:30:48.791Z"
   },
   {
    "duration": 41,
    "start_time": "2021-12-27T10:30:48.802Z"
   },
   {
    "duration": 13,
    "start_time": "2021-12-27T10:30:48.845Z"
   },
   {
    "duration": 27,
    "start_time": "2021-12-27T10:30:48.860Z"
   },
   {
    "duration": 44,
    "start_time": "2021-12-27T10:30:48.890Z"
   },
   {
    "duration": 15,
    "start_time": "2021-12-27T10:30:48.939Z"
   },
   {
    "duration": 13,
    "start_time": "2021-12-27T10:30:48.956Z"
   },
   {
    "duration": 15,
    "start_time": "2021-12-27T10:30:48.972Z"
   },
   {
    "duration": 14,
    "start_time": "2021-12-27T10:30:49.032Z"
   },
   {
    "duration": 28,
    "start_time": "2021-12-27T10:30:49.049Z"
   },
   {
    "duration": 15,
    "start_time": "2021-12-27T10:30:49.080Z"
   },
   {
    "duration": 33,
    "start_time": "2021-12-27T10:30:49.097Z"
   },
   {
    "duration": 19,
    "start_time": "2021-12-27T10:30:49.132Z"
   },
   {
    "duration": 9,
    "start_time": "2021-12-27T10:30:49.153Z"
   },
   {
    "duration": 23,
    "start_time": "2021-12-27T10:30:49.165Z"
   },
   {
    "duration": 35,
    "start_time": "2021-12-27T10:30:49.190Z"
   },
   {
    "duration": 9,
    "start_time": "2021-12-27T10:30:49.227Z"
   },
   {
    "duration": 11012,
    "start_time": "2021-12-27T10:30:49.239Z"
   },
   {
    "duration": -66993,
    "start_time": "2021-12-27T10:32:07.247Z"
   },
   {
    "duration": 6,
    "start_time": "2021-12-27T10:37:46.165Z"
   },
   {
    "duration": 1389,
    "start_time": "2021-12-27T10:37:57.885Z"
   },
   {
    "duration": 5,
    "start_time": "2021-12-27T10:37:59.277Z"
   },
   {
    "duration": 569,
    "start_time": "2021-12-27T10:37:59.284Z"
   },
   {
    "duration": 21,
    "start_time": "2021-12-27T10:37:59.856Z"
   },
   {
    "duration": 20,
    "start_time": "2021-12-27T10:37:59.880Z"
   },
   {
    "duration": 27,
    "start_time": "2021-12-27T10:37:59.903Z"
   },
   {
    "duration": 16,
    "start_time": "2021-12-27T10:37:59.932Z"
   },
   {
    "duration": 16,
    "start_time": "2021-12-27T10:37:59.954Z"
   },
   {
    "duration": 12,
    "start_time": "2021-12-27T10:37:59.973Z"
   },
   {
    "duration": 51,
    "start_time": "2021-12-27T10:37:59.988Z"
   },
   {
    "duration": 38,
    "start_time": "2021-12-27T10:38:00.041Z"
   },
   {
    "duration": 47,
    "start_time": "2021-12-27T10:38:00.082Z"
   },
   {
    "duration": 36,
    "start_time": "2021-12-27T10:38:00.131Z"
   },
   {
    "duration": 5,
    "start_time": "2021-12-27T10:38:00.169Z"
   },
   {
    "duration": 25,
    "start_time": "2021-12-27T10:38:00.177Z"
   },
   {
    "duration": 28,
    "start_time": "2021-12-27T10:38:00.205Z"
   },
   {
    "duration": 14,
    "start_time": "2021-12-27T10:38:00.235Z"
   },
   {
    "duration": 23,
    "start_time": "2021-12-27T10:38:00.251Z"
   },
   {
    "duration": 55,
    "start_time": "2021-12-27T10:38:00.277Z"
   },
   {
    "duration": 19,
    "start_time": "2021-12-27T10:38:00.335Z"
   },
   {
    "duration": 27,
    "start_time": "2021-12-27T10:38:00.357Z"
   },
   {
    "duration": 36,
    "start_time": "2021-12-27T10:38:00.387Z"
   },
   {
    "duration": 11,
    "start_time": "2021-12-27T10:38:00.429Z"
   },
   {
    "duration": 45,
    "start_time": "2021-12-27T10:38:00.444Z"
   },
   {
    "duration": 46,
    "start_time": "2021-12-27T10:38:00.491Z"
   },
   {
    "duration": 43,
    "start_time": "2021-12-27T10:38:00.540Z"
   },
   {
    "duration": 42,
    "start_time": "2021-12-27T10:38:00.586Z"
   },
   {
    "duration": 15,
    "start_time": "2021-12-27T10:38:00.630Z"
   },
   {
    "duration": 18,
    "start_time": "2021-12-27T10:38:00.647Z"
   },
   {
    "duration": 22,
    "start_time": "2021-12-27T10:38:00.667Z"
   },
   {
    "duration": 18,
    "start_time": "2021-12-27T10:38:00.691Z"
   },
   {
    "duration": 16,
    "start_time": "2021-12-27T10:38:00.711Z"
   },
   {
    "duration": 13,
    "start_time": "2021-12-27T10:38:00.730Z"
   },
   {
    "duration": 43,
    "start_time": "2021-12-27T10:38:00.745Z"
   },
   {
    "duration": 4,
    "start_time": "2021-12-27T10:38:00.791Z"
   },
   {
    "duration": 37,
    "start_time": "2021-12-27T10:38:00.798Z"
   },
   {
    "duration": 40,
    "start_time": "2021-12-27T10:38:00.837Z"
   },
   {
    "duration": 11,
    "start_time": "2021-12-27T10:38:00.880Z"
   },
   {
    "duration": 57,
    "start_time": "2021-12-27T10:38:00.894Z"
   },
   {
    "duration": 11,
    "start_time": "2021-12-27T10:38:00.954Z"
   },
   {
    "duration": 27,
    "start_time": "2021-12-27T10:38:00.968Z"
   },
   {
    "duration": 16,
    "start_time": "2021-12-27T10:38:01.022Z"
   },
   {
    "duration": 34,
    "start_time": "2021-12-27T10:38:01.041Z"
   },
   {
    "duration": 12,
    "start_time": "2021-12-27T10:38:01.078Z"
   },
   {
    "duration": 53,
    "start_time": "2021-12-27T10:38:01.092Z"
   },
   {
    "duration": 12,
    "start_time": "2021-12-27T10:38:01.148Z"
   },
   {
    "duration": 34,
    "start_time": "2021-12-27T10:38:01.162Z"
   },
   {
    "duration": 28,
    "start_time": "2021-12-27T10:38:01.198Z"
   },
   {
    "duration": 23,
    "start_time": "2021-12-27T10:38:01.228Z"
   },
   {
    "duration": 17,
    "start_time": "2021-12-27T10:38:01.253Z"
   },
   {
    "duration": 41,
    "start_time": "2021-12-27T10:38:01.272Z"
   },
   {
    "duration": 30,
    "start_time": "2021-12-27T10:38:01.316Z"
   },
   {
    "duration": 42,
    "start_time": "2021-12-27T10:38:01.349Z"
   },
   {
    "duration": 43,
    "start_time": "2021-12-27T10:38:01.393Z"
   },
   {
    "duration": 22,
    "start_time": "2021-12-27T10:38:01.438Z"
   },
   {
    "duration": 12,
    "start_time": "2021-12-27T10:38:01.463Z"
   },
   {
    "duration": 32,
    "start_time": "2021-12-27T10:38:01.477Z"
   },
   {
    "duration": 27,
    "start_time": "2021-12-27T10:38:01.511Z"
   },
   {
    "duration": 12,
    "start_time": "2021-12-27T10:38:01.542Z"
   },
   {
    "duration": 9,
    "start_time": "2021-12-27T10:38:01.557Z"
   },
   {
    "duration": 8672,
    "start_time": "2021-12-27T10:38:01.569Z"
   },
   {
    "duration": -67216,
    "start_time": "2021-12-27T10:39:17.460Z"
   },
   {
    "duration": 12,
    "start_time": "2021-12-27T10:43:43.150Z"
   },
   {
    "duration": 335,
    "start_time": "2021-12-27T10:44:03.208Z"
   },
   {
    "duration": 17,
    "start_time": "2021-12-27T10:44:08.683Z"
   },
   {
    "duration": 116,
    "start_time": "2021-12-27T10:44:31.865Z"
   },
   {
    "duration": 7,
    "start_time": "2021-12-27T10:44:41.312Z"
   },
   {
    "duration": 390,
    "start_time": "2021-12-27T10:44:42.412Z"
   },
   {
    "duration": 17,
    "start_time": "2021-12-27T10:44:43.366Z"
   },
   {
    "duration": 5,
    "start_time": "2021-12-27T10:44:55.443Z"
   },
   {
    "duration": 396,
    "start_time": "2021-12-27T10:44:56.064Z"
   },
   {
    "duration": 17,
    "start_time": "2021-12-27T10:44:56.569Z"
   },
   {
    "duration": 5,
    "start_time": "2021-12-27T10:45:13.695Z"
   },
   {
    "duration": 528,
    "start_time": "2021-12-27T10:45:14.185Z"
   },
   {
    "duration": 1385,
    "start_time": "2021-12-27T10:45:18.890Z"
   },
   {
    "duration": 4,
    "start_time": "2021-12-27T10:45:20.278Z"
   },
   {
    "duration": 540,
    "start_time": "2021-12-27T10:45:20.285Z"
   },
   {
    "duration": 22,
    "start_time": "2021-12-27T10:45:20.828Z"
   },
   {
    "duration": 30,
    "start_time": "2021-12-27T10:45:20.853Z"
   },
   {
    "duration": 39,
    "start_time": "2021-12-27T10:45:20.886Z"
   },
   {
    "duration": 17,
    "start_time": "2021-12-27T10:45:20.928Z"
   },
   {
    "duration": 15,
    "start_time": "2021-12-27T10:45:20.948Z"
   },
   {
    "duration": 16,
    "start_time": "2021-12-27T10:45:20.967Z"
   },
   {
    "duration": 55,
    "start_time": "2021-12-27T10:45:20.985Z"
   },
   {
    "duration": 39,
    "start_time": "2021-12-27T10:45:21.042Z"
   },
   {
    "duration": 48,
    "start_time": "2021-12-27T10:45:21.083Z"
   },
   {
    "duration": 32,
    "start_time": "2021-12-27T10:45:21.134Z"
   },
   {
    "duration": 4,
    "start_time": "2021-12-27T10:45:21.169Z"
   },
   {
    "duration": 25,
    "start_time": "2021-12-27T10:45:21.176Z"
   },
   {
    "duration": 12,
    "start_time": "2021-12-27T10:45:21.224Z"
   },
   {
    "duration": 11,
    "start_time": "2021-12-27T10:45:21.239Z"
   },
   {
    "duration": 23,
    "start_time": "2021-12-27T10:45:21.253Z"
   },
   {
    "duration": 54,
    "start_time": "2021-12-27T10:45:21.279Z"
   },
   {
    "duration": 21,
    "start_time": "2021-12-27T10:45:21.336Z"
   },
   {
    "duration": 25,
    "start_time": "2021-12-27T10:45:21.360Z"
   },
   {
    "duration": 39,
    "start_time": "2021-12-27T10:45:21.388Z"
   },
   {
    "duration": 11,
    "start_time": "2021-12-27T10:45:21.434Z"
   },
   {
    "duration": 37,
    "start_time": "2021-12-27T10:45:21.449Z"
   },
   {
    "duration": 59,
    "start_time": "2021-12-27T10:45:21.489Z"
   },
   {
    "duration": 38,
    "start_time": "2021-12-27T10:45:21.551Z"
   },
   {
    "duration": 91,
    "start_time": "2021-12-27T10:45:21.592Z"
   },
   {
    "duration": 9,
    "start_time": "2021-12-27T10:45:21.686Z"
   },
   {
    "duration": 35,
    "start_time": "2021-12-27T10:45:21.697Z"
   },
   {
    "duration": 7,
    "start_time": "2021-12-27T10:45:21.735Z"
   },
   {
    "duration": 11,
    "start_time": "2021-12-27T10:45:21.745Z"
   },
   {
    "duration": 14,
    "start_time": "2021-12-27T10:45:21.759Z"
   },
   {
    "duration": 57,
    "start_time": "2021-12-27T10:45:21.775Z"
   },
   {
    "duration": 42,
    "start_time": "2021-12-27T10:45:21.834Z"
   },
   {
    "duration": 5,
    "start_time": "2021-12-27T10:45:21.878Z"
   },
   {
    "duration": 43,
    "start_time": "2021-12-27T10:45:21.886Z"
   },
   {
    "duration": 37,
    "start_time": "2021-12-27T10:45:21.932Z"
   },
   {
    "duration": 14,
    "start_time": "2021-12-27T10:45:21.972Z"
   },
   {
    "duration": 74,
    "start_time": "2021-12-27T10:45:21.989Z"
   },
   {
    "duration": 10,
    "start_time": "2021-12-27T10:45:22.065Z"
   },
   {
    "duration": 47,
    "start_time": "2021-12-27T10:45:22.078Z"
   },
   {
    "duration": 12,
    "start_time": "2021-12-27T10:45:22.127Z"
   },
   {
    "duration": 24,
    "start_time": "2021-12-27T10:45:22.142Z"
   },
   {
    "duration": 10,
    "start_time": "2021-12-27T10:45:22.168Z"
   },
   {
    "duration": 60,
    "start_time": "2021-12-27T10:45:22.180Z"
   },
   {
    "duration": 13,
    "start_time": "2021-12-27T10:45:22.242Z"
   },
   {
    "duration": 26,
    "start_time": "2021-12-27T10:45:22.258Z"
   },
   {
    "duration": 11,
    "start_time": "2021-12-27T10:45:22.286Z"
   },
   {
    "duration": 12,
    "start_time": "2021-12-27T10:45:22.323Z"
   },
   {
    "duration": 13,
    "start_time": "2021-12-27T10:45:22.338Z"
   },
   {
    "duration": 14,
    "start_time": "2021-12-27T10:45:22.353Z"
   },
   {
    "duration": 12,
    "start_time": "2021-12-27T10:45:22.370Z"
   },
   {
    "duration": 68,
    "start_time": "2021-12-27T10:45:22.384Z"
   },
   {
    "duration": 19,
    "start_time": "2021-12-27T10:45:22.455Z"
   },
   {
    "duration": 9,
    "start_time": "2021-12-27T10:45:22.477Z"
   },
   {
    "duration": 42,
    "start_time": "2021-12-27T10:45:22.489Z"
   },
   {
    "duration": 11,
    "start_time": "2021-12-27T10:45:22.535Z"
   },
   {
    "duration": 27,
    "start_time": "2021-12-27T10:45:22.548Z"
   },
   {
    "duration": 15,
    "start_time": "2021-12-27T10:45:22.577Z"
   },
   {
    "duration": 7,
    "start_time": "2021-12-27T10:45:22.624Z"
   },
   {
    "duration": 331,
    "start_time": "2021-12-27T10:45:22.633Z"
   },
   {
    "duration": 18,
    "start_time": "2021-12-27T10:45:22.966Z"
   },
   {
    "duration": 7,
    "start_time": "2021-12-27T10:45:58.824Z"
   },
   {
    "duration": 322,
    "start_time": "2021-12-27T10:45:59.276Z"
   },
   {
    "duration": 18,
    "start_time": "2021-12-27T10:45:59.961Z"
   },
   {
    "duration": 5,
    "start_time": "2021-12-27T10:46:07.040Z"
   },
   {
    "duration": 317,
    "start_time": "2021-12-27T10:46:07.544Z"
   },
   {
    "duration": 6,
    "start_time": "2021-12-27T10:46:36.249Z"
   },
   {
    "duration": 511,
    "start_time": "2021-12-27T10:46:37.212Z"
   },
   {
    "duration": -66829,
    "start_time": "2021-12-27T10:48:10.850Z"
   },
   {
    "duration": -66841,
    "start_time": "2021-12-27T10:48:10.864Z"
   },
   {
    "duration": -66843,
    "start_time": "2021-12-27T10:48:10.868Z"
   },
   {
    "duration": 1792,
    "start_time": "2021-12-27T10:47:05.999Z"
   },
   {
    "duration": 4,
    "start_time": "2021-12-27T10:47:07.794Z"
   },
   {
    "duration": 537,
    "start_time": "2021-12-27T10:47:07.802Z"
   },
   {
    "duration": 21,
    "start_time": "2021-12-27T10:47:08.342Z"
   },
   {
    "duration": 28,
    "start_time": "2021-12-27T10:47:08.366Z"
   },
   {
    "duration": 32,
    "start_time": "2021-12-27T10:47:08.397Z"
   },
   {
    "duration": 10,
    "start_time": "2021-12-27T10:47:08.431Z"
   },
   {
    "duration": 14,
    "start_time": "2021-12-27T10:47:08.446Z"
   },
   {
    "duration": 12,
    "start_time": "2021-12-27T10:47:08.464Z"
   },
   {
    "duration": 64,
    "start_time": "2021-12-27T10:47:08.479Z"
   },
   {
    "duration": 39,
    "start_time": "2021-12-27T10:47:08.546Z"
   },
   {
    "duration": 46,
    "start_time": "2021-12-27T10:47:08.588Z"
   },
   {
    "duration": 34,
    "start_time": "2021-12-27T10:47:08.637Z"
   },
   {
    "duration": 5,
    "start_time": "2021-12-27T10:47:08.673Z"
   },
   {
    "duration": 25,
    "start_time": "2021-12-27T10:47:08.681Z"
   },
   {
    "duration": 14,
    "start_time": "2021-12-27T10:47:08.728Z"
   },
   {
    "duration": 14,
    "start_time": "2021-12-27T10:47:08.745Z"
   },
   {
    "duration": 21,
    "start_time": "2021-12-27T10:47:08.762Z"
   },
   {
    "duration": 54,
    "start_time": "2021-12-27T10:47:08.786Z"
   },
   {
    "duration": 21,
    "start_time": "2021-12-27T10:47:08.843Z"
   },
   {
    "duration": 26,
    "start_time": "2021-12-27T10:47:08.867Z"
   },
   {
    "duration": 12,
    "start_time": "2021-12-27T10:47:08.923Z"
   },
   {
    "duration": 13,
    "start_time": "2021-12-27T10:47:08.941Z"
   },
   {
    "duration": 84,
    "start_time": "2021-12-27T10:47:08.958Z"
   },
   {
    "duration": 28,
    "start_time": "2021-12-27T10:47:09.045Z"
   },
   {
    "duration": 63,
    "start_time": "2021-12-27T10:47:09.076Z"
   },
   {
    "duration": 31,
    "start_time": "2021-12-27T10:47:09.142Z"
   },
   {
    "duration": 7,
    "start_time": "2021-12-27T10:47:09.176Z"
   },
   {
    "duration": 39,
    "start_time": "2021-12-27T10:47:09.186Z"
   },
   {
    "duration": 10,
    "start_time": "2021-12-27T10:47:09.227Z"
   },
   {
    "duration": 13,
    "start_time": "2021-12-27T10:47:09.239Z"
   },
   {
    "duration": 13,
    "start_time": "2021-12-27T10:47:09.255Z"
   },
   {
    "duration": 54,
    "start_time": "2021-12-27T10:47:09.271Z"
   },
   {
    "duration": 62,
    "start_time": "2021-12-27T10:47:09.328Z"
   },
   {
    "duration": 6,
    "start_time": "2021-12-27T10:47:09.393Z"
   },
   {
    "duration": 22,
    "start_time": "2021-12-27T10:47:09.423Z"
   },
   {
    "duration": 35,
    "start_time": "2021-12-27T10:47:09.448Z"
   },
   {
    "duration": 40,
    "start_time": "2021-12-27T10:47:09.486Z"
   },
   {
    "duration": 39,
    "start_time": "2021-12-27T10:47:09.528Z"
   },
   {
    "duration": 13,
    "start_time": "2021-12-27T10:47:09.569Z"
   },
   {
    "duration": 50,
    "start_time": "2021-12-27T10:47:09.585Z"
   },
   {
    "duration": 15,
    "start_time": "2021-12-27T10:47:09.639Z"
   },
   {
    "duration": 23,
    "start_time": "2021-12-27T10:47:09.656Z"
   },
   {
    "duration": 42,
    "start_time": "2021-12-27T10:47:09.682Z"
   },
   {
    "duration": 25,
    "start_time": "2021-12-27T10:47:09.727Z"
   },
   {
    "duration": 14,
    "start_time": "2021-12-27T10:47:09.754Z"
   },
   {
    "duration": 59,
    "start_time": "2021-12-27T10:47:09.772Z"
   },
   {
    "duration": 11,
    "start_time": "2021-12-27T10:47:09.834Z"
   },
   {
    "duration": 19,
    "start_time": "2021-12-27T10:47:09.848Z"
   },
   {
    "duration": 12,
    "start_time": "2021-12-27T10:47:09.871Z"
   },
   {
    "duration": 48,
    "start_time": "2021-12-27T10:47:09.886Z"
   },
   {
    "duration": 13,
    "start_time": "2021-12-27T10:47:09.937Z"
   },
   {
    "duration": 30,
    "start_time": "2021-12-27T10:47:09.953Z"
   },
   {
    "duration": 51,
    "start_time": "2021-12-27T10:47:09.985Z"
   },
   {
    "duration": 13,
    "start_time": "2021-12-27T10:47:10.038Z"
   },
   {
    "duration": 13,
    "start_time": "2021-12-27T10:47:10.054Z"
   },
   {
    "duration": 8,
    "start_time": "2021-12-27T10:47:10.069Z"
   },
   {
    "duration": 27,
    "start_time": "2021-12-27T10:47:10.124Z"
   },
   {
    "duration": 24,
    "start_time": "2021-12-27T10:47:10.155Z"
   },
   {
    "duration": 6,
    "start_time": "2021-12-27T10:47:10.182Z"
   },
   {
    "duration": 366,
    "start_time": "2021-12-27T10:47:10.222Z"
   },
   {
    "duration": 12,
    "start_time": "2021-12-27T10:47:10.591Z"
   },
   {
    "duration": 27,
    "start_time": "2021-12-27T10:47:21.996Z"
   },
   {
    "duration": 5,
    "start_time": "2021-12-27T10:48:56.175Z"
   },
   {
    "duration": 340,
    "start_time": "2021-12-27T10:48:57.470Z"
   },
   {
    "duration": 5,
    "start_time": "2021-12-27T10:48:58.005Z"
   },
   {
    "duration": 18,
    "start_time": "2021-12-27T10:48:59.092Z"
   },
   {
    "duration": 1249,
    "start_time": "2021-12-27T10:55:45.063Z"
   },
   {
    "duration": 302,
    "start_time": "2021-12-27T10:55:57.577Z"
   },
   {
    "duration": 43,
    "start_time": "2021-12-27T10:56:02.455Z"
   },
   {
    "duration": 1424,
    "start_time": "2021-12-27T10:57:23.855Z"
   },
   {
    "duration": 4,
    "start_time": "2021-12-27T10:57:25.281Z"
   },
   {
    "duration": 550,
    "start_time": "2021-12-27T10:57:25.289Z"
   },
   {
    "duration": 21,
    "start_time": "2021-12-27T10:57:25.842Z"
   },
   {
    "duration": 23,
    "start_time": "2021-12-27T10:57:25.866Z"
   },
   {
    "duration": 39,
    "start_time": "2021-12-27T10:57:25.892Z"
   },
   {
    "duration": 11,
    "start_time": "2021-12-27T10:57:25.934Z"
   },
   {
    "duration": 16,
    "start_time": "2021-12-27T10:57:25.949Z"
   },
   {
    "duration": 15,
    "start_time": "2021-12-27T10:57:25.968Z"
   },
   {
    "duration": 49,
    "start_time": "2021-12-27T10:57:25.986Z"
   },
   {
    "duration": 40,
    "start_time": "2021-12-27T10:57:26.037Z"
   },
   {
    "duration": 24,
    "start_time": "2021-12-27T10:57:26.079Z"
   },
   {
    "duration": 53,
    "start_time": "2021-12-27T10:57:26.105Z"
   },
   {
    "duration": 5,
    "start_time": "2021-12-27T10:57:26.160Z"
   },
   {
    "duration": 20,
    "start_time": "2021-12-27T10:57:26.168Z"
   },
   {
    "duration": 38,
    "start_time": "2021-12-27T10:57:26.190Z"
   },
   {
    "duration": 11,
    "start_time": "2021-12-27T10:57:26.236Z"
   },
   {
    "duration": 22,
    "start_time": "2021-12-27T10:57:26.249Z"
   },
   {
    "duration": 19,
    "start_time": "2021-12-27T10:57:26.273Z"
   },
   {
    "duration": 51,
    "start_time": "2021-12-27T10:57:26.294Z"
   },
   {
    "duration": 25,
    "start_time": "2021-12-27T10:57:26.348Z"
   },
   {
    "duration": 11,
    "start_time": "2021-12-27T10:57:26.375Z"
   },
   {
    "duration": 34,
    "start_time": "2021-12-27T10:57:26.393Z"
   },
   {
    "duration": 48,
    "start_time": "2021-12-27T10:57:26.430Z"
   },
   {
    "duration": 47,
    "start_time": "2021-12-27T10:57:26.480Z"
   },
   {
    "duration": 44,
    "start_time": "2021-12-27T10:57:26.536Z"
   },
   {
    "duration": 40,
    "start_time": "2021-12-27T10:57:26.583Z"
   },
   {
    "duration": 7,
    "start_time": "2021-12-27T10:57:26.626Z"
   },
   {
    "duration": 11,
    "start_time": "2021-12-27T10:57:26.639Z"
   },
   {
    "duration": 7,
    "start_time": "2021-12-27T10:57:26.652Z"
   },
   {
    "duration": 10,
    "start_time": "2021-12-27T10:57:26.662Z"
   },
   {
    "duration": 61,
    "start_time": "2021-12-27T10:57:26.675Z"
   },
   {
    "duration": 13,
    "start_time": "2021-12-27T10:57:26.739Z"
   },
   {
    "duration": 41,
    "start_time": "2021-12-27T10:57:26.754Z"
   },
   {
    "duration": 5,
    "start_time": "2021-12-27T10:57:26.797Z"
   },
   {
    "duration": 16,
    "start_time": "2021-12-27T10:57:26.832Z"
   },
   {
    "duration": 31,
    "start_time": "2021-12-27T10:57:26.851Z"
   },
   {
    "duration": 12,
    "start_time": "2021-12-27T10:57:26.884Z"
   },
   {
    "duration": 60,
    "start_time": "2021-12-27T10:57:26.898Z"
   },
   {
    "duration": 10,
    "start_time": "2021-12-27T10:57:26.961Z"
   },
   {
    "duration": 24,
    "start_time": "2021-12-27T10:57:26.973Z"
   },
   {
    "duration": 35,
    "start_time": "2021-12-27T10:57:27.000Z"
   },
   {
    "duration": 21,
    "start_time": "2021-12-27T10:57:27.037Z"
   },
   {
    "duration": 9,
    "start_time": "2021-12-27T10:57:27.060Z"
   },
   {
    "duration": 63,
    "start_time": "2021-12-27T10:57:27.072Z"
   },
   {
    "duration": 13,
    "start_time": "2021-12-27T10:57:27.138Z"
   },
   {
    "duration": 23,
    "start_time": "2021-12-27T10:57:27.154Z"
   },
   {
    "duration": 10,
    "start_time": "2021-12-27T10:57:27.179Z"
   },
   {
    "duration": 44,
    "start_time": "2021-12-27T10:57:27.191Z"
   },
   {
    "duration": 12,
    "start_time": "2021-12-27T10:57:27.238Z"
   },
   {
    "duration": 13,
    "start_time": "2021-12-27T10:57:27.252Z"
   },
   {
    "duration": 12,
    "start_time": "2021-12-27T10:57:27.268Z"
   },
   {
    "duration": 60,
    "start_time": "2021-12-27T10:57:27.282Z"
   },
   {
    "duration": 15,
    "start_time": "2021-12-27T10:57:27.345Z"
   },
   {
    "duration": 8,
    "start_time": "2021-12-27T10:57:27.363Z"
   },
   {
    "duration": 10,
    "start_time": "2021-12-27T10:57:27.373Z"
   },
   {
    "duration": 49,
    "start_time": "2021-12-27T10:57:27.386Z"
   },
   {
    "duration": 22,
    "start_time": "2021-12-27T10:57:27.438Z"
   },
   {
    "duration": 10,
    "start_time": "2021-12-27T10:57:27.463Z"
   },
   {
    "duration": 5,
    "start_time": "2021-12-27T10:57:27.476Z"
   },
   {
    "duration": 379,
    "start_time": "2021-12-27T10:57:27.483Z"
   },
   {
    "duration": 10,
    "start_time": "2021-12-27T10:57:27.865Z"
   },
   {
    "duration": 17,
    "start_time": "2021-12-27T10:57:27.878Z"
   },
   {
    "duration": 456,
    "start_time": "2021-12-27T10:57:59.986Z"
   },
   {
    "duration": 32,
    "start_time": "2021-12-27T10:58:12.473Z"
   },
   {
    "duration": 1372,
    "start_time": "2021-12-27T10:58:18.567Z"
   },
   {
    "duration": 4,
    "start_time": "2021-12-27T10:58:19.942Z"
   },
   {
    "duration": 586,
    "start_time": "2021-12-27T10:58:19.949Z"
   },
   {
    "duration": 20,
    "start_time": "2021-12-27T10:58:20.538Z"
   },
   {
    "duration": 52,
    "start_time": "2021-12-27T10:58:20.561Z"
   },
   {
    "duration": 32,
    "start_time": "2021-12-27T10:58:20.616Z"
   },
   {
    "duration": 36,
    "start_time": "2021-12-27T10:58:20.650Z"
   },
   {
    "duration": 40,
    "start_time": "2021-12-27T10:58:20.689Z"
   },
   {
    "duration": 29,
    "start_time": "2021-12-27T10:58:20.732Z"
   },
   {
    "duration": 43,
    "start_time": "2021-12-27T10:58:20.764Z"
   },
   {
    "duration": 58,
    "start_time": "2021-12-27T10:58:20.810Z"
   },
   {
    "duration": 28,
    "start_time": "2021-12-27T10:58:20.871Z"
   },
   {
    "duration": 52,
    "start_time": "2021-12-27T10:58:20.902Z"
   },
   {
    "duration": 15,
    "start_time": "2021-12-27T10:58:20.957Z"
   },
   {
    "duration": 43,
    "start_time": "2021-12-27T10:58:20.975Z"
   },
   {
    "duration": 40,
    "start_time": "2021-12-27T10:58:21.021Z"
   },
   {
    "duration": 44,
    "start_time": "2021-12-27T10:58:21.063Z"
   },
   {
    "duration": 51,
    "start_time": "2021-12-27T10:58:21.109Z"
   },
   {
    "duration": 29,
    "start_time": "2021-12-27T10:58:21.163Z"
   },
   {
    "duration": 37,
    "start_time": "2021-12-27T10:58:21.196Z"
   },
   {
    "duration": 62,
    "start_time": "2021-12-27T10:58:21.236Z"
   },
   {
    "duration": 29,
    "start_time": "2021-12-27T10:58:21.301Z"
   },
   {
    "duration": 37,
    "start_time": "2021-12-27T10:58:21.338Z"
   },
   {
    "duration": 107,
    "start_time": "2021-12-27T10:58:21.378Z"
   },
   {
    "duration": 45,
    "start_time": "2021-12-27T10:58:21.487Z"
   },
   {
    "duration": 52,
    "start_time": "2021-12-27T10:58:21.536Z"
   },
   {
    "duration": 49,
    "start_time": "2021-12-27T10:58:21.591Z"
   },
   {
    "duration": 135,
    "start_time": "2021-12-27T10:58:21.643Z"
   },
   {
    "duration": 127,
    "start_time": "2021-12-27T10:58:21.780Z"
   },
   {
    "duration": 148,
    "start_time": "2021-12-27T10:58:21.909Z"
   },
   {
    "duration": 158,
    "start_time": "2021-12-27T10:58:22.060Z"
   },
   {
    "duration": 171,
    "start_time": "2021-12-27T10:58:22.220Z"
   },
   {
    "duration": 133,
    "start_time": "2021-12-27T10:58:22.394Z"
   },
   {
    "duration": 187,
    "start_time": "2021-12-27T10:58:22.530Z"
   },
   {
    "duration": 101,
    "start_time": "2021-12-27T10:58:22.719Z"
   },
   {
    "duration": 153,
    "start_time": "2021-12-27T10:58:22.823Z"
   },
   {
    "duration": 118,
    "start_time": "2021-12-27T10:58:22.979Z"
   },
   {
    "duration": 91,
    "start_time": "2021-12-27T10:58:23.100Z"
   },
   {
    "duration": 175,
    "start_time": "2021-12-27T10:58:23.194Z"
   },
   {
    "duration": 114,
    "start_time": "2021-12-27T10:58:23.371Z"
   },
   {
    "duration": 246,
    "start_time": "2021-12-27T10:58:23.488Z"
   },
   {
    "duration": 74,
    "start_time": "2021-12-27T10:58:23.738Z"
   },
   {
    "duration": 44,
    "start_time": "2021-12-27T10:58:23.815Z"
   },
   {
    "duration": 17,
    "start_time": "2021-12-27T10:58:23.861Z"
   },
   {
    "duration": 55,
    "start_time": "2021-12-27T10:58:23.880Z"
   },
   {
    "duration": 20,
    "start_time": "2021-12-27T10:58:23.938Z"
   },
   {
    "duration": 51,
    "start_time": "2021-12-27T10:58:23.960Z"
   },
   {
    "duration": 12,
    "start_time": "2021-12-27T10:58:24.014Z"
   },
   {
    "duration": 36,
    "start_time": "2021-12-27T10:58:24.030Z"
   },
   {
    "duration": 40,
    "start_time": "2021-12-27T10:58:24.068Z"
   },
   {
    "duration": 44,
    "start_time": "2021-12-27T10:58:24.111Z"
   },
   {
    "duration": 35,
    "start_time": "2021-12-27T10:58:24.158Z"
   },
   {
    "duration": 45,
    "start_time": "2021-12-27T10:58:24.196Z"
   },
   {
    "duration": 55,
    "start_time": "2021-12-27T10:58:24.244Z"
   },
   {
    "duration": 17,
    "start_time": "2021-12-27T10:58:24.302Z"
   },
   {
    "duration": 34,
    "start_time": "2021-12-27T10:58:24.322Z"
   },
   {
    "duration": 46,
    "start_time": "2021-12-27T10:58:24.359Z"
   },
   {
    "duration": 59,
    "start_time": "2021-12-27T10:58:24.408Z"
   },
   {
    "duration": 14,
    "start_time": "2021-12-27T10:58:24.470Z"
   },
   {
    "duration": 21,
    "start_time": "2021-12-27T10:58:24.487Z"
   },
   {
    "duration": 10101,
    "start_time": "2021-12-27T10:58:24.511Z"
   },
   {
    "duration": -66809,
    "start_time": "2021-12-27T10:59:41.425Z"
   },
   {
    "duration": -66809,
    "start_time": "2021-12-27T10:59:41.428Z"
   },
   {
    "duration": 5,
    "start_time": "2021-12-27T11:02:08.055Z"
   },
   {
    "duration": 10350,
    "start_time": "2021-12-27T11:02:11.955Z"
   },
   {
    "duration": -66844,
    "start_time": "2021-12-27T11:03:29.152Z"
   },
   {
    "duration": 1355,
    "start_time": "2021-12-27T11:03:13.027Z"
   },
   {
    "duration": 4,
    "start_time": "2021-12-27T11:03:14.385Z"
   },
   {
    "duration": 554,
    "start_time": "2021-12-27T11:03:14.392Z"
   },
   {
    "duration": 18,
    "start_time": "2021-12-27T11:03:14.949Z"
   },
   {
    "duration": 23,
    "start_time": "2021-12-27T11:03:14.970Z"
   },
   {
    "duration": 9,
    "start_time": "2021-12-27T11:03:14.995Z"
   },
   {
    "duration": 18,
    "start_time": "2021-12-27T11:03:15.007Z"
   },
   {
    "duration": 14,
    "start_time": "2021-12-27T11:03:15.029Z"
   },
   {
    "duration": 15,
    "start_time": "2021-12-27T11:03:15.046Z"
   },
   {
    "duration": 25,
    "start_time": "2021-12-27T11:03:15.063Z"
   },
   {
    "duration": 37,
    "start_time": "2021-12-27T11:03:15.090Z"
   },
   {
    "duration": 22,
    "start_time": "2021-12-27T11:03:15.129Z"
   },
   {
    "duration": 28,
    "start_time": "2021-12-27T11:03:15.154Z"
   },
   {
    "duration": 5,
    "start_time": "2021-12-27T11:03:15.185Z"
   },
   {
    "duration": 22,
    "start_time": "2021-12-27T11:03:15.192Z"
   },
   {
    "duration": 15,
    "start_time": "2021-12-27T11:03:15.216Z"
   },
   {
    "duration": 26,
    "start_time": "2021-12-27T11:03:15.233Z"
   },
   {
    "duration": 24,
    "start_time": "2021-12-27T11:03:15.262Z"
   },
   {
    "duration": 26,
    "start_time": "2021-12-27T11:03:15.289Z"
   },
   {
    "duration": 21,
    "start_time": "2021-12-27T11:03:15.318Z"
   },
   {
    "duration": 24,
    "start_time": "2021-12-27T11:03:15.341Z"
   },
   {
    "duration": 11,
    "start_time": "2021-12-27T11:03:15.368Z"
   },
   {
    "duration": 9,
    "start_time": "2021-12-27T11:03:15.385Z"
   },
   {
    "duration": 47,
    "start_time": "2021-12-27T11:03:15.398Z"
   },
   {
    "duration": 25,
    "start_time": "2021-12-27T11:03:15.448Z"
   },
   {
    "duration": 37,
    "start_time": "2021-12-27T11:03:15.475Z"
   },
   {
    "duration": 41,
    "start_time": "2021-12-27T11:03:15.515Z"
   },
   {
    "duration": 5,
    "start_time": "2021-12-27T11:03:15.559Z"
   },
   {
    "duration": 12,
    "start_time": "2021-12-27T11:03:15.566Z"
   },
   {
    "duration": 6,
    "start_time": "2021-12-27T11:03:15.580Z"
   },
   {
    "duration": 14,
    "start_time": "2021-12-27T11:03:15.588Z"
   },
   {
    "duration": 20,
    "start_time": "2021-12-27T11:03:15.605Z"
   },
   {
    "duration": 9,
    "start_time": "2021-12-27T11:03:15.628Z"
   },
   {
    "duration": 43,
    "start_time": "2021-12-27T11:03:15.640Z"
   },
   {
    "duration": 5,
    "start_time": "2021-12-27T11:03:15.685Z"
   },
   {
    "duration": 25,
    "start_time": "2021-12-27T11:03:15.693Z"
   },
   {
    "duration": 32,
    "start_time": "2021-12-27T11:03:15.721Z"
   },
   {
    "duration": 11,
    "start_time": "2021-12-27T11:03:15.755Z"
   },
   {
    "duration": 38,
    "start_time": "2021-12-27T11:03:15.768Z"
   },
   {
    "duration": 15,
    "start_time": "2021-12-27T11:03:15.808Z"
   },
   {
    "duration": 20,
    "start_time": "2021-12-27T11:03:15.825Z"
   },
   {
    "duration": 10,
    "start_time": "2021-12-27T11:03:15.848Z"
   },
   {
    "duration": 67,
    "start_time": "2021-12-27T11:03:15.861Z"
   },
   {
    "duration": 10,
    "start_time": "2021-12-27T11:03:15.930Z"
   },
   {
    "duration": 25,
    "start_time": "2021-12-27T11:03:15.942Z"
   },
   {
    "duration": 12,
    "start_time": "2021-12-27T11:03:16.025Z"
   },
   {
    "duration": 30,
    "start_time": "2021-12-27T11:03:16.040Z"
   },
   {
    "duration": 10,
    "start_time": "2021-12-27T11:03:16.072Z"
   },
   {
    "duration": 13,
    "start_time": "2021-12-27T11:03:16.085Z"
   },
   {
    "duration": 22,
    "start_time": "2021-12-27T11:03:16.101Z"
   },
   {
    "duration": 19,
    "start_time": "2021-12-27T11:03:16.125Z"
   },
   {
    "duration": 20,
    "start_time": "2021-12-27T11:03:16.146Z"
   },
   {
    "duration": 32,
    "start_time": "2021-12-27T11:03:16.168Z"
   },
   {
    "duration": 40,
    "start_time": "2021-12-27T11:03:16.202Z"
   },
   {
    "duration": 10,
    "start_time": "2021-12-27T11:03:16.244Z"
   },
   {
    "duration": 8,
    "start_time": "2021-12-27T11:03:16.256Z"
   },
   {
    "duration": 19,
    "start_time": "2021-12-27T11:03:16.266Z"
   },
   {
    "duration": 42,
    "start_time": "2021-12-27T11:03:16.288Z"
   },
   {
    "duration": 661,
    "start_time": "2021-12-27T11:03:16.333Z"
   },
   {
    "duration": 6,
    "start_time": "2021-12-27T11:03:16.997Z"
   },
   {
    "duration": 48,
    "start_time": "2021-12-27T11:03:17.005Z"
   },
   {
    "duration": 1363,
    "start_time": "2021-12-27T11:04:25.241Z"
   },
   {
    "duration": 4,
    "start_time": "2021-12-27T11:04:26.608Z"
   },
   {
    "duration": 541,
    "start_time": "2021-12-27T11:04:26.615Z"
   },
   {
    "duration": 19,
    "start_time": "2021-12-27T11:04:27.159Z"
   },
   {
    "duration": 26,
    "start_time": "2021-12-27T11:04:27.180Z"
   },
   {
    "duration": 17,
    "start_time": "2021-12-27T11:04:27.208Z"
   },
   {
    "duration": 9,
    "start_time": "2021-12-27T11:04:27.228Z"
   },
   {
    "duration": 11,
    "start_time": "2021-12-27T11:04:27.240Z"
   },
   {
    "duration": 12,
    "start_time": "2021-12-27T11:04:27.254Z"
   },
   {
    "duration": 67,
    "start_time": "2021-12-27T11:04:27.269Z"
   },
   {
    "duration": 38,
    "start_time": "2021-12-27T11:04:27.339Z"
   },
   {
    "duration": 44,
    "start_time": "2021-12-27T11:04:27.379Z"
   },
   {
    "duration": 27,
    "start_time": "2021-12-27T11:04:27.426Z"
   },
   {
    "duration": 5,
    "start_time": "2021-12-27T11:04:27.456Z"
   },
   {
    "duration": 23,
    "start_time": "2021-12-27T11:04:27.464Z"
   },
   {
    "duration": 44,
    "start_time": "2021-12-27T11:04:27.490Z"
   },
   {
    "duration": 19,
    "start_time": "2021-12-27T11:04:27.536Z"
   },
   {
    "duration": 23,
    "start_time": "2021-12-27T11:04:27.558Z"
   },
   {
    "duration": 47,
    "start_time": "2021-12-27T11:04:27.584Z"
   },
   {
    "duration": 20,
    "start_time": "2021-12-27T11:04:27.634Z"
   },
   {
    "duration": 24,
    "start_time": "2021-12-27T11:04:27.657Z"
   },
   {
    "duration": 45,
    "start_time": "2021-12-27T11:04:27.684Z"
   },
   {
    "duration": 10,
    "start_time": "2021-12-27T11:04:27.735Z"
   },
   {
    "duration": 37,
    "start_time": "2021-12-27T11:04:27.749Z"
   },
   {
    "duration": 53,
    "start_time": "2021-12-27T11:04:27.789Z"
   },
   {
    "duration": 37,
    "start_time": "2021-12-27T11:04:27.844Z"
   },
   {
    "duration": 49,
    "start_time": "2021-12-27T11:04:27.884Z"
   },
   {
    "duration": 8,
    "start_time": "2021-12-27T11:04:27.936Z"
   },
   {
    "duration": 15,
    "start_time": "2021-12-27T11:04:27.947Z"
   },
   {
    "duration": 6,
    "start_time": "2021-12-27T11:04:27.965Z"
   },
   {
    "duration": 11,
    "start_time": "2021-12-27T11:04:27.973Z"
   },
   {
    "duration": 11,
    "start_time": "2021-12-27T11:04:28.023Z"
   },
   {
    "duration": 11,
    "start_time": "2021-12-27T11:04:28.037Z"
   },
   {
    "duration": 38,
    "start_time": "2021-12-27T11:04:28.051Z"
   },
   {
    "duration": 32,
    "start_time": "2021-12-27T11:04:28.091Z"
   },
   {
    "duration": 16,
    "start_time": "2021-12-27T11:04:28.126Z"
   },
   {
    "duration": 41,
    "start_time": "2021-12-27T11:04:28.144Z"
   },
   {
    "duration": 36,
    "start_time": "2021-12-27T11:04:28.188Z"
   },
   {
    "duration": 47,
    "start_time": "2021-12-27T11:04:28.228Z"
   },
   {
    "duration": 13,
    "start_time": "2021-12-27T11:04:28.277Z"
   },
   {
    "duration": 47,
    "start_time": "2021-12-27T11:04:28.293Z"
   },
   {
    "duration": 11,
    "start_time": "2021-12-27T11:04:28.343Z"
   },
   {
    "duration": 23,
    "start_time": "2021-12-27T11:04:28.357Z"
   },
   {
    "duration": 41,
    "start_time": "2021-12-27T11:04:28.382Z"
   },
   {
    "duration": 24,
    "start_time": "2021-12-27T11:04:28.426Z"
   },
   {
    "duration": 12,
    "start_time": "2021-12-27T11:04:28.453Z"
   },
   {
    "duration": 25,
    "start_time": "2021-12-27T11:04:28.468Z"
   },
   {
    "duration": 10,
    "start_time": "2021-12-27T11:04:28.524Z"
   },
   {
    "duration": 13,
    "start_time": "2021-12-27T11:04:28.537Z"
   },
   {
    "duration": 11,
    "start_time": "2021-12-27T11:04:28.552Z"
   },
   {
    "duration": 15,
    "start_time": "2021-12-27T11:04:28.566Z"
   },
   {
    "duration": 44,
    "start_time": "2021-12-27T11:04:28.583Z"
   },
   {
    "duration": 28,
    "start_time": "2021-12-27T11:04:28.629Z"
   },
   {
    "duration": 30,
    "start_time": "2021-12-27T11:04:28.659Z"
   },
   {
    "duration": 39,
    "start_time": "2021-12-27T11:04:28.692Z"
   },
   {
    "duration": 8,
    "start_time": "2021-12-27T11:04:28.733Z"
   },
   {
    "duration": 10,
    "start_time": "2021-12-27T11:04:28.744Z"
   },
   {
    "duration": 5,
    "start_time": "2021-12-27T11:04:28.756Z"
   },
   {
    "duration": 397,
    "start_time": "2021-12-27T11:04:28.763Z"
   },
   {
    "duration": 11,
    "start_time": "2021-12-27T11:04:29.163Z"
   },
   {
    "duration": 24,
    "start_time": "2021-12-27T11:04:29.176Z"
   },
   {
    "duration": 5,
    "start_time": "2021-12-27T11:06:52.704Z"
   },
   {
    "duration": 337,
    "start_time": "2021-12-27T11:06:54.862Z"
   },
   {
    "duration": 5,
    "start_time": "2021-12-27T11:06:57.872Z"
   },
   {
    "duration": 23,
    "start_time": "2021-12-27T11:07:00.401Z"
   },
   {
    "duration": 22,
    "start_time": "2021-12-27T11:07:11.781Z"
   },
   {
    "duration": 5,
    "start_time": "2021-12-27T11:07:20.470Z"
   },
   {
    "duration": 363,
    "start_time": "2021-12-27T11:07:21.220Z"
   },
   {
    "duration": 22,
    "start_time": "2021-12-27T11:07:24.938Z"
   },
   {
    "duration": 1387,
    "start_time": "2021-12-27T11:07:34.787Z"
   },
   {
    "duration": 4,
    "start_time": "2021-12-27T11:07:36.176Z"
   },
   {
    "duration": 534,
    "start_time": "2021-12-27T11:07:36.183Z"
   },
   {
    "duration": 21,
    "start_time": "2021-12-27T11:07:36.721Z"
   },
   {
    "duration": 29,
    "start_time": "2021-12-27T11:07:36.745Z"
   },
   {
    "duration": 20,
    "start_time": "2021-12-27T11:07:36.777Z"
   },
   {
    "duration": 26,
    "start_time": "2021-12-27T11:07:36.800Z"
   },
   {
    "duration": 25,
    "start_time": "2021-12-27T11:07:36.831Z"
   },
   {
    "duration": 27,
    "start_time": "2021-12-27T11:07:36.859Z"
   },
   {
    "duration": 39,
    "start_time": "2021-12-27T11:07:36.888Z"
   },
   {
    "duration": 36,
    "start_time": "2021-12-27T11:07:36.929Z"
   },
   {
    "duration": 25,
    "start_time": "2021-12-27T11:07:36.968Z"
   },
   {
    "duration": 52,
    "start_time": "2021-12-27T11:07:36.995Z"
   },
   {
    "duration": 4,
    "start_time": "2021-12-27T11:07:37.051Z"
   },
   {
    "duration": 23,
    "start_time": "2021-12-27T11:07:37.058Z"
   },
   {
    "duration": 10,
    "start_time": "2021-12-27T11:07:37.084Z"
   },
   {
    "duration": 34,
    "start_time": "2021-12-27T11:07:37.097Z"
   },
   {
    "duration": 21,
    "start_time": "2021-12-27T11:07:37.134Z"
   },
   {
    "duration": 19,
    "start_time": "2021-12-27T11:07:37.158Z"
   },
   {
    "duration": 51,
    "start_time": "2021-12-27T11:07:37.180Z"
   },
   {
    "duration": 27,
    "start_time": "2021-12-27T11:07:37.234Z"
   },
   {
    "duration": 11,
    "start_time": "2021-12-27T11:07:37.263Z"
   },
   {
    "duration": 9,
    "start_time": "2021-12-27T11:07:37.281Z"
   },
   {
    "duration": 36,
    "start_time": "2021-12-27T11:07:37.324Z"
   },
   {
    "duration": 27,
    "start_time": "2021-12-27T11:07:37.362Z"
   },
   {
    "duration": 69,
    "start_time": "2021-12-27T11:07:37.391Z"
   },
   {
    "duration": 30,
    "start_time": "2021-12-27T11:07:37.463Z"
   },
   {
    "duration": 28,
    "start_time": "2021-12-27T11:07:37.495Z"
   },
   {
    "duration": 11,
    "start_time": "2021-12-27T11:07:37.526Z"
   },
   {
    "duration": 19,
    "start_time": "2021-12-27T11:07:37.539Z"
   },
   {
    "duration": 12,
    "start_time": "2021-12-27T11:07:37.561Z"
   },
   {
    "duration": 12,
    "start_time": "2021-12-27T11:07:37.575Z"
   },
   {
    "duration": 38,
    "start_time": "2021-12-27T11:07:37.590Z"
   },
   {
    "duration": 40,
    "start_time": "2021-12-27T11:07:37.631Z"
   },
   {
    "duration": 5,
    "start_time": "2021-12-27T11:07:37.673Z"
   },
   {
    "duration": 48,
    "start_time": "2021-12-27T11:07:37.680Z"
   },
   {
    "duration": 32,
    "start_time": "2021-12-27T11:07:37.730Z"
   },
   {
    "duration": 12,
    "start_time": "2021-12-27T11:07:37.764Z"
   },
   {
    "duration": 67,
    "start_time": "2021-12-27T11:07:37.779Z"
   },
   {
    "duration": 10,
    "start_time": "2021-12-27T11:07:37.848Z"
   },
   {
    "duration": 24,
    "start_time": "2021-12-27T11:07:37.861Z"
   },
   {
    "duration": 12,
    "start_time": "2021-12-27T11:07:37.887Z"
   },
   {
    "duration": 19,
    "start_time": "2021-12-27T11:07:37.924Z"
   },
   {
    "duration": 9,
    "start_time": "2021-12-27T11:07:37.945Z"
   },
   {
    "duration": 26,
    "start_time": "2021-12-27T11:07:37.956Z"
   },
   {
    "duration": 40,
    "start_time": "2021-12-27T11:07:37.984Z"
   },
   {
    "duration": 25,
    "start_time": "2021-12-27T11:07:38.027Z"
   },
   {
    "duration": 12,
    "start_time": "2021-12-27T11:07:38.054Z"
   },
   {
    "duration": 11,
    "start_time": "2021-12-27T11:07:38.068Z"
   },
   {
    "duration": 48,
    "start_time": "2021-12-27T11:07:38.082Z"
   },
   {
    "duration": 13,
    "start_time": "2021-12-27T11:07:38.133Z"
   },
   {
    "duration": 15,
    "start_time": "2021-12-27T11:07:38.148Z"
   },
   {
    "duration": 76,
    "start_time": "2021-12-27T11:07:38.167Z"
   },
   {
    "duration": 43,
    "start_time": "2021-12-27T11:07:38.247Z"
   },
   {
    "duration": 34,
    "start_time": "2021-12-27T11:07:38.293Z"
   },
   {
    "duration": 10,
    "start_time": "2021-12-27T11:07:38.330Z"
   },
   {
    "duration": 15,
    "start_time": "2021-12-27T11:07:38.342Z"
   },
   {
    "duration": 7,
    "start_time": "2021-12-27T11:07:38.360Z"
   },
   {
    "duration": 675,
    "start_time": "2021-12-27T11:07:38.370Z"
   },
   {
    "duration": 35,
    "start_time": "2021-12-27T11:07:39.048Z"
   },
   {
    "duration": 8479,
    "start_time": "2021-12-27T11:08:16.776Z"
   },
   {
    "duration": 358,
    "start_time": "2021-12-27T11:08:36.680Z"
   },
   {
    "duration": 1328,
    "start_time": "2021-12-27T11:08:43.844Z"
   },
   {
    "duration": 4,
    "start_time": "2021-12-27T11:08:45.174Z"
   },
   {
    "duration": 526,
    "start_time": "2021-12-27T11:08:45.181Z"
   },
   {
    "duration": 19,
    "start_time": "2021-12-27T11:08:45.710Z"
   },
   {
    "duration": 24,
    "start_time": "2021-12-27T11:08:45.732Z"
   },
   {
    "duration": 8,
    "start_time": "2021-12-27T11:08:45.759Z"
   },
   {
    "duration": 13,
    "start_time": "2021-12-27T11:08:45.771Z"
   },
   {
    "duration": 44,
    "start_time": "2021-12-27T11:08:45.789Z"
   },
   {
    "duration": 12,
    "start_time": "2021-12-27T11:08:45.837Z"
   },
   {
    "duration": 71,
    "start_time": "2021-12-27T11:08:45.852Z"
   },
   {
    "duration": 55,
    "start_time": "2021-12-27T11:08:45.927Z"
   },
   {
    "duration": 70,
    "start_time": "2021-12-27T11:08:45.986Z"
   },
   {
    "duration": 33,
    "start_time": "2021-12-27T11:08:46.058Z"
   },
   {
    "duration": 5,
    "start_time": "2021-12-27T11:08:46.094Z"
   },
   {
    "duration": 39,
    "start_time": "2021-12-27T11:08:46.101Z"
   },
   {
    "duration": 12,
    "start_time": "2021-12-27T11:08:46.142Z"
   },
   {
    "duration": 13,
    "start_time": "2021-12-27T11:08:46.157Z"
   },
   {
    "duration": 62,
    "start_time": "2021-12-27T11:08:46.172Z"
   },
   {
    "duration": 20,
    "start_time": "2021-12-27T11:08:46.237Z"
   },
   {
    "duration": 21,
    "start_time": "2021-12-27T11:08:46.260Z"
   },
   {
    "duration": 53,
    "start_time": "2021-12-27T11:08:46.285Z"
   },
   {
    "duration": 12,
    "start_time": "2021-12-27T11:08:46.341Z"
   },
   {
    "duration": 11,
    "start_time": "2021-12-27T11:08:46.360Z"
   },
   {
    "duration": 70,
    "start_time": "2021-12-27T11:08:46.375Z"
   },
   {
    "duration": 28,
    "start_time": "2021-12-27T11:08:46.448Z"
   },
   {
    "duration": 87,
    "start_time": "2021-12-27T11:08:46.480Z"
   },
   {
    "duration": 67,
    "start_time": "2021-12-27T11:08:46.570Z"
   },
   {
    "duration": 13,
    "start_time": "2021-12-27T11:08:46.640Z"
   },
   {
    "duration": 18,
    "start_time": "2021-12-27T11:08:46.656Z"
   },
   {
    "duration": 8,
    "start_time": "2021-12-27T11:08:46.677Z"
   },
   {
    "duration": 40,
    "start_time": "2021-12-27T11:08:46.688Z"
   },
   {
    "duration": 12,
    "start_time": "2021-12-27T11:08:46.731Z"
   },
   {
    "duration": 10,
    "start_time": "2021-12-27T11:08:46.745Z"
   },
   {
    "duration": 65,
    "start_time": "2021-12-27T11:08:46.758Z"
   },
   {
    "duration": 5,
    "start_time": "2021-12-27T11:08:46.825Z"
   },
   {
    "duration": 18,
    "start_time": "2021-12-27T11:08:46.833Z"
   },
   {
    "duration": 32,
    "start_time": "2021-12-27T11:08:46.854Z"
   },
   {
    "duration": 41,
    "start_time": "2021-12-27T11:08:46.888Z"
   },
   {
    "duration": 36,
    "start_time": "2021-12-27T11:08:46.931Z"
   },
   {
    "duration": 10,
    "start_time": "2021-12-27T11:08:46.969Z"
   },
   {
    "duration": 51,
    "start_time": "2021-12-27T11:08:46.981Z"
   },
   {
    "duration": 10,
    "start_time": "2021-12-27T11:08:47.035Z"
   },
   {
    "duration": 20,
    "start_time": "2021-12-27T11:08:47.048Z"
   },
   {
    "duration": 8,
    "start_time": "2021-12-27T11:08:47.071Z"
   },
   {
    "duration": 58,
    "start_time": "2021-12-27T11:08:47.081Z"
   },
   {
    "duration": 12,
    "start_time": "2021-12-27T11:08:47.141Z"
   },
   {
    "duration": 25,
    "start_time": "2021-12-27T11:08:47.156Z"
   },
   {
    "duration": 10,
    "start_time": "2021-12-27T11:08:47.183Z"
   },
   {
    "duration": 13,
    "start_time": "2021-12-27T11:08:47.225Z"
   },
   {
    "duration": 16,
    "start_time": "2021-12-27T11:08:47.241Z"
   },
   {
    "duration": 13,
    "start_time": "2021-12-27T11:08:47.259Z"
   },
   {
    "duration": 54,
    "start_time": "2021-12-27T11:08:47.275Z"
   },
   {
    "duration": 27,
    "start_time": "2021-12-27T11:08:47.332Z"
   },
   {
    "duration": 31,
    "start_time": "2021-12-27T11:08:47.362Z"
   },
   {
    "duration": 13,
    "start_time": "2021-12-27T11:08:47.424Z"
   },
   {
    "duration": 10,
    "start_time": "2021-12-27T11:08:47.440Z"
   },
   {
    "duration": 10,
    "start_time": "2021-12-27T11:08:47.454Z"
   },
   {
    "duration": 10,
    "start_time": "2021-12-27T11:08:47.466Z"
   },
   {
    "duration": 399,
    "start_time": "2021-12-27T11:08:47.479Z"
   },
   {
    "duration": 23,
    "start_time": "2021-12-27T11:08:47.881Z"
   },
   {
    "duration": 368,
    "start_time": "2021-12-27T11:09:07.989Z"
   },
   {
    "duration": 38,
    "start_time": "2021-12-27T11:09:10.725Z"
   },
   {
    "duration": 8640,
    "start_time": "2021-12-27T11:10:36.847Z"
   },
   {
    "duration": 340,
    "start_time": "2021-12-27T11:10:54.830Z"
   },
   {
    "duration": 22,
    "start_time": "2021-12-27T11:10:58.773Z"
   },
   {
    "duration": 694,
    "start_time": "2021-12-27T11:11:16.131Z"
   },
   {
    "duration": -66698,
    "start_time": "2021-12-27T11:12:23.526Z"
   },
   {
    "duration": 370,
    "start_time": "2021-12-27T11:11:26.900Z"
   },
   {
    "duration": 23,
    "start_time": "2021-12-27T11:11:28.902Z"
   },
   {
    "duration": 297,
    "start_time": "2021-12-27T11:25:56.977Z"
   },
   {
    "duration": 36,
    "start_time": "2021-12-27T11:26:07.473Z"
   },
   {
    "duration": 1558,
    "start_time": "2021-12-27T11:27:26.540Z"
   },
   {
    "duration": 6,
    "start_time": "2021-12-27T11:27:28.101Z"
   },
   {
    "duration": 687,
    "start_time": "2021-12-27T11:27:28.111Z"
   },
   {
    "duration": 28,
    "start_time": "2021-12-27T11:27:28.802Z"
   },
   {
    "duration": 62,
    "start_time": "2021-12-27T11:27:28.832Z"
   },
   {
    "duration": 41,
    "start_time": "2021-12-27T11:27:28.897Z"
   },
   {
    "duration": 33,
    "start_time": "2021-12-27T11:27:28.941Z"
   },
   {
    "duration": 37,
    "start_time": "2021-12-27T11:27:28.979Z"
   },
   {
    "duration": 33,
    "start_time": "2021-12-27T11:27:29.019Z"
   },
   {
    "duration": 46,
    "start_time": "2021-12-27T11:27:29.054Z"
   },
   {
    "duration": 58,
    "start_time": "2021-12-27T11:27:29.103Z"
   },
   {
    "duration": 26,
    "start_time": "2021-12-27T11:27:29.164Z"
   },
   {
    "duration": 48,
    "start_time": "2021-12-27T11:27:29.193Z"
   },
   {
    "duration": 6,
    "start_time": "2021-12-27T11:27:29.244Z"
   },
   {
    "duration": 25,
    "start_time": "2021-12-27T11:27:29.253Z"
   },
   {
    "duration": 25,
    "start_time": "2021-12-27T11:27:29.281Z"
   },
   {
    "duration": 31,
    "start_time": "2021-12-27T11:27:29.309Z"
   },
   {
    "duration": 25,
    "start_time": "2021-12-27T11:27:29.343Z"
   },
   {
    "duration": 42,
    "start_time": "2021-12-27T11:27:29.371Z"
   },
   {
    "duration": 44,
    "start_time": "2021-12-27T11:27:29.416Z"
   },
   {
    "duration": 48,
    "start_time": "2021-12-27T11:27:29.462Z"
   },
   {
    "duration": 29,
    "start_time": "2021-12-27T11:27:29.512Z"
   },
   {
    "duration": 36,
    "start_time": "2021-12-27T11:27:29.547Z"
   },
   {
    "duration": 82,
    "start_time": "2021-12-27T11:27:29.586Z"
   },
   {
    "duration": 28,
    "start_time": "2021-12-27T11:27:29.671Z"
   },
   {
    "duration": 76,
    "start_time": "2021-12-27T11:27:29.702Z"
   },
   {
    "duration": 50,
    "start_time": "2021-12-27T11:27:29.780Z"
   },
   {
    "duration": 18,
    "start_time": "2021-12-27T11:27:29.833Z"
   },
   {
    "duration": 27,
    "start_time": "2021-12-27T11:27:29.853Z"
   },
   {
    "duration": 24,
    "start_time": "2021-12-27T11:27:29.882Z"
   },
   {
    "duration": 29,
    "start_time": "2021-12-27T11:27:29.909Z"
   },
   {
    "duration": 31,
    "start_time": "2021-12-27T11:27:29.940Z"
   },
   {
    "duration": 10,
    "start_time": "2021-12-27T11:27:29.973Z"
   },
   {
    "duration": 57,
    "start_time": "2021-12-27T11:27:29.985Z"
   },
   {
    "duration": 6,
    "start_time": "2021-12-27T11:27:30.045Z"
   },
   {
    "duration": 50,
    "start_time": "2021-12-27T11:27:30.054Z"
   },
   {
    "duration": 68,
    "start_time": "2021-12-27T11:27:30.106Z"
   },
   {
    "duration": 15,
    "start_time": "2021-12-27T11:27:30.177Z"
   },
   {
    "duration": 50,
    "start_time": "2021-12-27T11:27:30.194Z"
   },
   {
    "duration": 11,
    "start_time": "2021-12-27T11:27:30.247Z"
   },
   {
    "duration": 72,
    "start_time": "2021-12-27T11:27:30.260Z"
   },
   {
    "duration": 26,
    "start_time": "2021-12-27T11:27:30.337Z"
   },
   {
    "duration": 56,
    "start_time": "2021-12-27T11:27:30.365Z"
   },
   {
    "duration": 19,
    "start_time": "2021-12-27T11:27:30.426Z"
   },
   {
    "duration": 35,
    "start_time": "2021-12-27T11:27:30.447Z"
   },
   {
    "duration": 13,
    "start_time": "2021-12-27T11:27:30.485Z"
   },
   {
    "duration": 51,
    "start_time": "2021-12-27T11:27:30.500Z"
   },
   {
    "duration": 12,
    "start_time": "2021-12-27T11:27:30.554Z"
   },
   {
    "duration": 30,
    "start_time": "2021-12-27T11:27:30.568Z"
   },
   {
    "duration": 35,
    "start_time": "2021-12-27T11:27:30.601Z"
   },
   {
    "duration": 21,
    "start_time": "2021-12-27T11:27:30.640Z"
   },
   {
    "duration": 22,
    "start_time": "2021-12-27T11:27:30.663Z"
   },
   {
    "duration": 51,
    "start_time": "2021-12-27T11:27:30.688Z"
   },
   {
    "duration": 43,
    "start_time": "2021-12-27T11:27:30.741Z"
   },
   {
    "duration": 10,
    "start_time": "2021-12-27T11:27:30.807Z"
   },
   {
    "duration": 42,
    "start_time": "2021-12-27T11:27:30.820Z"
   },
   {
    "duration": 13,
    "start_time": "2021-12-27T11:27:30.865Z"
   },
   {
    "duration": 491,
    "start_time": "2021-12-27T11:27:30.881Z"
   },
   {
    "duration": 24,
    "start_time": "2021-12-27T11:27:31.374Z"
   },
   {
    "duration": 44,
    "start_time": "2021-12-27T11:28:14.522Z"
   },
   {
    "duration": 597,
    "start_time": "2021-12-27T11:30:23.117Z"
   },
   {
    "duration": 25,
    "start_time": "2021-12-27T11:30:36.337Z"
   },
   {
    "duration": 39,
    "start_time": "2021-12-27T11:34:00.383Z"
   },
   {
    "duration": 1509,
    "start_time": "2021-12-27T11:34:51.673Z"
   },
   {
    "duration": 3,
    "start_time": "2021-12-27T11:34:53.185Z"
   },
   {
    "duration": 553,
    "start_time": "2021-12-27T11:34:53.192Z"
   },
   {
    "duration": 19,
    "start_time": "2021-12-27T11:34:53.748Z"
   },
   {
    "duration": 54,
    "start_time": "2021-12-27T11:34:53.769Z"
   },
   {
    "duration": 46,
    "start_time": "2021-12-27T11:34:53.827Z"
   },
   {
    "duration": 56,
    "start_time": "2021-12-27T11:34:53.876Z"
   },
   {
    "duration": 67,
    "start_time": "2021-12-27T11:34:53.937Z"
   },
   {
    "duration": 56,
    "start_time": "2021-12-27T11:34:54.008Z"
   },
   {
    "duration": 69,
    "start_time": "2021-12-27T11:34:54.067Z"
   },
   {
    "duration": 46,
    "start_time": "2021-12-27T11:34:54.139Z"
   },
   {
    "duration": 22,
    "start_time": "2021-12-27T11:34:54.188Z"
   },
   {
    "duration": 47,
    "start_time": "2021-12-27T11:34:54.212Z"
   },
   {
    "duration": 6,
    "start_time": "2021-12-27T11:34:54.262Z"
   },
   {
    "duration": 17,
    "start_time": "2021-12-27T11:34:54.271Z"
   },
   {
    "duration": 45,
    "start_time": "2021-12-27T11:34:54.291Z"
   },
   {
    "duration": 21,
    "start_time": "2021-12-27T11:34:54.344Z"
   },
   {
    "duration": 22,
    "start_time": "2021-12-27T11:34:54.367Z"
   },
   {
    "duration": 40,
    "start_time": "2021-12-27T11:34:54.392Z"
   },
   {
    "duration": 29,
    "start_time": "2021-12-27T11:34:54.435Z"
   },
   {
    "duration": 25,
    "start_time": "2021-12-27T11:34:54.467Z"
   },
   {
    "duration": 35,
    "start_time": "2021-12-27T11:34:54.494Z"
   },
   {
    "duration": 17,
    "start_time": "2021-12-27T11:34:54.541Z"
   },
   {
    "duration": 37,
    "start_time": "2021-12-27T11:34:54.561Z"
   },
   {
    "duration": 32,
    "start_time": "2021-12-27T11:34:54.600Z"
   },
   {
    "duration": 68,
    "start_time": "2021-12-27T11:34:54.637Z"
   },
   {
    "duration": 44,
    "start_time": "2021-12-27T11:34:54.708Z"
   },
   {
    "duration": 24,
    "start_time": "2021-12-27T11:34:54.755Z"
   },
   {
    "duration": 25,
    "start_time": "2021-12-27T11:34:54.782Z"
   },
   {
    "duration": 15,
    "start_time": "2021-12-27T11:34:54.810Z"
   },
   {
    "duration": 27,
    "start_time": "2021-12-27T11:34:54.837Z"
   },
   {
    "duration": 39,
    "start_time": "2021-12-27T11:34:54.866Z"
   },
   {
    "duration": 9,
    "start_time": "2021-12-27T11:34:54.908Z"
   },
   {
    "duration": 75,
    "start_time": "2021-12-27T11:34:54.919Z"
   },
   {
    "duration": 5,
    "start_time": "2021-12-27T11:34:54.996Z"
   },
   {
    "duration": 47,
    "start_time": "2021-12-27T11:34:55.004Z"
   },
   {
    "duration": 51,
    "start_time": "2021-12-27T11:34:55.054Z"
   },
   {
    "duration": 29,
    "start_time": "2021-12-27T11:34:55.108Z"
   },
   {
    "duration": 79,
    "start_time": "2021-12-27T11:34:55.140Z"
   },
   {
    "duration": 11,
    "start_time": "2021-12-27T11:34:55.221Z"
   },
   {
    "duration": 58,
    "start_time": "2021-12-27T11:34:55.237Z"
   },
   {
    "duration": 11,
    "start_time": "2021-12-27T11:34:55.297Z"
   },
   {
    "duration": 59,
    "start_time": "2021-12-27T11:34:55.311Z"
   },
   {
    "duration": 10,
    "start_time": "2021-12-27T11:34:55.372Z"
   },
   {
    "duration": 33,
    "start_time": "2021-12-27T11:34:55.385Z"
   },
   {
    "duration": 19,
    "start_time": "2021-12-27T11:34:55.421Z"
   },
   {
    "duration": 35,
    "start_time": "2021-12-27T11:34:55.442Z"
   },
   {
    "duration": 10,
    "start_time": "2021-12-27T11:34:55.480Z"
   },
   {
    "duration": 16,
    "start_time": "2021-12-27T11:34:55.492Z"
   },
   {
    "duration": 26,
    "start_time": "2021-12-27T11:34:55.510Z"
   },
   {
    "duration": 41,
    "start_time": "2021-12-27T11:34:55.539Z"
   },
   {
    "duration": 17,
    "start_time": "2021-12-27T11:34:55.583Z"
   },
   {
    "duration": 72,
    "start_time": "2021-12-27T11:34:55.603Z"
   },
   {
    "duration": 29,
    "start_time": "2021-12-27T11:34:55.677Z"
   },
   {
    "duration": 23,
    "start_time": "2021-12-27T11:34:55.708Z"
   },
   {
    "duration": 41,
    "start_time": "2021-12-27T11:34:55.733Z"
   },
   {
    "duration": 22,
    "start_time": "2021-12-27T11:34:55.776Z"
   },
   {
    "duration": 440,
    "start_time": "2021-12-27T11:34:55.801Z"
   },
   {
    "duration": 12,
    "start_time": "2021-12-27T11:34:56.244Z"
   },
   {
    "duration": 43,
    "start_time": "2021-12-27T11:34:56.258Z"
   },
   {
    "duration": 510,
    "start_time": "2021-12-27T11:44:34.100Z"
   },
   {
    "duration": 30,
    "start_time": "2021-12-27T11:44:50.821Z"
   },
   {
    "duration": 9,
    "start_time": "2021-12-27T11:45:07.273Z"
   },
   {
    "duration": 11,
    "start_time": "2021-12-27T11:46:07.983Z"
   },
   {
    "duration": 452,
    "start_time": "2021-12-27T11:47:28.910Z"
   },
   {
    "duration": 466,
    "start_time": "2021-12-27T11:47:55.427Z"
   },
   {
    "duration": 349,
    "start_time": "2021-12-28T12:31:19.857Z"
   },
   {
    "duration": 1544,
    "start_time": "2021-12-28T12:31:25.928Z"
   },
   {
    "duration": 4,
    "start_time": "2021-12-28T12:31:27.474Z"
   },
   {
    "duration": 504,
    "start_time": "2021-12-28T12:31:27.482Z"
   },
   {
    "duration": 17,
    "start_time": "2021-12-28T12:31:27.989Z"
   },
   {
    "duration": 32,
    "start_time": "2021-12-28T12:31:28.008Z"
   },
   {
    "duration": 9,
    "start_time": "2021-12-28T12:31:28.042Z"
   },
   {
    "duration": 23,
    "start_time": "2021-12-28T12:31:28.054Z"
   },
   {
    "duration": 11,
    "start_time": "2021-12-28T12:31:28.082Z"
   },
   {
    "duration": 38,
    "start_time": "2021-12-28T12:31:28.097Z"
   },
   {
    "duration": 30,
    "start_time": "2021-12-28T12:31:28.138Z"
   },
   {
    "duration": 90,
    "start_time": "2021-12-28T12:31:28.172Z"
   },
   {
    "duration": 40,
    "start_time": "2021-12-28T12:31:28.266Z"
   },
   {
    "duration": 46,
    "start_time": "2021-12-28T12:31:28.309Z"
   },
   {
    "duration": 6,
    "start_time": "2021-12-28T12:31:28.358Z"
   },
   {
    "duration": 24,
    "start_time": "2021-12-28T12:31:28.367Z"
   },
   {
    "duration": 37,
    "start_time": "2021-12-28T12:31:28.394Z"
   },
   {
    "duration": 14,
    "start_time": "2021-12-28T12:31:28.434Z"
   },
   {
    "duration": 27,
    "start_time": "2021-12-28T12:31:28.450Z"
   },
   {
    "duration": 49,
    "start_time": "2021-12-28T12:31:28.480Z"
   },
   {
    "duration": 20,
    "start_time": "2021-12-28T12:31:28.532Z"
   },
   {
    "duration": 27,
    "start_time": "2021-12-28T12:31:28.555Z"
   },
   {
    "duration": 39,
    "start_time": "2021-12-28T12:31:28.584Z"
   },
   {
    "duration": 11,
    "start_time": "2021-12-28T12:31:28.628Z"
   },
   {
    "duration": 35,
    "start_time": "2021-12-28T12:31:28.642Z"
   },
   {
    "duration": 52,
    "start_time": "2021-12-28T12:31:28.679Z"
   },
   {
    "duration": 39,
    "start_time": "2021-12-28T12:31:28.733Z"
   },
   {
    "duration": 50,
    "start_time": "2021-12-28T12:31:28.775Z"
   },
   {
    "duration": 6,
    "start_time": "2021-12-28T12:31:28.828Z"
   },
   {
    "duration": 13,
    "start_time": "2021-12-28T12:31:28.836Z"
   },
   {
    "duration": 9,
    "start_time": "2021-12-28T12:31:28.851Z"
   },
   {
    "duration": 10,
    "start_time": "2021-12-28T12:31:28.862Z"
   },
   {
    "duration": 54,
    "start_time": "2021-12-28T12:31:28.875Z"
   },
   {
    "duration": 14,
    "start_time": "2021-12-28T12:31:28.931Z"
   },
   {
    "duration": 41,
    "start_time": "2021-12-28T12:31:28.948Z"
   },
   {
    "duration": 4,
    "start_time": "2021-12-28T12:31:28.992Z"
   },
   {
    "duration": 12,
    "start_time": "2021-12-28T12:31:29.022Z"
   },
   {
    "duration": 33,
    "start_time": "2021-12-28T12:31:29.036Z"
   },
   {
    "duration": 10,
    "start_time": "2021-12-28T12:31:29.072Z"
   },
   {
    "duration": 65,
    "start_time": "2021-12-28T12:31:29.085Z"
   },
   {
    "duration": 10,
    "start_time": "2021-12-28T12:31:29.152Z"
   },
   {
    "duration": 22,
    "start_time": "2021-12-28T12:31:29.165Z"
   },
   {
    "duration": 42,
    "start_time": "2021-12-28T12:31:29.189Z"
   },
   {
    "duration": 23,
    "start_time": "2021-12-28T12:31:29.233Z"
   },
   {
    "duration": 10,
    "start_time": "2021-12-28T12:31:29.259Z"
   },
   {
    "duration": 55,
    "start_time": "2021-12-28T12:31:29.272Z"
   },
   {
    "duration": 15,
    "start_time": "2021-12-28T12:31:29.329Z"
   },
   {
    "duration": 25,
    "start_time": "2021-12-28T12:31:29.346Z"
   },
   {
    "duration": 10,
    "start_time": "2021-12-28T12:31:29.374Z"
   },
   {
    "duration": 44,
    "start_time": "2021-12-28T12:31:29.385Z"
   },
   {
    "duration": 10,
    "start_time": "2021-12-28T12:31:29.431Z"
   },
   {
    "duration": 13,
    "start_time": "2021-12-28T12:31:29.443Z"
   },
   {
    "duration": 11,
    "start_time": "2021-12-28T12:31:29.458Z"
   },
   {
    "duration": 63,
    "start_time": "2021-12-28T12:31:29.471Z"
   },
   {
    "duration": 29,
    "start_time": "2021-12-28T12:31:29.537Z"
   },
   {
    "duration": 10,
    "start_time": "2021-12-28T12:31:29.569Z"
   },
   {
    "duration": 43,
    "start_time": "2021-12-28T12:31:29.581Z"
   },
   {
    "duration": 11,
    "start_time": "2021-12-28T12:31:29.626Z"
   },
   {
    "duration": 373,
    "start_time": "2021-12-28T12:31:29.639Z"
   },
   {
    "duration": 29,
    "start_time": "2021-12-28T12:31:30.014Z"
   },
   {
    "duration": 38,
    "start_time": "2021-12-28T12:31:30.045Z"
   },
   {
    "duration": 8,
    "start_time": "2021-12-28T12:31:30.086Z"
   },
   {
    "duration": 290,
    "start_time": "2021-12-28T12:31:30.096Z"
   },
   {
    "duration": 310,
    "start_time": "2021-12-28T12:31:30.388Z"
   },
   {
    "duration": 581,
    "start_time": "2021-12-28T12:31:30.701Z"
   },
   {
    "duration": 320,
    "start_time": "2021-12-28T12:31:41.841Z"
   },
   {
    "duration": 708,
    "start_time": "2021-12-28T12:31:58.399Z"
   },
   {
    "duration": 288,
    "start_time": "2021-12-28T12:37:04.486Z"
   },
   {
    "duration": 22,
    "start_time": "2021-12-28T12:37:14.756Z"
   },
   {
    "duration": 277,
    "start_time": "2021-12-28T12:38:59.043Z"
   },
   {
    "duration": 612,
    "start_time": "2021-12-28T12:39:15.318Z"
   },
   {
    "duration": 319,
    "start_time": "2021-12-28T12:39:25.112Z"
   },
   {
    "duration": 326,
    "start_time": "2021-12-28T12:40:24.082Z"
   },
   {
    "duration": 360,
    "start_time": "2021-12-28T12:40:32.895Z"
   },
   {
    "duration": 325,
    "start_time": "2021-12-28T12:40:41.747Z"
   },
   {
    "duration": 126,
    "start_time": "2021-12-28T12:43:45.950Z"
   },
   {
    "duration": 1334,
    "start_time": "2021-12-28T12:44:31.129Z"
   },
   {
    "duration": 4,
    "start_time": "2021-12-28T12:44:32.467Z"
   },
   {
    "duration": 525,
    "start_time": "2021-12-28T12:44:32.475Z"
   },
   {
    "duration": 21,
    "start_time": "2021-12-28T12:44:33.003Z"
   },
   {
    "duration": 21,
    "start_time": "2021-12-28T12:44:33.026Z"
   },
   {
    "duration": 9,
    "start_time": "2021-12-28T12:44:33.049Z"
   },
   {
    "duration": 9,
    "start_time": "2021-12-28T12:44:33.061Z"
   },
   {
    "duration": 11,
    "start_time": "2021-12-28T12:44:33.075Z"
   },
   {
    "duration": 12,
    "start_time": "2021-12-28T12:44:33.125Z"
   },
   {
    "duration": 36,
    "start_time": "2021-12-28T12:44:33.139Z"
   },
   {
    "duration": 77,
    "start_time": "2021-12-28T12:44:33.179Z"
   },
   {
    "duration": 30,
    "start_time": "2021-12-28T12:44:33.259Z"
   },
   {
    "duration": 47,
    "start_time": "2021-12-28T12:44:33.291Z"
   },
   {
    "duration": 4,
    "start_time": "2021-12-28T12:44:33.340Z"
   },
   {
    "duration": 19,
    "start_time": "2021-12-28T12:44:33.347Z"
   },
   {
    "duration": 12,
    "start_time": "2021-12-28T12:44:33.368Z"
   },
   {
    "duration": 47,
    "start_time": "2021-12-28T12:44:33.383Z"
   },
   {
    "duration": 24,
    "start_time": "2021-12-28T12:44:33.433Z"
   },
   {
    "duration": 16,
    "start_time": "2021-12-28T12:44:33.460Z"
   },
   {
    "duration": 51,
    "start_time": "2021-12-28T12:44:33.479Z"
   },
   {
    "duration": 24,
    "start_time": "2021-12-28T12:44:33.532Z"
   },
   {
    "duration": 12,
    "start_time": "2021-12-28T12:44:33.559Z"
   },
   {
    "duration": 15,
    "start_time": "2021-12-28T12:44:33.577Z"
   },
   {
    "duration": 34,
    "start_time": "2021-12-28T12:44:33.623Z"
   },
   {
    "duration": 26,
    "start_time": "2021-12-28T12:44:33.660Z"
   },
   {
    "duration": 61,
    "start_time": "2021-12-28T12:44:33.689Z"
   },
   {
    "duration": 30,
    "start_time": "2021-12-28T12:44:33.753Z"
   },
   {
    "duration": 15,
    "start_time": "2021-12-28T12:44:33.785Z"
   },
   {
    "duration": 28,
    "start_time": "2021-12-28T12:44:33.803Z"
   },
   {
    "duration": 10,
    "start_time": "2021-12-28T12:44:33.833Z"
   },
   {
    "duration": 11,
    "start_time": "2021-12-28T12:44:33.845Z"
   },
   {
    "duration": 12,
    "start_time": "2021-12-28T12:44:33.859Z"
   },
   {
    "duration": 9,
    "start_time": "2021-12-28T12:44:33.873Z"
   },
   {
    "duration": 50,
    "start_time": "2021-12-28T12:44:33.924Z"
   },
   {
    "duration": 4,
    "start_time": "2021-12-28T12:44:33.977Z"
   },
   {
    "duration": 41,
    "start_time": "2021-12-28T12:44:33.984Z"
   },
   {
    "duration": 32,
    "start_time": "2021-12-28T12:44:34.028Z"
   },
   {
    "duration": 11,
    "start_time": "2021-12-28T12:44:34.062Z"
   },
   {
    "duration": 65,
    "start_time": "2021-12-28T12:44:34.076Z"
   },
   {
    "duration": 11,
    "start_time": "2021-12-28T12:44:34.145Z"
   },
   {
    "duration": 36,
    "start_time": "2021-12-28T12:44:34.159Z"
   },
   {
    "duration": 26,
    "start_time": "2021-12-28T12:44:34.198Z"
   },
   {
    "duration": 30,
    "start_time": "2021-12-28T12:44:34.227Z"
   },
   {
    "duration": 13,
    "start_time": "2021-12-28T12:44:34.259Z"
   },
   {
    "duration": 41,
    "start_time": "2021-12-28T12:44:34.274Z"
   },
   {
    "duration": 13,
    "start_time": "2021-12-28T12:44:34.318Z"
   },
   {
    "duration": 33,
    "start_time": "2021-12-28T12:44:34.334Z"
   },
   {
    "duration": 10,
    "start_time": "2021-12-28T12:44:34.370Z"
   },
   {
    "duration": 21,
    "start_time": "2021-12-28T12:44:34.383Z"
   },
   {
    "duration": 24,
    "start_time": "2021-12-28T12:44:34.406Z"
   },
   {
    "duration": 31,
    "start_time": "2021-12-28T12:44:34.432Z"
   },
   {
    "duration": 14,
    "start_time": "2021-12-28T12:44:34.466Z"
   },
   {
    "duration": 49,
    "start_time": "2021-12-28T12:44:34.482Z"
   },
   {
    "duration": 36,
    "start_time": "2021-12-28T12:44:34.534Z"
   },
   {
    "duration": 9,
    "start_time": "2021-12-28T12:44:34.573Z"
   },
   {
    "duration": 45,
    "start_time": "2021-12-28T12:44:34.585Z"
   },
   {
    "duration": 12,
    "start_time": "2021-12-28T12:44:34.633Z"
   },
   {
    "duration": 388,
    "start_time": "2021-12-28T12:44:34.648Z"
   },
   {
    "duration": 11,
    "start_time": "2021-12-28T12:44:35.039Z"
   },
   {
    "duration": 56,
    "start_time": "2021-12-28T12:44:35.053Z"
   },
   {
    "duration": 17,
    "start_time": "2021-12-28T12:44:35.112Z"
   },
   {
    "duration": 308,
    "start_time": "2021-12-28T12:44:35.132Z"
   },
   {
    "duration": 436,
    "start_time": "2021-12-28T12:44:35.442Z"
   },
   {
    "duration": 41,
    "start_time": "2021-12-28T12:44:35.882Z"
   },
   {
    "duration": 45,
    "start_time": "2021-12-28T12:44:35.927Z"
   },
   {
    "duration": 501,
    "start_time": "2021-12-28T12:44:35.976Z"
   },
   {
    "duration": 406,
    "start_time": "2021-12-28T12:44:36.479Z"
   },
   {
    "duration": 19,
    "start_time": "2021-12-28T12:44:36.891Z"
   },
   {
    "duration": 19,
    "start_time": "2021-12-28T12:44:54.190Z"
   },
   {
    "duration": 318,
    "start_time": "2021-12-28T12:46:17.375Z"
   },
   {
    "duration": 302,
    "start_time": "2021-12-28T12:47:06.138Z"
   },
   {
    "duration": 318,
    "start_time": "2021-12-28T19:19:04.225Z"
   },
   {
    "duration": 1398,
    "start_time": "2021-12-28T19:19:15.437Z"
   },
   {
    "duration": 4,
    "start_time": "2021-12-28T19:19:16.838Z"
   },
   {
    "duration": 566,
    "start_time": "2021-12-28T19:19:16.845Z"
   },
   {
    "duration": 21,
    "start_time": "2021-12-28T19:19:17.415Z"
   },
   {
    "duration": 41,
    "start_time": "2021-12-28T19:19:17.439Z"
   },
   {
    "duration": 12,
    "start_time": "2021-12-28T19:19:17.484Z"
   },
   {
    "duration": 12,
    "start_time": "2021-12-28T19:19:17.499Z"
   },
   {
    "duration": 51,
    "start_time": "2021-12-28T19:19:17.516Z"
   },
   {
    "duration": 11,
    "start_time": "2021-12-28T19:19:17.571Z"
   },
   {
    "duration": 25,
    "start_time": "2021-12-28T19:19:17.584Z"
   },
   {
    "duration": 67,
    "start_time": "2021-12-28T19:19:17.611Z"
   },
   {
    "duration": 32,
    "start_time": "2021-12-28T19:19:17.681Z"
   },
   {
    "duration": 31,
    "start_time": "2021-12-28T19:19:17.715Z"
   },
   {
    "duration": 4,
    "start_time": "2021-12-28T19:19:17.768Z"
   },
   {
    "duration": 19,
    "start_time": "2021-12-28T19:19:17.775Z"
   },
   {
    "duration": 11,
    "start_time": "2021-12-28T19:19:17.797Z"
   },
   {
    "duration": 11,
    "start_time": "2021-12-28T19:19:17.810Z"
   },
   {
    "duration": 58,
    "start_time": "2021-12-28T19:19:17.824Z"
   },
   {
    "duration": 18,
    "start_time": "2021-12-28T19:19:17.884Z"
   },
   {
    "duration": 20,
    "start_time": "2021-12-28T19:19:17.904Z"
   },
   {
    "duration": 52,
    "start_time": "2021-12-28T19:19:17.927Z"
   },
   {
    "duration": 12,
    "start_time": "2021-12-28T19:19:17.982Z"
   },
   {
    "duration": 11,
    "start_time": "2021-12-28T19:19:18.001Z"
   },
   {
    "duration": 77,
    "start_time": "2021-12-28T19:19:18.017Z"
   },
   {
    "duration": 28,
    "start_time": "2021-12-28T19:19:18.097Z"
   },
   {
    "duration": 65,
    "start_time": "2021-12-28T19:19:18.128Z"
   },
   {
    "duration": 36,
    "start_time": "2021-12-28T19:19:18.195Z"
   },
   {
    "duration": 6,
    "start_time": "2021-12-28T19:19:18.234Z"
   },
   {
    "duration": 32,
    "start_time": "2021-12-28T19:19:18.243Z"
   },
   {
    "duration": 7,
    "start_time": "2021-12-28T19:19:18.278Z"
   },
   {
    "duration": 11,
    "start_time": "2021-12-28T19:19:18.288Z"
   },
   {
    "duration": 13,
    "start_time": "2021-12-28T19:19:18.302Z"
   },
   {
    "duration": 52,
    "start_time": "2021-12-28T19:19:18.317Z"
   },
   {
    "duration": 43,
    "start_time": "2021-12-28T19:19:18.371Z"
   },
   {
    "duration": 5,
    "start_time": "2021-12-28T19:19:18.416Z"
   },
   {
    "duration": 19,
    "start_time": "2021-12-28T19:19:18.423Z"
   },
   {
    "duration": 33,
    "start_time": "2021-12-28T19:19:18.468Z"
   },
   {
    "duration": 13,
    "start_time": "2021-12-28T19:19:18.503Z"
   },
   {
    "duration": 69,
    "start_time": "2021-12-28T19:19:18.519Z"
   },
   {
    "duration": 13,
    "start_time": "2021-12-28T19:19:18.591Z"
   },
   {
    "duration": 25,
    "start_time": "2021-12-28T19:19:18.607Z"
   },
   {
    "duration": 37,
    "start_time": "2021-12-28T19:19:18.634Z"
   },
   {
    "duration": 23,
    "start_time": "2021-12-28T19:19:18.674Z"
   },
   {
    "duration": 11,
    "start_time": "2021-12-28T19:19:18.700Z"
   },
   {
    "duration": 57,
    "start_time": "2021-12-28T19:19:18.714Z"
   },
   {
    "duration": 14,
    "start_time": "2021-12-28T19:19:18.774Z"
   },
   {
    "duration": 27,
    "start_time": "2021-12-28T19:19:18.790Z"
   },
   {
    "duration": 11,
    "start_time": "2021-12-28T19:19:18.820Z"
   },
   {
    "duration": 11,
    "start_time": "2021-12-28T19:19:18.867Z"
   },
   {
    "duration": 12,
    "start_time": "2021-12-28T19:19:18.881Z"
   },
   {
    "duration": 16,
    "start_time": "2021-12-28T19:19:18.895Z"
   },
   {
    "duration": 13,
    "start_time": "2021-12-28T19:19:18.913Z"
   },
   {
    "duration": 64,
    "start_time": "2021-12-28T19:19:18.928Z"
   },
   {
    "duration": 31,
    "start_time": "2021-12-28T19:19:18.994Z"
   },
   {
    "duration": 10,
    "start_time": "2021-12-28T19:19:19.027Z"
   },
   {
    "duration": 8,
    "start_time": "2021-12-28T19:19:19.067Z"
   },
   {
    "duration": 14,
    "start_time": "2021-12-28T19:19:19.078Z"
   },
   {
    "duration": 384,
    "start_time": "2021-12-28T19:19:19.094Z"
   },
   {
    "duration": 10,
    "start_time": "2021-12-28T19:19:19.481Z"
   },
   {
    "duration": 37,
    "start_time": "2021-12-28T19:19:19.493Z"
   },
   {
    "duration": 7,
    "start_time": "2021-12-28T19:19:19.533Z"
   },
   {
    "duration": 314,
    "start_time": "2021-12-28T19:19:19.566Z"
   },
   {
    "duration": 322,
    "start_time": "2021-12-28T19:19:19.882Z"
   },
   {
    "duration": 21,
    "start_time": "2021-12-28T19:19:20.206Z"
   },
   {
    "duration": 43,
    "start_time": "2021-12-28T19:19:20.229Z"
   },
   {
    "duration": 329,
    "start_time": "2021-12-28T19:19:20.275Z"
   },
   {
    "duration": 341,
    "start_time": "2021-12-28T19:19:20.606Z"
   },
   {
    "duration": 29,
    "start_time": "2021-12-28T19:19:20.954Z"
   },
   {
    "duration": 340,
    "start_time": "2021-12-28T19:19:20.985Z"
   },
   {
    "duration": 335,
    "start_time": "2021-12-28T19:19:21.327Z"
   },
   {
    "duration": 21,
    "start_time": "2021-12-28T19:19:21.664Z"
   },
   {
    "duration": 404,
    "start_time": "2021-12-28T19:20:49.720Z"
   },
   {
    "duration": 326,
    "start_time": "2021-12-28T19:21:01.965Z"
   },
   {
    "duration": 301,
    "start_time": "2021-12-28T19:22:06.146Z"
   },
   {
    "duration": 269,
    "start_time": "2021-12-28T19:36:35.040Z"
   },
   {
    "duration": 25,
    "start_time": "2021-12-28T19:36:47.001Z"
   },
   {
    "duration": 6,
    "start_time": "2021-12-28T19:39:26.169Z"
   },
   {
    "duration": 9,
    "start_time": "2021-12-28T19:39:59.232Z"
   },
   {
    "duration": 11,
    "start_time": "2021-12-28T19:40:46.687Z"
   },
   {
    "duration": 12,
    "start_time": "2021-12-28T19:41:16.651Z"
   },
   {
    "duration": 4,
    "start_time": "2021-12-28T19:41:27.832Z"
   },
   {
    "duration": 5,
    "start_time": "2021-12-28T19:41:41.268Z"
   },
   {
    "duration": 7,
    "start_time": "2021-12-28T19:42:01.818Z"
   },
   {
    "duration": 8,
    "start_time": "2021-12-28T19:44:06.533Z"
   },
   {
    "duration": 79,
    "start_time": "2021-12-28T19:47:29.367Z"
   },
   {
    "duration": 10,
    "start_time": "2021-12-28T19:47:50.432Z"
   },
   {
    "duration": 12,
    "start_time": "2021-12-28T19:48:29.415Z"
   },
   {
    "duration": 13,
    "start_time": "2021-12-28T19:48:52.946Z"
   },
   {
    "duration": 5,
    "start_time": "2021-12-28T19:49:05.187Z"
   },
   {
    "duration": 5,
    "start_time": "2021-12-28T19:49:13.375Z"
   },
   {
    "duration": 84,
    "start_time": "2021-12-28T19:49:43.708Z"
   },
   {
    "duration": 100,
    "start_time": "2021-12-28T19:58:34.271Z"
   },
   {
    "duration": 1471,
    "start_time": "2021-12-28T20:06:46.265Z"
   },
   {
    "duration": 4,
    "start_time": "2021-12-28T20:06:47.738Z"
   },
   {
    "duration": 600,
    "start_time": "2021-12-28T20:06:47.745Z"
   },
   {
    "duration": 21,
    "start_time": "2021-12-28T20:06:48.348Z"
   },
   {
    "duration": 25,
    "start_time": "2021-12-28T20:06:48.371Z"
   },
   {
    "duration": 12,
    "start_time": "2021-12-28T20:06:48.399Z"
   },
   {
    "duration": 18,
    "start_time": "2021-12-28T20:06:48.414Z"
   },
   {
    "duration": 36,
    "start_time": "2021-12-28T20:06:48.435Z"
   },
   {
    "duration": 21,
    "start_time": "2021-12-28T20:06:48.476Z"
   },
   {
    "duration": 32,
    "start_time": "2021-12-28T20:06:48.500Z"
   },
   {
    "duration": 58,
    "start_time": "2021-12-28T20:06:48.534Z"
   },
   {
    "duration": 30,
    "start_time": "2021-12-28T20:06:48.595Z"
   },
   {
    "duration": 54,
    "start_time": "2021-12-28T20:06:48.627Z"
   },
   {
    "duration": 5,
    "start_time": "2021-12-28T20:06:48.685Z"
   },
   {
    "duration": 27,
    "start_time": "2021-12-28T20:06:48.692Z"
   },
   {
    "duration": 11,
    "start_time": "2021-12-28T20:06:48.721Z"
   },
   {
    "duration": 40,
    "start_time": "2021-12-28T20:06:48.735Z"
   },
   {
    "duration": 22,
    "start_time": "2021-12-28T20:06:48.778Z"
   },
   {
    "duration": 22,
    "start_time": "2021-12-28T20:06:48.803Z"
   },
   {
    "duration": 45,
    "start_time": "2021-12-28T20:06:48.828Z"
   },
   {
    "duration": 29,
    "start_time": "2021-12-28T20:06:48.875Z"
   },
   {
    "duration": 11,
    "start_time": "2021-12-28T20:06:48.906Z"
   },
   {
    "duration": 11,
    "start_time": "2021-12-28T20:06:48.920Z"
   },
   {
    "duration": 43,
    "start_time": "2021-12-28T20:06:48.967Z"
   },
   {
    "duration": 55,
    "start_time": "2021-12-28T20:06:49.012Z"
   },
   {
    "duration": 45,
    "start_time": "2021-12-28T20:06:49.070Z"
   },
   {
    "duration": 48,
    "start_time": "2021-12-28T20:06:49.121Z"
   },
   {
    "duration": 10,
    "start_time": "2021-12-28T20:06:49.173Z"
   },
   {
    "duration": 21,
    "start_time": "2021-12-28T20:06:49.186Z"
   },
   {
    "duration": 9,
    "start_time": "2021-12-28T20:06:49.210Z"
   },
   {
    "duration": 14,
    "start_time": "2021-12-28T20:06:49.221Z"
   },
   {
    "duration": 12,
    "start_time": "2021-12-28T20:06:49.268Z"
   },
   {
    "duration": 11,
    "start_time": "2021-12-28T20:06:49.283Z"
   },
   {
    "duration": 74,
    "start_time": "2021-12-28T20:06:49.296Z"
   },
   {
    "duration": 5,
    "start_time": "2021-12-28T20:06:49.372Z"
   },
   {
    "duration": 18,
    "start_time": "2021-12-28T20:06:49.379Z"
   },
   {
    "duration": 40,
    "start_time": "2021-12-28T20:06:49.400Z"
   },
   {
    "duration": 34,
    "start_time": "2021-12-28T20:06:49.442Z"
   },
   {
    "duration": 36,
    "start_time": "2021-12-28T20:06:49.479Z"
   },
   {
    "duration": 11,
    "start_time": "2021-12-28T20:06:49.517Z"
   },
   {
    "duration": 50,
    "start_time": "2021-12-28T20:06:49.531Z"
   },
   {
    "duration": 13,
    "start_time": "2021-12-28T20:06:49.584Z"
   },
   {
    "duration": 24,
    "start_time": "2021-12-28T20:06:49.599Z"
   },
   {
    "duration": 9,
    "start_time": "2021-12-28T20:06:49.626Z"
   },
   {
    "duration": 26,
    "start_time": "2021-12-28T20:06:49.668Z"
   },
   {
    "duration": 14,
    "start_time": "2021-12-28T20:06:49.697Z"
   },
   {
    "duration": 64,
    "start_time": "2021-12-28T20:06:49.715Z"
   },
   {
    "duration": 12,
    "start_time": "2021-12-28T20:06:49.781Z"
   },
   {
    "duration": 23,
    "start_time": "2021-12-28T20:06:49.796Z"
   },
   {
    "duration": 16,
    "start_time": "2021-12-28T20:06:49.821Z"
   },
   {
    "duration": 39,
    "start_time": "2021-12-28T20:06:49.840Z"
   },
   {
    "duration": 14,
    "start_time": "2021-12-28T20:06:49.882Z"
   },
   {
    "duration": 32,
    "start_time": "2021-12-28T20:06:49.899Z"
   },
   {
    "duration": 32,
    "start_time": "2021-12-28T20:06:49.967Z"
   },
   {
    "duration": 12,
    "start_time": "2021-12-28T20:06:50.001Z"
   },
   {
    "duration": 8,
    "start_time": "2021-12-28T20:06:50.015Z"
   },
   {
    "duration": 49,
    "start_time": "2021-12-28T20:06:50.025Z"
   },
   {
    "duration": 421,
    "start_time": "2021-12-28T20:06:50.077Z"
   },
   {
    "duration": 10,
    "start_time": "2021-12-28T20:06:50.500Z"
   },
   {
    "duration": 62,
    "start_time": "2021-12-28T20:06:50.512Z"
   },
   {
    "duration": 8,
    "start_time": "2021-12-28T20:06:50.577Z"
   },
   {
    "duration": 308,
    "start_time": "2021-12-28T20:06:50.587Z"
   },
   {
    "duration": 327,
    "start_time": "2021-12-28T20:06:50.898Z"
   },
   {
    "duration": 22,
    "start_time": "2021-12-28T20:06:51.228Z"
   },
   {
    "duration": 22,
    "start_time": "2021-12-28T20:06:51.267Z"
   },
   {
    "duration": 368,
    "start_time": "2021-12-28T20:06:51.291Z"
   },
   {
    "duration": 351,
    "start_time": "2021-12-28T20:06:51.662Z"
   },
   {
    "duration": 19,
    "start_time": "2021-12-28T20:06:52.016Z"
   },
   {
    "duration": 385,
    "start_time": "2021-12-28T20:06:52.037Z"
   },
   {
    "duration": 328,
    "start_time": "2021-12-28T20:06:52.424Z"
   },
   {
    "duration": 29,
    "start_time": "2021-12-28T20:06:52.754Z"
   },
   {
    "duration": 351,
    "start_time": "2021-12-28T20:06:52.786Z"
   },
   {
    "duration": 333,
    "start_time": "2021-12-28T20:06:53.140Z"
   },
   {
    "duration": 24,
    "start_time": "2021-12-28T20:06:53.476Z"
   },
   {
    "duration": 7,
    "start_time": "2021-12-28T20:06:53.502Z"
   },
   {
    "duration": 11,
    "start_time": "2021-12-28T20:06:53.513Z"
   },
   {
    "duration": 45,
    "start_time": "2021-12-28T20:06:53.527Z"
   },
   {
    "duration": 100,
    "start_time": "2021-12-28T20:06:53.575Z"
   },
   {
    "duration": 5,
    "start_time": "2021-12-28T20:06:53.678Z"
   },
   {
    "duration": 10,
    "start_time": "2021-12-28T20:06:53.686Z"
   },
   {
    "duration": 12,
    "start_time": "2021-12-28T20:06:53.704Z"
   },
   {
    "duration": 10,
    "start_time": "2021-12-28T20:06:53.718Z"
   },
   {
    "duration": 38,
    "start_time": "2021-12-28T20:06:53.731Z"
   },
   {
    "duration": 10,
    "start_time": "2021-12-28T20:06:53.772Z"
   },
   {
    "duration": 10,
    "start_time": "2021-12-28T20:06:53.785Z"
   },
   {
    "duration": 11,
    "start_time": "2021-12-28T20:06:53.797Z"
   },
   {
    "duration": 5,
    "start_time": "2021-12-28T20:06:53.811Z"
   },
   {
    "duration": 51,
    "start_time": "2021-12-28T20:06:53.819Z"
   },
   {
    "duration": 1436,
    "start_time": "2021-12-28T20:09:40.997Z"
   },
   {
    "duration": 5,
    "start_time": "2021-12-28T20:09:42.436Z"
   },
   {
    "duration": 578,
    "start_time": "2021-12-28T20:09:42.445Z"
   },
   {
    "duration": 20,
    "start_time": "2021-12-28T20:09:43.026Z"
   },
   {
    "duration": 33,
    "start_time": "2021-12-28T20:09:43.050Z"
   },
   {
    "duration": 12,
    "start_time": "2021-12-28T20:09:43.086Z"
   },
   {
    "duration": 11,
    "start_time": "2021-12-28T20:09:43.101Z"
   },
   {
    "duration": 52,
    "start_time": "2021-12-28T20:09:43.117Z"
   },
   {
    "duration": 13,
    "start_time": "2021-12-28T20:09:43.173Z"
   },
   {
    "duration": 30,
    "start_time": "2021-12-28T20:09:43.189Z"
   },
   {
    "duration": 75,
    "start_time": "2021-12-28T20:09:43.222Z"
   },
   {
    "duration": 29,
    "start_time": "2021-12-28T20:09:43.301Z"
   },
   {
    "duration": 59,
    "start_time": "2021-12-28T20:09:43.332Z"
   },
   {
    "duration": 6,
    "start_time": "2021-12-28T20:09:43.394Z"
   },
   {
    "duration": 22,
    "start_time": "2021-12-28T20:09:43.403Z"
   },
   {
    "duration": 12,
    "start_time": "2021-12-28T20:09:43.427Z"
   },
   {
    "duration": 11,
    "start_time": "2021-12-28T20:09:43.468Z"
   },
   {
    "duration": 26,
    "start_time": "2021-12-28T20:09:43.482Z"
   },
   {
    "duration": 19,
    "start_time": "2021-12-28T20:09:43.511Z"
   },
   {
    "duration": 21,
    "start_time": "2021-12-28T20:09:43.568Z"
   },
   {
    "duration": 32,
    "start_time": "2021-12-28T20:09:43.591Z"
   },
   {
    "duration": 11,
    "start_time": "2021-12-28T20:09:43.626Z"
   },
   {
    "duration": 11,
    "start_time": "2021-12-28T20:09:43.668Z"
   },
   {
    "duration": 38,
    "start_time": "2021-12-28T20:09:43.684Z"
   },
   {
    "duration": 57,
    "start_time": "2021-12-28T20:09:43.724Z"
   },
   {
    "duration": 46,
    "start_time": "2021-12-28T20:09:43.783Z"
   },
   {
    "duration": 54,
    "start_time": "2021-12-28T20:09:43.832Z"
   },
   {
    "duration": 6,
    "start_time": "2021-12-28T20:09:43.889Z"
   },
   {
    "duration": 12,
    "start_time": "2021-12-28T20:09:43.898Z"
   },
   {
    "duration": 9,
    "start_time": "2021-12-28T20:09:43.913Z"
   },
   {
    "duration": 45,
    "start_time": "2021-12-28T20:09:43.925Z"
   },
   {
    "duration": 25,
    "start_time": "2021-12-28T20:09:43.973Z"
   },
   {
    "duration": 10,
    "start_time": "2021-12-28T20:09:44.001Z"
   },
   {
    "duration": 63,
    "start_time": "2021-12-28T20:09:44.014Z"
   },
   {
    "duration": 6,
    "start_time": "2021-12-28T20:09:44.080Z"
   },
   {
    "duration": 24,
    "start_time": "2021-12-28T20:09:44.088Z"
   },
   {
    "duration": 35,
    "start_time": "2021-12-28T20:09:44.114Z"
   },
   {
    "duration": 12,
    "start_time": "2021-12-28T20:09:44.168Z"
   },
   {
    "duration": 41,
    "start_time": "2021-12-28T20:09:44.182Z"
   },
   {
    "duration": 10,
    "start_time": "2021-12-28T20:09:44.226Z"
   },
   {
    "duration": 48,
    "start_time": "2021-12-28T20:09:44.238Z"
   },
   {
    "duration": 11,
    "start_time": "2021-12-28T20:09:44.289Z"
   },
   {
    "duration": 20,
    "start_time": "2021-12-28T20:09:44.303Z"
   },
   {
    "duration": 43,
    "start_time": "2021-12-28T20:09:44.325Z"
   },
   {
    "duration": 25,
    "start_time": "2021-12-28T20:09:44.371Z"
   },
   {
    "duration": 12,
    "start_time": "2021-12-28T20:09:44.399Z"
   },
   {
    "duration": 56,
    "start_time": "2021-12-28T20:09:44.413Z"
   },
   {
    "duration": 11,
    "start_time": "2021-12-28T20:09:44.471Z"
   },
   {
    "duration": 19,
    "start_time": "2021-12-28T20:09:44.484Z"
   },
   {
    "duration": 15,
    "start_time": "2021-12-28T20:09:44.505Z"
   },
   {
    "duration": 20,
    "start_time": "2021-12-28T20:09:44.523Z"
   },
   {
    "duration": 13,
    "start_time": "2021-12-28T20:09:44.568Z"
   },
   {
    "duration": 39,
    "start_time": "2021-12-28T20:09:44.584Z"
   },
   {
    "duration": 64,
    "start_time": "2021-12-28T20:09:44.625Z"
   },
   {
    "duration": 10,
    "start_time": "2021-12-28T20:09:44.691Z"
   },
   {
    "duration": 8,
    "start_time": "2021-12-28T20:09:44.704Z"
   },
   {
    "duration": 12,
    "start_time": "2021-12-28T20:09:44.715Z"
   },
   {
    "duration": 380,
    "start_time": "2021-12-28T20:09:44.769Z"
   },
   {
    "duration": 15,
    "start_time": "2021-12-28T20:09:45.152Z"
   },
   {
    "duration": 41,
    "start_time": "2021-12-28T20:09:45.170Z"
   },
   {
    "duration": 8,
    "start_time": "2021-12-28T20:09:45.214Z"
   },
   {
    "duration": 329,
    "start_time": "2021-12-28T20:09:45.225Z"
   },
   {
    "duration": 327,
    "start_time": "2021-12-28T20:09:45.557Z"
   },
   {
    "duration": 20,
    "start_time": "2021-12-28T20:09:45.886Z"
   },
   {
    "duration": 21,
    "start_time": "2021-12-28T20:09:45.908Z"
   },
   {
    "duration": 374,
    "start_time": "2021-12-28T20:09:45.933Z"
   },
   {
    "duration": 348,
    "start_time": "2021-12-28T20:09:46.310Z"
   },
   {
    "duration": 20,
    "start_time": "2021-12-28T20:09:46.673Z"
   },
   {
    "duration": 356,
    "start_time": "2021-12-28T20:09:46.696Z"
   },
   {
    "duration": 337,
    "start_time": "2021-12-28T20:09:47.055Z"
   },
   {
    "duration": 19,
    "start_time": "2021-12-28T20:09:47.394Z"
   },
   {
    "duration": 344,
    "start_time": "2021-12-28T20:09:47.415Z"
   },
   {
    "duration": 322,
    "start_time": "2021-12-28T20:09:47.762Z"
   },
   {
    "duration": 24,
    "start_time": "2021-12-28T20:09:48.087Z"
   },
   {
    "duration": 6,
    "start_time": "2021-12-28T20:09:48.114Z"
   },
   {
    "duration": 16,
    "start_time": "2021-12-28T20:09:48.123Z"
   },
   {
    "duration": 10,
    "start_time": "2021-12-28T20:09:48.168Z"
   },
   {
    "duration": 12,
    "start_time": "2021-12-28T20:09:48.180Z"
   },
   {
    "duration": 3,
    "start_time": "2021-12-28T20:09:48.194Z"
   },
   {
    "duration": 7,
    "start_time": "2021-12-28T20:09:48.200Z"
   },
   {
    "duration": 111,
    "start_time": "2021-12-28T20:09:48.210Z"
   },
   {
    "duration": 9,
    "start_time": "2021-12-28T20:09:48.324Z"
   },
   {
    "duration": 34,
    "start_time": "2021-12-28T20:09:48.337Z"
   },
   {
    "duration": 12,
    "start_time": "2021-12-28T20:09:48.374Z"
   },
   {
    "duration": 12,
    "start_time": "2021-12-28T20:09:48.388Z"
   },
   {
    "duration": 12,
    "start_time": "2021-12-28T20:09:48.403Z"
   },
   {
    "duration": 5,
    "start_time": "2021-12-28T20:09:48.418Z"
   },
   {
    "duration": 47,
    "start_time": "2021-12-28T20:09:48.425Z"
   },
   {
    "duration": 1396,
    "start_time": "2021-12-29T17:48:30.369Z"
   },
   {
    "duration": 3,
    "start_time": "2021-12-29T17:48:31.768Z"
   },
   {
    "duration": 544,
    "start_time": "2021-12-29T17:48:31.775Z"
   },
   {
    "duration": 19,
    "start_time": "2021-12-29T17:48:32.322Z"
   },
   {
    "duration": 28,
    "start_time": "2021-12-29T17:48:32.344Z"
   },
   {
    "duration": 10,
    "start_time": "2021-12-29T17:48:32.374Z"
   },
   {
    "duration": 12,
    "start_time": "2021-12-29T17:48:32.387Z"
   },
   {
    "duration": 13,
    "start_time": "2021-12-29T17:48:32.402Z"
   },
   {
    "duration": 12,
    "start_time": "2021-12-29T17:48:32.458Z"
   },
   {
    "duration": 23,
    "start_time": "2021-12-29T17:48:32.473Z"
   },
   {
    "duration": 67,
    "start_time": "2021-12-29T17:48:32.498Z"
   },
   {
    "duration": 30,
    "start_time": "2021-12-29T17:48:32.568Z"
   },
   {
    "duration": 30,
    "start_time": "2021-12-29T17:48:32.601Z"
   },
   {
    "duration": 26,
    "start_time": "2021-12-29T17:48:32.633Z"
   },
   {
    "duration": 18,
    "start_time": "2021-12-29T17:48:32.662Z"
   },
   {
    "duration": 11,
    "start_time": "2021-12-29T17:48:32.682Z"
   },
   {
    "duration": 11,
    "start_time": "2021-12-29T17:48:32.695Z"
   },
   {
    "duration": 58,
    "start_time": "2021-12-29T17:48:32.708Z"
   },
   {
    "duration": 18,
    "start_time": "2021-12-29T17:48:32.769Z"
   },
   {
    "duration": 24,
    "start_time": "2021-12-29T17:48:32.789Z"
   },
   {
    "duration": 49,
    "start_time": "2021-12-29T17:48:32.816Z"
   },
   {
    "duration": 11,
    "start_time": "2021-12-29T17:48:32.868Z"
   },
   {
    "duration": 18,
    "start_time": "2021-12-29T17:48:32.882Z"
   },
   {
    "duration": 59,
    "start_time": "2021-12-29T17:48:32.903Z"
   },
   {
    "duration": 28,
    "start_time": "2021-12-29T17:48:32.965Z"
   },
   {
    "duration": 55,
    "start_time": "2021-12-29T17:48:32.995Z"
   },
   {
    "duration": 35,
    "start_time": "2021-12-29T17:48:33.060Z"
   },
   {
    "duration": 6,
    "start_time": "2021-12-29T17:48:33.101Z"
   },
   {
    "duration": 14,
    "start_time": "2021-12-29T17:48:33.110Z"
   },
   {
    "duration": 6,
    "start_time": "2021-12-29T17:48:33.160Z"
   },
   {
    "duration": 15,
    "start_time": "2021-12-29T17:48:33.169Z"
   },
   {
    "duration": 12,
    "start_time": "2021-12-29T17:48:33.186Z"
   },
   {
    "duration": 11,
    "start_time": "2021-12-29T17:48:33.200Z"
   },
   {
    "duration": 78,
    "start_time": "2021-12-29T17:48:33.214Z"
   },
   {
    "duration": 5,
    "start_time": "2021-12-29T17:48:33.294Z"
   },
   {
    "duration": 13,
    "start_time": "2021-12-29T17:48:33.301Z"
   },
   {
    "duration": 60,
    "start_time": "2021-12-29T17:48:33.317Z"
   },
   {
    "duration": 11,
    "start_time": "2021-12-29T17:48:33.380Z"
   },
   {
    "duration": 45,
    "start_time": "2021-12-29T17:48:33.393Z"
   },
   {
    "duration": 23,
    "start_time": "2021-12-29T17:48:33.440Z"
   },
   {
    "duration": 21,
    "start_time": "2021-12-29T17:48:33.465Z"
   },
   {
    "duration": 11,
    "start_time": "2021-12-29T17:48:33.489Z"
   },
   {
    "duration": 56,
    "start_time": "2021-12-29T17:48:33.503Z"
   },
   {
    "duration": 10,
    "start_time": "2021-12-29T17:48:33.562Z"
   },
   {
    "duration": 25,
    "start_time": "2021-12-29T17:48:33.575Z"
   },
   {
    "duration": 13,
    "start_time": "2021-12-29T17:48:33.603Z"
   },
   {
    "duration": 59,
    "start_time": "2021-12-29T17:48:33.619Z"
   },
   {
    "duration": 11,
    "start_time": "2021-12-29T17:48:33.681Z"
   },
   {
    "duration": 11,
    "start_time": "2021-12-29T17:48:33.694Z"
   },
   {
    "duration": 10,
    "start_time": "2021-12-29T17:48:33.707Z"
   },
   {
    "duration": 47,
    "start_time": "2021-12-29T17:48:33.720Z"
   },
   {
    "duration": 12,
    "start_time": "2021-12-29T17:48:33.769Z"
   },
   {
    "duration": 30,
    "start_time": "2021-12-29T17:48:33.783Z"
   },
   {
    "duration": 61,
    "start_time": "2021-12-29T17:48:33.815Z"
   },
   {
    "duration": 10,
    "start_time": "2021-12-29T17:48:33.878Z"
   },
   {
    "duration": 7,
    "start_time": "2021-12-29T17:48:33.891Z"
   },
   {
    "duration": 10,
    "start_time": "2021-12-29T17:48:33.901Z"
   },
   {
    "duration": 426,
    "start_time": "2021-12-29T17:48:33.914Z"
   },
   {
    "duration": 18,
    "start_time": "2021-12-29T17:48:34.343Z"
   },
   {
    "duration": 37,
    "start_time": "2021-12-29T17:48:34.364Z"
   },
   {
    "duration": 8,
    "start_time": "2021-12-29T17:48:34.404Z"
   },
   {
    "duration": 303,
    "start_time": "2021-12-29T17:48:34.414Z"
   },
   {
    "duration": 327,
    "start_time": "2021-12-29T17:48:34.720Z"
   },
   {
    "duration": 25,
    "start_time": "2021-12-29T17:48:35.049Z"
   },
   {
    "duration": 18,
    "start_time": "2021-12-29T17:48:35.076Z"
   },
   {
    "duration": 347,
    "start_time": "2021-12-29T17:48:35.096Z"
   },
   {
    "duration": 313,
    "start_time": "2021-12-29T17:48:35.446Z"
   },
   {
    "duration": 20,
    "start_time": "2021-12-29T17:48:35.761Z"
   },
   {
    "duration": 337,
    "start_time": "2021-12-29T17:48:35.783Z"
   },
   {
    "duration": 323,
    "start_time": "2021-12-29T17:48:36.123Z"
   },
   {
    "duration": 26,
    "start_time": "2021-12-29T17:48:36.448Z"
   },
   {
    "duration": 322,
    "start_time": "2021-12-29T17:48:36.476Z"
   },
   {
    "duration": 308,
    "start_time": "2021-12-29T17:48:36.801Z"
   },
   {
    "duration": 24,
    "start_time": "2021-12-29T17:48:37.111Z"
   },
   {
    "duration": 24,
    "start_time": "2021-12-29T17:48:37.137Z"
   },
   {
    "duration": 10,
    "start_time": "2021-12-29T17:48:37.163Z"
   },
   {
    "duration": 86,
    "start_time": "2021-12-29T17:48:37.175Z"
   },
   {
    "duration": 13,
    "start_time": "2021-12-29T17:48:37.263Z"
   },
   {
    "duration": 15,
    "start_time": "2021-12-29T17:48:37.279Z"
   },
   {
    "duration": 11,
    "start_time": "2021-12-29T17:48:37.297Z"
   },
   {
    "duration": 5,
    "start_time": "2021-12-29T17:48:37.317Z"
   },
   {
    "duration": 35,
    "start_time": "2021-12-29T17:48:37.325Z"
   },
   {
    "duration": 6,
    "start_time": "2021-12-29T17:48:37.362Z"
   },
   {
    "duration": 14,
    "start_time": "2021-12-29T17:48:37.371Z"
   },
   {
    "duration": 11,
    "start_time": "2021-12-29T17:48:37.387Z"
   },
   {
    "duration": 19,
    "start_time": "2021-12-29T17:48:37.400Z"
   },
   {
    "duration": 6,
    "start_time": "2021-12-29T17:48:37.421Z"
   },
   {
    "duration": 33,
    "start_time": "2021-12-29T17:48:37.429Z"
   },
   {
    "duration": 50,
    "start_time": "2021-12-29T17:49:48.498Z"
   },
   {
    "duration": 8,
    "start_time": "2021-12-29T18:07:25.160Z"
   },
   {
    "duration": 43,
    "start_time": "2021-12-29T18:07:31.652Z"
   },
   {
    "duration": 10,
    "start_time": "2021-12-29T18:07:37.352Z"
   },
   {
    "duration": 7,
    "start_time": "2021-12-29T18:07:42.696Z"
   },
   {
    "duration": 1035,
    "start_time": "2021-12-29T19:46:29.339Z"
   },
   {
    "duration": 2,
    "start_time": "2021-12-29T19:46:30.377Z"
   },
   {
    "duration": 410,
    "start_time": "2021-12-29T19:46:30.381Z"
   },
   {
    "duration": 13,
    "start_time": "2021-12-29T19:46:30.793Z"
   },
   {
    "duration": 13,
    "start_time": "2021-12-29T19:46:30.807Z"
   },
   {
    "duration": 9,
    "start_time": "2021-12-29T19:46:30.822Z"
   },
   {
    "duration": 15,
    "start_time": "2021-12-29T19:46:30.832Z"
   },
   {
    "duration": 25,
    "start_time": "2021-12-29T19:46:30.849Z"
   },
   {
    "duration": 15,
    "start_time": "2021-12-29T19:46:30.877Z"
   },
   {
    "duration": 24,
    "start_time": "2021-12-29T19:46:30.894Z"
   },
   {
    "duration": 29,
    "start_time": "2021-12-29T19:46:30.920Z"
   },
   {
    "duration": 16,
    "start_time": "2021-12-29T19:46:30.950Z"
   },
   {
    "duration": 40,
    "start_time": "2021-12-29T19:46:30.967Z"
   },
   {
    "duration": 4,
    "start_time": "2021-12-29T19:46:31.009Z"
   },
   {
    "duration": 17,
    "start_time": "2021-12-29T19:46:31.014Z"
   },
   {
    "duration": 8,
    "start_time": "2021-12-29T19:46:31.033Z"
   },
   {
    "duration": 16,
    "start_time": "2021-12-29T19:46:31.043Z"
   },
   {
    "duration": 36,
    "start_time": "2021-12-29T19:46:31.061Z"
   },
   {
    "duration": 21,
    "start_time": "2021-12-29T19:46:31.099Z"
   },
   {
    "duration": 18,
    "start_time": "2021-12-29T19:46:31.122Z"
   },
   {
    "duration": 21,
    "start_time": "2021-12-29T19:46:31.142Z"
   },
   {
    "duration": 16,
    "start_time": "2021-12-29T19:46:31.165Z"
   },
   {
    "duration": 10,
    "start_time": "2021-12-29T19:46:31.195Z"
   },
   {
    "duration": 36,
    "start_time": "2021-12-29T19:46:31.208Z"
   },
   {
    "duration": 21,
    "start_time": "2021-12-29T19:46:31.245Z"
   },
   {
    "duration": 47,
    "start_time": "2021-12-29T19:46:31.268Z"
   },
   {
    "duration": 22,
    "start_time": "2021-12-29T19:46:31.317Z"
   },
   {
    "duration": 10,
    "start_time": "2021-12-29T19:46:31.341Z"
   },
   {
    "duration": 31,
    "start_time": "2021-12-29T19:46:31.352Z"
   },
   {
    "duration": 17,
    "start_time": "2021-12-29T19:46:31.385Z"
   },
   {
    "duration": 21,
    "start_time": "2021-12-29T19:46:31.403Z"
   },
   {
    "duration": 11,
    "start_time": "2021-12-29T19:46:31.425Z"
   },
   {
    "duration": 35,
    "start_time": "2021-12-29T19:46:31.438Z"
   },
   {
    "duration": 4,
    "start_time": "2021-12-29T19:46:31.475Z"
   },
   {
    "duration": 14,
    "start_time": "2021-12-29T19:46:31.481Z"
   },
   {
    "duration": 26,
    "start_time": "2021-12-29T19:46:31.496Z"
   },
   {
    "duration": 8,
    "start_time": "2021-12-29T19:46:31.524Z"
   },
   {
    "duration": 32,
    "start_time": "2021-12-29T19:46:31.534Z"
   },
   {
    "duration": 25,
    "start_time": "2021-12-29T19:46:31.568Z"
   },
   {
    "duration": 18,
    "start_time": "2021-12-29T19:46:31.595Z"
   },
   {
    "duration": 7,
    "start_time": "2021-12-29T19:46:31.615Z"
   },
   {
    "duration": 23,
    "start_time": "2021-12-29T19:46:31.624Z"
   },
   {
    "duration": 7,
    "start_time": "2021-12-29T19:46:31.649Z"
   },
   {
    "duration": 38,
    "start_time": "2021-12-29T19:46:31.658Z"
   },
   {
    "duration": 8,
    "start_time": "2021-12-29T19:46:31.697Z"
   },
   {
    "duration": 20,
    "start_time": "2021-12-29T19:46:31.707Z"
   },
   {
    "duration": 7,
    "start_time": "2021-12-29T19:46:31.729Z"
   },
   {
    "duration": 10,
    "start_time": "2021-12-29T19:46:31.737Z"
   },
   {
    "duration": 10,
    "start_time": "2021-12-29T19:46:31.749Z"
   },
   {
    "duration": 8,
    "start_time": "2021-12-29T19:46:31.792Z"
   },
   {
    "duration": 12,
    "start_time": "2021-12-29T19:46:31.802Z"
   },
   {
    "duration": 20,
    "start_time": "2021-12-29T19:46:31.816Z"
   },
   {
    "duration": 19,
    "start_time": "2021-12-29T19:46:31.838Z"
   },
   {
    "duration": 33,
    "start_time": "2021-12-29T19:46:31.859Z"
   },
   {
    "duration": 6,
    "start_time": "2021-12-29T19:46:31.893Z"
   },
   {
    "duration": 10,
    "start_time": "2021-12-29T19:46:31.900Z"
   },
   {
    "duration": 221,
    "start_time": "2021-12-29T19:46:31.911Z"
   },
   {
    "duration": 5,
    "start_time": "2021-12-29T19:46:32.134Z"
   },
   {
    "duration": 30,
    "start_time": "2021-12-29T19:46:32.141Z"
   },
   {
    "duration": 5,
    "start_time": "2021-12-29T19:46:32.173Z"
   },
   {
    "duration": 202,
    "start_time": "2021-12-29T19:46:32.191Z"
   },
   {
    "duration": 201,
    "start_time": "2021-12-29T19:46:32.395Z"
   },
   {
    "duration": 13,
    "start_time": "2021-12-29T19:46:32.597Z"
   },
   {
    "duration": 11,
    "start_time": "2021-12-29T19:46:32.611Z"
   },
   {
    "duration": 221,
    "start_time": "2021-12-29T19:46:32.624Z"
   },
   {
    "duration": 204,
    "start_time": "2021-12-29T19:46:32.846Z"
   },
   {
    "duration": 12,
    "start_time": "2021-12-29T19:46:33.052Z"
   },
   {
    "duration": 222,
    "start_time": "2021-12-29T19:46:33.069Z"
   },
   {
    "duration": 212,
    "start_time": "2021-12-29T19:46:33.294Z"
   },
   {
    "duration": 14,
    "start_time": "2021-12-29T19:46:33.508Z"
   },
   {
    "duration": 220,
    "start_time": "2021-12-29T19:46:33.524Z"
   },
   {
    "duration": 199,
    "start_time": "2021-12-29T19:46:33.746Z"
   },
   {
    "duration": 15,
    "start_time": "2021-12-29T19:46:33.947Z"
   },
   {
    "duration": 17,
    "start_time": "2021-12-29T19:46:33.964Z"
   },
   {
    "duration": 19,
    "start_time": "2021-12-29T19:46:33.983Z"
   },
   {
    "duration": 26,
    "start_time": "2021-12-29T19:46:34.003Z"
   },
   {
    "duration": 28,
    "start_time": "2021-12-29T19:46:34.031Z"
   },
   {
    "duration": 14,
    "start_time": "2021-12-29T19:46:34.061Z"
   },
   {
    "duration": 15,
    "start_time": "2021-12-29T19:46:34.077Z"
   },
   {
    "duration": 60,
    "start_time": "2021-12-29T19:46:34.094Z"
   },
   {
    "duration": 6,
    "start_time": "2021-12-29T19:46:34.156Z"
   },
   {
    "duration": 6,
    "start_time": "2021-12-29T19:46:34.164Z"
   },
   {
    "duration": 31,
    "start_time": "2021-12-29T19:46:34.171Z"
   },
   {
    "duration": 8,
    "start_time": "2021-12-29T19:46:34.204Z"
   },
   {
    "duration": 8,
    "start_time": "2021-12-29T19:46:34.213Z"
   },
   {
    "duration": 4,
    "start_time": "2021-12-29T19:46:34.222Z"
   },
   {
    "duration": 8,
    "start_time": "2021-12-29T19:46:34.228Z"
   },
   {
    "duration": 8,
    "start_time": "2021-12-29T19:47:37.179Z"
   },
   {
    "duration": 1056,
    "start_time": "2021-12-29T19:47:42.204Z"
   },
   {
    "duration": 3,
    "start_time": "2021-12-29T19:47:43.262Z"
   },
   {
    "duration": 389,
    "start_time": "2021-12-29T19:47:43.270Z"
   },
   {
    "duration": 12,
    "start_time": "2021-12-29T19:47:43.661Z"
   },
   {
    "duration": 14,
    "start_time": "2021-12-29T19:47:43.675Z"
   },
   {
    "duration": 5,
    "start_time": "2021-12-29T19:47:43.691Z"
   },
   {
    "duration": 6,
    "start_time": "2021-12-29T19:47:43.699Z"
   },
   {
    "duration": 8,
    "start_time": "2021-12-29T19:47:43.707Z"
   },
   {
    "duration": 9,
    "start_time": "2021-12-29T19:47:43.716Z"
   },
   {
    "duration": 18,
    "start_time": "2021-12-29T19:47:43.727Z"
   },
   {
    "duration": 57,
    "start_time": "2021-12-29T19:47:43.746Z"
   },
   {
    "duration": 15,
    "start_time": "2021-12-29T19:47:43.805Z"
   },
   {
    "duration": 21,
    "start_time": "2021-12-29T19:47:43.822Z"
   },
   {
    "duration": 4,
    "start_time": "2021-12-29T19:47:43.845Z"
   },
   {
    "duration": 15,
    "start_time": "2021-12-29T19:47:43.850Z"
   },
   {
    "duration": 32,
    "start_time": "2021-12-29T19:47:43.866Z"
   },
   {
    "duration": 8,
    "start_time": "2021-12-29T19:47:43.900Z"
   },
   {
    "duration": 15,
    "start_time": "2021-12-29T19:47:43.910Z"
   },
   {
    "duration": 11,
    "start_time": "2021-12-29T19:47:43.926Z"
   },
   {
    "duration": 12,
    "start_time": "2021-12-29T19:47:43.939Z"
   },
   {
    "duration": 45,
    "start_time": "2021-12-29T19:47:43.953Z"
   },
   {
    "duration": 7,
    "start_time": "2021-12-29T19:47:44.002Z"
   },
   {
    "duration": 6,
    "start_time": "2021-12-29T19:47:44.012Z"
   },
   {
    "duration": 26,
    "start_time": "2021-12-29T19:47:44.020Z"
   },
   {
    "duration": 19,
    "start_time": "2021-12-29T19:47:44.048Z"
   },
   {
    "duration": 26,
    "start_time": "2021-12-29T19:47:44.092Z"
   },
   {
    "duration": 21,
    "start_time": "2021-12-29T19:47:44.120Z"
   },
   {
    "duration": 5,
    "start_time": "2021-12-29T19:47:44.142Z"
   },
   {
    "duration": 8,
    "start_time": "2021-12-29T19:47:44.148Z"
   },
   {
    "duration": 8,
    "start_time": "2021-12-29T19:47:44.157Z"
   },
   {
    "duration": 31,
    "start_time": "2021-12-29T19:47:44.167Z"
   },
   {
    "duration": 8,
    "start_time": "2021-12-29T19:47:44.199Z"
   },
   {
    "duration": 27,
    "start_time": "2021-12-29T19:47:44.209Z"
   },
   {
    "duration": 4,
    "start_time": "2021-12-29T19:47:44.237Z"
   },
   {
    "duration": 11,
    "start_time": "2021-12-29T19:47:44.242Z"
   },
   {
    "duration": 48,
    "start_time": "2021-12-29T19:47:44.254Z"
   },
   {
    "duration": 8,
    "start_time": "2021-12-29T19:47:44.304Z"
   },
   {
    "duration": 30,
    "start_time": "2021-12-29T19:47:44.314Z"
   },
   {
    "duration": 6,
    "start_time": "2021-12-29T19:47:44.346Z"
   },
   {
    "duration": 37,
    "start_time": "2021-12-29T19:47:44.354Z"
   },
   {
    "duration": 8,
    "start_time": "2021-12-29T19:47:44.393Z"
   },
   {
    "duration": 16,
    "start_time": "2021-12-29T19:47:44.403Z"
   },
   {
    "duration": 6,
    "start_time": "2021-12-29T19:47:44.421Z"
   },
   {
    "duration": 19,
    "start_time": "2021-12-29T19:47:44.429Z"
   },
   {
    "duration": 8,
    "start_time": "2021-12-29T19:47:44.450Z"
   },
   {
    "duration": 41,
    "start_time": "2021-12-29T19:47:44.460Z"
   },
   {
    "duration": 6,
    "start_time": "2021-12-29T19:47:44.503Z"
   },
   {
    "duration": 16,
    "start_time": "2021-12-29T19:47:44.510Z"
   },
   {
    "duration": 7,
    "start_time": "2021-12-29T19:47:44.527Z"
   },
   {
    "duration": 7,
    "start_time": "2021-12-29T19:47:44.536Z"
   },
   {
    "duration": 8,
    "start_time": "2021-12-29T19:47:44.544Z"
   },
   {
    "duration": 40,
    "start_time": "2021-12-29T19:47:44.553Z"
   },
   {
    "duration": 19,
    "start_time": "2021-12-29T19:47:44.595Z"
   },
   {
    "duration": 7,
    "start_time": "2021-12-29T19:47:44.616Z"
   },
   {
    "duration": 21,
    "start_time": "2021-12-29T19:47:44.624Z"
   },
   {
    "duration": 32,
    "start_time": "2021-12-29T19:47:44.647Z"
   },
   {
    "duration": 233,
    "start_time": "2021-12-29T19:47:44.680Z"
   },
   {
    "duration": 5,
    "start_time": "2021-12-29T19:47:44.915Z"
   },
   {
    "duration": 39,
    "start_time": "2021-12-29T19:47:44.922Z"
   },
   {
    "duration": 7,
    "start_time": "2021-12-29T19:47:44.963Z"
   },
   {
    "duration": 208,
    "start_time": "2021-12-29T19:47:44.972Z"
   },
   {
    "duration": 190,
    "start_time": "2021-12-29T19:47:45.181Z"
   },
   {
    "duration": 20,
    "start_time": "2021-12-29T19:47:45.372Z"
   },
   {
    "duration": 11,
    "start_time": "2021-12-29T19:47:45.393Z"
   },
   {
    "duration": 204,
    "start_time": "2021-12-29T19:47:45.405Z"
   },
   {
    "duration": 205,
    "start_time": "2021-12-29T19:47:45.611Z"
   },
   {
    "duration": 13,
    "start_time": "2021-12-29T19:47:45.821Z"
   },
   {
    "duration": 214,
    "start_time": "2021-12-29T19:47:45.835Z"
   },
   {
    "duration": 200,
    "start_time": "2021-12-29T19:47:46.050Z"
   },
   {
    "duration": 12,
    "start_time": "2021-12-29T19:47:46.252Z"
   },
   {
    "duration": 210,
    "start_time": "2021-12-29T19:47:46.265Z"
   },
   {
    "duration": 192,
    "start_time": "2021-12-29T19:47:46.476Z"
   },
   {
    "duration": 15,
    "start_time": "2021-12-29T19:47:46.669Z"
   },
   {
    "duration": 4,
    "start_time": "2021-12-29T19:47:46.692Z"
   },
   {
    "duration": 8,
    "start_time": "2021-12-29T19:47:46.697Z"
   },
   {
    "duration": 8,
    "start_time": "2021-12-29T19:47:46.706Z"
   },
   {
    "duration": 7,
    "start_time": "2021-12-29T19:47:46.715Z"
   },
   {
    "duration": 2,
    "start_time": "2021-12-29T19:47:46.724Z"
   },
   {
    "duration": 5,
    "start_time": "2021-12-29T19:47:46.727Z"
   },
   {
    "duration": 92,
    "start_time": "2021-12-29T19:47:46.734Z"
   },
   {
    "duration": 6,
    "start_time": "2021-12-29T19:47:46.828Z"
   },
   {
    "duration": 5,
    "start_time": "2021-12-29T19:47:46.836Z"
   },
   {
    "duration": 7,
    "start_time": "2021-12-29T19:47:46.843Z"
   },
   {
    "duration": 6,
    "start_time": "2021-12-29T19:47:46.852Z"
   },
   {
    "duration": 6,
    "start_time": "2021-12-29T19:47:46.859Z"
   },
   {
    "duration": 26,
    "start_time": "2021-12-29T19:47:46.867Z"
   },
   {
    "duration": 6,
    "start_time": "2021-12-29T19:47:46.895Z"
   },
   {
    "duration": 1250,
    "start_time": "2021-12-29T20:04:52.509Z"
   },
   {
    "duration": 2,
    "start_time": "2021-12-29T20:04:53.761Z"
   },
   {
    "duration": 396,
    "start_time": "2021-12-29T20:04:53.768Z"
   },
   {
    "duration": 12,
    "start_time": "2021-12-29T20:04:54.166Z"
   },
   {
    "duration": 15,
    "start_time": "2021-12-29T20:04:54.180Z"
   },
   {
    "duration": 5,
    "start_time": "2021-12-29T20:04:54.197Z"
   },
   {
    "duration": 8,
    "start_time": "2021-12-29T20:04:54.204Z"
   },
   {
    "duration": 8,
    "start_time": "2021-12-29T20:04:54.215Z"
   },
   {
    "duration": 8,
    "start_time": "2021-12-29T20:04:54.225Z"
   },
   {
    "duration": 17,
    "start_time": "2021-12-29T20:04:54.234Z"
   },
   {
    "duration": 56,
    "start_time": "2021-12-29T20:04:54.253Z"
   },
   {
    "duration": 17,
    "start_time": "2021-12-29T20:04:54.310Z"
   },
   {
    "duration": 51,
    "start_time": "2021-12-29T20:04:54.328Z"
   },
   {
    "duration": 4,
    "start_time": "2021-12-29T20:04:54.381Z"
   },
   {
    "duration": 16,
    "start_time": "2021-12-29T20:04:54.386Z"
   },
   {
    "duration": 8,
    "start_time": "2021-12-29T20:04:54.404Z"
   },
   {
    "duration": 9,
    "start_time": "2021-12-29T20:04:54.413Z"
   },
   {
    "duration": 18,
    "start_time": "2021-12-29T20:04:54.424Z"
   },
   {
    "duration": 16,
    "start_time": "2021-12-29T20:04:54.444Z"
   },
   {
    "duration": 31,
    "start_time": "2021-12-29T20:04:54.462Z"
   },
   {
    "duration": 17,
    "start_time": "2021-12-29T20:04:54.494Z"
   },
   {
    "duration": 8,
    "start_time": "2021-12-29T20:04:54.513Z"
   },
   {
    "duration": 10,
    "start_time": "2021-12-29T20:04:54.522Z"
   },
   {
    "duration": 28,
    "start_time": "2021-12-29T20:04:54.533Z"
   },
   {
    "duration": 46,
    "start_time": "2021-12-29T20:04:54.563Z"
   },
   {
    "duration": 28,
    "start_time": "2021-12-29T20:04:54.613Z"
   },
   {
    "duration": 22,
    "start_time": "2021-12-29T20:04:54.644Z"
   },
   {
    "duration": 23,
    "start_time": "2021-12-29T20:04:54.668Z"
   },
   {
    "duration": 12,
    "start_time": "2021-12-29T20:04:54.693Z"
   },
   {
    "duration": 11,
    "start_time": "2021-12-29T20:04:54.707Z"
   },
   {
    "duration": 10,
    "start_time": "2021-12-29T20:04:54.719Z"
   },
   {
    "duration": 11,
    "start_time": "2021-12-29T20:04:54.730Z"
   },
   {
    "duration": 51,
    "start_time": "2021-12-29T20:04:54.743Z"
   },
   {
    "duration": 3,
    "start_time": "2021-12-29T20:04:54.796Z"
   },
   {
    "duration": 11,
    "start_time": "2021-12-29T20:04:54.801Z"
   },
   {
    "duration": 25,
    "start_time": "2021-12-29T20:04:54.813Z"
   },
   {
    "duration": 7,
    "start_time": "2021-12-29T20:04:54.840Z"
   },
   {
    "duration": 47,
    "start_time": "2021-12-29T20:04:54.849Z"
   },
   {
    "duration": 6,
    "start_time": "2021-12-29T20:04:54.898Z"
   },
   {
    "duration": 18,
    "start_time": "2021-12-29T20:04:54.905Z"
   },
   {
    "duration": 8,
    "start_time": "2021-12-29T20:04:54.924Z"
   },
   {
    "duration": 16,
    "start_time": "2021-12-29T20:04:54.933Z"
   },
   {
    "duration": 6,
    "start_time": "2021-12-29T20:04:54.951Z"
   },
   {
    "duration": 47,
    "start_time": "2021-12-29T20:04:54.958Z"
   },
   {
    "duration": 9,
    "start_time": "2021-12-29T20:04:55.006Z"
   },
   {
    "duration": 19,
    "start_time": "2021-12-29T20:04:55.016Z"
   },
   {
    "duration": 7,
    "start_time": "2021-12-29T20:04:55.036Z"
   },
   {
    "duration": 10,
    "start_time": "2021-12-29T20:04:55.045Z"
   },
   {
    "duration": 7,
    "start_time": "2021-12-29T20:04:55.057Z"
   },
   {
    "duration": 32,
    "start_time": "2021-12-29T20:04:55.066Z"
   },
   {
    "duration": 8,
    "start_time": "2021-12-29T20:04:55.100Z"
   },
   {
    "duration": 18,
    "start_time": "2021-12-29T20:04:55.110Z"
   },
   {
    "duration": 28,
    "start_time": "2021-12-29T20:04:55.129Z"
   },
   {
    "duration": 39,
    "start_time": "2021-12-29T20:04:55.159Z"
   },
   {
    "duration": 7,
    "start_time": "2021-12-29T20:04:55.200Z"
   },
   {
    "duration": 8,
    "start_time": "2021-12-29T20:04:55.209Z"
   },
   {
    "duration": 218,
    "start_time": "2021-12-29T20:04:55.218Z"
   },
   {
    "duration": 5,
    "start_time": "2021-12-29T20:04:55.438Z"
   },
   {
    "duration": 24,
    "start_time": "2021-12-29T20:04:55.444Z"
   },
   {
    "duration": 5,
    "start_time": "2021-12-29T20:04:55.469Z"
   },
   {
    "duration": 191,
    "start_time": "2021-12-29T20:04:55.491Z"
   },
   {
    "duration": 196,
    "start_time": "2021-12-29T20:04:55.683Z"
   },
   {
    "duration": 17,
    "start_time": "2021-12-29T20:04:55.880Z"
   },
   {
    "duration": 12,
    "start_time": "2021-12-29T20:04:55.898Z"
   },
   {
    "duration": 208,
    "start_time": "2021-12-29T20:04:55.911Z"
   },
   {
    "duration": 207,
    "start_time": "2021-12-29T20:04:56.121Z"
   },
   {
    "duration": 12,
    "start_time": "2021-12-29T20:04:56.330Z"
   },
   {
    "duration": 205,
    "start_time": "2021-12-29T20:04:56.344Z"
   },
   {
    "duration": 202,
    "start_time": "2021-12-29T20:04:56.551Z"
   },
   {
    "duration": 13,
    "start_time": "2021-12-29T20:04:56.755Z"
   },
   {
    "duration": 212,
    "start_time": "2021-12-29T20:04:56.770Z"
   },
   {
    "duration": 189,
    "start_time": "2021-12-29T20:04:56.984Z"
   },
   {
    "duration": 22,
    "start_time": "2021-12-29T20:04:57.174Z"
   },
   {
    "duration": 5,
    "start_time": "2021-12-29T20:04:57.198Z"
   },
   {
    "duration": 14,
    "start_time": "2021-12-29T20:04:57.204Z"
   },
   {
    "duration": 6,
    "start_time": "2021-12-29T20:04:57.220Z"
   },
   {
    "duration": 71,
    "start_time": "2021-12-29T20:04:57.228Z"
   },
   {
    "duration": 5,
    "start_time": "2021-12-29T20:04:57.301Z"
   },
   {
    "duration": 12,
    "start_time": "2021-12-29T20:04:57.307Z"
   },
   {
    "duration": 19,
    "start_time": "2021-12-29T20:04:57.323Z"
   },
   {
    "duration": 23,
    "start_time": "2021-12-29T20:04:57.343Z"
   },
   {
    "duration": 28,
    "start_time": "2021-12-29T20:04:57.368Z"
   },
   {
    "duration": 22,
    "start_time": "2021-12-29T20:04:57.397Z"
   },
   {
    "duration": 8,
    "start_time": "2021-12-29T20:04:57.421Z"
   },
   {
    "duration": 16,
    "start_time": "2021-12-29T20:04:57.430Z"
   },
   {
    "duration": 13,
    "start_time": "2021-12-29T20:04:57.448Z"
   },
   {
    "duration": 16,
    "start_time": "2021-12-29T20:04:57.462Z"
   },
   {
    "duration": 1175,
    "start_time": "2021-12-29T20:18:11.499Z"
   },
   {
    "duration": 3,
    "start_time": "2021-12-29T20:18:12.676Z"
   },
   {
    "duration": 430,
    "start_time": "2021-12-29T20:18:12.681Z"
   },
   {
    "duration": 12,
    "start_time": "2021-12-29T20:18:13.113Z"
   },
   {
    "duration": 17,
    "start_time": "2021-12-29T20:18:13.127Z"
   },
   {
    "duration": 7,
    "start_time": "2021-12-29T20:18:13.145Z"
   },
   {
    "duration": 9,
    "start_time": "2021-12-29T20:18:13.153Z"
   },
   {
    "duration": 8,
    "start_time": "2021-12-29T20:18:13.164Z"
   },
   {
    "duration": 23,
    "start_time": "2021-12-29T20:18:13.174Z"
   },
   {
    "duration": 18,
    "start_time": "2021-12-29T20:18:13.199Z"
   },
   {
    "duration": 27,
    "start_time": "2021-12-29T20:18:13.219Z"
   },
   {
    "duration": 16,
    "start_time": "2021-12-29T20:18:13.248Z"
   },
   {
    "duration": 20,
    "start_time": "2021-12-29T20:18:13.291Z"
   },
   {
    "duration": 5,
    "start_time": "2021-12-29T20:18:13.312Z"
   },
   {
    "duration": 14,
    "start_time": "2021-12-29T20:18:13.319Z"
   },
   {
    "duration": 9,
    "start_time": "2021-12-29T20:18:13.335Z"
   },
   {
    "duration": 9,
    "start_time": "2021-12-29T20:18:13.345Z"
   },
   {
    "duration": 43,
    "start_time": "2021-12-29T20:18:13.356Z"
   },
   {
    "duration": 12,
    "start_time": "2021-12-29T20:18:13.401Z"
   },
   {
    "duration": 14,
    "start_time": "2021-12-29T20:18:13.414Z"
   },
   {
    "duration": 18,
    "start_time": "2021-12-29T20:18:13.430Z"
   },
   {
    "duration": 8,
    "start_time": "2021-12-29T20:18:13.449Z"
   },
   {
    "duration": 35,
    "start_time": "2021-12-29T20:18:13.461Z"
   },
   {
    "duration": 28,
    "start_time": "2021-12-29T20:18:13.498Z"
   },
   {
    "duration": 18,
    "start_time": "2021-12-29T20:18:13.529Z"
   },
   {
    "duration": 53,
    "start_time": "2021-12-29T20:18:13.549Z"
   },
   {
    "duration": 22,
    "start_time": "2021-12-29T20:18:13.604Z"
   },
   {
    "duration": 4,
    "start_time": "2021-12-29T20:18:13.628Z"
   },
   {
    "duration": 7,
    "start_time": "2021-12-29T20:18:13.634Z"
   },
   {
    "duration": 8,
    "start_time": "2021-12-29T20:18:13.643Z"
   },
   {
    "duration": 8,
    "start_time": "2021-12-29T20:18:13.653Z"
   },
   {
    "duration": 33,
    "start_time": "2021-12-29T20:18:13.662Z"
   },
   {
    "duration": 28,
    "start_time": "2021-12-29T20:18:13.697Z"
   },
   {
    "duration": 4,
    "start_time": "2021-12-29T20:18:13.726Z"
   },
   {
    "duration": 10,
    "start_time": "2021-12-29T20:18:13.731Z"
   },
   {
    "duration": 23,
    "start_time": "2021-12-29T20:18:13.743Z"
   },
   {
    "duration": 29,
    "start_time": "2021-12-29T20:18:13.768Z"
   },
   {
    "duration": 28,
    "start_time": "2021-12-29T20:18:13.798Z"
   },
   {
    "duration": 6,
    "start_time": "2021-12-29T20:18:13.828Z"
   },
   {
    "duration": 17,
    "start_time": "2021-12-29T20:18:13.835Z"
   },
   {
    "duration": 7,
    "start_time": "2021-12-29T20:18:13.854Z"
   },
   {
    "duration": 15,
    "start_time": "2021-12-29T20:18:13.890Z"
   },
   {
    "duration": 7,
    "start_time": "2021-12-29T20:18:13.906Z"
   },
   {
    "duration": 19,
    "start_time": "2021-12-29T20:18:13.914Z"
   },
   {
    "duration": 8,
    "start_time": "2021-12-29T20:18:13.934Z"
   },
   {
    "duration": 17,
    "start_time": "2021-12-29T20:18:13.944Z"
   },
   {
    "duration": 33,
    "start_time": "2021-12-29T20:18:13.963Z"
   },
   {
    "duration": 9,
    "start_time": "2021-12-29T20:18:13.998Z"
   },
   {
    "duration": 6,
    "start_time": "2021-12-29T20:18:14.009Z"
   },
   {
    "duration": 9,
    "start_time": "2021-12-29T20:18:14.017Z"
   },
   {
    "duration": 7,
    "start_time": "2021-12-29T20:18:14.027Z"
   },
   {
    "duration": 15,
    "start_time": "2021-12-29T20:18:14.036Z"
   },
   {
    "duration": 49,
    "start_time": "2021-12-29T20:18:14.053Z"
   },
   {
    "duration": 6,
    "start_time": "2021-12-29T20:18:14.103Z"
   },
   {
    "duration": 6,
    "start_time": "2021-12-29T20:18:14.111Z"
   },
   {
    "duration": 8,
    "start_time": "2021-12-29T20:18:14.118Z"
   },
   {
    "duration": 239,
    "start_time": "2021-12-29T20:18:14.128Z"
   },
   {
    "duration": 6,
    "start_time": "2021-12-29T20:18:14.369Z"
   },
   {
    "duration": 37,
    "start_time": "2021-12-29T20:18:14.376Z"
   },
   {
    "duration": 6,
    "start_time": "2021-12-29T20:18:14.414Z"
   },
   {
    "duration": 191,
    "start_time": "2021-12-29T20:18:14.421Z"
   },
   {
    "duration": 211,
    "start_time": "2021-12-29T20:18:14.614Z"
   },
   {
    "duration": 12,
    "start_time": "2021-12-29T20:18:14.827Z"
   },
   {
    "duration": 11,
    "start_time": "2021-12-29T20:18:14.841Z"
   },
   {
    "duration": 226,
    "start_time": "2021-12-29T20:18:14.854Z"
   },
   {
    "duration": 215,
    "start_time": "2021-12-29T20:18:15.082Z"
   },
   {
    "duration": 21,
    "start_time": "2021-12-29T20:18:15.298Z"
   },
   {
    "duration": 222,
    "start_time": "2021-12-29T20:18:15.324Z"
   },
   {
    "duration": 212,
    "start_time": "2021-12-29T20:18:15.548Z"
   },
   {
    "duration": 12,
    "start_time": "2021-12-29T20:18:15.762Z"
   },
   {
    "duration": 217,
    "start_time": "2021-12-29T20:18:15.776Z"
   },
   {
    "duration": 202,
    "start_time": "2021-12-29T20:18:15.995Z"
   },
   {
    "duration": 13,
    "start_time": "2021-12-29T20:18:16.199Z"
   },
   {
    "duration": 5,
    "start_time": "2021-12-29T20:18:16.214Z"
   },
   {
    "duration": 8,
    "start_time": "2021-12-29T20:18:16.221Z"
   },
   {
    "duration": 7,
    "start_time": "2021-12-29T20:18:16.230Z"
   },
   {
    "duration": 6,
    "start_time": "2021-12-29T20:18:16.238Z"
   },
   {
    "duration": 4,
    "start_time": "2021-12-29T20:18:16.246Z"
   },
   {
    "duration": 8,
    "start_time": "2021-12-29T20:18:16.251Z"
   },
   {
    "duration": 88,
    "start_time": "2021-12-29T20:18:16.261Z"
   },
   {
    "duration": 6,
    "start_time": "2021-12-29T20:18:16.351Z"
   },
   {
    "duration": 6,
    "start_time": "2021-12-29T20:18:16.359Z"
   },
   {
    "duration": 25,
    "start_time": "2021-12-29T20:18:16.366Z"
   },
   {
    "duration": 7,
    "start_time": "2021-12-29T20:18:16.392Z"
   },
   {
    "duration": 17,
    "start_time": "2021-12-29T20:18:16.401Z"
   },
   {
    "duration": 8,
    "start_time": "2021-12-29T20:18:16.420Z"
   },
   {
    "duration": 7,
    "start_time": "2021-12-29T20:18:16.429Z"
   },
   {
    "duration": 1089,
    "start_time": "2021-12-29T20:36:10.781Z"
   },
   {
    "duration": 3,
    "start_time": "2021-12-29T20:36:11.871Z"
   },
   {
    "duration": 402,
    "start_time": "2021-12-29T20:36:11.876Z"
   },
   {
    "duration": 13,
    "start_time": "2021-12-29T20:36:12.280Z"
   },
   {
    "duration": 13,
    "start_time": "2021-12-29T20:36:12.295Z"
   },
   {
    "duration": 6,
    "start_time": "2021-12-29T20:36:12.310Z"
   },
   {
    "duration": 6,
    "start_time": "2021-12-29T20:36:12.318Z"
   },
   {
    "duration": 7,
    "start_time": "2021-12-29T20:36:12.327Z"
   },
   {
    "duration": 8,
    "start_time": "2021-12-29T20:36:12.336Z"
   },
   {
    "duration": 51,
    "start_time": "2021-12-29T20:36:12.345Z"
   },
   {
    "duration": 29,
    "start_time": "2021-12-29T20:36:12.397Z"
   },
   {
    "duration": 15,
    "start_time": "2021-12-29T20:36:12.428Z"
   },
   {
    "duration": 22,
    "start_time": "2021-12-29T20:36:12.445Z"
   },
   {
    "duration": 24,
    "start_time": "2021-12-29T20:36:12.468Z"
   },
   {
    "duration": 13,
    "start_time": "2021-12-29T20:36:12.493Z"
   },
   {
    "duration": 8,
    "start_time": "2021-12-29T20:36:12.508Z"
   },
   {
    "duration": 8,
    "start_time": "2021-12-29T20:36:12.517Z"
   },
   {
    "duration": 14,
    "start_time": "2021-12-29T20:36:12.526Z"
   },
   {
    "duration": 12,
    "start_time": "2021-12-29T20:36:12.542Z"
   },
   {
    "duration": 46,
    "start_time": "2021-12-29T20:36:12.555Z"
   },
   {
    "duration": 18,
    "start_time": "2021-12-29T20:36:12.602Z"
   },
   {
    "duration": 9,
    "start_time": "2021-12-29T20:36:12.621Z"
   },
   {
    "duration": 7,
    "start_time": "2021-12-29T20:36:12.633Z"
   },
   {
    "duration": 50,
    "start_time": "2021-12-29T20:36:12.643Z"
   },
   {
    "duration": 20,
    "start_time": "2021-12-29T20:36:12.695Z"
   },
   {
    "duration": 28,
    "start_time": "2021-12-29T20:36:12.717Z"
   },
   {
    "duration": 46,
    "start_time": "2021-12-29T20:36:12.747Z"
   },
   {
    "duration": 5,
    "start_time": "2021-12-29T20:36:12.794Z"
   },
   {
    "duration": 10,
    "start_time": "2021-12-29T20:36:12.800Z"
   },
   {
    "duration": 10,
    "start_time": "2021-12-29T20:36:12.812Z"
   },
   {
    "duration": 9,
    "start_time": "2021-12-29T20:36:12.823Z"
   },
   {
    "duration": 9,
    "start_time": "2021-12-29T20:36:12.834Z"
   },
   {
    "duration": 50,
    "start_time": "2021-12-29T20:36:12.844Z"
   },
   {
    "duration": 4,
    "start_time": "2021-12-29T20:36:12.896Z"
   },
   {
    "duration": 14,
    "start_time": "2021-12-29T20:36:12.902Z"
   },
   {
    "duration": 28,
    "start_time": "2021-12-29T20:36:12.917Z"
   },
   {
    "duration": 7,
    "start_time": "2021-12-29T20:36:12.947Z"
   },
   {
    "duration": 53,
    "start_time": "2021-12-29T20:36:12.956Z"
   },
   {
    "duration": 6,
    "start_time": "2021-12-29T20:36:13.011Z"
   },
   {
    "duration": 17,
    "start_time": "2021-12-29T20:36:13.018Z"
   },
   {
    "duration": 8,
    "start_time": "2021-12-29T20:36:13.036Z"
   },
   {
    "duration": 14,
    "start_time": "2021-12-29T20:36:13.046Z"
   },
   {
    "duration": 6,
    "start_time": "2021-12-29T20:36:13.061Z"
   },
   {
    "duration": 18,
    "start_time": "2021-12-29T20:36:13.092Z"
   },
   {
    "duration": 8,
    "start_time": "2021-12-29T20:36:13.111Z"
   },
   {
    "duration": 21,
    "start_time": "2021-12-29T20:36:13.121Z"
   },
   {
    "duration": 7,
    "start_time": "2021-12-29T20:36:13.144Z"
   },
   {
    "duration": 41,
    "start_time": "2021-12-29T20:36:13.153Z"
   },
   {
    "duration": 8,
    "start_time": "2021-12-29T20:36:13.195Z"
   },
   {
    "duration": 10,
    "start_time": "2021-12-29T20:36:13.204Z"
   },
   {
    "duration": 7,
    "start_time": "2021-12-29T20:36:13.216Z"
   },
   {
    "duration": 18,
    "start_time": "2021-12-29T20:36:13.225Z"
   },
   {
    "duration": 17,
    "start_time": "2021-12-29T20:36:13.245Z"
   },
   {
    "duration": 33,
    "start_time": "2021-12-29T20:36:13.264Z"
   },
   {
    "duration": 5,
    "start_time": "2021-12-29T20:36:13.298Z"
   },
   {
    "duration": 7,
    "start_time": "2021-12-29T20:36:13.305Z"
   },
   {
    "duration": 229,
    "start_time": "2021-12-29T20:36:13.313Z"
   },
   {
    "duration": 5,
    "start_time": "2021-12-29T20:36:13.543Z"
   },
   {
    "duration": 23,
    "start_time": "2021-12-29T20:36:13.549Z"
   },
   {
    "duration": 5,
    "start_time": "2021-12-29T20:36:13.573Z"
   },
   {
    "duration": 191,
    "start_time": "2021-12-29T20:36:13.592Z"
   },
   {
    "duration": 301,
    "start_time": "2021-12-29T20:36:13.785Z"
   },
   {
    "duration": 13,
    "start_time": "2021-12-29T20:36:14.091Z"
   },
   {
    "duration": 13,
    "start_time": "2021-12-29T20:36:14.105Z"
   },
   {
    "duration": 218,
    "start_time": "2021-12-29T20:36:14.119Z"
   },
   {
    "duration": 205,
    "start_time": "2021-12-29T20:36:14.339Z"
   },
   {
    "duration": 13,
    "start_time": "2021-12-29T20:36:14.545Z"
   },
   {
    "duration": 225,
    "start_time": "2021-12-29T20:36:14.562Z"
   },
   {
    "duration": 223,
    "start_time": "2021-12-29T20:36:14.791Z"
   },
   {
    "duration": 14,
    "start_time": "2021-12-29T20:36:15.016Z"
   },
   {
    "duration": 213,
    "start_time": "2021-12-29T20:36:15.032Z"
   },
   {
    "duration": 198,
    "start_time": "2021-12-29T20:36:15.247Z"
   },
   {
    "duration": 14,
    "start_time": "2021-12-29T20:36:15.447Z"
   },
   {
    "duration": 5,
    "start_time": "2021-12-29T20:36:15.463Z"
   },
   {
    "duration": 25,
    "start_time": "2021-12-29T20:36:15.469Z"
   },
   {
    "duration": 6,
    "start_time": "2021-12-29T20:36:15.496Z"
   },
   {
    "duration": 6,
    "start_time": "2021-12-29T20:36:15.504Z"
   },
   {
    "duration": 3,
    "start_time": "2021-12-29T20:36:15.511Z"
   },
   {
    "duration": 5,
    "start_time": "2021-12-29T20:36:15.516Z"
   },
   {
    "duration": 89,
    "start_time": "2021-12-29T20:36:15.522Z"
   },
   {
    "duration": 7,
    "start_time": "2021-12-29T20:36:15.613Z"
   },
   {
    "duration": 6,
    "start_time": "2021-12-29T20:36:15.621Z"
   },
   {
    "duration": 8,
    "start_time": "2021-12-29T20:36:15.628Z"
   },
   {
    "duration": 6,
    "start_time": "2021-12-29T20:36:15.637Z"
   },
   {
    "duration": 7,
    "start_time": "2021-12-29T20:36:15.644Z"
   },
   {
    "duration": 3,
    "start_time": "2021-12-29T20:36:15.653Z"
   },
   {
    "duration": 34,
    "start_time": "2021-12-29T20:36:15.657Z"
   },
   {
    "duration": 1066,
    "start_time": "2021-12-29T20:40:31.910Z"
   },
   {
    "duration": 2,
    "start_time": "2021-12-29T20:40:32.978Z"
   },
   {
    "duration": 421,
    "start_time": "2021-12-29T20:40:32.982Z"
   },
   {
    "duration": 13,
    "start_time": "2021-12-29T20:40:33.405Z"
   },
   {
    "duration": 14,
    "start_time": "2021-12-29T20:40:33.420Z"
   },
   {
    "duration": 6,
    "start_time": "2021-12-29T20:40:33.436Z"
   },
   {
    "duration": 7,
    "start_time": "2021-12-29T20:40:33.444Z"
   },
   {
    "duration": 7,
    "start_time": "2021-12-29T20:40:33.454Z"
   },
   {
    "duration": 28,
    "start_time": "2021-12-29T20:40:33.463Z"
   },
   {
    "duration": 17,
    "start_time": "2021-12-29T20:40:33.493Z"
   },
   {
    "duration": 29,
    "start_time": "2021-12-29T20:40:33.512Z"
   },
   {
    "duration": 22,
    "start_time": "2021-12-29T20:40:33.543Z"
   },
   {
    "duration": 43,
    "start_time": "2021-12-29T20:40:33.567Z"
   },
   {
    "duration": 4,
    "start_time": "2021-12-29T20:40:33.611Z"
   },
   {
    "duration": 15,
    "start_time": "2021-12-29T20:40:33.617Z"
   },
   {
    "duration": 8,
    "start_time": "2021-12-29T20:40:33.633Z"
   },
   {
    "duration": 8,
    "start_time": "2021-12-29T20:40:33.643Z"
   },
   {
    "duration": 45,
    "start_time": "2021-12-29T20:40:33.653Z"
   },
   {
    "duration": 13,
    "start_time": "2021-12-29T20:40:33.700Z"
   },
   {
    "duration": 13,
    "start_time": "2021-12-29T20:40:33.715Z"
   },
   {
    "duration": 18,
    "start_time": "2021-12-29T20:40:33.730Z"
   },
   {
    "duration": 9,
    "start_time": "2021-12-29T20:40:33.749Z"
   },
   {
    "duration": 36,
    "start_time": "2021-12-29T20:40:33.762Z"
   },
   {
    "duration": 29,
    "start_time": "2021-12-29T20:40:33.801Z"
   },
   {
    "duration": 20,
    "start_time": "2021-12-29T20:40:33.832Z"
   },
   {
    "duration": 59,
    "start_time": "2021-12-29T20:40:33.854Z"
   },
   {
    "duration": 23,
    "start_time": "2021-12-29T20:40:33.915Z"
   },
   {
    "duration": 5,
    "start_time": "2021-12-29T20:40:33.940Z"
   },
   {
    "duration": 8,
    "start_time": "2021-12-29T20:40:33.947Z"
   },
   {
    "duration": 34,
    "start_time": "2021-12-29T20:40:33.957Z"
   },
   {
    "duration": 9,
    "start_time": "2021-12-29T20:40:33.993Z"
   },
   {
    "duration": 7,
    "start_time": "2021-12-29T20:40:34.004Z"
   },
   {
    "duration": 25,
    "start_time": "2021-12-29T20:40:34.013Z"
   },
   {
    "duration": 4,
    "start_time": "2021-12-29T20:40:34.040Z"
   },
   {
    "duration": 10,
    "start_time": "2021-12-29T20:40:34.046Z"
   },
   {
    "duration": 57,
    "start_time": "2021-12-29T20:40:34.057Z"
   },
   {
    "duration": 8,
    "start_time": "2021-12-29T20:40:34.115Z"
   },
   {
    "duration": 29,
    "start_time": "2021-12-29T20:40:34.125Z"
   },
   {
    "duration": 7,
    "start_time": "2021-12-29T20:40:34.156Z"
   },
   {
    "duration": 14,
    "start_time": "2021-12-29T20:40:34.192Z"
   },
   {
    "duration": 8,
    "start_time": "2021-12-29T20:40:34.208Z"
   },
   {
    "duration": 15,
    "start_time": "2021-12-29T20:40:34.217Z"
   },
   {
    "duration": 6,
    "start_time": "2021-12-29T20:40:34.233Z"
   },
   {
    "duration": 20,
    "start_time": "2021-12-29T20:40:34.241Z"
   },
   {
    "duration": 35,
    "start_time": "2021-12-29T20:40:34.263Z"
   },
   {
    "duration": 17,
    "start_time": "2021-12-29T20:40:34.299Z"
   },
   {
    "duration": 15,
    "start_time": "2021-12-29T20:40:34.317Z"
   },
   {
    "duration": 22,
    "start_time": "2021-12-29T20:40:34.334Z"
   },
   {
    "duration": 24,
    "start_time": "2021-12-29T20:40:34.357Z"
   },
   {
    "duration": 19,
    "start_time": "2021-12-29T20:40:34.383Z"
   },
   {
    "duration": 18,
    "start_time": "2021-12-29T20:40:34.404Z"
   },
   {
    "duration": 43,
    "start_time": "2021-12-29T20:40:34.424Z"
   },
   {
    "duration": 21,
    "start_time": "2021-12-29T20:40:34.468Z"
   },
   {
    "duration": 12,
    "start_time": "2021-12-29T20:40:34.490Z"
   },
   {
    "duration": 16,
    "start_time": "2021-12-29T20:40:34.503Z"
   },
   {
    "duration": 83,
    "start_time": "2021-12-29T20:40:34.521Z"
   },
   {
    "duration": -840,
    "start_time": "2021-12-29T20:40:35.446Z"
   },
   {
    "duration": -843,
    "start_time": "2021-12-29T20:40:35.451Z"
   },
   {
    "duration": -847,
    "start_time": "2021-12-29T20:40:35.456Z"
   },
   {
    "duration": -852,
    "start_time": "2021-12-29T20:40:35.462Z"
   },
   {
    "duration": -856,
    "start_time": "2021-12-29T20:40:35.467Z"
   },
   {
    "duration": -860,
    "start_time": "2021-12-29T20:40:35.472Z"
   },
   {
    "duration": -864,
    "start_time": "2021-12-29T20:40:35.477Z"
   },
   {
    "duration": -868,
    "start_time": "2021-12-29T20:40:35.482Z"
   },
   {
    "duration": -872,
    "start_time": "2021-12-29T20:40:35.487Z"
   },
   {
    "duration": -876,
    "start_time": "2021-12-29T20:40:35.492Z"
   },
   {
    "duration": -880,
    "start_time": "2021-12-29T20:40:35.497Z"
   },
   {
    "duration": -884,
    "start_time": "2021-12-29T20:40:35.502Z"
   },
   {
    "duration": -919,
    "start_time": "2021-12-29T20:40:35.538Z"
   },
   {
    "duration": -924,
    "start_time": "2021-12-29T20:40:35.544Z"
   },
   {
    "duration": -927,
    "start_time": "2021-12-29T20:40:35.549Z"
   },
   {
    "duration": -931,
    "start_time": "2021-12-29T20:40:35.554Z"
   },
   {
    "duration": -938,
    "start_time": "2021-12-29T20:40:35.562Z"
   },
   {
    "duration": -948,
    "start_time": "2021-12-29T20:40:35.573Z"
   },
   {
    "duration": -961,
    "start_time": "2021-12-29T20:40:35.587Z"
   },
   {
    "duration": -969,
    "start_time": "2021-12-29T20:40:35.596Z"
   },
   {
    "duration": -976,
    "start_time": "2021-12-29T20:40:35.604Z"
   },
   {
    "duration": -981,
    "start_time": "2021-12-29T20:40:35.610Z"
   },
   {
    "duration": -986,
    "start_time": "2021-12-29T20:40:35.617Z"
   },
   {
    "duration": -991,
    "start_time": "2021-12-29T20:40:35.623Z"
   },
   {
    "duration": -997,
    "start_time": "2021-12-29T20:40:35.630Z"
   },
   {
    "duration": -1019,
    "start_time": "2021-12-29T20:40:35.652Z"
   },
   {
    "duration": -1028,
    "start_time": "2021-12-29T20:40:35.662Z"
   },
   {
    "duration": -1032,
    "start_time": "2021-12-29T20:40:35.667Z"
   },
   {
    "duration": -1036,
    "start_time": "2021-12-29T20:40:35.672Z"
   },
   {
    "duration": -1040,
    "start_time": "2021-12-29T20:40:35.677Z"
   },
   {
    "duration": -1044,
    "start_time": "2021-12-29T20:40:35.682Z"
   },
   {
    "duration": -1048,
    "start_time": "2021-12-29T20:40:35.687Z"
   },
   {
    "duration": 1066,
    "start_time": "2021-12-29T20:41:19.818Z"
   },
   {
    "duration": 2,
    "start_time": "2021-12-29T20:41:20.886Z"
   },
   {
    "duration": 427,
    "start_time": "2021-12-29T20:41:20.891Z"
   },
   {
    "duration": 12,
    "start_time": "2021-12-29T20:41:21.320Z"
   },
   {
    "duration": 16,
    "start_time": "2021-12-29T20:41:21.334Z"
   },
   {
    "duration": 8,
    "start_time": "2021-12-29T20:41:21.352Z"
   },
   {
    "duration": 7,
    "start_time": "2021-12-29T20:41:21.362Z"
   },
   {
    "duration": 20,
    "start_time": "2021-12-29T20:41:21.372Z"
   },
   {
    "duration": 9,
    "start_time": "2021-12-29T20:41:21.395Z"
   },
   {
    "duration": 18,
    "start_time": "2021-12-29T20:41:21.406Z"
   },
   {
    "duration": 30,
    "start_time": "2021-12-29T20:41:21.426Z"
   },
   {
    "duration": 44,
    "start_time": "2021-12-29T20:41:21.458Z"
   },
   {
    "duration": 23,
    "start_time": "2021-12-29T20:41:21.504Z"
   },
   {
    "duration": 4,
    "start_time": "2021-12-29T20:41:21.528Z"
   },
   {
    "duration": 15,
    "start_time": "2021-12-29T20:41:21.534Z"
   },
   {
    "duration": 10,
    "start_time": "2021-12-29T20:41:21.551Z"
   },
   {
    "duration": 35,
    "start_time": "2021-12-29T20:41:21.563Z"
   },
   {
    "duration": 32,
    "start_time": "2021-12-29T20:41:21.600Z"
   },
   {
    "duration": 15,
    "start_time": "2021-12-29T20:41:21.634Z"
   },
   {
    "duration": 28,
    "start_time": "2021-12-29T20:41:21.651Z"
   },
   {
    "duration": 23,
    "start_time": "2021-12-29T20:41:21.681Z"
   },
   {
    "duration": 11,
    "start_time": "2021-12-29T20:41:21.705Z"
   },
   {
    "duration": 25,
    "start_time": "2021-12-29T20:41:21.721Z"
   },
   {
    "duration": 43,
    "start_time": "2021-12-29T20:41:21.749Z"
   },
   {
    "duration": 21,
    "start_time": "2021-12-29T20:41:21.793Z"
   },
   {
    "duration": 34,
    "start_time": "2021-12-29T20:41:21.816Z"
   },
   {
    "duration": 22,
    "start_time": "2021-12-29T20:41:21.851Z"
   },
   {
    "duration": 25,
    "start_time": "2021-12-29T20:41:21.875Z"
   },
   {
    "duration": 21,
    "start_time": "2021-12-29T20:41:21.901Z"
   },
   {
    "duration": 15,
    "start_time": "2021-12-29T20:41:21.924Z"
   },
   {
    "duration": 19,
    "start_time": "2021-12-29T20:41:21.941Z"
   },
   {
    "duration": 16,
    "start_time": "2021-12-29T20:41:21.962Z"
   },
   {
    "duration": 27,
    "start_time": "2021-12-29T20:41:21.981Z"
   },
   {
    "duration": 5,
    "start_time": "2021-12-29T20:41:22.010Z"
   },
   {
    "duration": 11,
    "start_time": "2021-12-29T20:41:22.017Z"
   },
   {
    "duration": 25,
    "start_time": "2021-12-29T20:41:22.030Z"
   },
   {
    "duration": 8,
    "start_time": "2021-12-29T20:41:22.056Z"
   },
   {
    "duration": 54,
    "start_time": "2021-12-29T20:41:22.066Z"
   },
   {
    "duration": 7,
    "start_time": "2021-12-29T20:41:22.121Z"
   },
   {
    "duration": 18,
    "start_time": "2021-12-29T20:41:22.129Z"
   },
   {
    "duration": 8,
    "start_time": "2021-12-29T20:41:22.148Z"
   },
   {
    "duration": 39,
    "start_time": "2021-12-29T20:41:22.158Z"
   },
   {
    "duration": 6,
    "start_time": "2021-12-29T20:41:22.198Z"
   },
   {
    "duration": 19,
    "start_time": "2021-12-29T20:41:22.206Z"
   },
   {
    "duration": 8,
    "start_time": "2021-12-29T20:41:22.227Z"
   },
   {
    "duration": 20,
    "start_time": "2021-12-29T20:41:22.237Z"
   },
   {
    "duration": 34,
    "start_time": "2021-12-29T20:41:22.259Z"
   },
   {
    "duration": 9,
    "start_time": "2021-12-29T20:41:22.295Z"
   },
   {
    "duration": 8,
    "start_time": "2021-12-29T20:41:22.305Z"
   },
   {
    "duration": 9,
    "start_time": "2021-12-29T20:41:22.314Z"
   },
   {
    "duration": 8,
    "start_time": "2021-12-29T20:41:22.324Z"
   },
   {
    "duration": 19,
    "start_time": "2021-12-29T20:41:22.333Z"
   },
   {
    "duration": 55,
    "start_time": "2021-12-29T20:41:22.353Z"
   },
   {
    "duration": 6,
    "start_time": "2021-12-29T20:41:22.410Z"
   },
   {
    "duration": 5,
    "start_time": "2021-12-29T20:41:22.418Z"
   },
   {
    "duration": 66,
    "start_time": "2021-12-29T20:41:22.425Z"
   },
   {
    "duration": -738,
    "start_time": "2021-12-29T20:41:23.232Z"
   },
   {
    "duration": -757,
    "start_time": "2021-12-29T20:41:23.252Z"
   },
   {
    "duration": -761,
    "start_time": "2021-12-29T20:41:23.257Z"
   },
   {
    "duration": -767,
    "start_time": "2021-12-29T20:41:23.264Z"
   },
   {
    "duration": -771,
    "start_time": "2021-12-29T20:41:23.270Z"
   },
   {
    "duration": -774,
    "start_time": "2021-12-29T20:41:23.274Z"
   },
   {
    "duration": -781,
    "start_time": "2021-12-29T20:41:23.282Z"
   },
   {
    "duration": -785,
    "start_time": "2021-12-29T20:41:23.287Z"
   },
   {
    "duration": -791,
    "start_time": "2021-12-29T20:41:23.294Z"
   },
   {
    "duration": -797,
    "start_time": "2021-12-29T20:41:23.301Z"
   },
   {
    "duration": -802,
    "start_time": "2021-12-29T20:41:23.307Z"
   },
   {
    "duration": -814,
    "start_time": "2021-12-29T20:41:23.320Z"
   },
   {
    "duration": -846,
    "start_time": "2021-12-29T20:41:23.353Z"
   },
   {
    "duration": -851,
    "start_time": "2021-12-29T20:41:23.359Z"
   },
   {
    "duration": -887,
    "start_time": "2021-12-29T20:41:23.396Z"
   },
   {
    "duration": -896,
    "start_time": "2021-12-29T20:41:23.406Z"
   },
   {
    "duration": -903,
    "start_time": "2021-12-29T20:41:23.414Z"
   },
   {
    "duration": -909,
    "start_time": "2021-12-29T20:41:23.421Z"
   },
   {
    "duration": -934,
    "start_time": "2021-12-29T20:41:23.447Z"
   },
   {
    "duration": -953,
    "start_time": "2021-12-29T20:41:23.467Z"
   },
   {
    "duration": -958,
    "start_time": "2021-12-29T20:41:23.473Z"
   },
   {
    "duration": -961,
    "start_time": "2021-12-29T20:41:23.477Z"
   },
   {
    "duration": -991,
    "start_time": "2021-12-29T20:41:23.508Z"
   },
   {
    "duration": -997,
    "start_time": "2021-12-29T20:41:23.515Z"
   },
   {
    "duration": -1003,
    "start_time": "2021-12-29T20:41:23.522Z"
   },
   {
    "duration": -1007,
    "start_time": "2021-12-29T20:41:23.527Z"
   },
   {
    "duration": -1020,
    "start_time": "2021-12-29T20:41:23.541Z"
   },
   {
    "duration": -1027,
    "start_time": "2021-12-29T20:41:23.549Z"
   },
   {
    "duration": -1034,
    "start_time": "2021-12-29T20:41:23.557Z"
   },
   {
    "duration": -1041,
    "start_time": "2021-12-29T20:41:23.566Z"
   },
   {
    "duration": -1046,
    "start_time": "2021-12-29T20:41:23.572Z"
   },
   {
    "duration": -1052,
    "start_time": "2021-12-29T20:41:23.579Z"
   },
   {
    "duration": 1039,
    "start_time": "2021-12-29T20:42:28.942Z"
   },
   {
    "duration": 4,
    "start_time": "2021-12-29T20:42:29.984Z"
   },
   {
    "duration": 441,
    "start_time": "2021-12-29T20:42:29.990Z"
   },
   {
    "duration": 13,
    "start_time": "2021-12-29T20:42:30.433Z"
   },
   {
    "duration": 15,
    "start_time": "2021-12-29T20:42:30.448Z"
   },
   {
    "duration": 8,
    "start_time": "2021-12-29T20:42:30.465Z"
   },
   {
    "duration": 19,
    "start_time": "2021-12-29T20:42:30.475Z"
   },
   {
    "duration": 17,
    "start_time": "2021-12-29T20:42:30.496Z"
   },
   {
    "duration": 19,
    "start_time": "2021-12-29T20:42:30.515Z"
   },
   {
    "duration": 19,
    "start_time": "2021-12-29T20:42:30.535Z"
   },
   {
    "duration": 37,
    "start_time": "2021-12-29T20:42:30.555Z"
   },
   {
    "duration": 18,
    "start_time": "2021-12-29T20:42:30.594Z"
   },
   {
    "duration": 39,
    "start_time": "2021-12-29T20:42:30.614Z"
   },
   {
    "duration": 4,
    "start_time": "2021-12-29T20:42:30.654Z"
   },
   {
    "duration": 18,
    "start_time": "2021-12-29T20:42:30.660Z"
   },
   {
    "duration": 13,
    "start_time": "2021-12-29T20:42:30.679Z"
   },
   {
    "duration": 16,
    "start_time": "2021-12-29T20:42:30.694Z"
   },
   {
    "duration": 18,
    "start_time": "2021-12-29T20:42:30.711Z"
   },
   {
    "duration": 12,
    "start_time": "2021-12-29T20:42:30.731Z"
   },
   {
    "duration": 13,
    "start_time": "2021-12-29T20:42:30.744Z"
   },
   {
    "duration": 35,
    "start_time": "2021-12-29T20:42:30.759Z"
   },
   {
    "duration": 8,
    "start_time": "2021-12-29T20:42:30.796Z"
   },
   {
    "duration": 9,
    "start_time": "2021-12-29T20:42:30.808Z"
   },
   {
    "duration": 33,
    "start_time": "2021-12-29T20:42:30.819Z"
   },
   {
    "duration": 40,
    "start_time": "2021-12-29T20:42:30.853Z"
   },
   {
    "duration": 31,
    "start_time": "2021-12-29T20:42:30.894Z"
   },
   {
    "duration": 21,
    "start_time": "2021-12-29T20:42:30.927Z"
   },
   {
    "duration": 268,
    "start_time": "2021-12-29T20:42:30.950Z"
   },
   {
    "duration": -517,
    "start_time": "2021-12-29T20:42:31.739Z"
   },
   {
    "duration": -522,
    "start_time": "2021-12-29T20:42:31.745Z"
   },
   {
    "duration": -524,
    "start_time": "2021-12-29T20:42:31.749Z"
   },
   {
    "duration": -528,
    "start_time": "2021-12-29T20:42:31.755Z"
   },
   {
    "duration": -532,
    "start_time": "2021-12-29T20:42:31.760Z"
   },
   {
    "duration": -535,
    "start_time": "2021-12-29T20:42:31.765Z"
   },
   {
    "duration": -539,
    "start_time": "2021-12-29T20:42:31.770Z"
   },
   {
    "duration": -544,
    "start_time": "2021-12-29T20:42:31.776Z"
   },
   {
    "duration": -546,
    "start_time": "2021-12-29T20:42:31.780Z"
   },
   {
    "duration": -550,
    "start_time": "2021-12-29T20:42:31.786Z"
   },
   {
    "duration": -553,
    "start_time": "2021-12-29T20:42:31.790Z"
   },
   {
    "duration": -810,
    "start_time": "2021-12-29T20:42:32.049Z"
   },
   {
    "duration": -1009,
    "start_time": "2021-12-29T20:42:32.249Z"
   },
   {
    "duration": -1013,
    "start_time": "2021-12-29T20:42:32.255Z"
   },
   {
    "duration": -1016,
    "start_time": "2021-12-29T20:42:32.259Z"
   },
   {
    "duration": -1020,
    "start_time": "2021-12-29T20:42:32.264Z"
   },
   {
    "duration": -1023,
    "start_time": "2021-12-29T20:42:32.269Z"
   },
   {
    "duration": -1026,
    "start_time": "2021-12-29T20:42:32.274Z"
   },
   {
    "duration": -1030,
    "start_time": "2021-12-29T20:42:32.279Z"
   },
   {
    "duration": -1034,
    "start_time": "2021-12-29T20:42:32.285Z"
   },
   {
    "duration": -1038,
    "start_time": "2021-12-29T20:42:32.290Z"
   },
   {
    "duration": -1042,
    "start_time": "2021-12-29T20:42:32.295Z"
   },
   {
    "duration": -1044,
    "start_time": "2021-12-29T20:42:32.299Z"
   },
   {
    "duration": -1048,
    "start_time": "2021-12-29T20:42:32.304Z"
   },
   {
    "duration": -1053,
    "start_time": "2021-12-29T20:42:32.310Z"
   },
   {
    "duration": -1066,
    "start_time": "2021-12-29T20:42:32.324Z"
   },
   {
    "duration": -1070,
    "start_time": "2021-12-29T20:42:32.329Z"
   },
   {
    "duration": -1075,
    "start_time": "2021-12-29T20:42:32.335Z"
   },
   {
    "duration": -1079,
    "start_time": "2021-12-29T20:42:32.340Z"
   },
   {
    "duration": -1054,
    "start_time": "2021-12-29T20:42:32.345Z"
   },
   {
    "duration": -1058,
    "start_time": "2021-12-29T20:42:32.351Z"
   },
   {
    "duration": -1062,
    "start_time": "2021-12-29T20:42:32.356Z"
   },
   {
    "duration": -1066,
    "start_time": "2021-12-29T20:42:32.361Z"
   },
   {
    "duration": -1070,
    "start_time": "2021-12-29T20:42:32.366Z"
   },
   {
    "duration": -1074,
    "start_time": "2021-12-29T20:42:32.371Z"
   },
   {
    "duration": -1078,
    "start_time": "2021-12-29T20:42:32.376Z"
   },
   {
    "duration": -1081,
    "start_time": "2021-12-29T20:42:32.381Z"
   },
   {
    "duration": -1086,
    "start_time": "2021-12-29T20:42:32.387Z"
   },
   {
    "duration": -1090,
    "start_time": "2021-12-29T20:42:32.392Z"
   },
   {
    "duration": -1094,
    "start_time": "2021-12-29T20:42:32.397Z"
   },
   {
    "duration": -1098,
    "start_time": "2021-12-29T20:42:32.402Z"
   },
   {
    "duration": -1102,
    "start_time": "2021-12-29T20:42:32.407Z"
   },
   {
    "duration": -1106,
    "start_time": "2021-12-29T20:42:32.412Z"
   },
   {
    "duration": -1111,
    "start_time": "2021-12-29T20:42:32.418Z"
   },
   {
    "duration": -1124,
    "start_time": "2021-12-29T20:42:32.432Z"
   },
   {
    "duration": -1128,
    "start_time": "2021-12-29T20:42:32.437Z"
   },
   {
    "duration": -1132,
    "start_time": "2021-12-29T20:42:32.442Z"
   },
   {
    "duration": -1136,
    "start_time": "2021-12-29T20:42:32.447Z"
   },
   {
    "duration": -1142,
    "start_time": "2021-12-29T20:42:32.454Z"
   },
   {
    "duration": -1146,
    "start_time": "2021-12-29T20:42:32.459Z"
   },
   {
    "duration": -1149,
    "start_time": "2021-12-29T20:42:32.464Z"
   },
   {
    "duration": -1153,
    "start_time": "2021-12-29T20:42:32.469Z"
   },
   {
    "duration": -1157,
    "start_time": "2021-12-29T20:42:32.474Z"
   },
   {
    "duration": -1161,
    "start_time": "2021-12-29T20:42:32.479Z"
   },
   {
    "duration": -1167,
    "start_time": "2021-12-29T20:42:32.485Z"
   },
   {
    "duration": -1169,
    "start_time": "2021-12-29T20:42:32.490Z"
   },
   {
    "duration": -1173,
    "start_time": "2021-12-29T20:42:32.495Z"
   },
   {
    "duration": -1176,
    "start_time": "2021-12-29T20:42:32.500Z"
   },
   {
    "duration": -1180,
    "start_time": "2021-12-29T20:42:32.505Z"
   },
   {
    "duration": -1185,
    "start_time": "2021-12-29T20:42:32.511Z"
   },
   {
    "duration": 1019,
    "start_time": "2021-12-29T20:43:11.853Z"
   },
   {
    "duration": 3,
    "start_time": "2021-12-29T20:43:12.874Z"
   },
   {
    "duration": 426,
    "start_time": "2021-12-29T20:43:12.879Z"
   },
   {
    "duration": 12,
    "start_time": "2021-12-29T20:43:13.307Z"
   },
   {
    "duration": 19,
    "start_time": "2021-12-29T20:43:13.321Z"
   },
   {
    "duration": 8,
    "start_time": "2021-12-29T20:43:13.341Z"
   },
   {
    "duration": 7,
    "start_time": "2021-12-29T20:43:13.350Z"
   },
   {
    "duration": 10,
    "start_time": "2021-12-29T20:43:13.359Z"
   },
   {
    "duration": 19,
    "start_time": "2021-12-29T20:43:13.372Z"
   },
   {
    "duration": 17,
    "start_time": "2021-12-29T20:43:13.393Z"
   },
   {
    "duration": 30,
    "start_time": "2021-12-29T20:43:13.411Z"
   },
   {
    "duration": 16,
    "start_time": "2021-12-29T20:43:13.443Z"
   },
   {
    "duration": 49,
    "start_time": "2021-12-29T20:43:13.461Z"
   },
   {
    "duration": 5,
    "start_time": "2021-12-29T20:43:13.511Z"
   },
   {
    "duration": 17,
    "start_time": "2021-12-29T20:43:13.518Z"
   },
   {
    "duration": 8,
    "start_time": "2021-12-29T20:43:13.536Z"
   },
   {
    "duration": 7,
    "start_time": "2021-12-29T20:43:13.546Z"
   },
   {
    "duration": 40,
    "start_time": "2021-12-29T20:43:13.555Z"
   },
   {
    "duration": 12,
    "start_time": "2021-12-29T20:43:13.597Z"
   },
   {
    "duration": 13,
    "start_time": "2021-12-29T20:43:13.611Z"
   },
   {
    "duration": 18,
    "start_time": "2021-12-29T20:43:13.626Z"
   },
   {
    "duration": 8,
    "start_time": "2021-12-29T20:43:13.646Z"
   },
   {
    "duration": 38,
    "start_time": "2021-12-29T20:43:13.655Z"
   },
   {
    "duration": 28,
    "start_time": "2021-12-29T20:43:13.695Z"
   },
   {
    "duration": 20,
    "start_time": "2021-12-29T20:43:13.725Z"
   },
   {
    "duration": 53,
    "start_time": "2021-12-29T20:43:13.746Z"
   },
   {
    "duration": 24,
    "start_time": "2021-12-29T20:43:13.803Z"
   },
   {
    "duration": 4,
    "start_time": "2021-12-29T20:43:13.830Z"
   },
   {
    "duration": 8,
    "start_time": "2021-12-29T20:43:13.836Z"
   },
   {
    "duration": 14,
    "start_time": "2021-12-29T20:43:13.846Z"
   },
   {
    "duration": 8,
    "start_time": "2021-12-29T20:43:13.862Z"
   },
   {
    "duration": 25,
    "start_time": "2021-12-29T20:43:13.872Z"
   },
   {
    "duration": 28,
    "start_time": "2021-12-29T20:43:13.899Z"
   },
   {
    "duration": 3,
    "start_time": "2021-12-29T20:43:13.929Z"
   },
   {
    "duration": 11,
    "start_time": "2021-12-29T20:43:13.934Z"
   },
   {
    "duration": 48,
    "start_time": "2021-12-29T20:43:13.946Z"
   },
   {
    "duration": 9,
    "start_time": "2021-12-29T20:43:13.995Z"
   },
   {
    "duration": 30,
    "start_time": "2021-12-29T20:43:14.005Z"
   },
   {
    "duration": 6,
    "start_time": "2021-12-29T20:43:14.037Z"
   },
   {
    "duration": 17,
    "start_time": "2021-12-29T20:43:14.044Z"
   },
   {
    "duration": 35,
    "start_time": "2021-12-29T20:43:14.062Z"
   },
   {
    "duration": 18,
    "start_time": "2021-12-29T20:43:14.098Z"
   },
   {
    "duration": 7,
    "start_time": "2021-12-29T20:43:14.118Z"
   },
   {
    "duration": 19,
    "start_time": "2021-12-29T20:43:14.126Z"
   },
   {
    "duration": 9,
    "start_time": "2021-12-29T20:43:14.147Z"
   },
   {
    "duration": 45,
    "start_time": "2021-12-29T20:43:14.157Z"
   },
   {
    "duration": 7,
    "start_time": "2021-12-29T20:43:14.204Z"
   },
   {
    "duration": 9,
    "start_time": "2021-12-29T20:43:14.213Z"
   },
   {
    "duration": 7,
    "start_time": "2021-12-29T20:43:14.224Z"
   },
   {
    "duration": 9,
    "start_time": "2021-12-29T20:43:14.233Z"
   },
   {
    "duration": 7,
    "start_time": "2021-12-29T20:43:14.244Z"
   },
   {
    "duration": 47,
    "start_time": "2021-12-29T20:43:14.252Z"
   },
   {
    "duration": 19,
    "start_time": "2021-12-29T20:43:14.300Z"
   },
   {
    "duration": 7,
    "start_time": "2021-12-29T20:43:14.320Z"
   },
   {
    "duration": 5,
    "start_time": "2021-12-29T20:43:14.329Z"
   },
   {
    "duration": 54,
    "start_time": "2021-12-29T20:43:14.335Z"
   },
   {
    "duration": -1232,
    "start_time": "2021-12-29T20:43:15.623Z"
   },
   {
    "duration": -1236,
    "start_time": "2021-12-29T20:43:15.628Z"
   },
   {
    "duration": -1243,
    "start_time": "2021-12-29T20:43:15.636Z"
   },
   {
    "duration": -1248,
    "start_time": "2021-12-29T20:43:15.642Z"
   },
   {
    "duration": -1252,
    "start_time": "2021-12-29T20:43:15.647Z"
   },
   {
    "duration": -1257,
    "start_time": "2021-12-29T20:43:15.652Z"
   },
   {
    "duration": -1262,
    "start_time": "2021-12-29T20:43:15.658Z"
   },
   {
    "duration": -1265,
    "start_time": "2021-12-29T20:43:15.662Z"
   },
   {
    "duration": -1270,
    "start_time": "2021-12-29T20:43:15.668Z"
   },
   {
    "duration": -1274,
    "start_time": "2021-12-29T20:43:15.673Z"
   },
   {
    "duration": -1278,
    "start_time": "2021-12-29T20:43:15.678Z"
   },
   {
    "duration": -1281,
    "start_time": "2021-12-29T20:43:15.682Z"
   },
   {
    "duration": -1286,
    "start_time": "2021-12-29T20:43:15.688Z"
   },
   {
    "duration": -1290,
    "start_time": "2021-12-29T20:43:15.693Z"
   },
   {
    "duration": -1295,
    "start_time": "2021-12-29T20:43:15.699Z"
   },
   {
    "duration": -1298,
    "start_time": "2021-12-29T20:43:15.703Z"
   },
   {
    "duration": -1303,
    "start_time": "2021-12-29T20:43:15.709Z"
   },
   {
    "duration": -1327,
    "start_time": "2021-12-29T20:43:15.734Z"
   },
   {
    "duration": -1335,
    "start_time": "2021-12-29T20:43:15.742Z"
   },
   {
    "duration": -1339,
    "start_time": "2021-12-29T20:43:15.747Z"
   },
   {
    "duration": -1347,
    "start_time": "2021-12-29T20:43:15.756Z"
   },
   {
    "duration": -1350,
    "start_time": "2021-12-29T20:43:15.760Z"
   },
   {
    "duration": -1355,
    "start_time": "2021-12-29T20:43:15.766Z"
   },
   {
    "duration": -1360,
    "start_time": "2021-12-29T20:43:15.771Z"
   },
   {
    "duration": -1364,
    "start_time": "2021-12-29T20:43:15.776Z"
   },
   {
    "duration": -1368,
    "start_time": "2021-12-29T20:43:15.781Z"
   },
   {
    "duration": -1372,
    "start_time": "2021-12-29T20:43:15.786Z"
   },
   {
    "duration": -1376,
    "start_time": "2021-12-29T20:43:15.791Z"
   },
   {
    "duration": -1380,
    "start_time": "2021-12-29T20:43:15.796Z"
   },
   {
    "duration": -1395,
    "start_time": "2021-12-29T20:43:15.812Z"
   },
   {
    "duration": -1422,
    "start_time": "2021-12-29T20:43:15.839Z"
   },
   {
    "duration": -1426,
    "start_time": "2021-12-29T20:43:15.844Z"
   },
   {
    "duration": 1131,
    "start_time": "2021-12-29T20:45:00.783Z"
   },
   {
    "duration": 3,
    "start_time": "2021-12-29T20:45:01.915Z"
   },
   {
    "duration": 450,
    "start_time": "2021-12-29T20:45:01.920Z"
   },
   {
    "duration": 12,
    "start_time": "2021-12-29T20:45:02.372Z"
   },
   {
    "duration": 15,
    "start_time": "2021-12-29T20:45:02.386Z"
   },
   {
    "duration": 10,
    "start_time": "2021-12-29T20:45:02.402Z"
   },
   {
    "duration": 7,
    "start_time": "2021-12-29T20:45:02.414Z"
   },
   {
    "duration": 9,
    "start_time": "2021-12-29T20:45:02.423Z"
   },
   {
    "duration": 10,
    "start_time": "2021-12-29T20:45:02.436Z"
   },
   {
    "duration": 44,
    "start_time": "2021-12-29T20:45:02.448Z"
   },
   {
    "duration": 31,
    "start_time": "2021-12-29T20:45:02.493Z"
   },
   {
    "duration": 19,
    "start_time": "2021-12-29T20:45:02.526Z"
   },
   {
    "duration": 45,
    "start_time": "2021-12-29T20:45:02.546Z"
   },
   {
    "duration": 4,
    "start_time": "2021-12-29T20:45:02.593Z"
   },
   {
    "duration": 30,
    "start_time": "2021-12-29T20:45:02.599Z"
   },
   {
    "duration": 7,
    "start_time": "2021-12-29T20:45:02.631Z"
   },
   {
    "duration": 10,
    "start_time": "2021-12-29T20:45:02.640Z"
   },
   {
    "duration": 22,
    "start_time": "2021-12-29T20:45:02.651Z"
   },
   {
    "duration": 18,
    "start_time": "2021-12-29T20:45:02.674Z"
   },
   {
    "duration": 13,
    "start_time": "2021-12-29T20:45:02.694Z"
   },
   {
    "duration": 19,
    "start_time": "2021-12-29T20:45:02.709Z"
   },
   {
    "duration": 9,
    "start_time": "2021-12-29T20:45:02.730Z"
   },
   {
    "duration": 7,
    "start_time": "2021-12-29T20:45:02.741Z"
   },
   {
    "duration": 55,
    "start_time": "2021-12-29T20:45:02.750Z"
   },
   {
    "duration": 21,
    "start_time": "2021-12-29T20:45:02.806Z"
   },
   {
    "duration": 34,
    "start_time": "2021-12-29T20:45:02.829Z"
   },
   {
    "duration": 44,
    "start_time": "2021-12-29T20:45:02.867Z"
   },
   {
    "duration": 4,
    "start_time": "2021-12-29T20:45:02.914Z"
   },
   {
    "duration": 11,
    "start_time": "2021-12-29T20:45:02.920Z"
   },
   {
    "duration": 13,
    "start_time": "2021-12-29T20:45:02.933Z"
   },
   {
    "duration": 9,
    "start_time": "2021-12-29T20:45:02.947Z"
   },
   {
    "duration": 12,
    "start_time": "2021-12-29T20:45:02.957Z"
   },
   {
    "duration": 44,
    "start_time": "2021-12-29T20:45:02.971Z"
   },
   {
    "duration": 4,
    "start_time": "2021-12-29T20:45:03.016Z"
   },
   {
    "duration": 10,
    "start_time": "2021-12-29T20:45:03.022Z"
   },
   {
    "duration": 31,
    "start_time": "2021-12-29T20:45:03.034Z"
   },
   {
    "duration": 31,
    "start_time": "2021-12-29T20:45:03.067Z"
   },
   {
    "duration": 36,
    "start_time": "2021-12-29T20:45:03.100Z"
   },
   {
    "duration": 8,
    "start_time": "2021-12-29T20:45:03.137Z"
   },
   {
    "duration": 21,
    "start_time": "2021-12-29T20:45:03.146Z"
   },
   {
    "duration": 24,
    "start_time": "2021-12-29T20:45:03.169Z"
   },
   {
    "duration": 15,
    "start_time": "2021-12-29T20:45:03.194Z"
   },
   {
    "duration": 6,
    "start_time": "2021-12-29T20:45:03.211Z"
   },
   {
    "duration": 19,
    "start_time": "2021-12-29T20:45:03.218Z"
   },
   {
    "duration": 8,
    "start_time": "2021-12-29T20:45:03.239Z"
   },
   {
    "duration": 49,
    "start_time": "2021-12-29T20:45:03.248Z"
   },
   {
    "duration": 7,
    "start_time": "2021-12-29T20:45:03.298Z"
   },
   {
    "duration": 12,
    "start_time": "2021-12-29T20:45:03.307Z"
   },
   {
    "duration": 7,
    "start_time": "2021-12-29T20:45:03.321Z"
   },
   {
    "duration": 12,
    "start_time": "2021-12-29T20:45:03.329Z"
   },
   {
    "duration": 7,
    "start_time": "2021-12-29T20:45:03.343Z"
   },
   {
    "duration": 43,
    "start_time": "2021-12-29T20:45:03.351Z"
   },
   {
    "duration": 18,
    "start_time": "2021-12-29T20:45:03.396Z"
   },
   {
    "duration": 7,
    "start_time": "2021-12-29T20:45:03.416Z"
   },
   {
    "duration": 5,
    "start_time": "2021-12-29T20:45:03.425Z"
   },
   {
    "duration": 7,
    "start_time": "2021-12-29T20:45:03.431Z"
   },
   {
    "duration": 241,
    "start_time": "2021-12-29T20:45:03.439Z"
   },
   {
    "duration": 5,
    "start_time": "2021-12-29T20:45:03.682Z"
   },
   {
    "duration": 25,
    "start_time": "2021-12-29T20:45:03.688Z"
   },
   {
    "duration": 5,
    "start_time": "2021-12-29T20:45:03.716Z"
   },
   {
    "duration": 209,
    "start_time": "2021-12-29T20:45:03.723Z"
   },
   {
    "duration": 199,
    "start_time": "2021-12-29T20:45:03.934Z"
   },
   {
    "duration": 13,
    "start_time": "2021-12-29T20:45:04.135Z"
   },
   {
    "duration": 12,
    "start_time": "2021-12-29T20:45:04.150Z"
   },
   {
    "duration": 229,
    "start_time": "2021-12-29T20:45:04.164Z"
   },
   {
    "duration": 222,
    "start_time": "2021-12-29T20:45:04.395Z"
   },
   {
    "duration": 14,
    "start_time": "2021-12-29T20:45:04.618Z"
   },
   {
    "duration": 225,
    "start_time": "2021-12-29T20:45:04.634Z"
   },
   {
    "duration": 208,
    "start_time": "2021-12-29T20:45:04.860Z"
   },
   {
    "duration": 25,
    "start_time": "2021-12-29T20:45:05.070Z"
   },
   {
    "duration": 216,
    "start_time": "2021-12-29T20:45:05.097Z"
   },
   {
    "duration": 289,
    "start_time": "2021-12-29T20:45:05.315Z"
   },
   {
    "duration": 16,
    "start_time": "2021-12-29T20:45:05.606Z"
   },
   {
    "duration": 6,
    "start_time": "2021-12-29T20:45:05.624Z"
   },
   {
    "duration": 14,
    "start_time": "2021-12-29T20:45:05.632Z"
   },
   {
    "duration": 11,
    "start_time": "2021-12-29T20:45:05.648Z"
   },
   {
    "duration": 70,
    "start_time": "2021-12-29T20:45:05.661Z"
   },
   {
    "duration": 2,
    "start_time": "2021-12-29T20:45:05.733Z"
   },
   {
    "duration": 5,
    "start_time": "2021-12-29T20:45:05.737Z"
   },
   {
    "duration": 5,
    "start_time": "2021-12-29T20:45:05.743Z"
   },
   {
    "duration": 5,
    "start_time": "2021-12-29T20:45:05.752Z"
   },
   {
    "duration": 7,
    "start_time": "2021-12-29T20:45:05.759Z"
   },
   {
    "duration": 7,
    "start_time": "2021-12-29T20:45:05.768Z"
   },
   {
    "duration": 9,
    "start_time": "2021-12-29T20:45:05.776Z"
   },
   {
    "duration": 11,
    "start_time": "2021-12-29T20:45:05.786Z"
   },
   {
    "duration": 8,
    "start_time": "2021-12-29T20:45:05.798Z"
   },
   {
    "duration": 5,
    "start_time": "2021-12-29T20:45:05.808Z"
   },
   {
    "duration": 1056,
    "start_time": "2021-12-29T20:49:34.400Z"
   },
   {
    "duration": 3,
    "start_time": "2021-12-29T20:49:35.458Z"
   },
   {
    "duration": 417,
    "start_time": "2021-12-29T20:49:35.463Z"
   },
   {
    "duration": 14,
    "start_time": "2021-12-29T20:49:35.882Z"
   },
   {
    "duration": 16,
    "start_time": "2021-12-29T20:49:35.898Z"
   },
   {
    "duration": 8,
    "start_time": "2021-12-29T20:49:35.916Z"
   },
   {
    "duration": 8,
    "start_time": "2021-12-29T20:49:35.925Z"
   },
   {
    "duration": 8,
    "start_time": "2021-12-29T20:49:35.936Z"
   },
   {
    "duration": 9,
    "start_time": "2021-12-29T20:49:35.946Z"
   },
   {
    "duration": 50,
    "start_time": "2021-12-29T20:49:35.956Z"
   },
   {
    "duration": 28,
    "start_time": "2021-12-29T20:49:36.008Z"
   },
   {
    "duration": 16,
    "start_time": "2021-12-29T20:49:36.038Z"
   },
   {
    "duration": 43,
    "start_time": "2021-12-29T20:49:36.056Z"
   },
   {
    "duration": 4,
    "start_time": "2021-12-29T20:49:36.101Z"
   },
   {
    "duration": 17,
    "start_time": "2021-12-29T20:49:36.106Z"
   },
   {
    "duration": 8,
    "start_time": "2021-12-29T20:49:36.125Z"
   },
   {
    "duration": 8,
    "start_time": "2021-12-29T20:49:36.135Z"
   },
   {
    "duration": 15,
    "start_time": "2021-12-29T20:49:36.144Z"
   },
   {
    "duration": 14,
    "start_time": "2021-12-29T20:49:36.191Z"
   },
   {
    "duration": 14,
    "start_time": "2021-12-29T20:49:36.207Z"
   },
   {
    "duration": 18,
    "start_time": "2021-12-29T20:49:36.222Z"
   },
   {
    "duration": 9,
    "start_time": "2021-12-29T20:49:36.242Z"
   },
   {
    "duration": 37,
    "start_time": "2021-12-29T20:49:36.255Z"
   },
   {
    "duration": 26,
    "start_time": "2021-12-29T20:49:36.295Z"
   },
   {
    "duration": 19,
    "start_time": "2021-12-29T20:49:36.323Z"
   },
   {
    "duration": 47,
    "start_time": "2021-12-29T20:49:36.344Z"
   },
   {
    "duration": 22,
    "start_time": "2021-12-29T20:49:36.393Z"
   },
   {
    "duration": 5,
    "start_time": "2021-12-29T20:49:36.416Z"
   },
   {
    "duration": 9,
    "start_time": "2021-12-29T20:49:36.422Z"
   },
   {
    "duration": 9,
    "start_time": "2021-12-29T20:49:36.432Z"
   },
   {
    "duration": 9,
    "start_time": "2021-12-29T20:49:36.443Z"
   },
   {
    "duration": 7,
    "start_time": "2021-12-29T20:49:36.453Z"
   },
   {
    "duration": 24,
    "start_time": "2021-12-29T20:49:36.492Z"
   },
   {
    "duration": 4,
    "start_time": "2021-12-29T20:49:36.517Z"
   },
   {
    "duration": 19,
    "start_time": "2021-12-29T20:49:36.522Z"
   },
   {
    "duration": 25,
    "start_time": "2021-12-29T20:49:36.543Z"
   },
   {
    "duration": 23,
    "start_time": "2021-12-29T20:49:36.569Z"
   },
   {
    "duration": 28,
    "start_time": "2021-12-29T20:49:36.594Z"
   },
   {
    "duration": 6,
    "start_time": "2021-12-29T20:49:36.623Z"
   },
   {
    "duration": 16,
    "start_time": "2021-12-29T20:49:36.631Z"
   },
   {
    "duration": 8,
    "start_time": "2021-12-29T20:49:36.648Z"
   },
   {
    "duration": 40,
    "start_time": "2021-12-29T20:49:36.657Z"
   },
   {
    "duration": 6,
    "start_time": "2021-12-29T20:49:36.699Z"
   },
   {
    "duration": 19,
    "start_time": "2021-12-29T20:49:36.706Z"
   },
   {
    "duration": 11,
    "start_time": "2021-12-29T20:49:36.727Z"
   },
   {
    "duration": 19,
    "start_time": "2021-12-29T20:49:36.739Z"
   },
   {
    "duration": 7,
    "start_time": "2021-12-29T20:49:36.759Z"
   },
   {
    "duration": 31,
    "start_time": "2021-12-29T20:49:36.767Z"
   },
   {
    "duration": 8,
    "start_time": "2021-12-29T20:49:36.799Z"
   },
   {
    "duration": 8,
    "start_time": "2021-12-29T20:49:36.808Z"
   },
   {
    "duration": 8,
    "start_time": "2021-12-29T20:49:36.817Z"
   },
   {
    "duration": 18,
    "start_time": "2021-12-29T20:49:36.826Z"
   },
   {
    "duration": 60,
    "start_time": "2021-12-29T20:49:36.845Z"
   },
   {
    "duration": 8,
    "start_time": "2021-12-29T20:49:36.906Z"
   },
   {
    "duration": 5,
    "start_time": "2021-12-29T20:49:36.915Z"
   },
   {
    "duration": 7,
    "start_time": "2021-12-29T20:49:36.922Z"
   },
   {
    "duration": 218,
    "start_time": "2021-12-29T20:49:36.930Z"
   },
   {
    "duration": 5,
    "start_time": "2021-12-29T20:49:37.150Z"
   },
   {
    "duration": 35,
    "start_time": "2021-12-29T20:49:37.156Z"
   },
   {
    "duration": 5,
    "start_time": "2021-12-29T20:49:37.193Z"
   },
   {
    "duration": 200,
    "start_time": "2021-12-29T20:49:37.199Z"
   },
   {
    "duration": 200,
    "start_time": "2021-12-29T20:49:37.401Z"
   },
   {
    "duration": 12,
    "start_time": "2021-12-29T20:49:37.603Z"
   },
   {
    "duration": 26,
    "start_time": "2021-12-29T20:49:37.617Z"
   },
   {
    "duration": 209,
    "start_time": "2021-12-29T20:49:37.644Z"
   },
   {
    "duration": 219,
    "start_time": "2021-12-29T20:49:37.854Z"
   },
   {
    "duration": 22,
    "start_time": "2021-12-29T20:49:38.075Z"
   },
   {
    "duration": 220,
    "start_time": "2021-12-29T20:49:38.102Z"
   },
   {
    "duration": 207,
    "start_time": "2021-12-29T20:49:38.324Z"
   },
   {
    "duration": 13,
    "start_time": "2021-12-29T20:49:38.533Z"
   },
   {
    "duration": 214,
    "start_time": "2021-12-29T20:49:38.547Z"
   },
   {
    "duration": 192,
    "start_time": "2021-12-29T20:49:38.762Z"
   },
   {
    "duration": 15,
    "start_time": "2021-12-29T20:49:38.955Z"
   },
   {
    "duration": 6,
    "start_time": "2021-12-29T20:49:38.971Z"
   },
   {
    "duration": 6,
    "start_time": "2021-12-29T20:49:38.991Z"
   },
   {
    "duration": 6,
    "start_time": "2021-12-29T20:49:38.999Z"
   },
   {
    "duration": 6,
    "start_time": "2021-12-29T20:49:39.007Z"
   },
   {
    "duration": 3,
    "start_time": "2021-12-29T20:49:39.015Z"
   },
   {
    "duration": 5,
    "start_time": "2021-12-29T20:49:39.019Z"
   },
   {
    "duration": 85,
    "start_time": "2021-12-29T20:49:39.025Z"
   },
   {
    "duration": 6,
    "start_time": "2021-12-29T20:49:39.112Z"
   },
   {
    "duration": 5,
    "start_time": "2021-12-29T20:49:39.120Z"
   },
   {
    "duration": 9,
    "start_time": "2021-12-29T20:49:39.127Z"
   },
   {
    "duration": 10,
    "start_time": "2021-12-29T20:49:39.137Z"
   },
   {
    "duration": 6,
    "start_time": "2021-12-29T20:49:39.149Z"
   },
   {
    "duration": 4,
    "start_time": "2021-12-29T20:49:39.156Z"
   },
   {
    "duration": 35,
    "start_time": "2021-12-29T20:49:39.161Z"
   },
   {
    "duration": 1108,
    "start_time": "2021-12-29T20:54:03.270Z"
   },
   {
    "duration": 3,
    "start_time": "2021-12-29T20:54:04.380Z"
   },
   {
    "duration": 435,
    "start_time": "2021-12-29T20:54:04.384Z"
   },
   {
    "duration": 12,
    "start_time": "2021-12-29T20:54:04.821Z"
   },
   {
    "duration": 15,
    "start_time": "2021-12-29T20:54:04.835Z"
   },
   {
    "duration": 6,
    "start_time": "2021-12-29T20:54:04.852Z"
   },
   {
    "duration": 8,
    "start_time": "2021-12-29T20:54:04.859Z"
   },
   {
    "duration": 22,
    "start_time": "2021-12-29T20:54:04.869Z"
   },
   {
    "duration": 7,
    "start_time": "2021-12-29T20:54:04.894Z"
   },
   {
    "duration": 19,
    "start_time": "2021-12-29T20:54:04.903Z"
   },
   {
    "duration": 27,
    "start_time": "2021-12-29T20:54:04.924Z"
   },
   {
    "duration": 39,
    "start_time": "2021-12-29T20:54:04.952Z"
   },
   {
    "duration": 21,
    "start_time": "2021-12-29T20:54:04.993Z"
   },
   {
    "duration": 4,
    "start_time": "2021-12-29T20:54:05.015Z"
   },
   {
    "duration": 21,
    "start_time": "2021-12-29T20:54:05.020Z"
   },
   {
    "duration": 12,
    "start_time": "2021-12-29T20:54:05.042Z"
   },
   {
    "duration": 14,
    "start_time": "2021-12-29T20:54:05.056Z"
   },
   {
    "duration": 31,
    "start_time": "2021-12-29T20:54:05.071Z"
   },
   {
    "duration": 18,
    "start_time": "2021-12-29T20:54:05.104Z"
   },
   {
    "duration": 15,
    "start_time": "2021-12-29T20:54:05.124Z"
   },
   {
    "duration": 40,
    "start_time": "2021-12-29T20:54:05.140Z"
   },
   {
    "duration": 9,
    "start_time": "2021-12-29T20:54:05.182Z"
   },
   {
    "duration": 11,
    "start_time": "2021-12-29T20:54:05.196Z"
   },
   {
    "duration": 34,
    "start_time": "2021-12-29T20:54:05.209Z"
   },
   {
    "duration": 20,
    "start_time": "2021-12-29T20:54:05.245Z"
   },
   {
    "duration": 41,
    "start_time": "2021-12-29T20:54:05.266Z"
   },
   {
    "duration": 22,
    "start_time": "2021-12-29T20:54:05.309Z"
   },
   {
    "duration": 6,
    "start_time": "2021-12-29T20:54:05.332Z"
   },
   {
    "duration": 20,
    "start_time": "2021-12-29T20:54:05.339Z"
   },
   {
    "duration": 13,
    "start_time": "2021-12-29T20:54:05.360Z"
   },
   {
    "duration": 17,
    "start_time": "2021-12-29T20:54:05.375Z"
   },
   {
    "duration": 5,
    "start_time": "2021-12-29T20:54:05.394Z"
   },
   {
    "duration": 27,
    "start_time": "2021-12-29T20:54:05.401Z"
   },
   {
    "duration": 4,
    "start_time": "2021-12-29T20:54:05.429Z"
   },
   {
    "duration": 13,
    "start_time": "2021-12-29T20:54:05.434Z"
   },
   {
    "duration": 43,
    "start_time": "2021-12-29T20:54:05.448Z"
   },
   {
    "duration": 8,
    "start_time": "2021-12-29T20:54:05.493Z"
   },
   {
    "duration": 31,
    "start_time": "2021-12-29T20:54:05.503Z"
   },
   {
    "duration": 6,
    "start_time": "2021-12-29T20:54:05.536Z"
   },
   {
    "duration": 23,
    "start_time": "2021-12-29T20:54:05.544Z"
   },
   {
    "duration": 24,
    "start_time": "2021-12-29T20:54:05.569Z"
   },
   {
    "duration": 16,
    "start_time": "2021-12-29T20:54:05.595Z"
   },
   {
    "duration": 6,
    "start_time": "2021-12-29T20:54:05.613Z"
   },
   {
    "duration": 20,
    "start_time": "2021-12-29T20:54:05.621Z"
   },
   {
    "duration": 8,
    "start_time": "2021-12-29T20:54:05.643Z"
   },
   {
    "duration": 50,
    "start_time": "2021-12-29T20:54:05.653Z"
   },
   {
    "duration": 7,
    "start_time": "2021-12-29T20:54:05.704Z"
   },
   {
    "duration": 9,
    "start_time": "2021-12-29T20:54:05.713Z"
   },
   {
    "duration": 7,
    "start_time": "2021-12-29T20:54:05.723Z"
   },
   {
    "duration": 10,
    "start_time": "2021-12-29T20:54:05.731Z"
   },
   {
    "duration": 7,
    "start_time": "2021-12-29T20:54:05.742Z"
   },
   {
    "duration": 43,
    "start_time": "2021-12-29T20:54:05.751Z"
   },
   {
    "duration": 19,
    "start_time": "2021-12-29T20:54:05.796Z"
   },
   {
    "duration": 7,
    "start_time": "2021-12-29T20:54:05.817Z"
   },
   {
    "duration": 5,
    "start_time": "2021-12-29T20:54:05.826Z"
   },
   {
    "duration": 9,
    "start_time": "2021-12-29T20:54:05.832Z"
   },
   {
    "duration": 226,
    "start_time": "2021-12-29T20:54:05.843Z"
   },
   {
    "duration": 5,
    "start_time": "2021-12-29T20:54:06.071Z"
   },
   {
    "duration": 33,
    "start_time": "2021-12-29T20:54:06.077Z"
   },
   {
    "duration": 7,
    "start_time": "2021-12-29T20:54:06.112Z"
   },
   {
    "duration": 190,
    "start_time": "2021-12-29T20:54:06.121Z"
   },
   {
    "duration": 188,
    "start_time": "2021-12-29T20:54:06.313Z"
   },
   {
    "duration": 11,
    "start_time": "2021-12-29T20:54:06.503Z"
   },
   {
    "duration": 11,
    "start_time": "2021-12-29T20:54:06.516Z"
   },
   {
    "duration": 212,
    "start_time": "2021-12-29T20:54:06.528Z"
   },
   {
    "duration": 211,
    "start_time": "2021-12-29T20:54:06.742Z"
   },
   {
    "duration": 12,
    "start_time": "2021-12-29T20:54:06.954Z"
   },
   {
    "duration": 211,
    "start_time": "2021-12-29T20:54:06.971Z"
   },
   {
    "duration": 209,
    "start_time": "2021-12-29T20:54:07.184Z"
   },
   {
    "duration": 12,
    "start_time": "2021-12-29T20:54:07.395Z"
   },
   {
    "duration": 210,
    "start_time": "2021-12-29T20:54:07.408Z"
   },
   {
    "duration": 202,
    "start_time": "2021-12-29T20:54:07.619Z"
   },
   {
    "duration": 14,
    "start_time": "2021-12-29T20:54:07.822Z"
   },
   {
    "duration": 29,
    "start_time": "2021-12-29T20:54:07.837Z"
   },
   {
    "duration": 18,
    "start_time": "2021-12-29T20:54:07.868Z"
   },
   {
    "duration": 21,
    "start_time": "2021-12-29T20:54:07.888Z"
   },
   {
    "duration": 14,
    "start_time": "2021-12-29T20:54:07.911Z"
   },
   {
    "duration": 26,
    "start_time": "2021-12-29T20:54:07.927Z"
   },
   {
    "duration": 17,
    "start_time": "2021-12-29T20:54:07.954Z"
   },
   {
    "duration": 69,
    "start_time": "2021-12-29T20:54:07.973Z"
   },
   {
    "duration": 19,
    "start_time": "2021-12-29T20:54:08.043Z"
   },
   {
    "duration": 10,
    "start_time": "2021-12-29T20:54:08.064Z"
   },
   {
    "duration": 18,
    "start_time": "2021-12-29T20:54:08.075Z"
   },
   {
    "duration": 21,
    "start_time": "2021-12-29T20:54:08.095Z"
   },
   {
    "duration": 10,
    "start_time": "2021-12-29T20:54:08.118Z"
   },
   {
    "duration": 18,
    "start_time": "2021-12-29T20:54:08.130Z"
   },
   {
    "duration": 28,
    "start_time": "2021-12-29T20:54:08.149Z"
   }
  ],
  "kernelspec": {
   "display_name": "Python 3",
   "language": "python",
   "name": "python3"
  },
  "language_info": {
   "codemirror_mode": {
    "name": "ipython",
    "version": 3
   },
   "file_extension": ".py",
   "mimetype": "text/x-python",
   "name": "python",
   "nbconvert_exporter": "python",
   "pygments_lexer": "ipython3",
   "version": "3.8.8"
  },
  "toc": {
   "base_numbering": 1,
   "nav_menu": {},
   "number_sections": false,
   "sideBar": true,
   "skip_h1_title": false,
   "title_cell": "Table of Contents",
   "title_sidebar": "Contents",
   "toc_cell": false,
   "toc_position": {
    "height": "calc(100% - 180px)",
    "left": "10px",
    "top": "150px",
    "width": "266px"
   },
   "toc_section_display": true,
   "toc_window_display": true
  }
 },
 "nbformat": 4,
 "nbformat_minor": 2
}
